{
 "cells": [
  {
   "cell_type": "code",
   "execution_count": 1,
   "id": "1ce50f7f-32d4-47b1-af79-55960945fa9b",
   "metadata": {
    "id": "1ce50f7f-32d4-47b1-af79-55960945fa9b"
   },
   "outputs": [],
   "source": [
    "import torch\n",
    "import torch.nn as nn\n",
    "import torch.optim as optim\n",
    "from torch.utils.data import DataLoader, TensorDataset\n",
    "from sklearn.metrics import roc_auc_score\n",
    "import numpy as np\n",
    "import pandas as pd\n",
    "import matplotlib.pyplot as plt"
   ]
  },
  {
   "cell_type": "code",
   "execution_count": 2,
   "id": "dac08684-9033-4201-b8ce-f2c3d5b972d9",
   "metadata": {
    "id": "dac08684-9033-4201-b8ce-f2c3d5b972d9"
   },
   "outputs": [],
   "source": [
    "device = torch.device('cuda' if torch.cuda.is_available() else 'cpu')"
   ]
  },
  {
   "cell_type": "code",
   "execution_count": 3,
   "id": "kVBuRZgiAhha",
   "metadata": {
    "colab": {
     "base_uri": "https://localhost:8080/"
    },
    "id": "kVBuRZgiAhha",
    "outputId": "f45c2eb7-44f5-414a-9526-81f2ad37494e"
   },
   "outputs": [
    {
     "data": {
      "text/plain": [
       "device(type='cpu')"
      ]
     },
     "execution_count": 3,
     "metadata": {},
     "output_type": "execute_result"
    }
   ],
   "source": [
    "device"
   ]
  },
  {
   "cell_type": "markdown",
   "id": "2a70080b-da37-45c9-9991-e47a8b74e0a0",
   "metadata": {
    "id": "2a70080b-da37-45c9-9991-e47a8b74e0a0"
   },
   "source": [
    "**Load the toxcast dataset**"
   ]
  },
  {
   "cell_type": "code",
   "execution_count": 4,
   "id": "714d9e00-113f-4788-b708-ef7343fd766e",
   "metadata": {
    "id": "714d9e00-113f-4788-b708-ef7343fd766e"
   },
   "outputs": [],
   "source": [
    "loaded_toxcast_features_train_val_test = np.load('../preprocessing/preprocessed_data/toxcast_features_train_val_test.npy', allow_pickle=True).item()\n",
    "\n",
    "loaded_toxcast_ecfp_descr_quantiles_scaled_X_train = loaded_toxcast_features_train_val_test['train']\n",
    "loaded_toxcast_ecfp_descr_quantiles_scaled_X_val = loaded_toxcast_features_train_val_test['validation']\n",
    "loaded_toxcast_ecfp_descr_quantiles_scaled_X_test = loaded_toxcast_features_train_val_test['test']"
   ]
  },
  {
   "cell_type": "code",
   "execution_count": 5,
   "id": "31bff592-b3df-4095-88f7-8a06560845b3",
   "metadata": {
    "id": "31bff592-b3df-4095-88f7-8a06560845b3"
   },
   "outputs": [],
   "source": [
    "toxcast_features = np.concatenate((loaded_toxcast_ecfp_descr_quantiles_scaled_X_train,\n",
    "                                  loaded_toxcast_ecfp_descr_quantiles_scaled_X_val,\n",
    "                                  loaded_toxcast_ecfp_descr_quantiles_scaled_X_test), axis=0)"
   ]
  },
  {
   "cell_type": "code",
   "execution_count": 6,
   "id": "9bf8de71-492a-42c8-834b-0e05af0447e4",
   "metadata": {
    "colab": {
     "base_uri": "https://localhost:8080/"
    },
    "id": "9bf8de71-492a-42c8-834b-0e05af0447e4",
    "outputId": "7b1e13bd-31cb-4fd3-aabd-980f5c429eae"
   },
   "outputs": [
    {
     "data": {
      "text/plain": [
       "(8595, 2248)"
      ]
     },
     "execution_count": 6,
     "metadata": {},
     "output_type": "execute_result"
    }
   ],
   "source": [
    "toxcast_features.shape"
   ]
  },
  {
   "cell_type": "code",
   "execution_count": 7,
   "id": "a948bb78-ea8b-4d38-8ff8-2954a80ca63c",
   "metadata": {
    "id": "a948bb78-ea8b-4d38-8ff8-2954a80ca63c"
   },
   "outputs": [],
   "source": [
    "loaded_toxcast_labels_train_val_test = np.load('../preprocessing/preprocessed_data/toxcast_labels_train_val_test.npy', allow_pickle=True).item()\n",
    "\n",
    "loaded_toxcast_y_train = loaded_toxcast_labels_train_val_test['train']\n",
    "loaded_toxcast_y_val = loaded_toxcast_labels_train_val_test['validation']\n",
    "loaded_toxcast_y_test = loaded_toxcast_labels_train_val_test['test']"
   ]
  },
  {
   "cell_type": "code",
   "execution_count": 8,
   "id": "51db1580-da7a-408a-a3ac-d0898c2102c9",
   "metadata": {
    "id": "51db1580-da7a-408a-a3ac-d0898c2102c9"
   },
   "outputs": [],
   "source": [
    "toxcast_labels = np.concatenate((loaded_toxcast_y_train,\n",
    "                                  loaded_toxcast_y_val,\n",
    "                                  loaded_toxcast_y_test), axis=0)"
   ]
  },
  {
   "cell_type": "code",
   "execution_count": 9,
   "id": "094ca371-7749-4e51-b13f-21d70f84ff5f",
   "metadata": {
    "colab": {
     "base_uri": "https://localhost:8080/"
    },
    "id": "094ca371-7749-4e51-b13f-21d70f84ff5f",
    "outputId": "03d1c10c-4395-4823-d256-d1b0627abce8"
   },
   "outputs": [
    {
     "data": {
      "text/plain": [
       "(8595, 617)"
      ]
     },
     "execution_count": 9,
     "metadata": {},
     "output_type": "execute_result"
    }
   ],
   "source": [
    "toxcast_labels.shape"
   ]
  },
  {
   "cell_type": "markdown",
   "id": "fa67bb9a-33ab-43e9-bd02-908d42f0a9f0",
   "metadata": {
    "id": "fa67bb9a-33ab-43e9-bd02-908d42f0a9f0"
   },
   "source": [
    "**Split the dataset into validation and test sets and create splits for each task**"
   ]
  },
  {
   "cell_type": "code",
   "execution_count": 10,
   "id": "38b53e73-4f73-43ee-ad11-9aa7db1f1131",
   "metadata": {
    "id": "38b53e73-4f73-43ee-ad11-9aa7db1f1131"
   },
   "outputs": [],
   "source": [
    "toxcast_labels_val = toxcast_labels[:,:308]\n",
    "toxcast_labels_test = toxcast_labels[:,308:617]"
   ]
  },
  {
   "cell_type": "code",
   "execution_count": 11,
   "id": "60012fe5-8b89-43f5-8027-1b29d3e0a644",
   "metadata": {
    "colab": {
     "base_uri": "https://localhost:8080/"
    },
    "id": "60012fe5-8b89-43f5-8027-1b29d3e0a644",
    "outputId": "1efb0126-6b38-4360-bf3b-12bb51e42f60"
   },
   "outputs": [
    {
     "data": {
      "text/plain": [
       "((8595, 308), (8595, 309))"
      ]
     },
     "execution_count": 11,
     "metadata": {},
     "output_type": "execute_result"
    }
   ],
   "source": [
    "toxcast_labels_val.shape, toxcast_labels_test.shape"
   ]
  },
  {
   "cell_type": "code",
   "execution_count": 12,
   "id": "3cb0c28f-5c34-40c4-af78-9f6a0904672d",
   "metadata": {
    "id": "3cb0c28f-5c34-40c4-af78-9f6a0904672d",
    "tags": []
   },
   "outputs": [],
   "source": [
    "def split_indices_for_task(task_labels):\n",
    "    active_indices = np.where(task_labels == 1)[0]\n",
    "    inactive_indices = np.where(task_labels == 0)[0]\n",
    "\n",
    "    np.random.seed(42)\n",
    "    selected_active = np.random.choice(active_indices, size=5, replace=False)\n",
    "    selected_inactive = np.random.choice(inactive_indices, size=5, replace=False)\n",
    "\n",
    "    rest_indices = np.setdiff1d(np.arange(task_labels.shape[0]), np.concatenate([selected_active, selected_inactive]))\n",
    "\n",
    "    return selected_active, selected_inactive, rest_indices\n",
    "\n",
    "def process_indices_for_all_tasks(toxcast_labels):\n",
    "    all_tasks_indices = []\n",
    "\n",
    "    for task in range(toxcast_labels.shape[1]):\n",
    "        task_labels = toxcast_labels[:, task]\n",
    "\n",
    "        selected_active, selected_inactive, rest_indices = split_indices_for_task(task_labels)\n",
    "\n",
    "        task_indices = {\n",
    "            \"task\": task,\n",
    "            \"indices_active\": selected_active,\n",
    "            \"indices_inactive\": selected_inactive,\n",
    "            \"indices_rest\": rest_indices\n",
    "        }\n",
    "\n",
    "        all_tasks_indices.append(task_indices)\n",
    "\n",
    "    return all_tasks_indices"
   ]
  },
  {
   "cell_type": "code",
   "execution_count": 13,
   "id": "15668f3d-7a93-4a95-ad9e-8ddadb7fd46c",
   "metadata": {
    "id": "15668f3d-7a93-4a95-ad9e-8ddadb7fd46c"
   },
   "outputs": [],
   "source": [
    "val_tasks_indices = process_indices_for_all_tasks(toxcast_labels_val)\n",
    "test_tasks_indices = process_indices_for_all_tasks(toxcast_labels_test)"
   ]
  },
  {
   "cell_type": "code",
   "execution_count": 14,
   "id": "734d0f02-a5fd-45e1-92bf-dda24538dcb5",
   "metadata": {
    "colab": {
     "base_uri": "https://localhost:8080/"
    },
    "id": "734d0f02-a5fd-45e1-92bf-dda24538dcb5",
    "outputId": "d3106f02-2ff4-458e-f2db-7e9c9e4df9c4"
   },
   "outputs": [
    {
     "data": {
      "text/plain": [
       "{'task': 0,\n",
       " 'indices_active': array([6522, 2862, 1497, 7059, 1526], dtype=int64),\n",
       " 'indices_inactive': array([6568, 1766, 2715, 6455, 3518], dtype=int64),\n",
       " 'indices_rest': array([   0,    1,    2, ..., 8592, 8593, 8594])}"
      ]
     },
     "execution_count": 14,
     "metadata": {},
     "output_type": "execute_result"
    }
   ],
   "source": [
    "val_tasks_indices[0]"
   ]
  },
  {
   "cell_type": "code",
   "execution_count": 15,
   "id": "f4f2fb8a-b380-4fe3-8265-25f58cf01b05",
   "metadata": {
    "colab": {
     "base_uri": "https://localhost:8080/"
    },
    "id": "f4f2fb8a-b380-4fe3-8265-25f58cf01b05",
    "outputId": "f9c1f1cb-3c5c-43b7-9bf4-8710e940c35f"
   },
   "outputs": [
    {
     "data": {
      "text/plain": [
       "{'task': 308,\n",
       " 'indices_active': array([3654, 2397, 1019, 1860, 7885], dtype=int64),\n",
       " 'indices_inactive': array([3053, 4711, 6343, 1444, 5488], dtype=int64),\n",
       " 'indices_rest': array([   0,    1,    2, ..., 8592, 8593, 8594])}"
      ]
     },
     "execution_count": 15,
     "metadata": {},
     "output_type": "execute_result"
    }
   ],
   "source": [
    "test_tasks_indices[-1]"
   ]
  },
  {
   "cell_type": "code",
   "execution_count": 16,
   "id": "b50eb4b6-3f58-475c-bf0f-0b7d193e4a2f",
   "metadata": {},
   "outputs": [],
   "source": [
    "toxcast_features = torch.tensor(toxcast_features, dtype=torch.float32).to(device)\n",
    "toxcast_labels_val = torch.tensor(toxcast_labels_val, dtype=torch.float32).to(device)\n",
    "toxcast_labels_test = torch.tensor(toxcast_labels_test, dtype=torch.float32).to(device)"
   ]
  },
  {
   "cell_type": "markdown",
   "id": "89c024d1-751c-4b21-b8ad-93b638589de2",
   "metadata": {
    "id": "89c024d1-751c-4b21-b8ad-93b638589de2"
   },
   "source": [
    "**Create a new logistic regression model**"
   ]
  },
  {
   "cell_type": "code",
   "execution_count": 17,
   "id": "1fb02a93-ed0f-4297-8229-b4d9882ee91b",
   "metadata": {
    "colab": {
     "base_uri": "https://localhost:8080/"
    },
    "id": "1fb02a93-ed0f-4297-8229-b4d9882ee91b",
    "outputId": "c5970af4-3099-4072-d1db-a01e9ca7bd78"
   },
   "outputs": [
    {
     "data": {
      "text/plain": [
       "<All keys matched successfully>"
      ]
     },
     "execution_count": 17,
     "metadata": {},
     "output_type": "execute_result"
    }
   ],
   "source": [
    "def create_layer(in_size, out_size, activation_function=nn.ReLU, p=0.25):\n",
    "    return nn.Sequential(\n",
    "        nn.AlphaDropout(p=p),\n",
    "        nn.Linear(in_size, out_size),\n",
    "        activation_function()\n",
    "    )\n",
    "\n",
    "\n",
    "class DNN(nn.Module):\n",
    "    def __init__(self, input_layer, hidden_layers, output_layer, activation_function=nn.ReLU, p=0.25):\n",
    "        super().__init__()\n",
    "\n",
    "        self.input_layer = nn.Linear(input_layer, hidden_layers[0])\n",
    "        self.act1 = activation_function()\n",
    "        self.dropout1 = nn.AlphaDropout(p=p)\n",
    "\n",
    "        layers = [create_layer(hl_in, hl_out, activation_function, p) for hl_in, hl_out in zip(hidden_layers, hidden_layers[1:])]\n",
    "\n",
    "        self.hidden_layers = nn.Sequential(*layers)\n",
    "\n",
    "        self.output_layer = nn.Linear(hidden_layers[-1], output_layer)\n",
    "\n",
    "    def forward(self, x):\n",
    "        x = self.dropout1(x)\n",
    "        x = self.act1(self.input_layer(x))\n",
    "        x = self.hidden_layers(x)\n",
    "        x = self.output_layer(x)\n",
    "        return x\n",
    "\n",
    "params = {'input_size': 2248,\n",
    "          'hidden_layers': [1024, 128],\n",
    "          'output_size': 12,\n",
    "          'activation_function': nn.SELU,\n",
    "          'dropout_p': 0.45\n",
    "         }\n",
    "\n",
    "input_size, hidden_layers, output_size, activation_function, dropout_p = params.values()\n",
    "\n",
    "\n",
    "class LRNN(nn.Module):\n",
    "    def __init__(self, input_size):\n",
    "        super().__init__()\n",
    "        self.output_layer = nn.Linear(input_size, 1)\n",
    "        self.sigmoid = nn.Sigmoid()\n",
    "\n",
    "    def forward(self, x):\n",
    "        x = self.output_layer(x)\n",
    "        x = self.sigmoid(x)\n",
    "        return x\n",
    "\n",
    "model = DNN(input_size, hidden_layers, output_size, activation_function, p=dropout_p)\n",
    "model.load_state_dict(torch.load('../pretraining/training/dnn_best_model.pth', map_location=device))"
   ]
  },
  {
   "cell_type": "code",
   "execution_count": 18,
   "id": "481f6a9b-b23c-46bc-96c8-feed3b6bfc65",
   "metadata": {
    "colab": {
     "base_uri": "https://localhost:8080/"
    },
    "id": "481f6a9b-b23c-46bc-96c8-feed3b6bfc65",
    "outputId": "51fe2436-19fe-40f8-ad9e-20f1a0b5b904"
   },
   "outputs": [
    {
     "data": {
      "text/plain": [
       "DNN(\n",
       "  (input_layer): Linear(in_features=2248, out_features=1024, bias=True)\n",
       "  (act1): SELU()\n",
       "  (dropout1): AlphaDropout(p=0.45, inplace=False)\n",
       "  (hidden_layers): Sequential(\n",
       "    (0): Sequential(\n",
       "      (0): AlphaDropout(p=0.45, inplace=False)\n",
       "      (1): Linear(in_features=1024, out_features=128, bias=True)\n",
       "      (2): SELU()\n",
       "    )\n",
       "  )\n",
       "  (output_layer): Linear(in_features=128, out_features=12, bias=True)\n",
       ")"
      ]
     },
     "execution_count": 18,
     "metadata": {},
     "output_type": "execute_result"
    }
   ],
   "source": [
    "model.to(device)"
   ]
  },
  {
   "cell_type": "markdown",
   "id": "5a5a5dfc-3b5c-4eca-ab67-00bdac633d4c",
   "metadata": {
    "id": "5a5a5dfc-3b5c-4eca-ab67-00bdac633d4c"
   },
   "source": [
    "**Feature propagation**"
   ]
  },
  {
   "cell_type": "code",
   "execution_count": 19,
   "id": "fe65703d-2b1e-424e-944f-88ee1a99bd6f",
   "metadata": {
    "id": "fe65703d-2b1e-424e-944f-88ee1a99bd6f"
   },
   "outputs": [],
   "source": [
    "def extract_features(model, features):\n",
    "    model.eval()\n",
    "    with torch.no_grad():\n",
    "        last_hl_output = model.input_layer(features)\n",
    "        last_hl_output = model.act1(last_hl_output)\n",
    "        last_hl_output = model.hidden_layers(last_hl_output)\n",
    "    return last_hl_output\n",
    "\n",
    "def cosine_similarity_matrix(features):\n",
    "    norm_features = features / torch.norm(features, dim=1, keepdim=True)\n",
    "    return torch.mm(norm_features, norm_features.t())\n",
    "\n",
    "def build_graph(features, k=15):\n",
    "    cosine_sim = cosine_similarity_matrix(features)\n",
    "    adjacency_matrix = torch.zeros_like(cosine_sim)\n",
    "\n",
    "    for i in range(cosine_sim.size(0)):\n",
    "        top_k_indices = torch.topk(cosine_sim[i, :], k+1, largest=True, sorted=True).indices\n",
    "        top_k_indices = top_k_indices[top_k_indices != i]\n",
    "        adjacency_matrix[i, top_k_indices] = cosine_sim[i, top_k_indices]\n",
    "\n",
    "    degree_matrix = torch.diag(adjacency_matrix.sum(dim=1))\n",
    "    eps = 0\n",
    "    degree_inv_sqrt = torch.diag(1 / torch.sqrt(torch.diag(degree_matrix) + eps))\n",
    "    normalized_adjacency = torch.mm(torch.mm(degree_inv_sqrt, adjacency_matrix), degree_inv_sqrt)\n",
    "\n",
    "    return normalized_adjacency\n",
    "\n",
    "def feature_propagation(features, normalized_adjacency, alpha=0.75, k=1):\n",
    "    identity_matrix = torch.eye(features.size(0), device=features.device)\n",
    "    diffusion_matrix = torch.matrix_power(alpha * identity_matrix + normalized_adjacency, k)\n",
    "    propagated_features = torch.mm(diffusion_matrix, features)\n",
    "    return propagated_features"
   ]
  },
  {
   "cell_type": "markdown",
   "id": "1b2be285-0e79-4183-bc1d-5e0f8488564e",
   "metadata": {
    "id": "1b2be285-0e79-4183-bc1d-5e0f8488564e"
   },
   "source": [
    "**Train & validation loop**"
   ]
  },
  {
   "cell_type": "code",
   "execution_count": 20,
   "id": "fcb74684-19e0-49b0-9d6f-c7e56bde6911",
   "metadata": {
    "id": "fcb74684-19e0-49b0-9d6f-c7e56bde6911",
    "tags": []
   },
   "outputs": [],
   "source": [
    "def train_validate_task(\n",
    "    lr_model,\n",
    "    train_features_propagated,\n",
    "    train_labels,\n",
    "    val_features_propagated,\n",
    "    val_labels,\n",
    "    optimizer,\n",
    "    criterion\n",
    "):\n",
    "    lr_model.train()\n",
    "    optimizer.zero_grad()\n",
    "    outputs = lr_model(train_features_propagated)\n",
    "    loss = criterion(outputs, train_labels)\n",
    "    loss.backward()\n",
    "    optimizer.step()\n",
    "\n",
    "    lr_model.eval()\n",
    "    with torch.no_grad():\n",
    "        val_outputs = lr_model(val_features_propagated)\n",
    "\n",
    "        valid_mask = val_labels != -1\n",
    "        filtered_val_outputs = val_outputs[valid_mask]\n",
    "        filtered_val_labels = val_labels[valid_mask]\n",
    "\n",
    "        val_loss = criterion(filtered_val_outputs, filtered_val_labels).item()\n",
    "        filtered_val_outputs = filtered_val_outputs.cpu().numpy()\n",
    "        filtered_val_labels = filtered_val_labels.cpu().numpy()\n",
    "\n",
    "    if len(filtered_val_labels) > 0 and len(np.unique(filtered_val_labels)) > 1:\n",
    "        roc_auc = roc_auc_score(filtered_val_labels, filtered_val_outputs)\n",
    "    else:\n",
    "        roc_auc = float('nan')\n",
    "\n",
    "    return loss.item(), val_loss, roc_auc\n",
    "\n",
    "def train_all_tasks(\n",
    "    dnn_model,\n",
    "    toxcast_features,\n",
    "    toxcast_labels,\n",
    "    tasks_indices,\n",
    "    save=False,\n",
    "    num_epochs=10,\n",
    "    learning_rate=1e-3,\n",
    "    patience=3,\n",
    "    k=15,\n",
    "    alpha=0.75,\n",
    "    diffusion_k=1,\n",
    "    propagate_features=True\n",
    "):\n",
    "    all_features = extract_features(dnn_model, toxcast_features)\n",
    "    \n",
    "    if propagate_features:\n",
    "        normalized_adjacency = build_graph(all_features, k=k)\n",
    "        all_features_propagated = feature_propagation(all_features, \n",
    "                                                      normalized_adjacency, \n",
    "                                                      alpha=alpha, \n",
    "                                                      k=diffusion_k)\n",
    "    else:\n",
    "        all_features_propagated = all_features\n",
    "\n",
    "    all_train_losses_per_epoch = []\n",
    "    all_val_losses_per_epoch = []\n",
    "    mean_roc_aucs_per_epoch = []\n",
    "\n",
    "    best_mean_roc_auc = float('-inf')\n",
    "    best_epoch = -1\n",
    "    no_improvement_counter = 0\n",
    "\n",
    "    best_models = {}\n",
    "\n",
    "    models = {}\n",
    "    optimizers = {}\n",
    "    criterions = {}\n",
    "\n",
    "    for task_indices in tasks_indices:\n",
    "        input_size = hidden_layers[-1]\n",
    "        task_model = LRNN(input_size)\n",
    "        task_model.to(device)\n",
    "        optimizer = optim.Adam(task_model.parameters(), lr=learning_rate)\n",
    "\n",
    "        models[task_indices['task']] = task_model\n",
    "        optimizers[task_indices['task']] = optimizer\n",
    "        criterions[task_indices['task']] = nn.BCELoss()\n",
    "\n",
    "    for epoch in range(num_epochs):\n",
    "        epoch_train_losses = []\n",
    "        epoch_val_losses = []\n",
    "        epoch_roc_aucs = []\n",
    "        total_train_loss = 0\n",
    "        total_val_loss = 0\n",
    "\n",
    "        for task_indices in tasks_indices:\n",
    "            task_model = models[task_indices['task']]\n",
    "            optimizer = optimizers[task_indices['task']]\n",
    "            criterion = criterions[task_indices['task']]\n",
    "\n",
    "            active_indices = task_indices['indices_active']\n",
    "            inactive_indices = task_indices['indices_inactive']\n",
    "            rest_indices = task_indices['indices_rest']\n",
    "\n",
    "            train_indices = np.concatenate([active_indices, inactive_indices])\n",
    "            train_features_propagated = all_features_propagated[train_indices]\n",
    "            train_labels = toxcast_labels[train_indices, task_indices['task']].clone().detach().unsqueeze(1)\n",
    "\n",
    "            val_features_propagated = all_features_propagated[rest_indices]\n",
    "            val_labels = toxcast_labels[rest_indices, task_indices['task']].clone().detach().unsqueeze(1)\n",
    "\n",
    "            train_loss, val_loss, roc_auc = train_validate_task(\n",
    "                task_model,\n",
    "                train_features_propagated,\n",
    "                train_labels,\n",
    "                val_features_propagated,\n",
    "                val_labels,\n",
    "                optimizer,\n",
    "                criterion\n",
    "            )\n",
    "\n",
    "            epoch_train_losses.append(train_loss)\n",
    "            epoch_val_losses.append(val_loss)\n",
    "            epoch_roc_aucs.append(roc_auc)\n",
    "            total_train_loss += train_loss\n",
    "            total_val_loss += val_loss\n",
    "\n",
    "        mean_roc_auc = np.nanmean(epoch_roc_aucs)\n",
    "\n",
    "        all_train_losses_per_epoch.append(total_train_loss)\n",
    "        all_val_losses_per_epoch.append(total_val_loss)\n",
    "        mean_roc_aucs_per_epoch.append(mean_roc_auc)\n",
    "\n",
    "        if mean_roc_auc > best_mean_roc_auc:\n",
    "            best_mean_roc_auc = mean_roc_auc\n",
    "            best_epoch = epoch\n",
    "            no_improvement_counter = 0\n",
    "\n",
    "            for task_indices in tasks_indices:\n",
    "                best_models[task_indices[\"task\"]] = models[task_indices['task']].state_dict()\n",
    "        else:\n",
    "            no_improvement_counter += 1\n",
    "\n",
    "        if no_improvement_counter >= patience:\n",
    "            print(f\"Early stopping after {epoch + 1} epochs. Best ROC AUC: {best_mean_roc_auc:.4f} at epoch {best_epoch + 1}\")\n",
    "            break\n",
    "\n",
    "        print(f'Epoch {epoch + 1}/{num_epochs} - Mean ROC AUC: {mean_roc_auc:.4f}, '\n",
    "              f'Total Train Loss: {total_train_loss:.4f}, '\n",
    "              f'Total Validation Loss: {total_val_loss:.4f}, '\n",
    "              f'Best ROC AUC: {best_mean_roc_auc}')\n",
    "    if save:\n",
    "        torch.save(best_models, 'best_models.pth')\n",
    "\n",
    "    return all_train_losses_per_epoch, all_val_losses_per_epoch, mean_roc_aucs_per_epoch, best_epoch"
   ]
  },
  {
   "cell_type": "markdown",
   "id": "cc67de38-7c37-4753-bf40-009951177c55",
   "metadata": {},
   "source": [
    "**Train and validation with feature propagation**"
   ]
  },
  {
   "cell_type": "code",
   "execution_count": 21,
   "id": "337c6588-42a6-4682-aa15-08215365e85d",
   "metadata": {
    "colab": {
     "base_uri": "https://localhost:8080/",
     "height": 391
    },
    "id": "337c6588-42a6-4682-aa15-08215365e85d",
    "outputId": "e769c896-d41b-4f05-ca80-9a0dbcb729c6"
   },
   "outputs": [
    {
     "name": "stdout",
     "output_type": "stream",
     "text": [
      "Run 1\n",
      "Epoch 1/100 - Mean ROC AUC: 0.5829, Total Train Loss: 293.6992, Total Validation Loss: 223.5497, Best ROC AUC: 0.5829058673559115\n",
      "Epoch 2/100 - Mean ROC AUC: 0.6288, Total Train Loss: 205.5886, Total Validation Loss: 222.8985, Best ROC AUC: 0.6288024680860408\n",
      "Epoch 3/100 - Mean ROC AUC: 0.6414, Total Train Loss: 172.3565, Total Validation Loss: 240.5889, Best ROC AUC: 0.6414092522546923\n",
      "Epoch 4/100 - Mean ROC AUC: 0.6446, Total Train Loss: 154.0269, Total Validation Loss: 262.7333, Best ROC AUC: 0.6446199456682032\n",
      "Epoch 5/100 - Mean ROC AUC: 0.6450, Total Train Loss: 142.3547, Total Validation Loss: 280.8414, Best ROC AUC: 0.6450472056400934\n",
      "Epoch 6/100 - Mean ROC AUC: 0.6446, Total Train Loss: 131.5222, Total Validation Loss: 294.0941, Best ROC AUC: 0.6450472056400934\n",
      "Epoch 7/100 - Mean ROC AUC: 0.6434, Total Train Loss: 120.6184, Total Validation Loss: 305.9700, Best ROC AUC: 0.6450472056400934\n",
      "Epoch 8/100 - Mean ROC AUC: 0.6418, Total Train Loss: 112.1659, Total Validation Loss: 317.4785, Best ROC AUC: 0.6450472056400934\n",
      "Epoch 9/100 - Mean ROC AUC: 0.6404, Total Train Loss: 106.2629, Total Validation Loss: 327.3268, Best ROC AUC: 0.6450472056400934\n",
      "Early stopping after 10 epochs. Best ROC AUC: 0.6450 at epoch 5\n",
      "\n",
      "\n",
      "Run 2\n",
      "Epoch 1/100 - Mean ROC AUC: 0.5833, Total Train Loss: 293.6667, Total Validation Loss: 227.7391, Best ROC AUC: 0.5833444501199738\n",
      "Epoch 2/100 - Mean ROC AUC: 0.6305, Total Train Loss: 205.3384, Total Validation Loss: 221.1988, Best ROC AUC: 0.6305333767262364\n",
      "Epoch 3/100 - Mean ROC AUC: 0.6410, Total Train Loss: 172.0918, Total Validation Loss: 235.3152, Best ROC AUC: 0.6409846465577592\n",
      "Epoch 4/100 - Mean ROC AUC: 0.6441, Total Train Loss: 153.9341, Total Validation Loss: 256.8922, Best ROC AUC: 0.644055566146726\n",
      "Epoch 5/100 - Mean ROC AUC: 0.6445, Total Train Loss: 141.2992, Total Validation Loss: 278.4537, Best ROC AUC: 0.6445184719957806\n",
      "Epoch 6/100 - Mean ROC AUC: 0.6436, Total Train Loss: 130.1340, Total Validation Loss: 298.0561, Best ROC AUC: 0.6445184719957806\n",
      "Epoch 7/100 - Mean ROC AUC: 0.6414, Total Train Loss: 120.9616, Total Validation Loss: 314.6499, Best ROC AUC: 0.6445184719957806\n",
      "Epoch 8/100 - Mean ROC AUC: 0.6391, Total Train Loss: 113.7887, Total Validation Loss: 327.3586, Best ROC AUC: 0.6445184719957806\n",
      "Epoch 9/100 - Mean ROC AUC: 0.6369, Total Train Loss: 107.5051, Total Validation Loss: 336.4821, Best ROC AUC: 0.6445184719957806\n",
      "Early stopping after 10 epochs. Best ROC AUC: 0.6445 at epoch 5\n",
      "\n",
      "\n",
      "Run 3\n",
      "Epoch 1/100 - Mean ROC AUC: 0.5813, Total Train Loss: 298.6792, Total Validation Loss: 225.1715, Best ROC AUC: 0.5812747330187836\n",
      "Epoch 2/100 - Mean ROC AUC: 0.6322, Total Train Loss: 208.6213, Total Validation Loss: 222.1544, Best ROC AUC: 0.6322421895612986\n",
      "Epoch 3/100 - Mean ROC AUC: 0.6435, Total Train Loss: 173.3072, Total Validation Loss: 237.6704, Best ROC AUC: 0.643466613131575\n",
      "Epoch 4/100 - Mean ROC AUC: 0.6460, Total Train Loss: 155.6459, Total Validation Loss: 257.2307, Best ROC AUC: 0.6460116166325982\n",
      "Epoch 5/100 - Mean ROC AUC: 0.6466, Total Train Loss: 144.7156, Total Validation Loss: 274.5788, Best ROC AUC: 0.6465615524916712\n",
      "Epoch 6/100 - Mean ROC AUC: 0.6462, Total Train Loss: 133.9185, Total Validation Loss: 289.6731, Best ROC AUC: 0.6465615524916712\n",
      "Epoch 7/100 - Mean ROC AUC: 0.6447, Total Train Loss: 123.5401, Total Validation Loss: 304.3531, Best ROC AUC: 0.6465615524916712\n",
      "Epoch 8/100 - Mean ROC AUC: 0.6416, Total Train Loss: 115.2265, Total Validation Loss: 319.3101, Best ROC AUC: 0.6465615524916712\n",
      "Epoch 9/100 - Mean ROC AUC: 0.6385, Total Train Loss: 109.0875, Total Validation Loss: 333.2684, Best ROC AUC: 0.6465615524916712\n",
      "Early stopping after 10 epochs. Best ROC AUC: 0.6466 at epoch 5\n",
      "\n",
      "\n",
      "Run 4\n",
      "Epoch 1/100 - Mean ROC AUC: 0.5798, Total Train Loss: 295.5545, Total Validation Loss: 234.1141, Best ROC AUC: 0.5797644761653337\n",
      "Epoch 2/100 - Mean ROC AUC: 0.6310, Total Train Loss: 206.4587, Total Validation Loss: 227.9782, Best ROC AUC: 0.6309906870089254\n",
      "Epoch 3/100 - Mean ROC AUC: 0.6467, Total Train Loss: 172.7976, Total Validation Loss: 238.9660, Best ROC AUC: 0.646710821310062\n",
      "Epoch 4/100 - Mean ROC AUC: 0.6491, Total Train Loss: 154.0833, Total Validation Loss: 256.6980, Best ROC AUC: 0.6490801476562544\n",
      "Epoch 5/100 - Mean ROC AUC: 0.6483, Total Train Loss: 141.9510, Total Validation Loss: 274.7984, Best ROC AUC: 0.6490801476562544\n",
      "Epoch 6/100 - Mean ROC AUC: 0.6466, Total Train Loss: 131.7320, Total Validation Loss: 291.8582, Best ROC AUC: 0.6490801476562544\n",
      "Epoch 7/100 - Mean ROC AUC: 0.6448, Total Train Loss: 122.5580, Total Validation Loss: 307.9950, Best ROC AUC: 0.6490801476562544\n",
      "Epoch 8/100 - Mean ROC AUC: 0.6429, Total Train Loss: 114.9887, Total Validation Loss: 321.9610, Best ROC AUC: 0.6490801476562544\n",
      "Early stopping after 9 epochs. Best ROC AUC: 0.6491 at epoch 4\n",
      "\n",
      "\n",
      "Run 5\n",
      "Epoch 1/100 - Mean ROC AUC: 0.5886, Total Train Loss: 294.2384, Total Validation Loss: 229.6670, Best ROC AUC: 0.588559622691666\n",
      "Epoch 2/100 - Mean ROC AUC: 0.6263, Total Train Loss: 203.4830, Total Validation Loss: 225.1616, Best ROC AUC: 0.6262752571691402\n",
      "Epoch 3/100 - Mean ROC AUC: 0.6390, Total Train Loss: 174.0946, Total Validation Loss: 235.0557, Best ROC AUC: 0.6390309912598454\n",
      "Epoch 4/100 - Mean ROC AUC: 0.6440, Total Train Loss: 155.8265, Total Validation Loss: 251.4394, Best ROC AUC: 0.6440312407780345\n",
      "Epoch 5/100 - Mean ROC AUC: 0.6458, Total Train Loss: 141.7708, Total Validation Loss: 271.8257, Best ROC AUC: 0.6457955354228349\n",
      "Epoch 6/100 - Mean ROC AUC: 0.6446, Total Train Loss: 130.5019, Total Validation Loss: 292.3645, Best ROC AUC: 0.6457955354228349\n",
      "Epoch 7/100 - Mean ROC AUC: 0.6420, Total Train Loss: 121.3421, Total Validation Loss: 310.2956, Best ROC AUC: 0.6457955354228349\n",
      "Epoch 8/100 - Mean ROC AUC: 0.6391, Total Train Loss: 113.8771, Total Validation Loss: 324.5771, Best ROC AUC: 0.6457955354228349\n",
      "Epoch 9/100 - Mean ROC AUC: 0.6368, Total Train Loss: 107.4695, Total Validation Loss: 335.3995, Best ROC AUC: 0.6457955354228349\n",
      "Early stopping after 10 epochs. Best ROC AUC: 0.6458 at epoch 5\n",
      "\n",
      "\n",
      "Run 6\n",
      "Epoch 1/100 - Mean ROC AUC: 0.5844, Total Train Loss: 283.0488, Total Validation Loss: 223.6531, Best ROC AUC: 0.5843807907189911\n",
      "Epoch 2/100 - Mean ROC AUC: 0.6277, Total Train Loss: 201.5338, Total Validation Loss: 226.5413, Best ROC AUC: 0.6276866635453733\n",
      "Epoch 3/100 - Mean ROC AUC: 0.6385, Total Train Loss: 170.5236, Total Validation Loss: 244.7595, Best ROC AUC: 0.6384599845983369\n",
      "Epoch 4/100 - Mean ROC AUC: 0.6423, Total Train Loss: 153.3092, Total Validation Loss: 264.8554, Best ROC AUC: 0.6423494282237454\n",
      "Epoch 5/100 - Mean ROC AUC: 0.6437, Total Train Loss: 142.0946, Total Validation Loss: 280.9461, Best ROC AUC: 0.6437468846267639\n",
      "Epoch 6/100 - Mean ROC AUC: 0.6437, Total Train Loss: 131.2556, Total Validation Loss: 294.7007, Best ROC AUC: 0.6437468846267639\n",
      "Epoch 7/100 - Mean ROC AUC: 0.6419, Total Train Loss: 121.2631, Total Validation Loss: 308.6285, Best ROC AUC: 0.6437468846267639\n",
      "Epoch 8/100 - Mean ROC AUC: 0.6397, Total Train Loss: 113.8458, Total Validation Loss: 322.1630, Best ROC AUC: 0.6437468846267639\n",
      "Epoch 9/100 - Mean ROC AUC: 0.6375, Total Train Loss: 108.2045, Total Validation Loss: 333.5263, Best ROC AUC: 0.6437468846267639\n",
      "Early stopping after 10 epochs. Best ROC AUC: 0.6437 at epoch 5\n",
      "\n",
      "\n",
      "Run 7\n",
      "Epoch 1/100 - Mean ROC AUC: 0.5794, Total Train Loss: 286.9083, Total Validation Loss: 226.5167, Best ROC AUC: 0.5794411431100828\n",
      "Epoch 2/100 - Mean ROC AUC: 0.6300, Total Train Loss: 205.8623, Total Validation Loss: 222.8644, Best ROC AUC: 0.6300110345392902\n",
      "Epoch 3/100 - Mean ROC AUC: 0.6454, Total Train Loss: 170.4967, Total Validation Loss: 237.7784, Best ROC AUC: 0.6454118205872722\n",
      "Epoch 4/100 - Mean ROC AUC: 0.6477, Total Train Loss: 152.5305, Total Validation Loss: 258.1816, Best ROC AUC: 0.6477253297763363\n",
      "Epoch 5/100 - Mean ROC AUC: 0.6482, Total Train Loss: 141.8775, Total Validation Loss: 275.3863, Best ROC AUC: 0.6482425685531212\n",
      "Epoch 6/100 - Mean ROC AUC: 0.6476, Total Train Loss: 131.5936, Total Validation Loss: 289.2625, Best ROC AUC: 0.6482425685531212\n",
      "Epoch 7/100 - Mean ROC AUC: 0.6456, Total Train Loss: 121.6483, Total Validation Loss: 302.3135, Best ROC AUC: 0.6482425685531212\n",
      "Epoch 8/100 - Mean ROC AUC: 0.6422, Total Train Loss: 113.7083, Total Validation Loss: 315.3829, Best ROC AUC: 0.6482425685531212\n",
      "Epoch 9/100 - Mean ROC AUC: 0.6391, Total Train Loss: 107.7702, Total Validation Loss: 327.3398, Best ROC AUC: 0.6482425685531212\n",
      "Early stopping after 10 epochs. Best ROC AUC: 0.6482 at epoch 5\n",
      "\n",
      "\n",
      "Run 8\n",
      "Epoch 1/100 - Mean ROC AUC: 0.5833, Total Train Loss: 298.8354, Total Validation Loss: 226.6068, Best ROC AUC: 0.5832960892618132\n",
      "Epoch 2/100 - Mean ROC AUC: 0.6308, Total Train Loss: 206.7161, Total Validation Loss: 217.6998, Best ROC AUC: 0.6308209193748208\n",
      "Epoch 3/100 - Mean ROC AUC: 0.6451, Total Train Loss: 175.0752, Total Validation Loss: 232.3648, Best ROC AUC: 0.6450802810906705\n",
      "Epoch 4/100 - Mean ROC AUC: 0.6461, Total Train Loss: 157.6918, Total Validation Loss: 253.6722, Best ROC AUC: 0.6460539412160914\n",
      "Epoch 5/100 - Mean ROC AUC: 0.6457, Total Train Loss: 144.2052, Total Validation Loss: 275.3637, Best ROC AUC: 0.6460539412160914\n",
      "Epoch 6/100 - Mean ROC AUC: 0.6440, Total Train Loss: 132.4996, Total Validation Loss: 295.0226, Best ROC AUC: 0.6460539412160914\n",
      "Epoch 7/100 - Mean ROC AUC: 0.6416, Total Train Loss: 122.4489, Total Validation Loss: 311.8577, Best ROC AUC: 0.6460539412160914\n",
      "Epoch 8/100 - Mean ROC AUC: 0.6396, Total Train Loss: 114.4123, Total Validation Loss: 325.4210, Best ROC AUC: 0.6460539412160914\n",
      "Early stopping after 9 epochs. Best ROC AUC: 0.6461 at epoch 4\n",
      "\n",
      "\n",
      "Run 9\n",
      "Epoch 1/100 - Mean ROC AUC: 0.5886, Total Train Loss: 289.2336, Total Validation Loss: 222.6139, Best ROC AUC: 0.5885613846921681\n",
      "Epoch 2/100 - Mean ROC AUC: 0.6294, Total Train Loss: 204.3674, Total Validation Loss: 225.7843, Best ROC AUC: 0.6294314218513515\n",
      "Epoch 3/100 - Mean ROC AUC: 0.6402, Total Train Loss: 171.7641, Total Validation Loss: 243.1701, Best ROC AUC: 0.6402133204900415\n",
      "Epoch 4/100 - Mean ROC AUC: 0.6437, Total Train Loss: 154.5549, Total Validation Loss: 260.8622, Best ROC AUC: 0.6436974112123086\n",
      "Epoch 5/100 - Mean ROC AUC: 0.6448, Total Train Loss: 142.1511, Total Validation Loss: 274.7122, Best ROC AUC: 0.6448120082211345\n",
      "Epoch 6/100 - Mean ROC AUC: 0.6445, Total Train Loss: 129.9923, Total Validation Loss: 288.1599, Best ROC AUC: 0.6448120082211345\n",
      "Epoch 7/100 - Mean ROC AUC: 0.6431, Total Train Loss: 120.0405, Total Validation Loss: 302.8895, Best ROC AUC: 0.6448120082211345\n",
      "Epoch 8/100 - Mean ROC AUC: 0.6420, Total Train Loss: 113.3893, Total Validation Loss: 316.9973, Best ROC AUC: 0.6448120082211345\n",
      "Epoch 9/100 - Mean ROC AUC: 0.6405, Total Train Loss: 107.8991, Total Validation Loss: 328.7076, Best ROC AUC: 0.6448120082211345\n",
      "Early stopping after 10 epochs. Best ROC AUC: 0.6448 at epoch 5\n",
      "\n",
      "\n",
      "Run 10\n",
      "Epoch 1/100 - Mean ROC AUC: 0.5825, Total Train Loss: 291.6227, Total Validation Loss: 232.0499, Best ROC AUC: 0.5825119501523334\n",
      "Epoch 2/100 - Mean ROC AUC: 0.6303, Total Train Loss: 205.0600, Total Validation Loss: 219.2526, Best ROC AUC: 0.6303016716381886\n",
      "Epoch 3/100 - Mean ROC AUC: 0.6464, Total Train Loss: 174.1420, Total Validation Loss: 227.7214, Best ROC AUC: 0.6463579659469089\n",
      "Epoch 4/100 - Mean ROC AUC: 0.6487, Total Train Loss: 154.6081, Total Validation Loss: 247.5957, Best ROC AUC: 0.6486722156373251\n",
      "Epoch 5/100 - Mean ROC AUC: 0.6462, Total Train Loss: 141.3621, Total Validation Loss: 269.8562, Best ROC AUC: 0.6486722156373251\n",
      "Epoch 6/100 - Mean ROC AUC: 0.6442, Total Train Loss: 130.1173, Total Validation Loss: 289.8817, Best ROC AUC: 0.6486722156373251\n",
      "Epoch 7/100 - Mean ROC AUC: 0.6427, Total Train Loss: 119.9539, Total Validation Loss: 306.8271, Best ROC AUC: 0.6486722156373251\n",
      "Epoch 8/100 - Mean ROC AUC: 0.6413, Total Train Loss: 111.9110, Total Validation Loss: 320.6667, Best ROC AUC: 0.6486722156373251\n",
      "Early stopping after 9 epochs. Best ROC AUC: 0.6487 at epoch 4\n",
      "\n",
      "\n",
      "CPU times: total: 26min 22s\n",
      "Wall time: 6min 52s\n"
     ]
    }
   ],
   "source": [
    "%%time\n",
    "val_aucs_fp = []\n",
    "for run in range(10):\n",
    "    print(f'Run {run + 1}')\n",
    "    train_losses_per_epoch, val_losses_per_epoch, mean_roc_aucs_per_epoch, best_epoch = train_all_tasks(\n",
    "        model,\n",
    "        toxcast_features,\n",
    "        toxcast_labels_val,\n",
    "        val_tasks_indices,\n",
    "        save=False,\n",
    "        num_epochs=100,\n",
    "        learning_rate=1e-2,\n",
    "        patience=5,\n",
    "        k=256,\n",
    "        alpha=0,\n",
    "        diffusion_k=1,\n",
    "        propagate_features=True\n",
    "    )\n",
    "    \n",
    "    val_aucs_fp.append(mean_roc_aucs_per_epoch[best_epoch])\n",
    "    print('\\n')"
   ]
  },
  {
   "cell_type": "code",
   "execution_count": 22,
   "id": "d9e51355-4fb5-46a1-8768-6e5509aed94a",
   "metadata": {},
   "outputs": [
    {
     "name": "stdout",
     "output_type": "stream",
     "text": [
      "Best Mean Validation ROC AUC (FP) = 0.6463±0.0018\n"
     ]
    }
   ],
   "source": [
    "val_aucs_fp = np.array(val_aucs_fp)\n",
    "print(f'Best Mean Validation ROC AUC (FP) = {np.mean(val_aucs_fp):.4f}±{np.std(val_aucs_fp):.4f}')"
   ]
  },
  {
   "cell_type": "markdown",
   "id": "ceb9d910-0624-4587-971b-0a0f18cbd3c2",
   "metadata": {},
   "source": [
    "**Plot training results**"
   ]
  },
  {
   "cell_type": "code",
   "execution_count": 23,
   "id": "a6c762b4-5d1a-4105-9a37-39edadb6912f",
   "metadata": {},
   "outputs": [],
   "source": [
    "def plot_training_results(train_losses, val_losses, mean_roc_aucs, best_epoch):\n",
    "    epochs = range(1, len(train_losses) + 1)\n",
    "\n",
    "    fig, ax = plt.subplots(1, 2, figsize=(14, 5))\n",
    "\n",
    "    ax[0].plot(epochs, train_losses, label='train Loss', color='blue')\n",
    "    ax[0].plot(epochs, val_losses, label='validation Loss', color='orange')\n",
    "    ax[0].scatter([best_epoch + 1], [train_losses[best_epoch]], color='red', label='best model', zorder=5)\n",
    "    ax[0].scatter([best_epoch + 1], [val_losses[best_epoch]], color='red', zorder=5)\n",
    "    ax[0].set_xlabel('epoch')\n",
    "    ax[0].set_ylabel('loss')\n",
    "    ax[0].set_title('train and validation loss per epoch')\n",
    "    ax[0].legend()\n",
    "\n",
    "    ax[1].plot(epochs, mean_roc_aucs, label='mean ROC AUC', color='green')\n",
    "    ax[1].scatter([best_epoch + 1], [mean_roc_aucs[best_epoch]], color='red', label='best model', zorder=5)\n",
    "    ax[1].set_xlabel('epoch')\n",
    "    ax[1].set_ylabel('mean ROC AUC')\n",
    "    ax[1].set_title('mean ROC AUC per epoch')\n",
    "    ax[1].legend()\n",
    "    \n",
    "    plt.tight_layout()\n",
    "    plt.show()"
   ]
  },
  {
   "cell_type": "code",
   "execution_count": 24,
   "id": "c47a0139-2394-44a4-bf20-0ae1b70e8ca6",
   "metadata": {},
   "outputs": [
    {
     "data": {
      "image/png": "[encoded data removed]",
      "text/plain": [
       "<Figure size 1400x500 with 2 Axes>"
      ]
     },
     "metadata": {},
     "output_type": "display_data"
    }
   ],
   "source": [
    "plot_training_results(train_losses_per_epoch, \n",
    "                      val_losses_per_epoch, \n",
    "                      mean_roc_aucs_per_epoch, \n",
    "                      best_epoch)"
   ]
  },
  {
   "cell_type": "markdown",
   "id": "1de62561-772c-47c1-8513-cbb11cccabb7",
   "metadata": {},
   "source": [
    "**Train and validation without feature propagation**"
   ]
  },
  {
   "cell_type": "code",
   "execution_count": 25,
   "id": "d34c39eb-3633-4919-98a3-2fd50f4b5006",
   "metadata": {},
   "outputs": [
    {
     "name": "stdout",
     "output_type": "stream",
     "text": [
      "Run 1\n",
      "Epoch 1/100 - Mean ROC AUC: 0.5809, Total Train Loss: 297.0912, Total Validation Loss: 228.8412, Best ROC AUC: 0.5809040028753428\n",
      "Epoch 2/100 - Mean ROC AUC: 0.6195, Total Train Loss: 188.7453, Total Validation Loss: 228.6413, Best ROC AUC: 0.6194764003789721\n",
      "Epoch 3/100 - Mean ROC AUC: 0.6330, Total Train Loss: 143.9871, Total Validation Loss: 246.9212, Best ROC AUC: 0.6329951394607198\n",
      "Epoch 4/100 - Mean ROC AUC: 0.6360, Total Train Loss: 117.4839, Total Validation Loss: 269.7196, Best ROC AUC: 0.636013517210308\n",
      "Epoch 5/100 - Mean ROC AUC: 0.6363, Total Train Loss: 98.5577, Total Validation Loss: 291.6471, Best ROC AUC: 0.6362971801557961\n",
      "Epoch 6/100 - Mean ROC AUC: 0.6354, Total Train Loss: 83.7838, Total Validation Loss: 311.6963, Best ROC AUC: 0.6362971801557961\n",
      "Epoch 7/100 - Mean ROC AUC: 0.6341, Total Train Loss: 71.9864, Total Validation Loss: 330.0796, Best ROC AUC: 0.6362971801557961\n",
      "Epoch 8/100 - Mean ROC AUC: 0.6328, Total Train Loss: 62.5078, Total Validation Loss: 346.6018, Best ROC AUC: 0.6362971801557961\n",
      "Epoch 9/100 - Mean ROC AUC: 0.6316, Total Train Loss: 54.7416, Total Validation Loss: 362.3111, Best ROC AUC: 0.6362971801557961\n",
      "Early stopping after 10 epochs. Best ROC AUC: 0.6363 at epoch 5\n",
      "\n",
      "\n",
      "Run 2\n",
      "Epoch 1/100 - Mean ROC AUC: 0.5814, Total Train Loss: 300.9039, Total Validation Loss: 236.7102, Best ROC AUC: 0.58138684767023\n",
      "Epoch 2/100 - Mean ROC AUC: 0.6214, Total Train Loss: 189.7573, Total Validation Loss: 229.8684, Best ROC AUC: 0.6214049521160292\n",
      "Epoch 3/100 - Mean ROC AUC: 0.6352, Total Train Loss: 144.7851, Total Validation Loss: 241.6880, Best ROC AUC: 0.6351778266380058\n",
      "Epoch 4/100 - Mean ROC AUC: 0.6391, Total Train Loss: 118.2616, Total Validation Loss: 260.6057, Best ROC AUC: 0.639144736520102\n",
      "Epoch 5/100 - Mean ROC AUC: 0.6392, Total Train Loss: 99.2546, Total Validation Loss: 282.5711, Best ROC AUC: 0.6391644215144651\n",
      "Epoch 6/100 - Mean ROC AUC: 0.6372, Total Train Loss: 84.5557, Total Validation Loss: 305.2731, Best ROC AUC: 0.6391644215144651\n",
      "Epoch 7/100 - Mean ROC AUC: 0.6345, Total Train Loss: 72.4810, Total Validation Loss: 327.0824, Best ROC AUC: 0.6391644215144651\n",
      "Epoch 8/100 - Mean ROC AUC: 0.6322, Total Train Loss: 62.6901, Total Validation Loss: 347.1019, Best ROC AUC: 0.6391644215144651\n",
      "Epoch 9/100 - Mean ROC AUC: 0.6303, Total Train Loss: 55.0061, Total Validation Loss: 364.2240, Best ROC AUC: 0.6391644215144651\n",
      "Early stopping after 10 epochs. Best ROC AUC: 0.6392 at epoch 5\n",
      "\n",
      "\n",
      "Run 3\n",
      "Epoch 1/100 - Mean ROC AUC: 0.5706, Total Train Loss: 306.6327, Total Validation Loss: 235.0451, Best ROC AUC: 0.5706345971638531\n",
      "Epoch 2/100 - Mean ROC AUC: 0.6174, Total Train Loss: 192.1880, Total Validation Loss: 230.8610, Best ROC AUC: 0.6174051038988442\n",
      "Epoch 3/100 - Mean ROC AUC: 0.6330, Total Train Loss: 146.3508, Total Validation Loss: 246.9425, Best ROC AUC: 0.6329665979960754\n",
      "Epoch 4/100 - Mean ROC AUC: 0.6378, Total Train Loss: 120.7909, Total Validation Loss: 266.7724, Best ROC AUC: 0.6378172895221094\n",
      "Epoch 5/100 - Mean ROC AUC: 0.6391, Total Train Loss: 101.7751, Total Validation Loss: 286.3676, Best ROC AUC: 0.6391108762582908\n",
      "Epoch 6/100 - Mean ROC AUC: 0.6388, Total Train Loss: 86.3905, Total Validation Loss: 304.7488, Best ROC AUC: 0.6391108762582908\n",
      "Epoch 7/100 - Mean ROC AUC: 0.6376, Total Train Loss: 73.5629, Total Validation Loss: 322.4028, Best ROC AUC: 0.6391108762582908\n",
      "Epoch 8/100 - Mean ROC AUC: 0.6355, Total Train Loss: 63.2812, Total Validation Loss: 340.2474, Best ROC AUC: 0.6391108762582908\n",
      "Epoch 9/100 - Mean ROC AUC: 0.6331, Total Train Loss: 55.3814, Total Validation Loss: 357.5290, Best ROC AUC: 0.6391108762582908\n",
      "Early stopping after 10 epochs. Best ROC AUC: 0.6391 at epoch 5\n",
      "\n",
      "\n",
      "Run 4\n",
      "Epoch 1/100 - Mean ROC AUC: 0.5668, Total Train Loss: 315.6604, Total Validation Loss: 235.8461, Best ROC AUC: 0.5667917061619228\n",
      "Epoch 2/100 - Mean ROC AUC: 0.6160, Total Train Loss: 198.6052, Total Validation Loss: 228.6279, Best ROC AUC: 0.6160151368953815\n",
      "Epoch 3/100 - Mean ROC AUC: 0.6321, Total Train Loss: 148.1451, Total Validation Loss: 241.9044, Best ROC AUC: 0.6321307007884008\n",
      "Epoch 4/100 - Mean ROC AUC: 0.6369, Total Train Loss: 120.2886, Total Validation Loss: 262.9584, Best ROC AUC: 0.63685305081388\n",
      "Epoch 5/100 - Mean ROC AUC: 0.6376, Total Train Loss: 101.3659, Total Validation Loss: 285.4626, Best ROC AUC: 0.6375570606684361\n",
      "Epoch 6/100 - Mean ROC AUC: 0.6368, Total Train Loss: 86.1262, Total Validation Loss: 306.7568, Best ROC AUC: 0.6375570606684361\n",
      "Epoch 7/100 - Mean ROC AUC: 0.6355, Total Train Loss: 73.6279, Total Validation Loss: 326.2461, Best ROC AUC: 0.6375570606684361\n",
      "Epoch 8/100 - Mean ROC AUC: 0.6340, Total Train Loss: 63.7576, Total Validation Loss: 343.7767, Best ROC AUC: 0.6375570606684361\n",
      "Epoch 9/100 - Mean ROC AUC: 0.6326, Total Train Loss: 55.8683, Total Validation Loss: 359.5071, Best ROC AUC: 0.6375570606684361\n",
      "Early stopping after 10 epochs. Best ROC AUC: 0.6376 at epoch 5\n",
      "\n",
      "\n",
      "Run 5\n",
      "Epoch 1/100 - Mean ROC AUC: 0.5756, Total Train Loss: 301.4855, Total Validation Loss: 233.4905, Best ROC AUC: 0.5755900928724542\n",
      "Epoch 2/100 - Mean ROC AUC: 0.6159, Total Train Loss: 189.4249, Total Validation Loss: 231.9993, Best ROC AUC: 0.6159474478338242\n",
      "Epoch 3/100 - Mean ROC AUC: 0.6301, Total Train Loss: 143.4134, Total Validation Loss: 246.7537, Best ROC AUC: 0.630069321674841\n",
      "Epoch 4/100 - Mean ROC AUC: 0.6343, Total Train Loss: 117.4362, Total Validation Loss: 266.8136, Best ROC AUC: 0.6343224587954374\n",
      "Epoch 5/100 - Mean ROC AUC: 0.6351, Total Train Loss: 99.4042, Total Validation Loss: 288.1002, Best ROC AUC: 0.6351227586338652\n",
      "Epoch 6/100 - Mean ROC AUC: 0.6347, Total Train Loss: 85.2238, Total Validation Loss: 308.3407, Best ROC AUC: 0.6351227586338652\n",
      "Epoch 7/100 - Mean ROC AUC: 0.6338, Total Train Loss: 73.6040, Total Validation Loss: 326.9351, Best ROC AUC: 0.6351227586338652\n",
      "Epoch 8/100 - Mean ROC AUC: 0.6326, Total Train Loss: 63.9092, Total Validation Loss: 344.0847, Best ROC AUC: 0.6351227586338652\n",
      "Epoch 9/100 - Mean ROC AUC: 0.6315, Total Train Loss: 55.7249, Total Validation Loss: 360.4738, Best ROC AUC: 0.6351227586338652\n",
      "Early stopping after 10 epochs. Best ROC AUC: 0.6351 at epoch 5\n",
      "\n",
      "\n",
      "Run 6\n",
      "Epoch 1/100 - Mean ROC AUC: 0.5797, Total Train Loss: 295.5954, Total Validation Loss: 229.2847, Best ROC AUC: 0.5797105546618325\n",
      "Epoch 2/100 - Mean ROC AUC: 0.6166, Total Train Loss: 187.9142, Total Validation Loss: 231.7923, Best ROC AUC: 0.6166071543297139\n",
      "Epoch 3/100 - Mean ROC AUC: 0.6312, Total Train Loss: 144.3931, Total Validation Loss: 247.3994, Best ROC AUC: 0.6311859768012309\n",
      "Epoch 4/100 - Mean ROC AUC: 0.6355, Total Train Loss: 117.6309, Total Validation Loss: 265.3225, Best ROC AUC: 0.635469057996332\n",
      "Epoch 5/100 - Mean ROC AUC: 0.6367, Total Train Loss: 98.0655, Total Validation Loss: 283.8279, Best ROC AUC: 0.6366740373024679\n",
      "Epoch 6/100 - Mean ROC AUC: 0.6363, Total Train Loss: 83.4595, Total Validation Loss: 302.4510, Best ROC AUC: 0.6366740373024679\n",
      "Epoch 7/100 - Mean ROC AUC: 0.6350, Total Train Loss: 72.1106, Total Validation Loss: 321.0110, Best ROC AUC: 0.6366740373024679\n",
      "Epoch 8/100 - Mean ROC AUC: 0.6331, Total Train Loss: 62.7263, Total Validation Loss: 339.4305, Best ROC AUC: 0.6366740373024679\n",
      "Epoch 9/100 - Mean ROC AUC: 0.6312, Total Train Loss: 54.8914, Total Validation Loss: 357.0515, Best ROC AUC: 0.6366740373024679\n",
      "Early stopping after 10 epochs. Best ROC AUC: 0.6367 at epoch 5\n",
      "\n",
      "\n",
      "Run 7\n",
      "Epoch 1/100 - Mean ROC AUC: 0.5818, Total Train Loss: 297.9005, Total Validation Loss: 230.1249, Best ROC AUC: 0.5817981933713969\n",
      "Epoch 2/100 - Mean ROC AUC: 0.6211, Total Train Loss: 187.7777, Total Validation Loss: 229.7629, Best ROC AUC: 0.6211039492544929\n",
      "Epoch 3/100 - Mean ROC AUC: 0.6354, Total Train Loss: 142.8401, Total Validation Loss: 248.2512, Best ROC AUC: 0.6353637142247031\n",
      "Epoch 4/100 - Mean ROC AUC: 0.6389, Total Train Loss: 117.1352, Total Validation Loss: 271.0669, Best ROC AUC: 0.6388630453787938\n",
      "Epoch 5/100 - Mean ROC AUC: 0.6389, Total Train Loss: 99.0910, Total Validation Loss: 292.6592, Best ROC AUC: 0.6388667674168413\n",
      "Epoch 6/100 - Mean ROC AUC: 0.6380, Total Train Loss: 84.7443, Total Validation Loss: 311.2144, Best ROC AUC: 0.6388667674168413\n",
      "Epoch 7/100 - Mean ROC AUC: 0.6369, Total Train Loss: 72.4915, Total Validation Loss: 327.4043, Best ROC AUC: 0.6388667674168413\n",
      "Epoch 8/100 - Mean ROC AUC: 0.6355, Total Train Loss: 62.2874, Total Validation Loss: 342.6862, Best ROC AUC: 0.6388667674168413\n",
      "Epoch 9/100 - Mean ROC AUC: 0.6340, Total Train Loss: 54.2253, Total Validation Loss: 357.7340, Best ROC AUC: 0.6388667674168413\n",
      "Early stopping after 10 epochs. Best ROC AUC: 0.6389 at epoch 5\n",
      "\n",
      "\n",
      "Run 8\n",
      "Epoch 1/100 - Mean ROC AUC: 0.5700, Total Train Loss: 305.0863, Total Validation Loss: 232.6161, Best ROC AUC: 0.569960374103099\n",
      "Epoch 2/100 - Mean ROC AUC: 0.6171, Total Train Loss: 191.6833, Total Validation Loss: 231.4902, Best ROC AUC: 0.6170849440518883\n",
      "Epoch 3/100 - Mean ROC AUC: 0.6335, Total Train Loss: 146.6626, Total Validation Loss: 246.4197, Best ROC AUC: 0.6334851074734874\n",
      "Epoch 4/100 - Mean ROC AUC: 0.6381, Total Train Loss: 121.1392, Total Validation Loss: 265.3709, Best ROC AUC: 0.6381234679406905\n",
      "Epoch 5/100 - Mean ROC AUC: 0.6387, Total Train Loss: 101.6689, Total Validation Loss: 285.6597, Best ROC AUC: 0.6387467371024661\n",
      "Epoch 6/100 - Mean ROC AUC: 0.6380, Total Train Loss: 85.9036, Total Validation Loss: 305.9383, Best ROC AUC: 0.6387467371024661\n",
      "Epoch 7/100 - Mean ROC AUC: 0.6367, Total Train Loss: 72.7852, Total Validation Loss: 325.6043, Best ROC AUC: 0.6387467371024661\n",
      "Epoch 8/100 - Mean ROC AUC: 0.6352, Total Train Loss: 62.3757, Total Validation Loss: 344.2134, Best ROC AUC: 0.6387467371024661\n",
      "Epoch 9/100 - Mean ROC AUC: 0.6336, Total Train Loss: 54.6118, Total Validation Loss: 361.4330, Best ROC AUC: 0.6387467371024661\n",
      "Early stopping after 10 epochs. Best ROC AUC: 0.6387 at epoch 5\n",
      "\n",
      "\n",
      "Run 9\n",
      "Epoch 1/100 - Mean ROC AUC: 0.5737, Total Train Loss: 312.1297, Total Validation Loss: 226.3471, Best ROC AUC: 0.5736698229236719\n",
      "Epoch 2/100 - Mean ROC AUC: 0.6172, Total Train Loss: 194.3049, Total Validation Loss: 227.4642, Best ROC AUC: 0.6171824887267296\n",
      "Epoch 3/100 - Mean ROC AUC: 0.6325, Total Train Loss: 146.6736, Total Validation Loss: 246.5552, Best ROC AUC: 0.6325442467257681\n",
      "Epoch 4/100 - Mean ROC AUC: 0.6365, Total Train Loss: 119.9910, Total Validation Loss: 269.3061, Best ROC AUC: 0.63646348222219\n",
      "Epoch 5/100 - Mean ROC AUC: 0.6377, Total Train Loss: 101.1677, Total Validation Loss: 290.3593, Best ROC AUC: 0.6377317703164179\n",
      "Epoch 6/100 - Mean ROC AUC: 0.6377, Total Train Loss: 85.8129, Total Validation Loss: 308.7399, Best ROC AUC: 0.6377317703164179\n",
      "Epoch 7/100 - Mean ROC AUC: 0.6366, Total Train Loss: 73.3257, Total Validation Loss: 325.5769, Best ROC AUC: 0.6377317703164179\n",
      "Epoch 8/100 - Mean ROC AUC: 0.6349, Total Train Loss: 63.6638, Total Validation Loss: 341.1086, Best ROC AUC: 0.6377317703164179\n",
      "Epoch 9/100 - Mean ROC AUC: 0.6329, Total Train Loss: 56.0719, Total Validation Loss: 355.5053, Best ROC AUC: 0.6377317703164179\n",
      "Early stopping after 10 epochs. Best ROC AUC: 0.6377 at epoch 5\n",
      "\n",
      "\n",
      "Run 10\n",
      "Epoch 1/100 - Mean ROC AUC: 0.5782, Total Train Loss: 294.8452, Total Validation Loss: 230.3978, Best ROC AUC: 0.5781760756939389\n",
      "Epoch 2/100 - Mean ROC AUC: 0.6195, Total Train Loss: 186.6466, Total Validation Loss: 226.3825, Best ROC AUC: 0.6194977472616439\n",
      "Epoch 3/100 - Mean ROC AUC: 0.6323, Total Train Loss: 142.5189, Total Validation Loss: 242.4502, Best ROC AUC: 0.6322572630094611\n",
      "Epoch 4/100 - Mean ROC AUC: 0.6351, Total Train Loss: 116.8571, Total Validation Loss: 264.3115, Best ROC AUC: 0.6351329628139446\n",
      "Epoch 5/100 - Mean ROC AUC: 0.6354, Total Train Loss: 98.3235, Total Validation Loss: 286.5556, Best ROC AUC: 0.6353962858766288\n",
      "Epoch 6/100 - Mean ROC AUC: 0.6346, Total Train Loss: 83.4431, Total Validation Loss: 307.5979, Best ROC AUC: 0.6353962858766288\n",
      "Epoch 7/100 - Mean ROC AUC: 0.6332, Total Train Loss: 71.1819, Total Validation Loss: 327.0398, Best ROC AUC: 0.6353962858766288\n",
      "Epoch 8/100 - Mean ROC AUC: 0.6318, Total Train Loss: 61.2071, Total Validation Loss: 344.3885, Best ROC AUC: 0.6353962858766288\n",
      "Epoch 9/100 - Mean ROC AUC: 0.6308, Total Train Loss: 53.1134, Total Validation Loss: 360.7847, Best ROC AUC: 0.6353962858766288\n",
      "Early stopping after 10 epochs. Best ROC AUC: 0.6354 at epoch 5\n",
      "\n",
      "\n",
      "CPU times: total: 9min 37s\n",
      "Wall time: 2min 25s\n"
     ]
    }
   ],
   "source": [
    "%%time\n",
    "val_aucs = []\n",
    "for run in range(10):\n",
    "    print(f'Run {run + 1}')\n",
    "    train_losses_per_epoch_noprop, val_losses_per_epoch_noprop, mean_roc_aucs_per_epoch_noprop, best_epoch_noprop = train_all_tasks(\n",
    "        model,\n",
    "        toxcast_features,\n",
    "        toxcast_labels_val,\n",
    "        val_tasks_indices,\n",
    "        save=False,\n",
    "        num_epochs=100,\n",
    "        learning_rate=1e-2,\n",
    "        patience=5,\n",
    "        k=256,\n",
    "        alpha=0,\n",
    "        diffusion_k=1,\n",
    "        propagate_features=False\n",
    "    )\n",
    "    \n",
    "    val_aucs.append(mean_roc_aucs_per_epoch_noprop[best_epoch_noprop])\n",
    "    print('\\n')"
   ]
  },
  {
   "cell_type": "code",
   "execution_count": 26,
   "id": "8afc553a-941b-4625-b074-1254a091d893",
   "metadata": {},
   "outputs": [
    {
     "name": "stdout",
     "output_type": "stream",
     "text": [
      "Best Mean Validation ROC AUC (NO FP) = 0.6375±0.0015\n"
     ]
    }
   ],
   "source": [
    "val_aucs = np.array(val_aucs)\n",
    "print(f'Best Mean Validation ROC AUC (NO FP) = {np.mean(val_aucs):.4f}±{np.std(val_aucs):.4f}')"
   ]
  },
  {
   "cell_type": "code",
   "execution_count": 27,
   "id": "2383a81e-be32-4f3d-b677-1890d71c28bd",
   "metadata": {},
   "outputs": [
    {
     "data": {
      "image/png": "[encoded data removed]",
      "text/plain": [
       "<Figure size 1400x500 with 2 Axes>"
      ]
     },
     "metadata": {},
     "output_type": "display_data"
    }
   ],
   "source": [
    "plot_training_results(train_losses_per_epoch_noprop, \n",
    "                      val_losses_per_epoch_noprop, \n",
    "                      mean_roc_aucs_per_epoch_noprop, \n",
    "                      best_epoch_noprop)"
   ]
  },
  {
   "cell_type": "markdown",
   "id": "0495befb-d699-4a72-bf14-392a0abc310a",
   "metadata": {},
   "source": [
    "**Test with feature propagation**"
   ]
  },
  {
   "cell_type": "code",
   "execution_count": 28,
   "id": "b37c22e6-d824-49cb-882e-57431b02ab7c",
   "metadata": {},
   "outputs": [
    {
     "name": "stdout",
     "output_type": "stream",
     "text": [
      "Run 1\n",
      "Epoch 1/100 - Mean ROC AUC: 0.6003, Total Train Loss: 282.3617, Total Validation Loss: 227.5536, Best ROC AUC: 0.6002548278334269\n",
      "Epoch 2/100 - Mean ROC AUC: 0.6389, Total Train Loss: 191.7672, Total Validation Loss: 229.7034, Best ROC AUC: 0.638865576762988\n",
      "Epoch 3/100 - Mean ROC AUC: 0.6476, Total Train Loss: 158.7129, Total Validation Loss: 243.7355, Best ROC AUC: 0.647579873816432\n",
      "Epoch 4/100 - Mean ROC AUC: 0.6498, Total Train Loss: 139.9362, Total Validation Loss: 261.2718, Best ROC AUC: 0.6497738773070546\n",
      "Epoch 5/100 - Mean ROC AUC: 0.6504, Total Train Loss: 126.4018, Total Validation Loss: 279.5159, Best ROC AUC: 0.6503526208430083\n",
      "Epoch 6/100 - Mean ROC AUC: 0.6509, Total Train Loss: 115.9694, Total Validation Loss: 296.3079, Best ROC AUC: 0.650855775627151\n",
      "Epoch 7/100 - Mean ROC AUC: 0.6508, Total Train Loss: 106.9505, Total Validation Loss: 311.5145, Best ROC AUC: 0.650855775627151\n",
      "Epoch 8/100 - Mean ROC AUC: 0.6500, Total Train Loss: 99.0596, Total Validation Loss: 325.3663, Best ROC AUC: 0.650855775627151\n",
      "Epoch 9/100 - Mean ROC AUC: 0.6491, Total Train Loss: 92.3728, Total Validation Loss: 337.3290, Best ROC AUC: 0.650855775627151\n",
      "Epoch 10/100 - Mean ROC AUC: 0.6481, Total Train Loss: 86.2554, Total Validation Loss: 347.3570, Best ROC AUC: 0.650855775627151\n",
      "Early stopping after 11 epochs. Best ROC AUC: 0.6509 at epoch 6\n",
      "\n",
      "\n",
      "Run 2\n",
      "Epoch 1/100 - Mean ROC AUC: 0.5901, Total Train Loss: 291.8879, Total Validation Loss: 224.2559, Best ROC AUC: 0.5900657772835444\n",
      "Epoch 2/100 - Mean ROC AUC: 0.6449, Total Train Loss: 197.6970, Total Validation Loss: 219.1167, Best ROC AUC: 0.6448529835927819\n",
      "Epoch 3/100 - Mean ROC AUC: 0.6542, Total Train Loss: 160.2585, Total Validation Loss: 233.7480, Best ROC AUC: 0.6542141449041532\n",
      "Epoch 4/100 - Mean ROC AUC: 0.6541, Total Train Loss: 140.1477, Total Validation Loss: 254.8191, Best ROC AUC: 0.6542141449041532\n",
      "Epoch 5/100 - Mean ROC AUC: 0.6542, Total Train Loss: 127.1221, Total Validation Loss: 275.6585, Best ROC AUC: 0.6542141449041532\n",
      "Epoch 6/100 - Mean ROC AUC: 0.6549, Total Train Loss: 116.4147, Total Validation Loss: 293.9825, Best ROC AUC: 0.6549098087906537\n",
      "Epoch 7/100 - Mean ROC AUC: 0.6544, Total Train Loss: 106.9787, Total Validation Loss: 309.8875, Best ROC AUC: 0.6549098087906537\n",
      "Epoch 8/100 - Mean ROC AUC: 0.6535, Total Train Loss: 99.3806, Total Validation Loss: 323.3521, Best ROC AUC: 0.6549098087906537\n",
      "Epoch 9/100 - Mean ROC AUC: 0.6520, Total Train Loss: 93.1094, Total Validation Loss: 334.3862, Best ROC AUC: 0.6549098087906537\n",
      "Epoch 10/100 - Mean ROC AUC: 0.6507, Total Train Loss: 87.1531, Total Validation Loss: 343.9515, Best ROC AUC: 0.6549098087906537\n",
      "Early stopping after 11 epochs. Best ROC AUC: 0.6549 at epoch 6\n",
      "\n",
      "\n",
      "Run 3\n",
      "Epoch 1/100 - Mean ROC AUC: 0.5759, Total Train Loss: 292.4116, Total Validation Loss: 234.3175, Best ROC AUC: 0.5759050462380425\n",
      "Epoch 2/100 - Mean ROC AUC: 0.6248, Total Train Loss: 197.5951, Total Validation Loss: 228.8349, Best ROC AUC: 0.6248361481997788\n",
      "Epoch 3/100 - Mean ROC AUC: 0.6427, Total Train Loss: 160.9224, Total Validation Loss: 240.1117, Best ROC AUC: 0.6426961313093704\n",
      "Epoch 4/100 - Mean ROC AUC: 0.6468, Total Train Loss: 142.2047, Total Validation Loss: 255.5545, Best ROC AUC: 0.6467681543143586\n",
      "Epoch 5/100 - Mean ROC AUC: 0.6492, Total Train Loss: 128.1132, Total Validation Loss: 271.2519, Best ROC AUC: 0.6492029391582872\n",
      "Epoch 6/100 - Mean ROC AUC: 0.6510, Total Train Loss: 116.0418, Total Validation Loss: 286.5608, Best ROC AUC: 0.6510100384609446\n",
      "Epoch 7/100 - Mean ROC AUC: 0.6511, Total Train Loss: 106.0683, Total Validation Loss: 301.7367, Best ROC AUC: 0.6510532764711883\n",
      "Epoch 8/100 - Mean ROC AUC: 0.6500, Total Train Loss: 98.2502, Total Validation Loss: 316.4309, Best ROC AUC: 0.6510532764711883\n",
      "Epoch 9/100 - Mean ROC AUC: 0.6486, Total Train Loss: 91.9201, Total Validation Loss: 329.7291, Best ROC AUC: 0.6510532764711883\n",
      "Epoch 10/100 - Mean ROC AUC: 0.6474, Total Train Loss: 86.0791, Total Validation Loss: 341.0867, Best ROC AUC: 0.6510532764711883\n",
      "Epoch 11/100 - Mean ROC AUC: 0.6472, Total Train Loss: 80.3706, Total Validation Loss: 351.0126, Best ROC AUC: 0.6510532764711883\n",
      "Early stopping after 12 epochs. Best ROC AUC: 0.6511 at epoch 7\n",
      "\n",
      "\n",
      "Run 4\n",
      "Epoch 1/100 - Mean ROC AUC: 0.5969, Total Train Loss: 287.8771, Total Validation Loss: 221.7967, Best ROC AUC: 0.5969251588954892\n",
      "Epoch 2/100 - Mean ROC AUC: 0.6347, Total Train Loss: 196.1377, Total Validation Loss: 223.4036, Best ROC AUC: 0.6347175144124211\n",
      "Epoch 3/100 - Mean ROC AUC: 0.6459, Total Train Loss: 159.0607, Total Validation Loss: 240.3730, Best ROC AUC: 0.6458838907624201\n",
      "Epoch 4/100 - Mean ROC AUC: 0.6484, Total Train Loss: 140.1323, Total Validation Loss: 259.0009, Best ROC AUC: 0.6484053080758021\n",
      "Epoch 5/100 - Mean ROC AUC: 0.6483, Total Train Loss: 126.8513, Total Validation Loss: 276.1468, Best ROC AUC: 0.6484053080758021\n",
      "Epoch 6/100 - Mean ROC AUC: 0.6478, Total Train Loss: 115.4535, Total Validation Loss: 292.0390, Best ROC AUC: 0.6484053080758021\n",
      "Epoch 7/100 - Mean ROC AUC: 0.6477, Total Train Loss: 105.9281, Total Validation Loss: 306.9874, Best ROC AUC: 0.6484053080758021\n",
      "Epoch 8/100 - Mean ROC AUC: 0.6480, Total Train Loss: 98.1931, Total Validation Loss: 320.8743, Best ROC AUC: 0.6484053080758021\n",
      "Early stopping after 9 epochs. Best ROC AUC: 0.6484 at epoch 4\n",
      "\n",
      "\n",
      "Run 5\n",
      "Epoch 1/100 - Mean ROC AUC: 0.5911, Total Train Loss: 285.8544, Total Validation Loss: 220.7098, Best ROC AUC: 0.5911149765862759\n",
      "Epoch 2/100 - Mean ROC AUC: 0.6321, Total Train Loss: 191.9892, Total Validation Loss: 225.3742, Best ROC AUC: 0.6321199051234575\n",
      "Epoch 3/100 - Mean ROC AUC: 0.6435, Total Train Loss: 159.8244, Total Validation Loss: 243.7244, Best ROC AUC: 0.6434732259825882\n",
      "Epoch 4/100 - Mean ROC AUC: 0.6474, Total Train Loss: 141.6233, Total Validation Loss: 262.1422, Best ROC AUC: 0.6473734782533143\n",
      "Epoch 5/100 - Mean ROC AUC: 0.6484, Total Train Loss: 127.5678, Total Validation Loss: 279.2125, Best ROC AUC: 0.6483644768934025\n",
      "Epoch 6/100 - Mean ROC AUC: 0.6476, Total Train Loss: 115.8396, Total Validation Loss: 295.4517, Best ROC AUC: 0.6483644768934025\n",
      "Epoch 7/100 - Mean ROC AUC: 0.6472, Total Train Loss: 106.2170, Total Validation Loss: 310.5969, Best ROC AUC: 0.6483644768934025\n",
      "Epoch 8/100 - Mean ROC AUC: 0.6473, Total Train Loss: 98.2315, Total Validation Loss: 324.0517, Best ROC AUC: 0.6483644768934025\n",
      "Epoch 9/100 - Mean ROC AUC: 0.6475, Total Train Loss: 91.2636, Total Validation Loss: 335.9274, Best ROC AUC: 0.6483644768934025\n",
      "Early stopping after 10 epochs. Best ROC AUC: 0.6484 at epoch 5\n",
      "\n",
      "\n",
      "Run 6\n",
      "Epoch 1/100 - Mean ROC AUC: 0.5920, Total Train Loss: 281.5053, Total Validation Loss: 230.7493, Best ROC AUC: 0.5919798896354537\n",
      "Epoch 2/100 - Mean ROC AUC: 0.6329, Total Train Loss: 191.5907, Total Validation Loss: 227.7053, Best ROC AUC: 0.6328763069802669\n",
      "Epoch 3/100 - Mean ROC AUC: 0.6458, Total Train Loss: 156.9188, Total Validation Loss: 242.3161, Best ROC AUC: 0.64578086192137\n",
      "Epoch 4/100 - Mean ROC AUC: 0.6504, Total Train Loss: 139.5482, Total Validation Loss: 260.4821, Best ROC AUC: 0.6504156022265652\n",
      "Epoch 5/100 - Mean ROC AUC: 0.6516, Total Train Loss: 127.0152, Total Validation Loss: 278.2152, Best ROC AUC: 0.6516001564214456\n",
      "Epoch 6/100 - Mean ROC AUC: 0.6503, Total Train Loss: 115.7774, Total Validation Loss: 295.1159, Best ROC AUC: 0.6516001564214456\n",
      "Epoch 7/100 - Mean ROC AUC: 0.6491, Total Train Loss: 105.8677, Total Validation Loss: 311.1891, Best ROC AUC: 0.6516001564214456\n",
      "Epoch 8/100 - Mean ROC AUC: 0.6475, Total Train Loss: 97.9044, Total Validation Loss: 325.6866, Best ROC AUC: 0.6516001564214456\n",
      "Epoch 9/100 - Mean ROC AUC: 0.6462, Total Train Loss: 91.3952, Total Validation Loss: 337.9915, Best ROC AUC: 0.6516001564214456\n",
      "Early stopping after 10 epochs. Best ROC AUC: 0.6516 at epoch 5\n",
      "\n",
      "\n",
      "Run 7\n",
      "Epoch 1/100 - Mean ROC AUC: 0.5974, Total Train Loss: 283.0342, Total Validation Loss: 226.2997, Best ROC AUC: 0.597407081142872\n",
      "Epoch 2/100 - Mean ROC AUC: 0.6442, Total Train Loss: 191.0569, Total Validation Loss: 224.5072, Best ROC AUC: 0.6442444899781988\n",
      "Epoch 3/100 - Mean ROC AUC: 0.6563, Total Train Loss: 157.7822, Total Validation Loss: 239.1326, Best ROC AUC: 0.6563234905879514\n",
      "Epoch 4/100 - Mean ROC AUC: 0.6576, Total Train Loss: 140.1158, Total Validation Loss: 257.7807, Best ROC AUC: 0.657617683599553\n",
      "Epoch 5/100 - Mean ROC AUC: 0.6571, Total Train Loss: 127.1441, Total Validation Loss: 275.9217, Best ROC AUC: 0.657617683599553\n",
      "Epoch 6/100 - Mean ROC AUC: 0.6556, Total Train Loss: 115.7074, Total Validation Loss: 293.2081, Best ROC AUC: 0.657617683599553\n",
      "Epoch 7/100 - Mean ROC AUC: 0.6539, Total Train Loss: 105.9949, Total Validation Loss: 309.9084, Best ROC AUC: 0.657617683599553\n",
      "Epoch 8/100 - Mean ROC AUC: 0.6522, Total Train Loss: 98.5166, Total Validation Loss: 325.1266, Best ROC AUC: 0.657617683599553\n",
      "Early stopping after 9 epochs. Best ROC AUC: 0.6576 at epoch 4\n",
      "\n",
      "\n",
      "Run 8\n",
      "Epoch 1/100 - Mean ROC AUC: 0.5945, Total Train Loss: 290.7108, Total Validation Loss: 220.9056, Best ROC AUC: 0.5945280027272334\n",
      "Epoch 2/100 - Mean ROC AUC: 0.6378, Total Train Loss: 194.5744, Total Validation Loss: 217.7689, Best ROC AUC: 0.6377771261599952\n",
      "Epoch 3/100 - Mean ROC AUC: 0.6470, Total Train Loss: 157.8503, Total Validation Loss: 235.5864, Best ROC AUC: 0.6470013014637581\n",
      "Epoch 4/100 - Mean ROC AUC: 0.6498, Total Train Loss: 140.7033, Total Validation Loss: 256.4951, Best ROC AUC: 0.6498164065784197\n",
      "Epoch 5/100 - Mean ROC AUC: 0.6511, Total Train Loss: 128.0041, Total Validation Loss: 275.4288, Best ROC AUC: 0.651107052283218\n",
      "Epoch 6/100 - Mean ROC AUC: 0.6508, Total Train Loss: 115.8382, Total Validation Loss: 292.8131, Best ROC AUC: 0.651107052283218\n",
      "Epoch 7/100 - Mean ROC AUC: 0.6498, Total Train Loss: 105.5778, Total Validation Loss: 309.0615, Best ROC AUC: 0.651107052283218\n",
      "Epoch 8/100 - Mean ROC AUC: 0.6486, Total Train Loss: 97.9585, Total Validation Loss: 323.4989, Best ROC AUC: 0.651107052283218\n",
      "Epoch 9/100 - Mean ROC AUC: 0.6484, Total Train Loss: 91.8231, Total Validation Loss: 335.8093, Best ROC AUC: 0.651107052283218\n",
      "Early stopping after 10 epochs. Best ROC AUC: 0.6511 at epoch 5\n",
      "\n",
      "\n",
      "Run 9\n",
      "Epoch 1/100 - Mean ROC AUC: 0.5872, Total Train Loss: 283.8531, Total Validation Loss: 223.6184, Best ROC AUC: 0.5871890412417372\n",
      "Epoch 2/100 - Mean ROC AUC: 0.6370, Total Train Loss: 194.4414, Total Validation Loss: 223.0885, Best ROC AUC: 0.6369553219411892\n",
      "Epoch 3/100 - Mean ROC AUC: 0.6482, Total Train Loss: 157.9166, Total Validation Loss: 240.1588, Best ROC AUC: 0.6482129973584977\n",
      "Epoch 4/100 - Mean ROC AUC: 0.6502, Total Train Loss: 139.4639, Total Validation Loss: 260.9639, Best ROC AUC: 0.6502131674300805\n",
      "Epoch 5/100 - Mean ROC AUC: 0.6509, Total Train Loss: 127.2927, Total Validation Loss: 279.8328, Best ROC AUC: 0.6509216377290932\n",
      "Epoch 6/100 - Mean ROC AUC: 0.6511, Total Train Loss: 116.3228, Total Validation Loss: 296.3274, Best ROC AUC: 0.6511081202033174\n",
      "Epoch 7/100 - Mean ROC AUC: 0.6505, Total Train Loss: 106.4566, Total Validation Loss: 311.0447, Best ROC AUC: 0.6511081202033174\n",
      "Epoch 8/100 - Mean ROC AUC: 0.6495, Total Train Loss: 98.3250, Total Validation Loss: 323.8783, Best ROC AUC: 0.6511081202033174\n",
      "Epoch 9/100 - Mean ROC AUC: 0.6483, Total Train Loss: 91.4281, Total Validation Loss: 334.9099, Best ROC AUC: 0.6511081202033174\n",
      "Epoch 10/100 - Mean ROC AUC: 0.6467, Total Train Loss: 85.2581, Total Validation Loss: 344.5857, Best ROC AUC: 0.6511081202033174\n",
      "Early stopping after 11 epochs. Best ROC AUC: 0.6511 at epoch 6\n",
      "\n",
      "\n",
      "Run 10\n",
      "Epoch 1/100 - Mean ROC AUC: 0.5880, Total Train Loss: 281.9727, Total Validation Loss: 224.6275, Best ROC AUC: 0.5880328285639562\n",
      "Epoch 2/100 - Mean ROC AUC: 0.6308, Total Train Loss: 192.1198, Total Validation Loss: 228.9669, Best ROC AUC: 0.6308382195829898\n",
      "Epoch 3/100 - Mean ROC AUC: 0.6457, Total Train Loss: 157.4730, Total Validation Loss: 245.2137, Best ROC AUC: 0.6456853655471728\n",
      "Epoch 4/100 - Mean ROC AUC: 0.6511, Total Train Loss: 137.8750, Total Validation Loss: 264.1495, Best ROC AUC: 0.6510584684771825\n",
      "Epoch 5/100 - Mean ROC AUC: 0.6528, Total Train Loss: 124.6748, Total Validation Loss: 282.5052, Best ROC AUC: 0.6528270152363962\n",
      "Epoch 6/100 - Mean ROC AUC: 0.6522, Total Train Loss: 114.2516, Total Validation Loss: 299.0648, Best ROC AUC: 0.6528270152363962\n",
      "Epoch 7/100 - Mean ROC AUC: 0.6499, Total Train Loss: 105.2880, Total Validation Loss: 314.0728, Best ROC AUC: 0.6528270152363962\n",
      "Epoch 8/100 - Mean ROC AUC: 0.6477, Total Train Loss: 97.6274, Total Validation Loss: 327.6504, Best ROC AUC: 0.6528270152363962\n",
      "Epoch 9/100 - Mean ROC AUC: 0.6466, Total Train Loss: 90.9103, Total Validation Loss: 339.7255, Best ROC AUC: 0.6528270152363962\n",
      "Early stopping after 10 epochs. Best ROC AUC: 0.6528 at epoch 5\n",
      "\n",
      "\n",
      "CPU times: total: 29min 48s\n",
      "Wall time: 6min 50s\n"
     ]
    }
   ],
   "source": [
    "%%time\n",
    "aucs_test_fp = []\n",
    "for run in range(10):\n",
    "    print(f'Run {run + 1}')\n",
    "    train_losses_per_epoch_test_fp, losses_per_epoch_test_fp, mean_roc_aucs_per_epoch_test_fp, best_epoch_test_fp = train_all_tasks(\n",
    "        model,\n",
    "        toxcast_features,\n",
    "        toxcast_labels_test,\n",
    "        test_tasks_indices,\n",
    "        save=False,\n",
    "        num_epochs=100,\n",
    "        learning_rate=1e-2,\n",
    "        patience=5,\n",
    "        k=256,\n",
    "        alpha=0,\n",
    "        diffusion_k=1,\n",
    "        propagate_features=True\n",
    "    )\n",
    "    \n",
    "    aucs_test_fp.append(mean_roc_aucs_per_epoch_test_fp[best_epoch_test_fp])\n",
    "    print('\\n')"
   ]
  },
  {
   "cell_type": "markdown",
   "id": "695268c9-fdc4-4f08-bb91-acc650bc0396",
   "metadata": {},
   "source": [
    "**Test without feature propagation**"
   ]
  },
  {
   "cell_type": "code",
   "execution_count": 29,
   "id": "4091c3ba-647c-47c6-ab8f-85d5878fdc42",
   "metadata": {},
   "outputs": [
    {
     "name": "stdout",
     "output_type": "stream",
     "text": [
      "Run 1\n",
      "Epoch 1/100 - Mean ROC AUC: 0.5826, Total Train Loss: 305.7421, Total Validation Loss: 239.7504, Best ROC AUC: 0.5826291143841119\n",
      "Epoch 2/100 - Mean ROC AUC: 0.6306, Total Train Loss: 183.3197, Total Validation Loss: 235.6926, Best ROC AUC: 0.6306160978552108\n",
      "Epoch 3/100 - Mean ROC AUC: 0.6470, Total Train Loss: 131.4675, Total Validation Loss: 251.0614, Best ROC AUC: 0.6469742801843636\n",
      "Epoch 4/100 - Mean ROC AUC: 0.6521, Total Train Loss: 104.3608, Total Validation Loss: 270.6761, Best ROC AUC: 0.6521271401307256\n",
      "Epoch 5/100 - Mean ROC AUC: 0.6539, Total Train Loss: 84.8161, Total Validation Loss: 291.3159, Best ROC AUC: 0.6539209359912752\n",
      "Epoch 6/100 - Mean ROC AUC: 0.6541, Total Train Loss: 69.4820, Total Validation Loss: 312.4738, Best ROC AUC: 0.6541218574395238\n",
      "Epoch 7/100 - Mean ROC AUC: 0.6539, Total Train Loss: 57.9971, Total Validation Loss: 333.2878, Best ROC AUC: 0.6541218574395238\n",
      "Epoch 8/100 - Mean ROC AUC: 0.6534, Total Train Loss: 49.4339, Total Validation Loss: 353.2313, Best ROC AUC: 0.6541218574395238\n",
      "Epoch 9/100 - Mean ROC AUC: 0.6531, Total Train Loss: 42.5603, Total Validation Loss: 371.8661, Best ROC AUC: 0.6541218574395238\n",
      "Epoch 10/100 - Mean ROC AUC: 0.6528, Total Train Loss: 36.7637, Total Validation Loss: 389.3089, Best ROC AUC: 0.6541218574395238\n",
      "Early stopping after 11 epochs. Best ROC AUC: 0.6541 at epoch 6\n",
      "\n",
      "\n",
      "Run 2\n",
      "Epoch 1/100 - Mean ROC AUC: 0.5981, Total Train Loss: 290.0086, Total Validation Loss: 234.9585, Best ROC AUC: 0.5980840576204506\n",
      "Epoch 2/100 - Mean ROC AUC: 0.6367, Total Train Loss: 174.3153, Total Validation Loss: 238.2226, Best ROC AUC: 0.6366695238772729\n",
      "Epoch 3/100 - Mean ROC AUC: 0.6494, Total Train Loss: 129.8607, Total Validation Loss: 251.5705, Best ROC AUC: 0.6493521183961166\n",
      "Epoch 4/100 - Mean ROC AUC: 0.6537, Total Train Loss: 103.3938, Total Validation Loss: 267.5434, Best ROC AUC: 0.6537011984670927\n",
      "Epoch 5/100 - Mean ROC AUC: 0.6551, Total Train Loss: 83.4455, Total Validation Loss: 285.8707, Best ROC AUC: 0.6550919384236953\n",
      "Epoch 6/100 - Mean ROC AUC: 0.6548, Total Train Loss: 68.6892, Total Validation Loss: 305.7245, Best ROC AUC: 0.6550919384236953\n",
      "Epoch 7/100 - Mean ROC AUC: 0.6542, Total Train Loss: 57.9530, Total Validation Loss: 325.8329, Best ROC AUC: 0.6550919384236953\n",
      "Epoch 8/100 - Mean ROC AUC: 0.6537, Total Train Loss: 49.6570, Total Validation Loss: 345.3208, Best ROC AUC: 0.6550919384236953\n",
      "Epoch 9/100 - Mean ROC AUC: 0.6530, Total Train Loss: 42.7071, Total Validation Loss: 364.9939, Best ROC AUC: 0.6550919384236953\n",
      "Early stopping after 10 epochs. Best ROC AUC: 0.6551 at epoch 5\n",
      "\n",
      "\n",
      "Run 3\n",
      "Epoch 1/100 - Mean ROC AUC: 0.5772, Total Train Loss: 295.4015, Total Validation Loss: 243.2037, Best ROC AUC: 0.5771530737784051\n",
      "Epoch 2/100 - Mean ROC AUC: 0.6313, Total Train Loss: 178.5266, Total Validation Loss: 237.6113, Best ROC AUC: 0.631270620104431\n",
      "Epoch 3/100 - Mean ROC AUC: 0.6498, Total Train Loss: 130.6461, Total Validation Loss: 249.1638, Best ROC AUC: 0.6498383533268584\n",
      "Epoch 4/100 - Mean ROC AUC: 0.6553, Total Train Loss: 103.8132, Total Validation Loss: 266.7049, Best ROC AUC: 0.6553237651602889\n",
      "Epoch 5/100 - Mean ROC AUC: 0.6558, Total Train Loss: 84.5418, Total Validation Loss: 287.3265, Best ROC AUC: 0.6558410190775942\n",
      "Epoch 6/100 - Mean ROC AUC: 0.6547, Total Train Loss: 69.7458, Total Validation Loss: 309.7517, Best ROC AUC: 0.6558410190775942\n",
      "Epoch 7/100 - Mean ROC AUC: 0.6532, Total Train Loss: 58.4110, Total Validation Loss: 332.1289, Best ROC AUC: 0.6558410190775942\n",
      "Epoch 8/100 - Mean ROC AUC: 0.6520, Total Train Loss: 49.6640, Total Validation Loss: 353.5822, Best ROC AUC: 0.6558410190775942\n",
      "Epoch 9/100 - Mean ROC AUC: 0.6511, Total Train Loss: 42.6208, Total Validation Loss: 373.3270, Best ROC AUC: 0.6558410190775942\n",
      "Early stopping after 10 epochs. Best ROC AUC: 0.6558 at epoch 5\n",
      "\n",
      "\n",
      "Run 4\n",
      "Epoch 1/100 - Mean ROC AUC: 0.5866, Total Train Loss: 299.2777, Total Validation Loss: 236.5792, Best ROC AUC: 0.5865595483593847\n",
      "Epoch 2/100 - Mean ROC AUC: 0.6369, Total Train Loss: 178.5410, Total Validation Loss: 228.4270, Best ROC AUC: 0.636902647976809\n",
      "Epoch 3/100 - Mean ROC AUC: 0.6533, Total Train Loss: 130.0685, Total Validation Loss: 241.0949, Best ROC AUC: 0.6533195355990832\n",
      "Epoch 4/100 - Mean ROC AUC: 0.6580, Total Train Loss: 103.8931, Total Validation Loss: 260.4546, Best ROC AUC: 0.6579614229031044\n",
      "Epoch 5/100 - Mean ROC AUC: 0.6583, Total Train Loss: 84.8608, Total Validation Loss: 282.3387, Best ROC AUC: 0.6582921702769526\n",
      "Epoch 6/100 - Mean ROC AUC: 0.6574, Total Train Loss: 70.2533, Total Validation Loss: 304.8474, Best ROC AUC: 0.6582921702769526\n",
      "Epoch 7/100 - Mean ROC AUC: 0.6562, Total Train Loss: 58.8890, Total Validation Loss: 326.4860, Best ROC AUC: 0.6582921702769526\n",
      "Epoch 8/100 - Mean ROC AUC: 0.6554, Total Train Loss: 49.8910, Total Validation Loss: 346.9175, Best ROC AUC: 0.6582921702769526\n",
      "Epoch 9/100 - Mean ROC AUC: 0.6542, Total Train Loss: 42.5927, Total Validation Loss: 365.8657, Best ROC AUC: 0.6582921702769526\n",
      "Early stopping after 10 epochs. Best ROC AUC: 0.6583 at epoch 5\n",
      "\n",
      "\n",
      "Run 5\n",
      "Epoch 1/100 - Mean ROC AUC: 0.5902, Total Train Loss: 289.6389, Total Validation Loss: 232.4493, Best ROC AUC: 0.5902070706797323\n",
      "Epoch 2/100 - Mean ROC AUC: 0.6357, Total Train Loss: 174.5804, Total Validation Loss: 235.2852, Best ROC AUC: 0.6356895702506602\n",
      "Epoch 3/100 - Mean ROC AUC: 0.6510, Total Train Loss: 128.2410, Total Validation Loss: 249.6825, Best ROC AUC: 0.6510176546652181\n",
      "Epoch 4/100 - Mean ROC AUC: 0.6555, Total Train Loss: 101.7150, Total Validation Loss: 267.0882, Best ROC AUC: 0.6555117170831247\n",
      "Epoch 5/100 - Mean ROC AUC: 0.6564, Total Train Loss: 81.9560, Total Validation Loss: 286.1819, Best ROC AUC: 0.6564441546634636\n",
      "Epoch 6/100 - Mean ROC AUC: 0.6563, Total Train Loss: 66.8428, Total Validation Loss: 305.9937, Best ROC AUC: 0.6564441546634636\n",
      "Epoch 7/100 - Mean ROC AUC: 0.6555, Total Train Loss: 55.4976, Total Validation Loss: 325.5768, Best ROC AUC: 0.6564441546634636\n",
      "Epoch 8/100 - Mean ROC AUC: 0.6546, Total Train Loss: 46.9558, Total Validation Loss: 345.0278, Best ROC AUC: 0.6564441546634636\n",
      "Epoch 9/100 - Mean ROC AUC: 0.6538, Total Train Loss: 40.2065, Total Validation Loss: 363.3796, Best ROC AUC: 0.6564441546634636\n",
      "Early stopping after 10 epochs. Best ROC AUC: 0.6564 at epoch 5\n",
      "\n",
      "\n",
      "Run 6\n",
      "Epoch 1/100 - Mean ROC AUC: 0.5980, Total Train Loss: 300.5785, Total Validation Loss: 232.2701, Best ROC AUC: 0.5979743738410727\n",
      "Epoch 2/100 - Mean ROC AUC: 0.6382, Total Train Loss: 180.8386, Total Validation Loss: 228.5555, Best ROC AUC: 0.6381536586704961\n",
      "Epoch 3/100 - Mean ROC AUC: 0.6519, Total Train Loss: 132.6801, Total Validation Loss: 241.0688, Best ROC AUC: 0.6518977199665718\n",
      "Epoch 4/100 - Mean ROC AUC: 0.6551, Total Train Loss: 105.4914, Total Validation Loss: 259.4654, Best ROC AUC: 0.6551414521612369\n",
      "Epoch 5/100 - Mean ROC AUC: 0.6549, Total Train Loss: 85.3529, Total Validation Loss: 280.5163, Best ROC AUC: 0.6551414521612369\n",
      "Epoch 6/100 - Mean ROC AUC: 0.6542, Total Train Loss: 70.2676, Total Validation Loss: 301.7041, Best ROC AUC: 0.6551414521612369\n",
      "Epoch 7/100 - Mean ROC AUC: 0.6539, Total Train Loss: 58.8585, Total Validation Loss: 321.8456, Best ROC AUC: 0.6551414521612369\n",
      "Epoch 8/100 - Mean ROC AUC: 0.6536, Total Train Loss: 49.8388, Total Validation Loss: 341.5415, Best ROC AUC: 0.6551414521612369\n",
      "Early stopping after 9 epochs. Best ROC AUC: 0.6551 at epoch 4\n",
      "\n",
      "\n",
      "Run 7\n",
      "Epoch 1/100 - Mean ROC AUC: 0.5762, Total Train Loss: 302.9302, Total Validation Loss: 237.3684, Best ROC AUC: 0.5762020683799621\n",
      "Epoch 2/100 - Mean ROC AUC: 0.6257, Total Train Loss: 179.8284, Total Validation Loss: 234.7668, Best ROC AUC: 0.6256616670475748\n",
      "Epoch 3/100 - Mean ROC AUC: 0.6442, Total Train Loss: 131.9345, Total Validation Loss: 247.1640, Best ROC AUC: 0.6441918394109566\n",
      "Epoch 4/100 - Mean ROC AUC: 0.6509, Total Train Loss: 105.1772, Total Validation Loss: 263.7919, Best ROC AUC: 0.6509280958303868\n",
      "Epoch 5/100 - Mean ROC AUC: 0.6532, Total Train Loss: 85.0548, Total Validation Loss: 282.4611, Best ROC AUC: 0.6532326359867939\n",
      "Epoch 6/100 - Mean ROC AUC: 0.6537, Total Train Loss: 69.3263, Total Validation Loss: 302.5662, Best ROC AUC: 0.6537094119690958\n",
      "Epoch 7/100 - Mean ROC AUC: 0.6531, Total Train Loss: 57.7336, Total Validation Loss: 323.0303, Best ROC AUC: 0.6537094119690958\n",
      "Epoch 8/100 - Mean ROC AUC: 0.6523, Total Train Loss: 49.1457, Total Validation Loss: 342.5027, Best ROC AUC: 0.6537094119690958\n",
      "Epoch 9/100 - Mean ROC AUC: 0.6518, Total Train Loss: 42.2217, Total Validation Loss: 361.9251, Best ROC AUC: 0.6537094119690958\n",
      "Epoch 10/100 - Mean ROC AUC: 0.6511, Total Train Loss: 36.2907, Total Validation Loss: 380.2629, Best ROC AUC: 0.6537094119690958\n",
      "Early stopping after 11 epochs. Best ROC AUC: 0.6537 at epoch 6\n",
      "\n",
      "\n",
      "Run 8\n",
      "Epoch 1/100 - Mean ROC AUC: 0.5914, Total Train Loss: 295.5409, Total Validation Loss: 239.3754, Best ROC AUC: 0.5914112685627907\n",
      "Epoch 2/100 - Mean ROC AUC: 0.6338, Total Train Loss: 178.5706, Total Validation Loss: 234.4561, Best ROC AUC: 0.6338169499709398\n",
      "Epoch 3/100 - Mean ROC AUC: 0.6483, Total Train Loss: 130.6652, Total Validation Loss: 247.4876, Best ROC AUC: 0.6482780568012163\n",
      "Epoch 4/100 - Mean ROC AUC: 0.6530, Total Train Loss: 103.3465, Total Validation Loss: 266.8007, Best ROC AUC: 0.6530198578408966\n",
      "Epoch 5/100 - Mean ROC AUC: 0.6544, Total Train Loss: 83.9590, Total Validation Loss: 288.4092, Best ROC AUC: 0.6544351245692062\n",
      "Epoch 6/100 - Mean ROC AUC: 0.6546, Total Train Loss: 69.5630, Total Validation Loss: 310.1919, Best ROC AUC: 0.6545894567356974\n",
      "Epoch 7/100 - Mean ROC AUC: 0.6539, Total Train Loss: 58.4277, Total Validation Loss: 331.1142, Best ROC AUC: 0.6545894567356974\n",
      "Epoch 8/100 - Mean ROC AUC: 0.6530, Total Train Loss: 49.4466, Total Validation Loss: 350.7989, Best ROC AUC: 0.6545894567356974\n",
      "Epoch 9/100 - Mean ROC AUC: 0.6521, Total Train Loss: 42.1363, Total Validation Loss: 370.3705, Best ROC AUC: 0.6545894567356974\n",
      "Epoch 10/100 - Mean ROC AUC: 0.6516, Total Train Loss: 36.2530, Total Validation Loss: 388.4145, Best ROC AUC: 0.6545894567356974\n",
      "Early stopping after 11 epochs. Best ROC AUC: 0.6546 at epoch 6\n",
      "\n",
      "\n",
      "Run 9\n",
      "Epoch 1/100 - Mean ROC AUC: 0.5894, Total Train Loss: 295.8399, Total Validation Loss: 236.8225, Best ROC AUC: 0.5893605382165036\n",
      "Epoch 2/100 - Mean ROC AUC: 0.6364, Total Train Loss: 180.4628, Total Validation Loss: 234.3648, Best ROC AUC: 0.6363663041901995\n",
      "Epoch 3/100 - Mean ROC AUC: 0.6501, Total Train Loss: 130.7342, Total Validation Loss: 247.1993, Best ROC AUC: 0.650063185345657\n",
      "Epoch 4/100 - Mean ROC AUC: 0.6530, Total Train Loss: 102.4535, Total Validation Loss: 265.1915, Best ROC AUC: 0.6529939666281187\n",
      "Epoch 5/100 - Mean ROC AUC: 0.6540, Total Train Loss: 83.0227, Total Validation Loss: 284.8162, Best ROC AUC: 0.6539952117627924\n",
      "Epoch 6/100 - Mean ROC AUC: 0.6544, Total Train Loss: 68.8764, Total Validation Loss: 304.4122, Best ROC AUC: 0.6544451920406513\n",
      "Epoch 7/100 - Mean ROC AUC: 0.6540, Total Train Loss: 57.9401, Total Validation Loss: 323.5593, Best ROC AUC: 0.6544451920406513\n",
      "Epoch 8/100 - Mean ROC AUC: 0.6533, Total Train Loss: 49.0877, Total Validation Loss: 342.4002, Best ROC AUC: 0.6544451920406513\n",
      "Epoch 9/100 - Mean ROC AUC: 0.6525, Total Train Loss: 41.9072, Total Validation Loss: 361.1257, Best ROC AUC: 0.6544451920406513\n",
      "Epoch 10/100 - Mean ROC AUC: 0.6520, Total Train Loss: 35.9749, Total Validation Loss: 379.4419, Best ROC AUC: 0.6544451920406513\n",
      "Early stopping after 11 epochs. Best ROC AUC: 0.6544 at epoch 6\n",
      "\n",
      "\n",
      "Run 10\n",
      "Epoch 1/100 - Mean ROC AUC: 0.5866, Total Train Loss: 291.3689, Total Validation Loss: 235.7469, Best ROC AUC: 0.5866365344464912\n",
      "Epoch 2/100 - Mean ROC AUC: 0.6305, Total Train Loss: 175.1235, Total Validation Loss: 237.0548, Best ROC AUC: 0.6304943485815664\n",
      "Epoch 3/100 - Mean ROC AUC: 0.6460, Total Train Loss: 128.3176, Total Validation Loss: 251.2312, Best ROC AUC: 0.646038591622979\n",
      "Epoch 4/100 - Mean ROC AUC: 0.6516, Total Train Loss: 102.3330, Total Validation Loss: 269.1788, Best ROC AUC: 0.6516283166670251\n",
      "Epoch 5/100 - Mean ROC AUC: 0.6536, Total Train Loss: 83.4116, Total Validation Loss: 288.7338, Best ROC AUC: 0.6536380806189027\n",
      "Epoch 6/100 - Mean ROC AUC: 0.6542, Total Train Loss: 68.6497, Total Validation Loss: 308.9647, Best ROC AUC: 0.6541882124851129\n",
      "Epoch 7/100 - Mean ROC AUC: 0.6541, Total Train Loss: 57.2491, Total Validation Loss: 329.3943, Best ROC AUC: 0.6541882124851129\n",
      "Epoch 8/100 - Mean ROC AUC: 0.6540, Total Train Loss: 48.6004, Total Validation Loss: 349.0069, Best ROC AUC: 0.6541882124851129\n",
      "Epoch 9/100 - Mean ROC AUC: 0.6538, Total Train Loss: 41.7202, Total Validation Loss: 367.1515, Best ROC AUC: 0.6541882124851129\n",
      "Epoch 10/100 - Mean ROC AUC: 0.6536, Total Train Loss: 35.8287, Total Validation Loss: 384.4374, Best ROC AUC: 0.6541882124851129\n",
      "Early stopping after 11 epochs. Best ROC AUC: 0.6542 at epoch 6\n",
      "\n",
      "\n",
      "CPU times: total: 11min 26s\n",
      "Wall time: 2min 53s\n"
     ]
    }
   ],
   "source": [
    "%%time\n",
    "aucs_test_noprop = []\n",
    "for run in range(10):\n",
    "    print(f'Run {run + 1}')\n",
    "    train_losses_per_epoch_test_noprop, losses_per_epoch_test_noprop, mean_roc_aucs_per_epoch_test_noprop, best_epoch_test_noprop = train_all_tasks(\n",
    "        model,\n",
    "        toxcast_features,\n",
    "        toxcast_labels_test,\n",
    "        test_tasks_indices,\n",
    "        save=False,\n",
    "        num_epochs=100,\n",
    "        learning_rate=1e-2,\n",
    "        patience=5,\n",
    "        k=256,\n",
    "        alpha=0,\n",
    "        diffusion_k=1,\n",
    "        propagate_features=False\n",
    "    )\n",
    "    \n",
    "    aucs_test_noprop.append(mean_roc_aucs_per_epoch_test_noprop[best_epoch_test_noprop])\n",
    "    print('\\n')"
   ]
  },
  {
   "cell_type": "markdown",
   "id": "2d754e70-e76c-4c93-8444-eb7f48234e5f",
   "metadata": {},
   "source": [
    "**Test results with feature propagation**"
   ]
  },
  {
   "cell_type": "code",
   "execution_count": 31,
   "id": "e1bbf863-12d4-4a11-9307-5bd1e7be65a0",
   "metadata": {},
   "outputs": [
    {
     "name": "stdout",
     "output_type": "stream",
     "text": [
      "Best Mean Test ROC AUC (FP) = 0.6518±0.0027\n"
     ]
    }
   ],
   "source": [
    "aucs_test_fp = np.array(aucs_test_fp)\n",
    "print(f'Best Mean Test ROC AUC (FP) = {np.mean(aucs_test_fp):.4f}±{np.std(aucs_test_fp):.4f}')"
   ]
  },
  {
   "cell_type": "markdown",
   "id": "317faeeb-7bcd-41c7-a8e9-a681b35dbd36",
   "metadata": {},
   "source": [
    "**Test results without feature propagation**"
   ]
  },
  {
   "cell_type": "code",
   "execution_count": 33,
   "id": "6f1f8b57-ae7f-4e5a-ac16-21aa81002c73",
   "metadata": {},
   "outputs": [
    {
     "name": "stdout",
     "output_type": "stream",
     "text": [
      "Best Mean Test ROC AUC (NO FP) = 0.6552±0.0013\n"
     ]
    }
   ],
   "source": [
    "aucs_test_noprop = np.array(aucs_test_noprop)\n",
    "print(f'Best Mean Test ROC AUC (NO FP) = {np.mean(aucs_test_noprop):.4f}±{np.std(aucs_test_noprop):.4f}')"
   ]
  }
 ],
 "metadata": {
  "accelerator": "GPU",
  "colab": {
   "gpuType": "T4",
   "provenance": []
  },
  "kernelspec": {
   "display_name": "Python 3 (ipykernel)",
   "language": "python",
   "name": "python3"
  },
  "language_info": {
   "codemirror_mode": {
    "name": "ipython",
    "version": 3
   },
   "file_extension": ".py",
   "mimetype": "text/x-python",
   "name": "python",
   "nbconvert_exporter": "python",
   "pygments_lexer": "ipython3",
   "version": "3.9.13"
  }
 },
 "nbformat": 4,
 "nbformat_minor": 5
}
