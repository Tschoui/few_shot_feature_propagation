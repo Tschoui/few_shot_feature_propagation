{
 "cells": [
  {
   "cell_type": "code",
   "execution_count": 1,
   "id": "1ce50f7f-32d4-47b1-af79-55960945fa9b",
   "metadata": {
    "id": "1ce50f7f-32d4-47b1-af79-55960945fa9b"
   },
   "outputs": [],
   "source": [
    "import torch\n",
    "import torch.nn as nn\n",
    "import torch.optim as optim\n",
    "from torch.utils.data import DataLoader, TensorDataset\n",
    "from sklearn.metrics import roc_auc_score\n",
    "import numpy as np\n",
    "import numpy as np\n",
    "import pandas as pd"
   ]
  },
  {
   "cell_type": "code",
   "execution_count": 2,
   "id": "dac08684-9033-4201-b8ce-f2c3d5b972d9",
   "metadata": {
    "id": "dac08684-9033-4201-b8ce-f2c3d5b972d9"
   },
   "outputs": [],
   "source": [
    "device = torch.device('cuda' if torch.cuda.is_available() else 'cpu')"
   ]
  },
  {
   "cell_type": "code",
   "execution_count": 3,
   "id": "kVBuRZgiAhha",
   "metadata": {
    "colab": {
     "base_uri": "https://localhost:8080/"
    },
    "id": "kVBuRZgiAhha",
    "outputId": "f45c2eb7-44f5-414a-9526-81f2ad37494e"
   },
   "outputs": [
    {
     "data": {
      "text/plain": [
       "device(type='cpu')"
      ]
     },
     "execution_count": 3,
     "metadata": {},
     "output_type": "execute_result"
    }
   ],
   "source": [
    "device"
   ]
  },
  {
   "cell_type": "markdown",
   "id": "2a70080b-da37-45c9-9991-e47a8b74e0a0",
   "metadata": {
    "id": "2a70080b-da37-45c9-9991-e47a8b74e0a0"
   },
   "source": [
    "**Load the toxcast dataset**"
   ]
  },
  {
   "cell_type": "code",
   "execution_count": 4,
   "id": "714d9e00-113f-4788-b708-ef7343fd766e",
   "metadata": {
    "id": "714d9e00-113f-4788-b708-ef7343fd766e"
   },
   "outputs": [],
   "source": [
    "loaded_toxcast_features_train_val_test = np.load('../preprocessing/preprocessed_data/toxcast_features_train_val_test.npy', allow_pickle=True).item()\n",
    "\n",
    "loaded_toxcast_ecfp_descr_quantiles_scaled_X_train = loaded_toxcast_features_train_val_test['train']\n",
    "loaded_toxcast_ecfp_descr_quantiles_scaled_X_val = loaded_toxcast_features_train_val_test['validation']\n",
    "loaded_toxcast_ecfp_descr_quantiles_scaled_X_test = loaded_toxcast_features_train_val_test['test']"
   ]
  },
  {
   "cell_type": "code",
   "execution_count": 5,
   "id": "31bff592-b3df-4095-88f7-8a06560845b3",
   "metadata": {
    "id": "31bff592-b3df-4095-88f7-8a06560845b3"
   },
   "outputs": [],
   "source": [
    "toxcast_features = np.concatenate((loaded_toxcast_ecfp_descr_quantiles_scaled_X_train,\n",
    "                                  loaded_toxcast_ecfp_descr_quantiles_scaled_X_val,\n",
    "                                  loaded_toxcast_ecfp_descr_quantiles_scaled_X_test), axis=0)"
   ]
  },
  {
   "cell_type": "code",
   "execution_count": 6,
   "id": "9bf8de71-492a-42c8-834b-0e05af0447e4",
   "metadata": {
    "colab": {
     "base_uri": "https://localhost:8080/"
    },
    "id": "9bf8de71-492a-42c8-834b-0e05af0447e4",
    "outputId": "7b1e13bd-31cb-4fd3-aabd-980f5c429eae"
   },
   "outputs": [
    {
     "data": {
      "text/plain": [
       "(8595, 2248)"
      ]
     },
     "execution_count": 6,
     "metadata": {},
     "output_type": "execute_result"
    }
   ],
   "source": [
    "toxcast_features.shape"
   ]
  },
  {
   "cell_type": "code",
   "execution_count": 7,
   "id": "a948bb78-ea8b-4d38-8ff8-2954a80ca63c",
   "metadata": {
    "id": "a948bb78-ea8b-4d38-8ff8-2954a80ca63c"
   },
   "outputs": [],
   "source": [
    "loaded_toxcast_labels_train_val_test = np.load('../preprocessing/preprocessed_data/toxcast_labels_train_val_test.npy', allow_pickle=True).item()\n",
    "\n",
    "loaded_toxcast_y_train = loaded_toxcast_labels_train_val_test['train']\n",
    "loaded_toxcast_y_val = loaded_toxcast_labels_train_val_test['validation']\n",
    "loaded_toxcast_y_test = loaded_toxcast_labels_train_val_test['test']"
   ]
  },
  {
   "cell_type": "code",
   "execution_count": 8,
   "id": "51db1580-da7a-408a-a3ac-d0898c2102c9",
   "metadata": {
    "id": "51db1580-da7a-408a-a3ac-d0898c2102c9"
   },
   "outputs": [],
   "source": [
    "toxcast_labels = np.concatenate((loaded_toxcast_y_train,\n",
    "                                  loaded_toxcast_y_val,\n",
    "                                  loaded_toxcast_y_test), axis=0)"
   ]
  },
  {
   "cell_type": "code",
   "execution_count": 9,
   "id": "094ca371-7749-4e51-b13f-21d70f84ff5f",
   "metadata": {
    "colab": {
     "base_uri": "https://localhost:8080/"
    },
    "id": "094ca371-7749-4e51-b13f-21d70f84ff5f",
    "outputId": "03d1c10c-4395-4823-d256-d1b0627abce8"
   },
   "outputs": [
    {
     "data": {
      "text/plain": [
       "(8595, 617)"
      ]
     },
     "execution_count": 9,
     "metadata": {},
     "output_type": "execute_result"
    }
   ],
   "source": [
    "toxcast_labels.shape"
   ]
  },
  {
   "cell_type": "markdown",
   "id": "fa67bb9a-33ab-43e9-bd02-908d42f0a9f0",
   "metadata": {
    "id": "fa67bb9a-33ab-43e9-bd02-908d42f0a9f0"
   },
   "source": [
    "**Split the dataset into validation and test sets and create splits for each task**"
   ]
  },
  {
   "cell_type": "code",
   "execution_count": 10,
   "id": "38b53e73-4f73-43ee-ad11-9aa7db1f1131",
   "metadata": {
    "id": "38b53e73-4f73-43ee-ad11-9aa7db1f1131"
   },
   "outputs": [],
   "source": [
    "toxcast_labels_val = toxcast_labels[:,:308]\n",
    "toxcast_labels_test = toxcast_labels[:,308:617]"
   ]
  },
  {
   "cell_type": "code",
   "execution_count": 11,
   "id": "60012fe5-8b89-43f5-8027-1b29d3e0a644",
   "metadata": {
    "colab": {
     "base_uri": "https://localhost:8080/"
    },
    "id": "60012fe5-8b89-43f5-8027-1b29d3e0a644",
    "outputId": "1efb0126-6b38-4360-bf3b-12bb51e42f60"
   },
   "outputs": [
    {
     "data": {
      "text/plain": [
       "((8595, 308), (8595, 309))"
      ]
     },
     "execution_count": 11,
     "metadata": {},
     "output_type": "execute_result"
    }
   ],
   "source": [
    "toxcast_labels_val.shape, toxcast_labels_test.shape"
   ]
  },
  {
   "cell_type": "code",
   "execution_count": 12,
   "id": "3cb0c28f-5c34-40c4-af78-9f6a0904672d",
   "metadata": {
    "id": "3cb0c28f-5c34-40c4-af78-9f6a0904672d",
    "tags": []
   },
   "outputs": [],
   "source": [
    "def split_indices_for_task(task_labels):\n",
    "    active_indices = np.where(task_labels == 1)[0]\n",
    "    inactive_indices = np.where(task_labels == 0)[0]\n",
    "\n",
    "    np.random.seed(42)\n",
    "    selected_active = np.random.choice(active_indices, size=5, replace=False)\n",
    "    selected_inactive = np.random.choice(inactive_indices, size=5, replace=False)\n",
    "\n",
    "    rest_indices = np.setdiff1d(np.arange(task_labels.shape[0]), np.concatenate([selected_active, selected_inactive]))\n",
    "\n",
    "    return selected_active, selected_inactive, rest_indices\n",
    "\n",
    "def process_indices_for_all_tasks(toxcast_labels_val):\n",
    "    all_tasks_indices = []\n",
    "\n",
    "    for task in range(toxcast_labels_val.shape[1]):\n",
    "        task_labels = toxcast_labels_val[:, task]\n",
    "\n",
    "        selected_active, selected_inactive, rest_indices = split_indices_for_task(task_labels)\n",
    "\n",
    "        task_indices = {\n",
    "            \"task\": task,\n",
    "            \"indices_active\": selected_active,\n",
    "            \"indices_inactive\": selected_inactive,\n",
    "            \"indices_rest\": rest_indices\n",
    "        }\n",
    "\n",
    "        all_tasks_indices.append(task_indices)\n",
    "\n",
    "    return all_tasks_indices"
   ]
  },
  {
   "cell_type": "code",
   "execution_count": 13,
   "id": "15668f3d-7a93-4a95-ad9e-8ddadb7fd46c",
   "metadata": {
    "id": "15668f3d-7a93-4a95-ad9e-8ddadb7fd46c"
   },
   "outputs": [],
   "source": [
    "val_tasks_indices = process_indices_for_all_tasks(toxcast_labels_val)\n",
    "test_tasks_indices = process_indices_for_all_tasks(toxcast_labels_test)"
   ]
  },
  {
   "cell_type": "code",
   "execution_count": 14,
   "id": "734d0f02-a5fd-45e1-92bf-dda24538dcb5",
   "metadata": {
    "colab": {
     "base_uri": "https://localhost:8080/"
    },
    "id": "734d0f02-a5fd-45e1-92bf-dda24538dcb5",
    "outputId": "d3106f02-2ff4-458e-f2db-7e9c9e4df9c4"
   },
   "outputs": [
    {
     "data": {
      "text/plain": [
       "{'task': 0,\n",
       " 'indices_active': array([6522, 2862, 1497, 7059, 1526], dtype=int64),\n",
       " 'indices_inactive': array([6568, 1766, 2715, 6455, 3518], dtype=int64),\n",
       " 'indices_rest': array([   0,    1,    2, ..., 8592, 8593, 8594])}"
      ]
     },
     "execution_count": 14,
     "metadata": {},
     "output_type": "execute_result"
    }
   ],
   "source": [
    "val_tasks_indices[0]"
   ]
  },
  {
   "cell_type": "code",
   "execution_count": 15,
   "id": "f4f2fb8a-b380-4fe3-8265-25f58cf01b05",
   "metadata": {
    "colab": {
     "base_uri": "https://localhost:8080/"
    },
    "id": "f4f2fb8a-b380-4fe3-8265-25f58cf01b05",
    "outputId": "f9c1f1cb-3c5c-43b7-9bf4-8710e940c35f"
   },
   "outputs": [
    {
     "data": {
      "text/plain": [
       "{'task': 0,\n",
       " 'indices_active': array([6210, 4636, 6840, 1168, 3190], dtype=int64),\n",
       " 'indices_inactive': array([7281, 1869, 6455, 3755, 1701], dtype=int64),\n",
       " 'indices_rest': array([   0,    1,    2, ..., 8592, 8593, 8594])}"
      ]
     },
     "execution_count": 15,
     "metadata": {},
     "output_type": "execute_result"
    }
   ],
   "source": [
    "test_tasks_indices[0]"
   ]
  },
  {
   "cell_type": "code",
   "execution_count": 16,
   "id": "b50eb4b6-3f58-475c-bf0f-0b7d193e4a2f",
   "metadata": {},
   "outputs": [],
   "source": [
    "toxcast_features = torch.tensor(toxcast_features, dtype=torch.float32).to(device)\n",
    "toxcast_labels_val = torch.tensor(toxcast_labels_val, dtype=torch.float32).to(device)"
   ]
  },
  {
   "cell_type": "markdown",
   "id": "89c024d1-751c-4b21-b8ad-93b638589de2",
   "metadata": {
    "id": "89c024d1-751c-4b21-b8ad-93b638589de2"
   },
   "source": [
    "**Create a new logistic regression model**"
   ]
  },
  {
   "cell_type": "code",
   "execution_count": 17,
   "id": "1fb02a93-ed0f-4297-8229-b4d9882ee91b",
   "metadata": {
    "colab": {
     "base_uri": "https://localhost:8080/"
    },
    "id": "1fb02a93-ed0f-4297-8229-b4d9882ee91b",
    "outputId": "c5970af4-3099-4072-d1db-a01e9ca7bd78"
   },
   "outputs": [
    {
     "data": {
      "text/plain": [
       "<All keys matched successfully>"
      ]
     },
     "execution_count": 17,
     "metadata": {},
     "output_type": "execute_result"
    }
   ],
   "source": [
    "def create_layer(in_size, out_size, activation_function=nn.ReLU, p=0.25):\n",
    "    return nn.Sequential(\n",
    "        nn.AlphaDropout(p=p),\n",
    "        nn.Linear(in_size, out_size),\n",
    "        activation_function()\n",
    "    )\n",
    "\n",
    "\n",
    "class DNN(nn.Module):\n",
    "    def __init__(self, input_layer, hidden_layers, output_layer, activation_function=nn.ReLU, p=0.25):\n",
    "        super().__init__()\n",
    "\n",
    "        self.input_layer = nn.Linear(input_layer, hidden_layers[0])\n",
    "        self.act1 = activation_function()\n",
    "        self.dropout1 = nn.AlphaDropout(p=p)\n",
    "\n",
    "        layers = [create_layer(hl_in, hl_out, activation_function, p) for hl_in, hl_out in zip(hidden_layers, hidden_layers[1:])]\n",
    "\n",
    "        self.hidden_layers = nn.Sequential(*layers)\n",
    "\n",
    "        self.output_layer = nn.Linear(hidden_layers[-1], output_layer)\n",
    "\n",
    "    def forward(self, x):\n",
    "        x = self.dropout1(x)\n",
    "        x = self.act1(self.input_layer(x))\n",
    "        x = self.hidden_layers(x)\n",
    "        x = self.output_layer(x)\n",
    "        return x\n",
    "\n",
    "params = {'input_size': 2248,\n",
    "          'hidden_layers': [1024, 128],\n",
    "          'output_size': 12,\n",
    "          'activation_function': nn.SELU,\n",
    "          'dropout_p': 0.45\n",
    "         }\n",
    "\n",
    "input_size, hidden_layers, output_size, activation_function, dropout_p = params.values()\n",
    "\n",
    "\n",
    "class LRNN(nn.Module):\n",
    "    def __init__(self, input_size):\n",
    "        super().__init__()\n",
    "        self.output_layer = nn.Linear(input_size, 1)\n",
    "        self.sigmoid = nn.Sigmoid()\n",
    "\n",
    "    def forward(self, x):\n",
    "        x = self.output_layer(x)\n",
    "        x = self.sigmoid(x)\n",
    "        return x\n",
    "\n",
    "model = DNN(input_size, hidden_layers, output_size, activation_function, p=dropout_p)\n",
    "model.load_state_dict(torch.load('../pretraining/training/dnn_best_model.pth', map_location=device))"
   ]
  },
  {
   "cell_type": "code",
   "execution_count": 18,
   "id": "481f6a9b-b23c-46bc-96c8-feed3b6bfc65",
   "metadata": {
    "colab": {
     "base_uri": "https://localhost:8080/"
    },
    "id": "481f6a9b-b23c-46bc-96c8-feed3b6bfc65",
    "outputId": "51fe2436-19fe-40f8-ad9e-20f1a0b5b904"
   },
   "outputs": [
    {
     "data": {
      "text/plain": [
       "DNN(\n",
       "  (input_layer): Linear(in_features=2248, out_features=1024, bias=True)\n",
       "  (act1): SELU()\n",
       "  (dropout1): AlphaDropout(p=0.45, inplace=False)\n",
       "  (hidden_layers): Sequential(\n",
       "    (0): Sequential(\n",
       "      (0): AlphaDropout(p=0.45, inplace=False)\n",
       "      (1): Linear(in_features=1024, out_features=128, bias=True)\n",
       "      (2): SELU()\n",
       "    )\n",
       "  )\n",
       "  (output_layer): Linear(in_features=128, out_features=12, bias=True)\n",
       ")"
      ]
     },
     "execution_count": 18,
     "metadata": {},
     "output_type": "execute_result"
    }
   ],
   "source": [
    "model.to(device)"
   ]
  },
  {
   "cell_type": "markdown",
   "id": "5a5a5dfc-3b5c-4eca-ab67-00bdac633d4c",
   "metadata": {
    "id": "5a5a5dfc-3b5c-4eca-ab67-00bdac633d4c"
   },
   "source": [
    "**Feature propagation**"
   ]
  },
  {
   "cell_type": "code",
   "execution_count": 19,
   "id": "fe65703d-2b1e-424e-944f-88ee1a99bd6f",
   "metadata": {
    "id": "fe65703d-2b1e-424e-944f-88ee1a99bd6f"
   },
   "outputs": [],
   "source": [
    "def extract_features(model, features):\n",
    "    model.eval()\n",
    "    with torch.no_grad():\n",
    "        last_hl_output = model.input_layer(features)\n",
    "        last_hl_output = model.act1(last_hl_output)\n",
    "        last_hl_output = model.hidden_layers(last_hl_output)\n",
    "    return last_hl_output\n",
    "\n",
    "def cosine_similarity_matrix(features):\n",
    "    norm_features = features / torch.norm(features, dim=1, keepdim=True)\n",
    "    return torch.mm(norm_features, norm_features.t())\n",
    "\n",
    "def build_graph(features, k=15):\n",
    "    cosine_sim = cosine_similarity_matrix(features)\n",
    "    adjacency_matrix = torch.zeros_like(cosine_sim)\n",
    "\n",
    "    for i in range(cosine_sim.size(0)):\n",
    "        top_k_indices = torch.topk(cosine_sim[i, :], k+1, largest=True, sorted=True).indices\n",
    "        top_k_indices = top_k_indices[top_k_indices != i]\n",
    "        adjacency_matrix[i, top_k_indices] = cosine_sim[i, top_k_indices]\n",
    "\n",
    "    degree_matrix = torch.diag(adjacency_matrix.sum(dim=1))\n",
    "    eps = 1e-7\n",
    "    degree_inv_sqrt = torch.diag(1 / torch.sqrt(torch.diag(degree_matrix) + eps))\n",
    "    normalized_adjacency = torch.mm(torch.mm(degree_inv_sqrt, adjacency_matrix), degree_inv_sqrt)\n",
    "\n",
    "    return normalized_adjacency\n",
    "\n",
    "def feature_propagation(features, normalized_adjacency, alpha=0.75, k=1):\n",
    "    identity_matrix = torch.eye(features.size(0), device=features.device)\n",
    "    diffusion_matrix = torch.matrix_power(alpha * identity_matrix + normalized_adjacency, k)\n",
    "    propagated_features = torch.mm(diffusion_matrix, features)\n",
    "    return propagated_features"
   ]
  },
  {
   "cell_type": "markdown",
   "id": "1b2be285-0e79-4183-bc1d-5e0f8488564e",
   "metadata": {
    "id": "1b2be285-0e79-4183-bc1d-5e0f8488564e"
   },
   "source": [
    "**Train & validation loop**"
   ]
  },
  {
   "cell_type": "code",
   "execution_count": 20,
   "id": "fcb74684-19e0-49b0-9d6f-c7e56bde6911",
   "metadata": {
    "id": "fcb74684-19e0-49b0-9d6f-c7e56bde6911",
    "tags": []
   },
   "outputs": [],
   "source": [
    "def train_validate_task(\n",
    "    lr_model,\n",
    "    train_features_propagated,\n",
    "    train_labels,\n",
    "    val_features_propagated,\n",
    "    val_labels,\n",
    "    optimizer,\n",
    "    criterion\n",
    "):\n",
    "    lr_model.train()\n",
    "    optimizer.zero_grad()\n",
    "    outputs = lr_model(train_features_propagated)\n",
    "    loss = criterion(outputs, train_labels)\n",
    "    loss.backward()\n",
    "    optimizer.step()\n",
    "\n",
    "    lr_model.eval()\n",
    "    with torch.no_grad():\n",
    "        val_outputs = lr_model(val_features_propagated)\n",
    "\n",
    "        valid_mask = val_labels != -1\n",
    "        filtered_val_outputs = val_outputs[valid_mask]\n",
    "        filtered_val_labels = val_labels[valid_mask]\n",
    "\n",
    "        val_loss = criterion(filtered_val_outputs, filtered_val_labels).item()\n",
    "        filtered_val_outputs = filtered_val_outputs.cpu().numpy()\n",
    "        filtered_val_labels = filtered_val_labels.cpu().numpy()\n",
    "\n",
    "    if len(filtered_val_labels) > 0 and len(np.unique(filtered_val_labels)) > 1:\n",
    "        roc_auc = roc_auc_score(filtered_val_labels, filtered_val_outputs)\n",
    "    else:\n",
    "        roc_auc = float('nan')\n",
    "\n",
    "    return loss.item(), val_loss, roc_auc\n",
    "\n",
    "def train_all_tasks(\n",
    "    dnn_model,\n",
    "    toxcast_features,\n",
    "    toxcast_labels_val,\n",
    "    val_tasks_indices,\n",
    "    num_epochs=10,\n",
    "    learning_rate=0.001,\n",
    "    patience=3,\n",
    "    k=10,\n",
    "    alpha=0.5,\n",
    "    diffusion_k=3\n",
    "):\n",
    "    all_features = extract_features(dnn_model, toxcast_features)\n",
    "\n",
    "    normalized_adjacency = build_graph(all_features, k=k)\n",
    "    all_features_propagated = feature_propagation(all_features, normalized_adjacency, alpha=alpha, k=diffusion_k)\n",
    "\n",
    "    all_train_losses_per_epoch = []\n",
    "    all_val_losses_per_epoch = []\n",
    "    mean_roc_aucs_per_epoch = []\n",
    "\n",
    "    best_mean_roc_auc = float('-inf')\n",
    "    best_epoch = -1\n",
    "    no_improvement_counter = 0\n",
    "\n",
    "    best_models = {}\n",
    "\n",
    "    models = {}\n",
    "    optimizers = {}\n",
    "    criterions = {}\n",
    "\n",
    "    for task_indices in val_tasks_indices:\n",
    "        input_size = hidden_layers[-1]\n",
    "        task_model = LRNN(input_size)\n",
    "        task_model.to(device)\n",
    "        optimizer = optim.Adam(task_model.parameters(), lr=learning_rate)\n",
    "\n",
    "        models[task_indices['task']] = task_model\n",
    "        optimizers[task_indices['task']] = optimizer\n",
    "        criterions[task_indices['task']] = nn.BCELoss()\n",
    "\n",
    "    for epoch in range(num_epochs):\n",
    "        epoch_train_losses = []\n",
    "        epoch_val_losses = []\n",
    "        epoch_roc_aucs = []\n",
    "        total_train_loss = 0\n",
    "        total_val_loss = 0\n",
    "\n",
    "        for task_indices in val_tasks_indices:\n",
    "            task_model = models[task_indices['task']]\n",
    "            optimizer = optimizers[task_indices['task']]\n",
    "            criterion = criterions[task_indices['task']]\n",
    "\n",
    "            active_indices = task_indices['indices_active']\n",
    "            inactive_indices = task_indices['indices_inactive']\n",
    "            rest_indices = task_indices['indices_rest']\n",
    "\n",
    "            train_indices = np.concatenate([active_indices, inactive_indices])\n",
    "            train_features_propagated = all_features_propagated[train_indices]\n",
    "            train_labels = toxcast_labels_val[train_indices, task_indices['task']].clone().detach().unsqueeze(1).to(device)\n",
    "\n",
    "            val_features_propagated = all_features_propagated[rest_indices]\n",
    "            val_labels = toxcast_labels_val[rest_indices, task_indices['task']].clone().detach().unsqueeze(1).to(device)\n",
    "\n",
    "            train_loss, val_loss, roc_auc = train_validate_task(\n",
    "                task_model,\n",
    "                train_features_propagated,\n",
    "                train_labels,\n",
    "                val_features_propagated,\n",
    "                val_labels,\n",
    "                optimizer,\n",
    "                criterion\n",
    "            )\n",
    "\n",
    "            epoch_train_losses.append(train_loss)\n",
    "            epoch_val_losses.append(val_loss)\n",
    "            epoch_roc_aucs.append(roc_auc)\n",
    "            total_train_loss += train_loss\n",
    "            total_val_loss += val_loss\n",
    "\n",
    "        mean_roc_auc = np.nanmean(epoch_roc_aucs)\n",
    "\n",
    "        all_train_losses_per_epoch.append(total_train_loss)\n",
    "        all_val_losses_per_epoch.append(total_val_loss)\n",
    "        mean_roc_aucs_per_epoch.append(mean_roc_auc)\n",
    "\n",
    "        if mean_roc_auc > best_mean_roc_auc:\n",
    "            best_mean_roc_auc = mean_roc_auc\n",
    "            best_epoch = epoch\n",
    "            no_improvement_counter = 0\n",
    "\n",
    "            for task_indices in val_tasks_indices:\n",
    "                best_models[task_indices[\"task\"]] = models[task_indices['task']].state_dict()\n",
    "        else:\n",
    "            no_improvement_counter += 1\n",
    "\n",
    "        if no_improvement_counter >= patience:\n",
    "            print(f\"Early stopping after {epoch + 1} epochs. Best ROC AUC: {best_mean_roc_auc:.4f} at epoch {best_epoch + 1}\")\n",
    "            break\n",
    "\n",
    "        print(f'Epoch {epoch + 1}/{num_epochs} - Mean ROC AUC: {mean_roc_auc:.4f}, '\n",
    "              f'Total Train Loss: {total_train_loss:.4f}, '\n",
    "              f'Total Validation Loss: {total_val_loss:.4f}, '\n",
    "              f'Best ROC AUC: {best_mean_roc_auc}')\n",
    "\n",
    "    torch.save(best_models, 'best_models.pth')\n",
    "\n",
    "    return all_train_losses_per_epoch, all_val_losses_per_epoch, mean_roc_aucs_per_epoch, best_epoch"
   ]
  },
  {
   "cell_type": "code",
   "execution_count": 21,
   "id": "337c6588-42a6-4682-aa15-08215365e85d",
   "metadata": {
    "colab": {
     "base_uri": "https://localhost:8080/",
     "height": 391
    },
    "id": "337c6588-42a6-4682-aa15-08215365e85d",
    "outputId": "e769c896-d41b-4f05-ca80-9a0dbcb729c6"
   },
   "outputs": [
    {
     "name": "stdout",
     "output_type": "stream",
     "text": [
      "Epoch 1/100 - Mean ROC AUC: 0.5039, Total Train Loss: 417.6066, Total Validation Loss: 404.4167, Best ROC AUC: 0.5038956563919139\n",
      "Epoch 2/100 - Mean ROC AUC: 0.5109, Total Train Loss: 382.6209, Total Validation Loss: 379.5135, Best ROC AUC: 0.5109273306433202\n",
      "Epoch 3/100 - Mean ROC AUC: 0.5184, Total Train Loss: 350.6402, Total Validation Loss: 357.6307, Best ROC AUC: 0.5183539884782503\n",
      "Epoch 4/100 - Mean ROC AUC: 0.5260, Total Train Loss: 321.7250, Total Validation Loss: 338.7165, Best ROC AUC: 0.5260215773080761\n",
      "Epoch 5/100 - Mean ROC AUC: 0.5339, Total Train Loss: 295.8130, Total Validation Loss: 322.6189, Best ROC AUC: 0.5339078514946941\n",
      "Epoch 6/100 - Mean ROC AUC: 0.5417, Total Train Loss: 272.7526, Total Validation Loss: 309.1247, Best ROC AUC: 0.5417204183367436\n",
      "Epoch 7/100 - Mean ROC AUC: 0.5494, Total Train Loss: 252.3502, Total Validation Loss: 298.0069, Best ROC AUC: 0.5493717058470456\n",
      "Epoch 8/100 - Mean ROC AUC: 0.5566, Total Train Loss: 234.4042, Total Validation Loss: 289.0384, Best ROC AUC: 0.556605465881965\n",
      "Epoch 9/100 - Mean ROC AUC: 0.5636, Total Train Loss: 218.7069, Total Validation Loss: 281.9869, Best ROC AUC: 0.5636122722611916\n",
      "Epoch 10/100 - Mean ROC AUC: 0.5704, Total Train Loss: 205.0291, Total Validation Loss: 276.6103, Best ROC AUC: 0.570367242741894\n",
      "Epoch 11/100 - Mean ROC AUC: 0.5768, Total Train Loss: 193.1132, Total Validation Loss: 272.6579, Best ROC AUC: 0.5768421429145538\n",
      "Epoch 12/100 - Mean ROC AUC: 0.5829, Total Train Loss: 182.6863, Total Validation Loss: 269.8827, Best ROC AUC: 0.5828948895486463\n",
      "Epoch 13/100 - Mean ROC AUC: 0.5884, Total Train Loss: 173.4843, Total Validation Loss: 268.0585, Best ROC AUC: 0.5884075564913405\n",
      "Epoch 14/100 - Mean ROC AUC: 0.5934, Total Train Loss: 165.2718, Total Validation Loss: 266.9920, Best ROC AUC: 0.5933857866502941\n",
      "Epoch 15/100 - Mean ROC AUC: 0.5978, Total Train Loss: 157.8538, Total Validation Loss: 266.5273, Best ROC AUC: 0.5978161523808734\n",
      "Epoch 16/100 - Mean ROC AUC: 0.6018, Total Train Loss: 151.0767, Total Validation Loss: 266.5428, Best ROC AUC: 0.6018074012461788\n",
      "Epoch 17/100 - Mean ROC AUC: 0.6053, Total Train Loss: 144.8248, Total Validation Loss: 266.9447, Best ROC AUC: 0.6053449887868761\n",
      "Epoch 18/100 - Mean ROC AUC: 0.6085, Total Train Loss: 139.0133, Total Validation Loss: 267.6602, Best ROC AUC: 0.608458739825622\n",
      "Epoch 19/100 - Mean ROC AUC: 0.6113, Total Train Loss: 133.5833, Total Validation Loss: 268.6296, Best ROC AUC: 0.6112540196204987\n",
      "Epoch 20/100 - Mean ROC AUC: 0.6137, Total Train Loss: 128.4964, Total Validation Loss: 269.8021, Best ROC AUC: 0.6137013594499788\n",
      "Epoch 21/100 - Mean ROC AUC: 0.6158, Total Train Loss: 123.7295, Total Validation Loss: 271.1359, Best ROC AUC: 0.615808366224111\n",
      "Epoch 22/100 - Mean ROC AUC: 0.6176, Total Train Loss: 119.2676, Total Validation Loss: 272.5955, Best ROC AUC: 0.6176248475679942\n",
      "Epoch 23/100 - Mean ROC AUC: 0.6192, Total Train Loss: 115.0986, Total Validation Loss: 274.1488, Best ROC AUC: 0.6191986207335476\n",
      "Epoch 24/100 - Mean ROC AUC: 0.6206, Total Train Loss: 111.2093, Total Validation Loss: 275.7695, Best ROC AUC: 0.6205667862223547\n",
      "Epoch 25/100 - Mean ROC AUC: 0.6217, Total Train Loss: 107.5835, Total Validation Loss: 277.4331, Best ROC AUC: 0.6217252775854407\n",
      "Epoch 26/100 - Mean ROC AUC: 0.6227, Total Train Loss: 104.2019, Total Validation Loss: 279.1189, Best ROC AUC: 0.6226644149031016\n",
      "Epoch 27/100 - Mean ROC AUC: 0.6234, Total Train Loss: 101.0432, Total Validation Loss: 280.8100, Best ROC AUC: 0.6234459288858291\n",
      "Epoch 28/100 - Mean ROC AUC: 0.6241, Total Train Loss: 98.0857, Total Validation Loss: 282.4939, Best ROC AUC: 0.6240689712647758\n",
      "Epoch 29/100 - Mean ROC AUC: 0.6245, Total Train Loss: 95.3091, Total Validation Loss: 284.1616, Best ROC AUC: 0.6245386470853513\n",
      "Epoch 30/100 - Mean ROC AUC: 0.6249, Total Train Loss: 92.6951, Total Validation Loss: 285.8089, Best ROC AUC: 0.6249266430050994\n",
      "Epoch 31/100 - Mean ROC AUC: 0.6251, Total Train Loss: 90.2275, Total Validation Loss: 287.4323, Best ROC AUC: 0.6251497555278361\n",
      "Epoch 32/100 - Mean ROC AUC: 0.6253, Total Train Loss: 87.8920, Total Validation Loss: 289.0338, Best ROC AUC: 0.6252941712138218\n",
      "Epoch 33/100 - Mean ROC AUC: 0.6253, Total Train Loss: 85.6757, Total Validation Loss: 290.6140, Best ROC AUC: 0.6253212463637582\n",
      "Epoch 34/100 - Mean ROC AUC: 0.6253, Total Train Loss: 83.5674, Total Validation Loss: 292.1757, Best ROC AUC: 0.625322744740063\n",
      "Epoch 35/100 - Mean ROC AUC: 0.6253, Total Train Loss: 81.5574, Total Validation Loss: 293.7226, Best ROC AUC: 0.625322744740063\n",
      "Epoch 36/100 - Mean ROC AUC: 0.6252, Total Train Loss: 79.6381, Total Validation Loss: 295.3170, Best ROC AUC: 0.625322744740063\n",
      "Epoch 37/100 - Mean ROC AUC: 0.6250, Total Train Loss: 77.8034, Total Validation Loss: 296.8441, Best ROC AUC: 0.625322744740063\n",
      "Epoch 38/100 - Mean ROC AUC: 0.6249, Total Train Loss: 76.0484, Total Validation Loss: 298.4229, Best ROC AUC: 0.625322744740063\n",
      "Early stopping after 39 epochs. Best ROC AUC: 0.6253 at epoch 34\n",
      "CPU times: total: 4min 16s\n",
      "Wall time: 1min 25s\n"
     ]
    }
   ],
   "source": [
    "%%time\n",
    "train_losses_per_epoch, val_losses_per_epoch, mean_roc_aucs_per_epoch, best_epoch = train_all_tasks(\n",
    "    model,\n",
    "    toxcast_features,\n",
    "    toxcast_labels_val,\n",
    "    val_tasks_indices,\n",
    "    num_epochs=100,\n",
    "    learning_rate=1e-3,\n",
    "    patience=5,\n",
    "    k=15,\n",
    "    alpha=0.75,\n",
    "    diffusion_k=1\n",
    ")"
   ]
  }
 ],
 "metadata": {
  "accelerator": "GPU",
  "colab": {
   "gpuType": "T4",
   "provenance": []
  },
  "kernelspec": {
   "display_name": "Python 3 (ipykernel)",
   "language": "python",
   "name": "python3"
  },
  "language_info": {
   "codemirror_mode": {
    "name": "ipython",
    "version": 3
   },
   "file_extension": ".py",
   "mimetype": "text/x-python",
   "name": "python",
   "nbconvert_exporter": "python",
   "pygments_lexer": "ipython3",
   "version": "3.9.13"
  }
 },
 "nbformat": 4,
 "nbformat_minor": 5
}
