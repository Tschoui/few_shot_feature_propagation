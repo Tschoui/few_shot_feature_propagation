{
 "cells": [
  {
   "cell_type": "code",
   "execution_count": 1,
   "id": "1ce50f7f-32d4-47b1-af79-55960945fa9b",
   "metadata": {
    "id": "1ce50f7f-32d4-47b1-af79-55960945fa9b"
   },
   "outputs": [],
   "source": [
    "import torch\n",
    "import torch.nn as nn\n",
    "import torch.optim as optim\n",
    "from torch.utils.data import DataLoader, TensorDataset\n",
    "from sklearn.metrics import roc_auc_score\n",
    "import numpy as np\n",
    "import numpy as np\n",
    "import pandas as pd\n",
    "import matplotlib.pyplot as plt"
   ]
  },
  {
   "cell_type": "code",
   "execution_count": 2,
   "id": "dac08684-9033-4201-b8ce-f2c3d5b972d9",
   "metadata": {
    "id": "dac08684-9033-4201-b8ce-f2c3d5b972d9"
   },
   "outputs": [],
   "source": [
    "device = torch.device('cuda' if torch.cuda.is_available() else 'cpu')"
   ]
  },
  {
   "cell_type": "code",
   "execution_count": 3,
   "id": "kVBuRZgiAhha",
   "metadata": {
    "colab": {
     "base_uri": "https://localhost:8080/"
    },
    "id": "kVBuRZgiAhha",
    "outputId": "f45c2eb7-44f5-414a-9526-81f2ad37494e"
   },
   "outputs": [
    {
     "data": {
      "text/plain": [
       "device(type='cpu')"
      ]
     },
     "execution_count": 3,
     "metadata": {},
     "output_type": "execute_result"
    }
   ],
   "source": [
    "device"
   ]
  },
  {
   "cell_type": "markdown",
   "id": "2a70080b-da37-45c9-9991-e47a8b74e0a0",
   "metadata": {
    "id": "2a70080b-da37-45c9-9991-e47a8b74e0a0"
   },
   "source": [
    "**Load the toxcast dataset**"
   ]
  },
  {
   "cell_type": "code",
   "execution_count": 4,
   "id": "714d9e00-113f-4788-b708-ef7343fd766e",
   "metadata": {
    "id": "714d9e00-113f-4788-b708-ef7343fd766e"
   },
   "outputs": [],
   "source": [
    "loaded_toxcast_features_train_val_test = np.load('../preprocessing/preprocessed_data/toxcast_features_train_val_test.npy', allow_pickle=True).item()\n",
    "\n",
    "loaded_toxcast_ecfp_descr_quantiles_scaled_X_train = loaded_toxcast_features_train_val_test['train']\n",
    "loaded_toxcast_ecfp_descr_quantiles_scaled_X_val = loaded_toxcast_features_train_val_test['validation']\n",
    "loaded_toxcast_ecfp_descr_quantiles_scaled_X_test = loaded_toxcast_features_train_val_test['test']"
   ]
  },
  {
   "cell_type": "code",
   "execution_count": 5,
   "id": "31bff592-b3df-4095-88f7-8a06560845b3",
   "metadata": {
    "id": "31bff592-b3df-4095-88f7-8a06560845b3"
   },
   "outputs": [],
   "source": [
    "toxcast_features = np.concatenate((loaded_toxcast_ecfp_descr_quantiles_scaled_X_train,\n",
    "                                  loaded_toxcast_ecfp_descr_quantiles_scaled_X_val,\n",
    "                                  loaded_toxcast_ecfp_descr_quantiles_scaled_X_test), axis=0)"
   ]
  },
  {
   "cell_type": "code",
   "execution_count": 6,
   "id": "9bf8de71-492a-42c8-834b-0e05af0447e4",
   "metadata": {
    "colab": {
     "base_uri": "https://localhost:8080/"
    },
    "id": "9bf8de71-492a-42c8-834b-0e05af0447e4",
    "outputId": "7b1e13bd-31cb-4fd3-aabd-980f5c429eae"
   },
   "outputs": [
    {
     "data": {
      "text/plain": [
       "(8595, 2248)"
      ]
     },
     "execution_count": 6,
     "metadata": {},
     "output_type": "execute_result"
    }
   ],
   "source": [
    "toxcast_features.shape"
   ]
  },
  {
   "cell_type": "code",
   "execution_count": 7,
   "id": "a948bb78-ea8b-4d38-8ff8-2954a80ca63c",
   "metadata": {
    "id": "a948bb78-ea8b-4d38-8ff8-2954a80ca63c"
   },
   "outputs": [],
   "source": [
    "loaded_toxcast_labels_train_val_test = np.load('../preprocessing/preprocessed_data/toxcast_labels_train_val_test.npy', allow_pickle=True).item()\n",
    "\n",
    "loaded_toxcast_y_train = loaded_toxcast_labels_train_val_test['train']\n",
    "loaded_toxcast_y_val = loaded_toxcast_labels_train_val_test['validation']\n",
    "loaded_toxcast_y_test = loaded_toxcast_labels_train_val_test['test']"
   ]
  },
  {
   "cell_type": "code",
   "execution_count": 8,
   "id": "51db1580-da7a-408a-a3ac-d0898c2102c9",
   "metadata": {
    "id": "51db1580-da7a-408a-a3ac-d0898c2102c9"
   },
   "outputs": [],
   "source": [
    "toxcast_labels = np.concatenate((loaded_toxcast_y_train,\n",
    "                                  loaded_toxcast_y_val,\n",
    "                                  loaded_toxcast_y_test), axis=0)"
   ]
  },
  {
   "cell_type": "code",
   "execution_count": 9,
   "id": "094ca371-7749-4e51-b13f-21d70f84ff5f",
   "metadata": {
    "colab": {
     "base_uri": "https://localhost:8080/"
    },
    "id": "094ca371-7749-4e51-b13f-21d70f84ff5f",
    "outputId": "03d1c10c-4395-4823-d256-d1b0627abce8"
   },
   "outputs": [
    {
     "data": {
      "text/plain": [
       "(8595, 617)"
      ]
     },
     "execution_count": 9,
     "metadata": {},
     "output_type": "execute_result"
    }
   ],
   "source": [
    "toxcast_labels.shape"
   ]
  },
  {
   "cell_type": "markdown",
   "id": "fa67bb9a-33ab-43e9-bd02-908d42f0a9f0",
   "metadata": {
    "id": "fa67bb9a-33ab-43e9-bd02-908d42f0a9f0"
   },
   "source": [
    "**Split the dataset into validation and test sets and create splits for each task**"
   ]
  },
  {
   "cell_type": "code",
   "execution_count": 10,
   "id": "38b53e73-4f73-43ee-ad11-9aa7db1f1131",
   "metadata": {
    "id": "38b53e73-4f73-43ee-ad11-9aa7db1f1131"
   },
   "outputs": [],
   "source": [
    "toxcast_labels_val = toxcast_labels[:,:308]\n",
    "toxcast_labels_test = toxcast_labels[:,308:617]"
   ]
  },
  {
   "cell_type": "code",
   "execution_count": 11,
   "id": "60012fe5-8b89-43f5-8027-1b29d3e0a644",
   "metadata": {
    "colab": {
     "base_uri": "https://localhost:8080/"
    },
    "id": "60012fe5-8b89-43f5-8027-1b29d3e0a644",
    "outputId": "1efb0126-6b38-4360-bf3b-12bb51e42f60"
   },
   "outputs": [
    {
     "data": {
      "text/plain": [
       "((8595, 308), (8595, 309))"
      ]
     },
     "execution_count": 11,
     "metadata": {},
     "output_type": "execute_result"
    }
   ],
   "source": [
    "toxcast_labels_val.shape, toxcast_labels_test.shape"
   ]
  },
  {
   "cell_type": "code",
   "execution_count": 12,
   "id": "3cb0c28f-5c34-40c4-af78-9f6a0904672d",
   "metadata": {
    "id": "3cb0c28f-5c34-40c4-af78-9f6a0904672d",
    "tags": []
   },
   "outputs": [],
   "source": [
    "def split_indices_for_task(task_labels):\n",
    "    active_indices = np.where(task_labels == 1)[0]\n",
    "    inactive_indices = np.where(task_labels == 0)[0]\n",
    "\n",
    "    np.random.seed(42)\n",
    "    selected_active = np.random.choice(active_indices, size=5, replace=False)\n",
    "    selected_inactive = np.random.choice(inactive_indices, size=5, replace=False)\n",
    "\n",
    "    rest_indices = np.setdiff1d(np.arange(task_labels.shape[0]), np.concatenate([selected_active, selected_inactive]))\n",
    "\n",
    "    return selected_active, selected_inactive, rest_indices\n",
    "\n",
    "def process_indices_for_all_tasks(toxcast_labels_val):\n",
    "    all_tasks_indices = []\n",
    "\n",
    "    for task in range(toxcast_labels_val.shape[1]):\n",
    "        task_labels = toxcast_labels_val[:, task]\n",
    "\n",
    "        selected_active, selected_inactive, rest_indices = split_indices_for_task(task_labels)\n",
    "\n",
    "        task_indices = {\n",
    "            \"task\": task,\n",
    "            \"indices_active\": selected_active,\n",
    "            \"indices_inactive\": selected_inactive,\n",
    "            \"indices_rest\": rest_indices\n",
    "        }\n",
    "\n",
    "        all_tasks_indices.append(task_indices)\n",
    "\n",
    "    return all_tasks_indices"
   ]
  },
  {
   "cell_type": "code",
   "execution_count": 13,
   "id": "15668f3d-7a93-4a95-ad9e-8ddadb7fd46c",
   "metadata": {
    "id": "15668f3d-7a93-4a95-ad9e-8ddadb7fd46c"
   },
   "outputs": [],
   "source": [
    "val_tasks_indices = process_indices_for_all_tasks(toxcast_labels_val)\n",
    "test_tasks_indices = process_indices_for_all_tasks(toxcast_labels_test)"
   ]
  },
  {
   "cell_type": "code",
   "execution_count": 14,
   "id": "734d0f02-a5fd-45e1-92bf-dda24538dcb5",
   "metadata": {
    "colab": {
     "base_uri": "https://localhost:8080/"
    },
    "id": "734d0f02-a5fd-45e1-92bf-dda24538dcb5",
    "outputId": "d3106f02-2ff4-458e-f2db-7e9c9e4df9c4"
   },
   "outputs": [
    {
     "data": {
      "text/plain": [
       "{'task': 0,\n",
       " 'indices_active': array([6522, 2862, 1497, 7059, 1526], dtype=int64),\n",
       " 'indices_inactive': array([6568, 1766, 2715, 6455, 3518], dtype=int64),\n",
       " 'indices_rest': array([   0,    1,    2, ..., 8592, 8593, 8594])}"
      ]
     },
     "execution_count": 14,
     "metadata": {},
     "output_type": "execute_result"
    }
   ],
   "source": [
    "val_tasks_indices[0]"
   ]
  },
  {
   "cell_type": "code",
   "execution_count": 15,
   "id": "f4f2fb8a-b380-4fe3-8265-25f58cf01b05",
   "metadata": {
    "colab": {
     "base_uri": "https://localhost:8080/"
    },
    "id": "f4f2fb8a-b380-4fe3-8265-25f58cf01b05",
    "outputId": "f9c1f1cb-3c5c-43b7-9bf4-8710e940c35f"
   },
   "outputs": [
    {
     "data": {
      "text/plain": [
       "{'task': 0,\n",
       " 'indices_active': array([6210, 4636, 6840, 1168, 3190], dtype=int64),\n",
       " 'indices_inactive': array([7281, 1869, 6455, 3755, 1701], dtype=int64),\n",
       " 'indices_rest': array([   0,    1,    2, ..., 8592, 8593, 8594])}"
      ]
     },
     "execution_count": 15,
     "metadata": {},
     "output_type": "execute_result"
    }
   ],
   "source": [
    "test_tasks_indices[0]"
   ]
  },
  {
   "cell_type": "code",
   "execution_count": 16,
   "id": "b50eb4b6-3f58-475c-bf0f-0b7d193e4a2f",
   "metadata": {},
   "outputs": [],
   "source": [
    "toxcast_features = torch.tensor(toxcast_features, dtype=torch.float32).to(device)\n",
    "toxcast_labels_val = torch.tensor(toxcast_labels_val, dtype=torch.float32).to(device)"
   ]
  },
  {
   "cell_type": "markdown",
   "id": "89c024d1-751c-4b21-b8ad-93b638589de2",
   "metadata": {
    "id": "89c024d1-751c-4b21-b8ad-93b638589de2"
   },
   "source": [
    "**Create a new logistic regression model**"
   ]
  },
  {
   "cell_type": "code",
   "execution_count": 17,
   "id": "1fb02a93-ed0f-4297-8229-b4d9882ee91b",
   "metadata": {
    "colab": {
     "base_uri": "https://localhost:8080/"
    },
    "id": "1fb02a93-ed0f-4297-8229-b4d9882ee91b",
    "outputId": "c5970af4-3099-4072-d1db-a01e9ca7bd78"
   },
   "outputs": [
    {
     "data": {
      "text/plain": [
       "<All keys matched successfully>"
      ]
     },
     "execution_count": 17,
     "metadata": {},
     "output_type": "execute_result"
    }
   ],
   "source": [
    "def create_layer(in_size, out_size, activation_function=nn.ReLU, p=0.25):\n",
    "    return nn.Sequential(\n",
    "        nn.AlphaDropout(p=p),\n",
    "        nn.Linear(in_size, out_size),\n",
    "        activation_function()\n",
    "    )\n",
    "\n",
    "\n",
    "class DNN(nn.Module):\n",
    "    def __init__(self, input_layer, hidden_layers, output_layer, activation_function=nn.ReLU, p=0.25):\n",
    "        super().__init__()\n",
    "\n",
    "        self.input_layer = nn.Linear(input_layer, hidden_layers[0])\n",
    "        self.act1 = activation_function()\n",
    "        self.dropout1 = nn.AlphaDropout(p=p)\n",
    "\n",
    "        layers = [create_layer(hl_in, hl_out, activation_function, p) for hl_in, hl_out in zip(hidden_layers, hidden_layers[1:])]\n",
    "\n",
    "        self.hidden_layers = nn.Sequential(*layers)\n",
    "\n",
    "        self.output_layer = nn.Linear(hidden_layers[-1], output_layer)\n",
    "\n",
    "    def forward(self, x):\n",
    "        x = self.dropout1(x)\n",
    "        x = self.act1(self.input_layer(x))\n",
    "        x = self.hidden_layers(x)\n",
    "        x = self.output_layer(x)\n",
    "        return x\n",
    "\n",
    "params = {'input_size': 2248,\n",
    "          'hidden_layers': [1024, 128],\n",
    "          'output_size': 12,\n",
    "          'activation_function': nn.SELU,\n",
    "          'dropout_p': 0.45\n",
    "         }\n",
    "\n",
    "input_size, hidden_layers, output_size, activation_function, dropout_p = params.values()\n",
    "\n",
    "\n",
    "class LRNN(nn.Module):\n",
    "    def __init__(self, input_size):\n",
    "        super().__init__()\n",
    "        self.output_layer = nn.Linear(input_size, 1)\n",
    "        self.sigmoid = nn.Sigmoid()\n",
    "\n",
    "    def forward(self, x):\n",
    "        x = self.output_layer(x)\n",
    "        x = self.sigmoid(x)\n",
    "        return x\n",
    "\n",
    "model = DNN(input_size, hidden_layers, output_size, activation_function, p=dropout_p)\n",
    "model.load_state_dict(torch.load('../pretraining/training/dnn_best_model.pth', map_location=device))"
   ]
  },
  {
   "cell_type": "code",
   "execution_count": 18,
   "id": "481f6a9b-b23c-46bc-96c8-feed3b6bfc65",
   "metadata": {
    "colab": {
     "base_uri": "https://localhost:8080/"
    },
    "id": "481f6a9b-b23c-46bc-96c8-feed3b6bfc65",
    "outputId": "51fe2436-19fe-40f8-ad9e-20f1a0b5b904"
   },
   "outputs": [
    {
     "data": {
      "text/plain": [
       "DNN(\n",
       "  (input_layer): Linear(in_features=2248, out_features=1024, bias=True)\n",
       "  (act1): SELU()\n",
       "  (dropout1): AlphaDropout(p=0.45, inplace=False)\n",
       "  (hidden_layers): Sequential(\n",
       "    (0): Sequential(\n",
       "      (0): AlphaDropout(p=0.45, inplace=False)\n",
       "      (1): Linear(in_features=1024, out_features=128, bias=True)\n",
       "      (2): SELU()\n",
       "    )\n",
       "  )\n",
       "  (output_layer): Linear(in_features=128, out_features=12, bias=True)\n",
       ")"
      ]
     },
     "execution_count": 18,
     "metadata": {},
     "output_type": "execute_result"
    }
   ],
   "source": [
    "model.to(device)"
   ]
  },
  {
   "cell_type": "markdown",
   "id": "5a5a5dfc-3b5c-4eca-ab67-00bdac633d4c",
   "metadata": {
    "id": "5a5a5dfc-3b5c-4eca-ab67-00bdac633d4c"
   },
   "source": [
    "**Feature propagation**"
   ]
  },
  {
   "cell_type": "code",
   "execution_count": 19,
   "id": "fe65703d-2b1e-424e-944f-88ee1a99bd6f",
   "metadata": {
    "id": "fe65703d-2b1e-424e-944f-88ee1a99bd6f"
   },
   "outputs": [],
   "source": [
    "def extract_features(model, features):\n",
    "    model.eval()\n",
    "    with torch.no_grad():\n",
    "        last_hl_output = model.input_layer(features)\n",
    "        last_hl_output = model.act1(last_hl_output)\n",
    "        last_hl_output = model.hidden_layers(last_hl_output)\n",
    "    return last_hl_output\n",
    "\n",
    "def cosine_similarity_matrix(features):\n",
    "    norm_features = features / torch.norm(features, dim=1, keepdim=True)\n",
    "    return torch.mm(norm_features, norm_features.t())\n",
    "\n",
    "def build_graph(features, k=15):\n",
    "    cosine_sim = cosine_similarity_matrix(features)\n",
    "    adjacency_matrix = torch.zeros_like(cosine_sim)\n",
    "\n",
    "    for i in range(cosine_sim.size(0)):\n",
    "        top_k_indices = torch.topk(cosine_sim[i, :], k+1, largest=True, sorted=True).indices\n",
    "        top_k_indices = top_k_indices[top_k_indices != i]\n",
    "        adjacency_matrix[i, top_k_indices] = cosine_sim[i, top_k_indices]\n",
    "\n",
    "    degree_matrix = torch.diag(adjacency_matrix.sum(dim=1))\n",
    "    eps = 1e-7\n",
    "    degree_inv_sqrt = torch.diag(1 / torch.sqrt(torch.diag(degree_matrix) + eps))\n",
    "    normalized_adjacency = torch.mm(torch.mm(degree_inv_sqrt, adjacency_matrix), degree_inv_sqrt)\n",
    "\n",
    "    return normalized_adjacency\n",
    "\n",
    "def feature_propagation(features, normalized_adjacency, alpha=0.75, k=1):\n",
    "    identity_matrix = torch.eye(features.size(0), device=features.device)\n",
    "    diffusion_matrix = torch.matrix_power(alpha * identity_matrix + normalized_adjacency, k)\n",
    "    propagated_features = torch.mm(diffusion_matrix, features)\n",
    "    return propagated_features"
   ]
  },
  {
   "cell_type": "markdown",
   "id": "1b2be285-0e79-4183-bc1d-5e0f8488564e",
   "metadata": {
    "id": "1b2be285-0e79-4183-bc1d-5e0f8488564e"
   },
   "source": [
    "**Train & validation loop**"
   ]
  },
  {
   "cell_type": "code",
   "execution_count": 20,
   "id": "fcb74684-19e0-49b0-9d6f-c7e56bde6911",
   "metadata": {
    "id": "fcb74684-19e0-49b0-9d6f-c7e56bde6911",
    "tags": []
   },
   "outputs": [],
   "source": [
    "def train_validate_task(\n",
    "    lr_model,\n",
    "    train_features_propagated,\n",
    "    train_labels,\n",
    "    val_features_propagated,\n",
    "    val_labels,\n",
    "    optimizer,\n",
    "    criterion\n",
    "):\n",
    "    lr_model.train()\n",
    "    optimizer.zero_grad()\n",
    "    outputs = lr_model(train_features_propagated)\n",
    "    loss = criterion(outputs, train_labels)\n",
    "    loss.backward()\n",
    "    optimizer.step()\n",
    "\n",
    "    lr_model.eval()\n",
    "    with torch.no_grad():\n",
    "        val_outputs = lr_model(val_features_propagated)\n",
    "\n",
    "        valid_mask = val_labels != -1\n",
    "        filtered_val_outputs = val_outputs[valid_mask]\n",
    "        filtered_val_labels = val_labels[valid_mask]\n",
    "\n",
    "        val_loss = criterion(filtered_val_outputs, filtered_val_labels).item()\n",
    "        filtered_val_outputs = filtered_val_outputs.cpu().numpy()\n",
    "        filtered_val_labels = filtered_val_labels.cpu().numpy()\n",
    "\n",
    "    if len(filtered_val_labels) > 0 and len(np.unique(filtered_val_labels)) > 1:\n",
    "        roc_auc = roc_auc_score(filtered_val_labels, filtered_val_outputs)\n",
    "    else:\n",
    "        roc_auc = float('nan')\n",
    "\n",
    "    return loss.item(), val_loss, roc_auc\n",
    "\n",
    "def train_all_tasks(\n",
    "    dnn_model,\n",
    "    toxcast_features,\n",
    "    toxcast_labels_val,\n",
    "    val_tasks_indices,\n",
    "    num_epochs=10,\n",
    "    learning_rate=0.001,\n",
    "    patience=3,\n",
    "    k=10,\n",
    "    alpha=0.5,\n",
    "    diffusion_k=3\n",
    "):\n",
    "    all_features = extract_features(dnn_model, toxcast_features)\n",
    "\n",
    "    normalized_adjacency = build_graph(all_features, k=k)\n",
    "    all_features_propagated = feature_propagation(all_features, normalized_adjacency, alpha=alpha, k=diffusion_k)\n",
    "\n",
    "    all_train_losses_per_epoch = []\n",
    "    all_val_losses_per_epoch = []\n",
    "    mean_roc_aucs_per_epoch = []\n",
    "\n",
    "    best_mean_roc_auc = float('-inf')\n",
    "    best_epoch = -1\n",
    "    no_improvement_counter = 0\n",
    "\n",
    "    best_models = {}\n",
    "\n",
    "    models = {}\n",
    "    optimizers = {}\n",
    "    criterions = {}\n",
    "\n",
    "    for task_indices in val_tasks_indices:\n",
    "        input_size = hidden_layers[-1]\n",
    "        task_model = LRNN(input_size)\n",
    "        task_model.to(device)\n",
    "        optimizer = optim.Adam(task_model.parameters(), lr=learning_rate)\n",
    "\n",
    "        models[task_indices['task']] = task_model\n",
    "        optimizers[task_indices['task']] = optimizer\n",
    "        criterions[task_indices['task']] = nn.BCELoss()\n",
    "\n",
    "    for epoch in range(num_epochs):\n",
    "        epoch_train_losses = []\n",
    "        epoch_val_losses = []\n",
    "        epoch_roc_aucs = []\n",
    "        total_train_loss = 0\n",
    "        total_val_loss = 0\n",
    "\n",
    "        for task_indices in val_tasks_indices:\n",
    "            task_model = models[task_indices['task']]\n",
    "            optimizer = optimizers[task_indices['task']]\n",
    "            criterion = criterions[task_indices['task']]\n",
    "\n",
    "            active_indices = task_indices['indices_active']\n",
    "            inactive_indices = task_indices['indices_inactive']\n",
    "            rest_indices = task_indices['indices_rest']\n",
    "\n",
    "            train_indices = np.concatenate([active_indices, inactive_indices])\n",
    "            train_features_propagated = all_features_propagated[train_indices]\n",
    "            train_labels = toxcast_labels_val[train_indices, task_indices['task']].clone().detach().unsqueeze(1)\n",
    "\n",
    "            val_features_propagated = all_features_propagated[rest_indices]\n",
    "            val_labels = toxcast_labels_val[rest_indices, task_indices['task']].clone().detach().unsqueeze(1)\n",
    "\n",
    "            train_loss, val_loss, roc_auc = train_validate_task(\n",
    "                task_model,\n",
    "                train_features_propagated,\n",
    "                train_labels,\n",
    "                val_features_propagated,\n",
    "                val_labels,\n",
    "                optimizer,\n",
    "                criterion\n",
    "            )\n",
    "\n",
    "            epoch_train_losses.append(train_loss)\n",
    "            epoch_val_losses.append(val_loss)\n",
    "            epoch_roc_aucs.append(roc_auc)\n",
    "            total_train_loss += train_loss\n",
    "            total_val_loss += val_loss\n",
    "\n",
    "        mean_roc_auc = np.nanmean(epoch_roc_aucs)\n",
    "\n",
    "        all_train_losses_per_epoch.append(total_train_loss)\n",
    "        all_val_losses_per_epoch.append(total_val_loss)\n",
    "        mean_roc_aucs_per_epoch.append(mean_roc_auc)\n",
    "\n",
    "        if mean_roc_auc > best_mean_roc_auc:\n",
    "            best_mean_roc_auc = mean_roc_auc\n",
    "            best_epoch = epoch\n",
    "            no_improvement_counter = 0\n",
    "\n",
    "            for task_indices in val_tasks_indices:\n",
    "                best_models[task_indices[\"task\"]] = models[task_indices['task']].state_dict()\n",
    "        else:\n",
    "            no_improvement_counter += 1\n",
    "\n",
    "        if no_improvement_counter >= patience:\n",
    "            print(f\"Early stopping after {epoch + 1} epochs. Best ROC AUC: {best_mean_roc_auc:.4f} at epoch {best_epoch + 1}\")\n",
    "            break\n",
    "\n",
    "        print(f'Epoch {epoch + 1}/{num_epochs} - Mean ROC AUC: {mean_roc_auc:.4f}, '\n",
    "              f'Total Train Loss: {total_train_loss:.4f}, '\n",
    "              f'Total Validation Loss: {total_val_loss:.4f}, '\n",
    "              f'Best ROC AUC: {best_mean_roc_auc}')\n",
    "\n",
    "    torch.save(best_models, 'best_models.pth')\n",
    "\n",
    "    return all_train_losses_per_epoch, all_val_losses_per_epoch, mean_roc_aucs_per_epoch, best_epoch"
   ]
  },
  {
   "cell_type": "code",
   "execution_count": 21,
   "id": "337c6588-42a6-4682-aa15-08215365e85d",
   "metadata": {
    "colab": {
     "base_uri": "https://localhost:8080/",
     "height": 391
    },
    "id": "337c6588-42a6-4682-aa15-08215365e85d",
    "outputId": "e769c896-d41b-4f05-ca80-9a0dbcb729c6"
   },
   "outputs": [
    {
     "name": "stdout",
     "output_type": "stream",
     "text": [
      "Epoch 1/100 - Mean ROC AUC: 0.4951, Total Train Loss: 394.3702, Total Validation Loss: 372.7630, Best ROC AUC: 0.4950768075272666\n",
      "Epoch 2/100 - Mean ROC AUC: 0.5033, Total Train Loss: 363.9606, Total Validation Loss: 349.9435, Best ROC AUC: 0.5033353433276959\n",
      "Epoch 3/100 - Mean ROC AUC: 0.5121, Total Train Loss: 336.0541, Total Validation Loss: 329.6813, Best ROC AUC: 0.5120533180440365\n",
      "Epoch 4/100 - Mean ROC AUC: 0.5211, Total Train Loss: 310.7032, Total Validation Loss: 311.9880, Best ROC AUC: 0.5210907777747646\n",
      "Epoch 5/100 - Mean ROC AUC: 0.5302, Total Train Loss: 287.8719, Total Validation Loss: 296.7975, Best ROC AUC: 0.5302345575579097\n",
      "Epoch 6/100 - Mean ROC AUC: 0.5393, Total Train Loss: 267.4480, Total Validation Loss: 283.9834, Best ROC AUC: 0.5392863087457844\n",
      "Epoch 7/100 - Mean ROC AUC: 0.5482, Total Train Loss: 249.2673, Total Validation Loss: 273.3842, Best ROC AUC: 0.5482258145005627\n",
      "Epoch 8/100 - Mean ROC AUC: 0.5566, Total Train Loss: 233.1334, Total Validation Loss: 264.8220, Best ROC AUC: 0.5566034300283949\n",
      "Epoch 9/100 - Mean ROC AUC: 0.5644, Total Train Loss: 218.8372, Total Validation Loss: 258.1063, Best ROC AUC: 0.5644094120693736\n",
      "Epoch 10/100 - Mean ROC AUC: 0.5717, Total Train Loss: 206.1740, Total Validation Loss: 253.0327, Best ROC AUC: 0.5717426082525849\n",
      "Epoch 11/100 - Mean ROC AUC: 0.5784, Total Train Loss: 194.9539, Total Validation Loss: 249.3890, Best ROC AUC: 0.5784407270454157\n",
      "Epoch 12/100 - Mean ROC AUC: 0.5846, Total Train Loss: 185.0005, Total Validation Loss: 246.9633, Best ROC AUC: 0.5846149238045014\n",
      "Epoch 13/100 - Mean ROC AUC: 0.5903, Total Train Loss: 176.1479, Total Validation Loss: 245.5503, Best ROC AUC: 0.5902857736012934\n",
      "Epoch 14/100 - Mean ROC AUC: 0.5955, Total Train Loss: 168.2402, Total Validation Loss: 244.9575, Best ROC AUC: 0.5954804264243279\n",
      "Epoch 15/100 - Mean ROC AUC: 0.6001, Total Train Loss: 161.1353, Total Validation Loss: 245.0115, Best ROC AUC: 0.6001466818081522\n",
      "Epoch 16/100 - Mean ROC AUC: 0.6044, Total Train Loss: 154.7086, Total Validation Loss: 245.5615, Best ROC AUC: 0.604353784368082\n",
      "Epoch 17/100 - Mean ROC AUC: 0.6080, Total Train Loss: 148.8554, Total Validation Loss: 246.4816, Best ROC AUC: 0.6079890541365756\n",
      "Epoch 18/100 - Mean ROC AUC: 0.6111, Total Train Loss: 143.4897, Total Validation Loss: 247.6685, Best ROC AUC: 0.611112196844832\n",
      "Epoch 19/100 - Mean ROC AUC: 0.6138, Total Train Loss: 138.5425, Total Validation Loss: 249.0379, Best ROC AUC: 0.6137753688774764\n",
      "Epoch 20/100 - Mean ROC AUC: 0.6161, Total Train Loss: 133.9592, Total Validation Loss: 250.5219, Best ROC AUC: 0.6160868297156975\n",
      "Epoch 21/100 - Mean ROC AUC: 0.6181, Total Train Loss: 129.6960, Total Validation Loss: 252.0665, Best ROC AUC: 0.6180951994293199\n",
      "Epoch 22/100 - Mean ROC AUC: 0.6199, Total Train Loss: 125.7180, Total Validation Loss: 253.6308, Best ROC AUC: 0.6198757951720547\n",
      "Epoch 23/100 - Mean ROC AUC: 0.6214, Total Train Loss: 121.9963, Total Validation Loss: 255.1853, Best ROC AUC: 0.6214433128269963\n",
      "Epoch 24/100 - Mean ROC AUC: 0.6229, Total Train Loss: 118.5072, Total Validation Loss: 256.7105, Best ROC AUC: 0.6228659836973045\n",
      "Epoch 25/100 - Mean ROC AUC: 0.6241, Total Train Loss: 115.2302, Total Validation Loss: 258.1948, Best ROC AUC: 0.624106999594103\n",
      "Epoch 26/100 - Mean ROC AUC: 0.6252, Total Train Loss: 112.1475, Total Validation Loss: 259.6333, Best ROC AUC: 0.6251512472856326\n",
      "Epoch 27/100 - Mean ROC AUC: 0.6261, Total Train Loss: 109.2426, Total Validation Loss: 261.0258, Best ROC AUC: 0.6260769056947778\n",
      "Epoch 28/100 - Mean ROC AUC: 0.6269, Total Train Loss: 106.4999, Total Validation Loss: 262.3757, Best ROC AUC: 0.6268829781063143\n",
      "Epoch 29/100 - Mean ROC AUC: 0.6276, Total Train Loss: 103.9045, Total Validation Loss: 263.6897, Best ROC AUC: 0.6276229164843918\n",
      "Epoch 30/100 - Mean ROC AUC: 0.6283, Total Train Loss: 101.4425, Total Validation Loss: 264.9763, Best ROC AUC: 0.6283094921201113\n",
      "Epoch 31/100 - Mean ROC AUC: 0.6289, Total Train Loss: 99.1013, Total Validation Loss: 266.2454, Best ROC AUC: 0.6288916142985487\n",
      "Epoch 32/100 - Mean ROC AUC: 0.6294, Total Train Loss: 96.8695, Total Validation Loss: 267.5074, Best ROC AUC: 0.6294391667986803\n",
      "Epoch 33/100 - Mean ROC AUC: 0.6299, Total Train Loss: 94.7374, Total Validation Loss: 268.7720, Best ROC AUC: 0.6299129998776772\n",
      "Epoch 34/100 - Mean ROC AUC: 0.6303, Total Train Loss: 92.6965, Total Validation Loss: 270.0477, Best ROC AUC: 0.6303306531052593\n",
      "Epoch 35/100 - Mean ROC AUC: 0.6307, Total Train Loss: 90.7399, Total Validation Loss: 271.3417, Best ROC AUC: 0.6306835813301999\n",
      "Epoch 36/100 - Mean ROC AUC: 0.6310, Total Train Loss: 88.8621, Total Validation Loss: 272.6593, Best ROC AUC: 0.6309853231894259\n",
      "Epoch 37/100 - Mean ROC AUC: 0.6312, Total Train Loss: 87.0584, Total Validation Loss: 274.0032, Best ROC AUC: 0.6312089714607074\n",
      "Epoch 38/100 - Mean ROC AUC: 0.6314, Total Train Loss: 85.3257, Total Validation Loss: 275.3746, Best ROC AUC: 0.6313755218041537\n",
      "Epoch 39/100 - Mean ROC AUC: 0.6315, Total Train Loss: 83.6613, Total Validation Loss: 276.7728, Best ROC AUC: 0.6314917733541222\n",
      "Epoch 40/100 - Mean ROC AUC: 0.6315, Total Train Loss: 82.0628, Total Validation Loss: 278.1951, Best ROC AUC: 0.6315483613572694\n",
      "Epoch 41/100 - Mean ROC AUC: 0.6316, Total Train Loss: 80.5282, Total Validation Loss: 279.6370, Best ROC AUC: 0.6315784143993319\n",
      "Epoch 42/100 - Mean ROC AUC: 0.6316, Total Train Loss: 79.0547, Total Validation Loss: 281.1223, Best ROC AUC: 0.6315784143993319\n",
      "Epoch 43/100 - Mean ROC AUC: 0.6315, Total Train Loss: 77.6394, Total Validation Loss: 282.5861, Best ROC AUC: 0.6315784143993319\n",
      "Epoch 44/100 - Mean ROC AUC: 0.6314, Total Train Loss: 76.2791, Total Validation Loss: 284.0503, Best ROC AUC: 0.6315784143993319\n",
      "Epoch 45/100 - Mean ROC AUC: 0.6314, Total Train Loss: 74.9701, Total Validation Loss: 285.5085, Best ROC AUC: 0.6315784143993319\n",
      "Epoch 46/100 - Mean ROC AUC: 0.6312, Total Train Loss: 73.7086, Total Validation Loss: 286.9536, Best ROC AUC: 0.6315784143993319\n",
      "Epoch 47/100 - Mean ROC AUC: 0.6311, Total Train Loss: 72.4909, Total Validation Loss: 288.3808, Best ROC AUC: 0.6315784143993319\n",
      "Epoch 48/100 - Mean ROC AUC: 0.6310, Total Train Loss: 71.3135, Total Validation Loss: 289.7854, Best ROC AUC: 0.6315784143993319\n",
      "Epoch 49/100 - Mean ROC AUC: 0.6308, Total Train Loss: 70.1732, Total Validation Loss: 291.1661, Best ROC AUC: 0.6315784143993319\n",
      "Epoch 50/100 - Mean ROC AUC: 0.6307, Total Train Loss: 69.0671, Total Validation Loss: 292.5214, Best ROC AUC: 0.6315784143993319\n",
      "Epoch 51/100 - Mean ROC AUC: 0.6306, Total Train Loss: 67.9931, Total Validation Loss: 293.8535, Best ROC AUC: 0.6315784143993319\n",
      "Epoch 52/100 - Mean ROC AUC: 0.6304, Total Train Loss: 66.9493, Total Validation Loss: 295.1648, Best ROC AUC: 0.6315784143993319\n",
      "Epoch 53/100 - Mean ROC AUC: 0.6303, Total Train Loss: 65.9343, Total Validation Loss: 296.4600, Best ROC AUC: 0.6315784143993319\n",
      "Epoch 54/100 - Mean ROC AUC: 0.6302, Total Train Loss: 64.9472, Total Validation Loss: 297.7450, Best ROC AUC: 0.6315784143993319\n",
      "Epoch 55/100 - Mean ROC AUC: 0.6300, Total Train Loss: 63.9871, Total Validation Loss: 299.0240, Best ROC AUC: 0.6315784143993319\n",
      "Early stopping after 56 epochs. Best ROC AUC: 0.6316 at epoch 41\n",
      "CPU times: total: 6min 57s\n",
      "Wall time: 1min 41s\n"
     ]
    }
   ],
   "source": [
    "%%time\n",
    "train_losses_per_epoch, val_losses_per_epoch, mean_roc_aucs_per_epoch, best_epoch = train_all_tasks(\n",
    "    model,\n",
    "    toxcast_features,\n",
    "    toxcast_labels_val,\n",
    "    val_tasks_indices,\n",
    "    num_epochs=100,\n",
    "    learning_rate=1e-3,\n",
    "    patience=15,\n",
    "    k=15,\n",
    "    alpha=0.5,\n",
    "    diffusion_k=1\n",
    ")"
   ]
  },
  {
   "cell_type": "markdown",
   "id": "ceb9d910-0624-4587-971b-0a0f18cbd3c2",
   "metadata": {},
   "source": [
    "**Plot training results**"
   ]
  },
  {
   "cell_type": "code",
   "execution_count": 22,
   "id": "a6c762b4-5d1a-4105-9a37-39edadb6912f",
   "metadata": {},
   "outputs": [],
   "source": [
    "def plot_training_results(train_losses, val_losses, mean_roc_aucs, best_epoch):\n",
    "    epochs = range(1, len(train_losses) + 1)\n",
    "\n",
    "    fig, ax = plt.subplots(1, 2, figsize=(14, 5))\n",
    "\n",
    "    ax[0].plot(epochs, train_losses, label='train Loss', color='blue')\n",
    "    ax[0].plot(epochs, val_losses, label='validation Loss', color='orange')\n",
    "    ax[0].scatter([best_epoch + 1], [train_losses[best_epoch]], color='red', label='best model', zorder=5)\n",
    "    ax[0].scatter([best_epoch + 1], [val_losses[best_epoch]], color='red', zorder=5)\n",
    "    ax[0].set_xlabel('epoch')\n",
    "    ax[0].set_ylabel('loss')\n",
    "    ax[0].set_title('train and validation loss per epoch')\n",
    "    ax[0].legend()\n",
    "\n",
    "    ax[1].plot(epochs, mean_roc_aucs, label='mean ROC AUC', color='green')\n",
    "    ax[1].scatter([best_epoch + 1], [mean_roc_aucs[best_epoch]], color='red', label='best model', zorder=5)\n",
    "    ax[1].set_xlabel('epoch')\n",
    "    ax[1].set_ylabel('mean ROC AUC')\n",
    "    ax[1].set_title('mean ROC AUC per epoch')\n",
    "    ax[1].legend()\n",
    "    \n",
    "    plt.tight_layout()\n",
    "    plt.show()"
   ]
  },
  {
   "cell_type": "code",
   "execution_count": 23,
   "id": "c47a0139-2394-44a4-bf20-0ae1b70e8ca6",
   "metadata": {},
   "outputs": [
    {
     "data": {
      "image/png": "[encoded data removed]",
      "text/plain": [
       "<Figure size 1400x500 with 2 Axes>"
      ]
     },
     "metadata": {},
     "output_type": "display_data"
    }
   ],
   "source": [
    "plot_training_results(train_losses_per_epoch, val_losses_per_epoch, mean_roc_aucs_per_epoch, best_epoch)"
   ]
  },
  {
   "cell_type": "code",
   "execution_count": null,
   "id": "46e0312f-a056-42e3-b88d-45caa9011b14",
   "metadata": {},
   "outputs": [],
   "source": []
  }
 ],
 "metadata": {
  "accelerator": "GPU",
  "colab": {
   "gpuType": "T4",
   "provenance": []
  },
  "kernelspec": {
   "display_name": "Python 3 (ipykernel)",
   "language": "python",
   "name": "python3"
  },
  "language_info": {
   "codemirror_mode": {
    "name": "ipython",
    "version": 3
   },
   "file_extension": ".py",
   "mimetype": "text/x-python",
   "name": "python",
   "nbconvert_exporter": "python",
   "pygments_lexer": "ipython3",
   "version": "3.9.13"
  }
 },
 "nbformat": 4,
 "nbformat_minor": 5
}
