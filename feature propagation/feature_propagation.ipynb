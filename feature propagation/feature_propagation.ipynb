{
 "cells": [
  {
   "cell_type": "code",
   "execution_count": 1,
   "id": "1ce50f7f-32d4-47b1-af79-55960945fa9b",
   "metadata": {
    "id": "1ce50f7f-32d4-47b1-af79-55960945fa9b"
   },
   "outputs": [],
   "source": [
    "import torch\n",
    "import torch.nn as nn\n",
    "import torch.optim as optim\n",
    "from torch.utils.data import DataLoader, TensorDataset\n",
    "from sklearn.metrics import roc_auc_score\n",
    "import numpy as np\n",
    "import pandas as pd\n",
    "import matplotlib.pyplot as plt"
   ]
  },
  {
   "cell_type": "code",
   "execution_count": 2,
   "id": "dac08684-9033-4201-b8ce-f2c3d5b972d9",
   "metadata": {
    "id": "dac08684-9033-4201-b8ce-f2c3d5b972d9"
   },
   "outputs": [],
   "source": [
    "device = torch.device('cuda' if torch.cuda.is_available() else 'cpu')"
   ]
  },
  {
   "cell_type": "code",
   "execution_count": 3,
   "id": "kVBuRZgiAhha",
   "metadata": {
    "colab": {
     "base_uri": "https://localhost:8080/"
    },
    "id": "kVBuRZgiAhha",
    "outputId": "f45c2eb7-44f5-414a-9526-81f2ad37494e"
   },
   "outputs": [
    {
     "data": {
      "text/plain": [
       "device(type='cpu')"
      ]
     },
     "execution_count": 3,
     "metadata": {},
     "output_type": "execute_result"
    }
   ],
   "source": [
    "device"
   ]
  },
  {
   "cell_type": "markdown",
   "id": "2a70080b-da37-45c9-9991-e47a8b74e0a0",
   "metadata": {
    "id": "2a70080b-da37-45c9-9991-e47a8b74e0a0"
   },
   "source": [
    "**Load the toxcast dataset**"
   ]
  },
  {
   "cell_type": "code",
   "execution_count": 4,
   "id": "714d9e00-113f-4788-b708-ef7343fd766e",
   "metadata": {
    "id": "714d9e00-113f-4788-b708-ef7343fd766e"
   },
   "outputs": [],
   "source": [
    "loaded_toxcast_features_train_val_test = np.load('../preprocessing/preprocessed_data/toxcast_features_train_val_test.npy', allow_pickle=True).item()\n",
    "\n",
    "loaded_toxcast_ecfp_descr_quantiles_scaled_X_train = loaded_toxcast_features_train_val_test['train']\n",
    "loaded_toxcast_ecfp_descr_quantiles_scaled_X_val = loaded_toxcast_features_train_val_test['validation']\n",
    "loaded_toxcast_ecfp_descr_quantiles_scaled_X_test = loaded_toxcast_features_train_val_test['test']"
   ]
  },
  {
   "cell_type": "code",
   "execution_count": 5,
   "id": "31bff592-b3df-4095-88f7-8a06560845b3",
   "metadata": {
    "id": "31bff592-b3df-4095-88f7-8a06560845b3"
   },
   "outputs": [],
   "source": [
    "toxcast_features = np.concatenate((loaded_toxcast_ecfp_descr_quantiles_scaled_X_train,\n",
    "                                  loaded_toxcast_ecfp_descr_quantiles_scaled_X_val,\n",
    "                                  loaded_toxcast_ecfp_descr_quantiles_scaled_X_test), axis=0)"
   ]
  },
  {
   "cell_type": "code",
   "execution_count": 6,
   "id": "9bf8de71-492a-42c8-834b-0e05af0447e4",
   "metadata": {
    "colab": {
     "base_uri": "https://localhost:8080/"
    },
    "id": "9bf8de71-492a-42c8-834b-0e05af0447e4",
    "outputId": "7b1e13bd-31cb-4fd3-aabd-980f5c429eae"
   },
   "outputs": [
    {
     "data": {
      "text/plain": [
       "(8595, 2248)"
      ]
     },
     "execution_count": 6,
     "metadata": {},
     "output_type": "execute_result"
    }
   ],
   "source": [
    "toxcast_features.shape"
   ]
  },
  {
   "cell_type": "code",
   "execution_count": 7,
   "id": "a948bb78-ea8b-4d38-8ff8-2954a80ca63c",
   "metadata": {
    "id": "a948bb78-ea8b-4d38-8ff8-2954a80ca63c"
   },
   "outputs": [],
   "source": [
    "loaded_toxcast_labels_train_val_test = np.load('../preprocessing/preprocessed_data/toxcast_labels_train_val_test.npy', allow_pickle=True).item()\n",
    "\n",
    "loaded_toxcast_y_train = loaded_toxcast_labels_train_val_test['train']\n",
    "loaded_toxcast_y_val = loaded_toxcast_labels_train_val_test['validation']\n",
    "loaded_toxcast_y_test = loaded_toxcast_labels_train_val_test['test']"
   ]
  },
  {
   "cell_type": "code",
   "execution_count": 8,
   "id": "51db1580-da7a-408a-a3ac-d0898c2102c9",
   "metadata": {
    "id": "51db1580-da7a-408a-a3ac-d0898c2102c9"
   },
   "outputs": [],
   "source": [
    "toxcast_labels = np.concatenate((loaded_toxcast_y_train,\n",
    "                                  loaded_toxcast_y_val,\n",
    "                                  loaded_toxcast_y_test), axis=0)"
   ]
  },
  {
   "cell_type": "code",
   "execution_count": 9,
   "id": "094ca371-7749-4e51-b13f-21d70f84ff5f",
   "metadata": {
    "colab": {
     "base_uri": "https://localhost:8080/"
    },
    "id": "094ca371-7749-4e51-b13f-21d70f84ff5f",
    "outputId": "03d1c10c-4395-4823-d256-d1b0627abce8"
   },
   "outputs": [
    {
     "data": {
      "text/plain": [
       "(8595, 617)"
      ]
     },
     "execution_count": 9,
     "metadata": {},
     "output_type": "execute_result"
    }
   ],
   "source": [
    "toxcast_labels.shape"
   ]
  },
  {
   "cell_type": "markdown",
   "id": "fa67bb9a-33ab-43e9-bd02-908d42f0a9f0",
   "metadata": {
    "id": "fa67bb9a-33ab-43e9-bd02-908d42f0a9f0"
   },
   "source": [
    "**Split the dataset into validation and test sets and create splits for each task**"
   ]
  },
  {
   "cell_type": "code",
   "execution_count": 10,
   "id": "38b53e73-4f73-43ee-ad11-9aa7db1f1131",
   "metadata": {
    "id": "38b53e73-4f73-43ee-ad11-9aa7db1f1131"
   },
   "outputs": [],
   "source": [
    "toxcast_labels_val = toxcast_labels[:,:308]\n",
    "toxcast_labels_test = toxcast_labels[:,308:617]"
   ]
  },
  {
   "cell_type": "code",
   "execution_count": 11,
   "id": "60012fe5-8b89-43f5-8027-1b29d3e0a644",
   "metadata": {
    "colab": {
     "base_uri": "https://localhost:8080/"
    },
    "id": "60012fe5-8b89-43f5-8027-1b29d3e0a644",
    "outputId": "1efb0126-6b38-4360-bf3b-12bb51e42f60"
   },
   "outputs": [
    {
     "data": {
      "text/plain": [
       "((8595, 308), (8595, 309))"
      ]
     },
     "execution_count": 11,
     "metadata": {},
     "output_type": "execute_result"
    }
   ],
   "source": [
    "toxcast_labels_val.shape, toxcast_labels_test.shape"
   ]
  },
  {
   "cell_type": "code",
   "execution_count": 12,
   "id": "3cb0c28f-5c34-40c4-af78-9f6a0904672d",
   "metadata": {
    "id": "3cb0c28f-5c34-40c4-af78-9f6a0904672d",
    "tags": []
   },
   "outputs": [],
   "source": [
    "def split_indices_for_task(task_labels):\n",
    "    active_indices = np.where(task_labels == 1)[0]\n",
    "    inactive_indices = np.where(task_labels == 0)[0]\n",
    "\n",
    "    np.random.seed(42)\n",
    "    selected_active = np.random.choice(active_indices, size=5, replace=False)\n",
    "    selected_inactive = np.random.choice(inactive_indices, size=5, replace=False)\n",
    "\n",
    "    rest_indices = np.setdiff1d(np.arange(task_labels.shape[0]), np.concatenate([selected_active, selected_inactive]))\n",
    "\n",
    "    return selected_active, selected_inactive, rest_indices\n",
    "\n",
    "def process_indices_for_all_tasks(toxcast_labels_val):\n",
    "    all_tasks_indices = []\n",
    "\n",
    "    for task in range(toxcast_labels_val.shape[1]):\n",
    "        task_labels = toxcast_labels_val[:, task]\n",
    "\n",
    "        selected_active, selected_inactive, rest_indices = split_indices_for_task(task_labels)\n",
    "\n",
    "        task_indices = {\n",
    "            \"task\": task,\n",
    "            \"indices_active\": selected_active,\n",
    "            \"indices_inactive\": selected_inactive,\n",
    "            \"indices_rest\": rest_indices\n",
    "        }\n",
    "\n",
    "        all_tasks_indices.append(task_indices)\n",
    "\n",
    "    return all_tasks_indices"
   ]
  },
  {
   "cell_type": "code",
   "execution_count": 13,
   "id": "15668f3d-7a93-4a95-ad9e-8ddadb7fd46c",
   "metadata": {
    "id": "15668f3d-7a93-4a95-ad9e-8ddadb7fd46c"
   },
   "outputs": [],
   "source": [
    "val_tasks_indices = process_indices_for_all_tasks(toxcast_labels_val)\n",
    "test_tasks_indices = process_indices_for_all_tasks(toxcast_labels_test)"
   ]
  },
  {
   "cell_type": "code",
   "execution_count": 14,
   "id": "734d0f02-a5fd-45e1-92bf-dda24538dcb5",
   "metadata": {
    "colab": {
     "base_uri": "https://localhost:8080/"
    },
    "id": "734d0f02-a5fd-45e1-92bf-dda24538dcb5",
    "outputId": "d3106f02-2ff4-458e-f2db-7e9c9e4df9c4"
   },
   "outputs": [
    {
     "data": {
      "text/plain": [
       "{'task': 0,\n",
       " 'indices_active': array([6522, 2862, 1497, 7059, 1526], dtype=int64),\n",
       " 'indices_inactive': array([6568, 1766, 2715, 6455, 3518], dtype=int64),\n",
       " 'indices_rest': array([   0,    1,    2, ..., 8592, 8593, 8594])}"
      ]
     },
     "execution_count": 14,
     "metadata": {},
     "output_type": "execute_result"
    }
   ],
   "source": [
    "val_tasks_indices[0]"
   ]
  },
  {
   "cell_type": "code",
   "execution_count": 15,
   "id": "f4f2fb8a-b380-4fe3-8265-25f58cf01b05",
   "metadata": {
    "colab": {
     "base_uri": "https://localhost:8080/"
    },
    "id": "f4f2fb8a-b380-4fe3-8265-25f58cf01b05",
    "outputId": "f9c1f1cb-3c5c-43b7-9bf4-8710e940c35f"
   },
   "outputs": [
    {
     "data": {
      "text/plain": [
       "{'task': 0,\n",
       " 'indices_active': array([6210, 4636, 6840, 1168, 3190], dtype=int64),\n",
       " 'indices_inactive': array([7281, 1869, 6455, 3755, 1701], dtype=int64),\n",
       " 'indices_rest': array([   0,    1,    2, ..., 8592, 8593, 8594])}"
      ]
     },
     "execution_count": 15,
     "metadata": {},
     "output_type": "execute_result"
    }
   ],
   "source": [
    "test_tasks_indices[0]"
   ]
  },
  {
   "cell_type": "code",
   "execution_count": 16,
   "id": "b50eb4b6-3f58-475c-bf0f-0b7d193e4a2f",
   "metadata": {},
   "outputs": [],
   "source": [
    "toxcast_features = torch.tensor(toxcast_features, dtype=torch.float32).to(device)\n",
    "toxcast_labels_val = torch.tensor(toxcast_labels_val, dtype=torch.float32).to(device)"
   ]
  },
  {
   "cell_type": "markdown",
   "id": "89c024d1-751c-4b21-b8ad-93b638589de2",
   "metadata": {
    "id": "89c024d1-751c-4b21-b8ad-93b638589de2"
   },
   "source": [
    "**Create a new logistic regression model**"
   ]
  },
  {
   "cell_type": "code",
   "execution_count": 17,
   "id": "1fb02a93-ed0f-4297-8229-b4d9882ee91b",
   "metadata": {
    "colab": {
     "base_uri": "https://localhost:8080/"
    },
    "id": "1fb02a93-ed0f-4297-8229-b4d9882ee91b",
    "outputId": "c5970af4-3099-4072-d1db-a01e9ca7bd78"
   },
   "outputs": [
    {
     "data": {
      "text/plain": [
       "<All keys matched successfully>"
      ]
     },
     "execution_count": 17,
     "metadata": {},
     "output_type": "execute_result"
    }
   ],
   "source": [
    "def create_layer(in_size, out_size, activation_function=nn.ReLU, p=0.25):\n",
    "    return nn.Sequential(\n",
    "        nn.AlphaDropout(p=p),\n",
    "        nn.Linear(in_size, out_size),\n",
    "        activation_function()\n",
    "    )\n",
    "\n",
    "\n",
    "class DNN(nn.Module):\n",
    "    def __init__(self, input_layer, hidden_layers, output_layer, activation_function=nn.ReLU, p=0.25):\n",
    "        super().__init__()\n",
    "\n",
    "        self.input_layer = nn.Linear(input_layer, hidden_layers[0])\n",
    "        self.act1 = activation_function()\n",
    "        self.dropout1 = nn.AlphaDropout(p=p)\n",
    "\n",
    "        layers = [create_layer(hl_in, hl_out, activation_function, p) for hl_in, hl_out in zip(hidden_layers, hidden_layers[1:])]\n",
    "\n",
    "        self.hidden_layers = nn.Sequential(*layers)\n",
    "\n",
    "        self.output_layer = nn.Linear(hidden_layers[-1], output_layer)\n",
    "\n",
    "    def forward(self, x):\n",
    "        x = self.dropout1(x)\n",
    "        x = self.act1(self.input_layer(x))\n",
    "        x = self.hidden_layers(x)\n",
    "        x = self.output_layer(x)\n",
    "        return x\n",
    "\n",
    "params = {'input_size': 2248,\n",
    "          'hidden_layers': [1024, 128],\n",
    "          'output_size': 12,\n",
    "          'activation_function': nn.SELU,\n",
    "          'dropout_p': 0.45\n",
    "         }\n",
    "\n",
    "input_size, hidden_layers, output_size, activation_function, dropout_p = params.values()\n",
    "\n",
    "\n",
    "class LRNN(nn.Module):\n",
    "    def __init__(self, input_size):\n",
    "        super().__init__()\n",
    "        self.output_layer = nn.Linear(input_size, 1)\n",
    "        self.sigmoid = nn.Sigmoid()\n",
    "\n",
    "    def forward(self, x):\n",
    "        x = self.output_layer(x)\n",
    "        x = self.sigmoid(x)\n",
    "        return x\n",
    "\n",
    "model = DNN(input_size, hidden_layers, output_size, activation_function, p=dropout_p)\n",
    "model.load_state_dict(torch.load('../pretraining/training/dnn_best_model.pth', map_location=device))"
   ]
  },
  {
   "cell_type": "code",
   "execution_count": 18,
   "id": "481f6a9b-b23c-46bc-96c8-feed3b6bfc65",
   "metadata": {
    "colab": {
     "base_uri": "https://localhost:8080/"
    },
    "id": "481f6a9b-b23c-46bc-96c8-feed3b6bfc65",
    "outputId": "51fe2436-19fe-40f8-ad9e-20f1a0b5b904"
   },
   "outputs": [
    {
     "data": {
      "text/plain": [
       "DNN(\n",
       "  (input_layer): Linear(in_features=2248, out_features=1024, bias=True)\n",
       "  (act1): SELU()\n",
       "  (dropout1): AlphaDropout(p=0.45, inplace=False)\n",
       "  (hidden_layers): Sequential(\n",
       "    (0): Sequential(\n",
       "      (0): AlphaDropout(p=0.45, inplace=False)\n",
       "      (1): Linear(in_features=1024, out_features=128, bias=True)\n",
       "      (2): SELU()\n",
       "    )\n",
       "  )\n",
       "  (output_layer): Linear(in_features=128, out_features=12, bias=True)\n",
       ")"
      ]
     },
     "execution_count": 18,
     "metadata": {},
     "output_type": "execute_result"
    }
   ],
   "source": [
    "model.to(device)"
   ]
  },
  {
   "cell_type": "markdown",
   "id": "5a5a5dfc-3b5c-4eca-ab67-00bdac633d4c",
   "metadata": {
    "id": "5a5a5dfc-3b5c-4eca-ab67-00bdac633d4c"
   },
   "source": [
    "**Feature propagation**"
   ]
  },
  {
   "cell_type": "code",
   "execution_count": 19,
   "id": "fe65703d-2b1e-424e-944f-88ee1a99bd6f",
   "metadata": {
    "id": "fe65703d-2b1e-424e-944f-88ee1a99bd6f"
   },
   "outputs": [],
   "source": [
    "def extract_features(model, features):\n",
    "    model.eval()\n",
    "    with torch.no_grad():\n",
    "        last_hl_output = model.input_layer(features)\n",
    "        last_hl_output = model.act1(last_hl_output)\n",
    "        last_hl_output = model.hidden_layers(last_hl_output)\n",
    "    return last_hl_output\n",
    "\n",
    "def cosine_similarity_matrix(features):\n",
    "    norm_features = features / torch.norm(features, dim=1, keepdim=True)\n",
    "    return torch.mm(norm_features, norm_features.t())\n",
    "\n",
    "def build_graph(features, k=15):\n",
    "    cosine_sim = cosine_similarity_matrix(features)\n",
    "    adjacency_matrix = torch.zeros_like(cosine_sim)\n",
    "\n",
    "    for i in range(cosine_sim.size(0)):\n",
    "        top_k_indices = torch.topk(cosine_sim[i, :], k+1, largest=True, sorted=True).indices\n",
    "        top_k_indices = top_k_indices[top_k_indices != i]\n",
    "        adjacency_matrix[i, top_k_indices] = cosine_sim[i, top_k_indices]\n",
    "\n",
    "    degree_matrix = torch.diag(adjacency_matrix.sum(dim=1))\n",
    "    eps = 0\n",
    "    degree_inv_sqrt = torch.diag(1 / torch.sqrt(torch.diag(degree_matrix) + eps))\n",
    "    normalized_adjacency = torch.mm(torch.mm(degree_inv_sqrt, adjacency_matrix), degree_inv_sqrt)\n",
    "\n",
    "    return normalized_adjacency\n",
    "\n",
    "def feature_propagation(features, normalized_adjacency, alpha=0.75, k=1):\n",
    "    identity_matrix = torch.eye(features.size(0), device=features.device)\n",
    "    diffusion_matrix = torch.matrix_power(alpha * identity_matrix + normalized_adjacency, k)\n",
    "    propagated_features = torch.mm(diffusion_matrix, features)\n",
    "    return propagated_features"
   ]
  },
  {
   "cell_type": "markdown",
   "id": "1b2be285-0e79-4183-bc1d-5e0f8488564e",
   "metadata": {
    "id": "1b2be285-0e79-4183-bc1d-5e0f8488564e"
   },
   "source": [
    "**Train & validation loop**"
   ]
  },
  {
   "cell_type": "code",
   "execution_count": 20,
   "id": "fcb74684-19e0-49b0-9d6f-c7e56bde6911",
   "metadata": {
    "id": "fcb74684-19e0-49b0-9d6f-c7e56bde6911",
    "tags": []
   },
   "outputs": [],
   "source": [
    "def train_validate_task(\n",
    "    lr_model,\n",
    "    train_features_propagated,\n",
    "    train_labels,\n",
    "    val_features_propagated,\n",
    "    val_labels,\n",
    "    optimizer,\n",
    "    criterion\n",
    "):\n",
    "    lr_model.train()\n",
    "    optimizer.zero_grad()\n",
    "    outputs = lr_model(train_features_propagated)\n",
    "    loss = criterion(outputs, train_labels)\n",
    "    loss.backward()\n",
    "    optimizer.step()\n",
    "\n",
    "    lr_model.eval()\n",
    "    with torch.no_grad():\n",
    "        val_outputs = lr_model(val_features_propagated)\n",
    "\n",
    "        valid_mask = val_labels != -1\n",
    "        filtered_val_outputs = val_outputs[valid_mask]\n",
    "        filtered_val_labels = val_labels[valid_mask]\n",
    "\n",
    "        val_loss = criterion(filtered_val_outputs, filtered_val_labels).item()\n",
    "        filtered_val_outputs = filtered_val_outputs.cpu().numpy()\n",
    "        filtered_val_labels = filtered_val_labels.cpu().numpy()\n",
    "\n",
    "    if len(filtered_val_labels) > 0 and len(np.unique(filtered_val_labels)) > 1:\n",
    "        roc_auc = roc_auc_score(filtered_val_labels, filtered_val_outputs)\n",
    "    else:\n",
    "        roc_auc = float('nan')\n",
    "\n",
    "    return loss.item(), val_loss, roc_auc\n",
    "\n",
    "def train_all_tasks(\n",
    "    dnn_model,\n",
    "    toxcast_features,\n",
    "    toxcast_labels_val,\n",
    "    val_tasks_indices,\n",
    "    num_epochs=10,\n",
    "    learning_rate=1e-3,\n",
    "    patience=3,\n",
    "    k=15,\n",
    "    alpha=0.75,\n",
    "    diffusion_k=1,\n",
    "    propagate_features=True\n",
    "):\n",
    "    all_features = extract_features(dnn_model, toxcast_features)\n",
    "    \n",
    "    if propagate_features:\n",
    "        normalized_adjacency = build_graph(all_features, k=k)\n",
    "        all_features_propagated = feature_propagation(all_features, \n",
    "                                                      normalized_adjacency, \n",
    "                                                      alpha=alpha, \n",
    "                                                      k=diffusion_k)\n",
    "    else:\n",
    "        all_features_propagated = all_features\n",
    "\n",
    "    all_train_losses_per_epoch = []\n",
    "    all_val_losses_per_epoch = []\n",
    "    mean_roc_aucs_per_epoch = []\n",
    "\n",
    "    best_mean_roc_auc = float('-inf')\n",
    "    best_epoch = -1\n",
    "    no_improvement_counter = 0\n",
    "\n",
    "    best_models = {}\n",
    "\n",
    "    models = {}\n",
    "    optimizers = {}\n",
    "    criterions = {}\n",
    "\n",
    "    for task_indices in val_tasks_indices:\n",
    "        input_size = hidden_layers[-1]\n",
    "        task_model = LRNN(input_size)\n",
    "        task_model.to(device)\n",
    "        optimizer = optim.Adam(task_model.parameters(), lr=learning_rate)\n",
    "\n",
    "        models[task_indices['task']] = task_model\n",
    "        optimizers[task_indices['task']] = optimizer\n",
    "        criterions[task_indices['task']] = nn.BCELoss()\n",
    "\n",
    "    for epoch in range(num_epochs):\n",
    "        epoch_train_losses = []\n",
    "        epoch_val_losses = []\n",
    "        epoch_roc_aucs = []\n",
    "        total_train_loss = 0\n",
    "        total_val_loss = 0\n",
    "\n",
    "        for task_indices in val_tasks_indices:\n",
    "            task_model = models[task_indices['task']]\n",
    "            optimizer = optimizers[task_indices['task']]\n",
    "            criterion = criterions[task_indices['task']]\n",
    "\n",
    "            active_indices = task_indices['indices_active']\n",
    "            inactive_indices = task_indices['indices_inactive']\n",
    "            rest_indices = task_indices['indices_rest']\n",
    "\n",
    "            train_indices = np.concatenate([active_indices, inactive_indices])\n",
    "            train_features_propagated = all_features_propagated[train_indices]\n",
    "            train_labels = toxcast_labels_val[train_indices, task_indices['task']].clone().detach().unsqueeze(1)\n",
    "\n",
    "            val_features_propagated = all_features_propagated[rest_indices]\n",
    "            val_labels = toxcast_labels_val[rest_indices, task_indices['task']].clone().detach().unsqueeze(1)\n",
    "\n",
    "            train_loss, val_loss, roc_auc = train_validate_task(\n",
    "                task_model,\n",
    "                train_features_propagated,\n",
    "                train_labels,\n",
    "                val_features_propagated,\n",
    "                val_labels,\n",
    "                optimizer,\n",
    "                criterion\n",
    "            )\n",
    "\n",
    "            epoch_train_losses.append(train_loss)\n",
    "            epoch_val_losses.append(val_loss)\n",
    "            epoch_roc_aucs.append(roc_auc)\n",
    "            total_train_loss += train_loss\n",
    "            total_val_loss += val_loss\n",
    "\n",
    "        mean_roc_auc = np.nanmean(epoch_roc_aucs)\n",
    "\n",
    "        all_train_losses_per_epoch.append(total_train_loss)\n",
    "        all_val_losses_per_epoch.append(total_val_loss)\n",
    "        mean_roc_aucs_per_epoch.append(mean_roc_auc)\n",
    "\n",
    "        if mean_roc_auc > best_mean_roc_auc:\n",
    "            best_mean_roc_auc = mean_roc_auc\n",
    "            best_epoch = epoch\n",
    "            no_improvement_counter = 0\n",
    "\n",
    "            for task_indices in val_tasks_indices:\n",
    "                best_models[task_indices[\"task\"]] = models[task_indices['task']].state_dict()\n",
    "        else:\n",
    "            no_improvement_counter += 1\n",
    "\n",
    "        if no_improvement_counter >= patience:\n",
    "            print(f\"Early stopping after {epoch + 1} epochs. Best ROC AUC: {best_mean_roc_auc:.4f} at epoch {best_epoch + 1}\")\n",
    "            break\n",
    "\n",
    "        print(f'Epoch {epoch + 1}/{num_epochs} - Mean ROC AUC: {mean_roc_auc:.4f}, '\n",
    "              f'Total Train Loss: {total_train_loss:.4f}, '\n",
    "              f'Total Validation Loss: {total_val_loss:.4f}, '\n",
    "              f'Best ROC AUC: {best_mean_roc_auc}')\n",
    "\n",
    "    torch.save(best_models, 'best_models_val.pth')\n",
    "\n",
    "    return all_train_losses_per_epoch, all_val_losses_per_epoch, mean_roc_aucs_per_epoch, best_epoch"
   ]
  },
  {
   "cell_type": "code",
   "execution_count": 21,
   "id": "337c6588-42a6-4682-aa15-08215365e85d",
   "metadata": {
    "colab": {
     "base_uri": "https://localhost:8080/",
     "height": 391
    },
    "id": "337c6588-42a6-4682-aa15-08215365e85d",
    "outputId": "e769c896-d41b-4f05-ca80-9a0dbcb729c6"
   },
   "outputs": [
    {
     "name": "stdout",
     "output_type": "stream",
     "text": [
      "Epoch 1/100 - Mean ROC AUC: 0.5839, Total Train Loss: 295.1689, Total Validation Loss: 221.5067, Best ROC AUC: 0.5839392659622431\n",
      "Epoch 2/100 - Mean ROC AUC: 0.6333, Total Train Loss: 206.0998, Total Validation Loss: 216.2375, Best ROC AUC: 0.6332848573150126\n",
      "Epoch 3/100 - Mean ROC AUC: 0.6465, Total Train Loss: 172.8370, Total Validation Loss: 231.4173, Best ROC AUC: 0.6464861305224092\n",
      "Epoch 4/100 - Mean ROC AUC: 0.6481, Total Train Loss: 154.6155, Total Validation Loss: 254.8386, Best ROC AUC: 0.6481388765304055\n",
      "Epoch 5/100 - Mean ROC AUC: 0.6472, Total Train Loss: 143.7957, Total Validation Loss: 277.0637, Best ROC AUC: 0.6481388765304055\n",
      "Epoch 6/100 - Mean ROC AUC: 0.6456, Total Train Loss: 133.6993, Total Validation Loss: 294.7633, Best ROC AUC: 0.6481388765304055\n",
      "Epoch 7/100 - Mean ROC AUC: 0.6438, Total Train Loss: 123.3497, Total Validation Loss: 309.0549, Best ROC AUC: 0.6481388765304055\n",
      "Epoch 8/100 - Mean ROC AUC: 0.6421, Total Train Loss: 114.5633, Total Validation Loss: 321.0324, Best ROC AUC: 0.6481388765304055\n",
      "Early stopping after 9 epochs. Best ROC AUC: 0.6481 at epoch 4\n",
      "Epoch 1/100 - Mean ROC AUC: 0.5818, Total Train Loss: 297.9931, Total Validation Loss: 226.8423, Best ROC AUC: 0.5818027499491978\n",
      "Epoch 2/100 - Mean ROC AUC: 0.6280, Total Train Loss: 208.2421, Total Validation Loss: 218.2831, Best ROC AUC: 0.6280468572332464\n",
      "Epoch 3/100 - Mean ROC AUC: 0.6454, Total Train Loss: 171.5346, Total Validation Loss: 233.3411, Best ROC AUC: 0.6453883984847124\n",
      "Epoch 4/100 - Mean ROC AUC: 0.6498, Total Train Loss: 153.0817, Total Validation Loss: 255.7074, Best ROC AUC: 0.6498155964332348\n",
      "Epoch 5/100 - Mean ROC AUC: 0.6486, Total Train Loss: 141.6066, Total Validation Loss: 276.6384, Best ROC AUC: 0.6498155964332348\n",
      "Epoch 6/100 - Mean ROC AUC: 0.6458, Total Train Loss: 130.9967, Total Validation Loss: 295.2238, Best ROC AUC: 0.6498155964332348\n",
      "Epoch 7/100 - Mean ROC AUC: 0.6431, Total Train Loss: 121.4443, Total Validation Loss: 311.6281, Best ROC AUC: 0.6498155964332348\n",
      "Epoch 8/100 - Mean ROC AUC: 0.6416, Total Train Loss: 114.3173, Total Validation Loss: 325.1467, Best ROC AUC: 0.6498155964332348\n",
      "Early stopping after 9 epochs. Best ROC AUC: 0.6498 at epoch 4\n",
      "Epoch 1/100 - Mean ROC AUC: 0.5885, Total Train Loss: 287.3940, Total Validation Loss: 227.0579, Best ROC AUC: 0.588471195823817\n",
      "Epoch 2/100 - Mean ROC AUC: 0.6344, Total Train Loss: 202.3350, Total Validation Loss: 224.2421, Best ROC AUC: 0.6344488483501868\n",
      "Epoch 3/100 - Mean ROC AUC: 0.6473, Total Train Loss: 171.5020, Total Validation Loss: 236.8054, Best ROC AUC: 0.647341807052038\n",
      "Epoch 4/100 - Mean ROC AUC: 0.6465, Total Train Loss: 153.9484, Total Validation Loss: 255.4421, Best ROC AUC: 0.647341807052038\n",
      "Epoch 5/100 - Mean ROC AUC: 0.6456, Total Train Loss: 142.1328, Total Validation Loss: 273.7489, Best ROC AUC: 0.647341807052038\n",
      "Epoch 6/100 - Mean ROC AUC: 0.6445, Total Train Loss: 131.3320, Total Validation Loss: 290.3551, Best ROC AUC: 0.647341807052038\n",
      "Epoch 7/100 - Mean ROC AUC: 0.6438, Total Train Loss: 121.4491, Total Validation Loss: 305.1477, Best ROC AUC: 0.647341807052038\n",
      "Early stopping after 8 epochs. Best ROC AUC: 0.6473 at epoch 3\n",
      "Epoch 1/100 - Mean ROC AUC: 0.5881, Total Train Loss: 296.2044, Total Validation Loss: 220.5456, Best ROC AUC: 0.5881375484751145\n",
      "Epoch 2/100 - Mean ROC AUC: 0.6301, Total Train Loss: 207.9613, Total Validation Loss: 220.1256, Best ROC AUC: 0.6300950940060389\n",
      "Epoch 3/100 - Mean ROC AUC: 0.6397, Total Train Loss: 174.1932, Total Validation Loss: 240.6208, Best ROC AUC: 0.6397186279323996\n",
      "Epoch 4/100 - Mean ROC AUC: 0.6389, Total Train Loss: 156.0977, Total Validation Loss: 264.2122, Best ROC AUC: 0.6397186279323996\n",
      "Epoch 5/100 - Mean ROC AUC: 0.6381, Total Train Loss: 143.3640, Total Validation Loss: 283.6635, Best ROC AUC: 0.6397186279323996\n",
      "Epoch 6/100 - Mean ROC AUC: 0.6376, Total Train Loss: 131.3018, Total Validation Loss: 298.9918, Best ROC AUC: 0.6397186279323996\n",
      "Epoch 7/100 - Mean ROC AUC: 0.6368, Total Train Loss: 121.1644, Total Validation Loss: 311.3927, Best ROC AUC: 0.6397186279323996\n",
      "Early stopping after 8 epochs. Best ROC AUC: 0.6397 at epoch 3\n",
      "Epoch 1/100 - Mean ROC AUC: 0.5752, Total Train Loss: 300.8800, Total Validation Loss: 216.3134, Best ROC AUC: 0.5751542465366294\n",
      "Epoch 2/100 - Mean ROC AUC: 0.6297, Total Train Loss: 207.3972, Total Validation Loss: 219.0515, Best ROC AUC: 0.6297208379557362\n",
      "Epoch 3/100 - Mean ROC AUC: 0.6448, Total Train Loss: 173.7768, Total Validation Loss: 239.5448, Best ROC AUC: 0.6448333127438295\n",
      "Epoch 4/100 - Mean ROC AUC: 0.6475, Total Train Loss: 154.2821, Total Validation Loss: 261.2400, Best ROC AUC: 0.6474685305247386\n",
      "Epoch 5/100 - Mean ROC AUC: 0.6479, Total Train Loss: 142.1637, Total Validation Loss: 279.0703, Best ROC AUC: 0.647927827645819\n",
      "Epoch 6/100 - Mean ROC AUC: 0.6477, Total Train Loss: 132.5732, Total Validation Loss: 292.7505, Best ROC AUC: 0.647927827645819\n",
      "Epoch 7/100 - Mean ROC AUC: 0.6465, Total Train Loss: 123.5094, Total Validation Loss: 304.4342, Best ROC AUC: 0.647927827645819\n",
      "Epoch 8/100 - Mean ROC AUC: 0.6444, Total Train Loss: 115.0800, Total Validation Loss: 316.0900, Best ROC AUC: 0.647927827645819\n",
      "Epoch 9/100 - Mean ROC AUC: 0.6417, Total Train Loss: 107.9972, Total Validation Loss: 327.6002, Best ROC AUC: 0.647927827645819\n",
      "Early stopping after 10 epochs. Best ROC AUC: 0.6479 at epoch 5\n",
      "Epoch 1/100 - Mean ROC AUC: 0.5863, Total Train Loss: 295.0569, Total Validation Loss: 223.4012, Best ROC AUC: 0.5862948275842806\n",
      "Epoch 2/100 - Mean ROC AUC: 0.6366, Total Train Loss: 207.0971, Total Validation Loss: 221.4132, Best ROC AUC: 0.6365996888457065\n",
      "Epoch 3/100 - Mean ROC AUC: 0.6455, Total Train Loss: 173.4349, Total Validation Loss: 237.6737, Best ROC AUC: 0.645502593528302\n",
      "Epoch 4/100 - Mean ROC AUC: 0.6458, Total Train Loss: 153.9556, Total Validation Loss: 260.1966, Best ROC AUC: 0.6457980893320289\n",
      "Epoch 5/100 - Mean ROC AUC: 0.6455, Total Train Loss: 142.3211, Total Validation Loss: 281.3779, Best ROC AUC: 0.6457980893320289\n",
      "Epoch 6/100 - Mean ROC AUC: 0.6444, Total Train Loss: 132.2216, Total Validation Loss: 298.5985, Best ROC AUC: 0.6457980893320289\n",
      "Epoch 7/100 - Mean ROC AUC: 0.6425, Total Train Loss: 122.0383, Total Validation Loss: 313.4129, Best ROC AUC: 0.6457980893320289\n",
      "Epoch 8/100 - Mean ROC AUC: 0.6404, Total Train Loss: 113.6803, Total Validation Loss: 326.3184, Best ROC AUC: 0.6457980893320289\n",
      "Early stopping after 9 epochs. Best ROC AUC: 0.6458 at epoch 4\n",
      "Epoch 1/100 - Mean ROC AUC: 0.5793, Total Train Loss: 287.5059, Total Validation Loss: 220.6720, Best ROC AUC: 0.5792901032810008\n",
      "Epoch 2/100 - Mean ROC AUC: 0.6287, Total Train Loss: 203.0624, Total Validation Loss: 224.1164, Best ROC AUC: 0.6286998673756995\n",
      "Epoch 3/100 - Mean ROC AUC: 0.6425, Total Train Loss: 170.0500, Total Validation Loss: 242.0877, Best ROC AUC: 0.64253994048278\n",
      "Epoch 4/100 - Mean ROC AUC: 0.6472, Total Train Loss: 153.0260, Total Validation Loss: 261.3211, Best ROC AUC: 0.6471739617982297\n",
      "Epoch 5/100 - Mean ROC AUC: 0.6482, Total Train Loss: 142.0393, Total Validation Loss: 277.5524, Best ROC AUC: 0.6482217365618871\n",
      "Epoch 6/100 - Mean ROC AUC: 0.6473, Total Train Loss: 131.6194, Total Validation Loss: 291.8049, Best ROC AUC: 0.6482217365618871\n",
      "Epoch 7/100 - Mean ROC AUC: 0.6448, Total Train Loss: 121.4241, Total Validation Loss: 305.7358, Best ROC AUC: 0.6482217365618871\n",
      "Epoch 8/100 - Mean ROC AUC: 0.6419, Total Train Loss: 112.9175, Total Validation Loss: 319.0570, Best ROC AUC: 0.6482217365618871\n",
      "Epoch 9/100 - Mean ROC AUC: 0.6390, Total Train Loss: 106.5510, Total Validation Loss: 330.0227, Best ROC AUC: 0.6482217365618871\n",
      "Early stopping after 10 epochs. Best ROC AUC: 0.6482 at epoch 5\n",
      "Epoch 1/100 - Mean ROC AUC: 0.5790, Total Train Loss: 289.4576, Total Validation Loss: 229.2672, Best ROC AUC: 0.5789866443837762\n",
      "Epoch 2/100 - Mean ROC AUC: 0.6249, Total Train Loss: 207.4471, Total Validation Loss: 224.3171, Best ROC AUC: 0.6248636297377295\n",
      "Epoch 3/100 - Mean ROC AUC: 0.6417, Total Train Loss: 173.7043, Total Validation Loss: 234.7850, Best ROC AUC: 0.6417436010288172\n",
      "Epoch 4/100 - Mean ROC AUC: 0.6448, Total Train Loss: 153.7735, Total Validation Loss: 253.0874, Best ROC AUC: 0.6448206490450041\n",
      "Epoch 5/100 - Mean ROC AUC: 0.6450, Total Train Loss: 141.0170, Total Validation Loss: 272.3373, Best ROC AUC: 0.6450272719369862\n",
      "Epoch 6/100 - Mean ROC AUC: 0.6449, Total Train Loss: 130.2436, Total Validation Loss: 290.9334, Best ROC AUC: 0.6450272719369862\n",
      "Epoch 7/100 - Mean ROC AUC: 0.6442, Total Train Loss: 121.0817, Total Validation Loss: 308.5105, Best ROC AUC: 0.6450272719369862\n",
      "Epoch 8/100 - Mean ROC AUC: 0.6431, Total Train Loss: 114.0325, Total Validation Loss: 323.4525, Best ROC AUC: 0.6450272719369862\n",
      "Epoch 9/100 - Mean ROC AUC: 0.6419, Total Train Loss: 107.9509, Total Validation Loss: 334.8715, Best ROC AUC: 0.6450272719369862\n",
      "Early stopping after 10 epochs. Best ROC AUC: 0.6450 at epoch 5\n",
      "Epoch 1/100 - Mean ROC AUC: 0.5902, Total Train Loss: 291.7410, Total Validation Loss: 223.7673, Best ROC AUC: 0.5902218187861544\n",
      "Epoch 2/100 - Mean ROC AUC: 0.6359, Total Train Loss: 202.3919, Total Validation Loss: 228.4858, Best ROC AUC: 0.6359258629948235\n",
      "Epoch 3/100 - Mean ROC AUC: 0.6482, Total Train Loss: 173.3661, Total Validation Loss: 240.8719, Best ROC AUC: 0.6481757011582593\n",
      "Epoch 4/100 - Mean ROC AUC: 0.6520, Total Train Loss: 153.7210, Total Validation Loss: 257.1247, Best ROC AUC: 0.6519796057097252\n",
      "Epoch 5/100 - Mean ROC AUC: 0.6514, Total Train Loss: 140.1980, Total Validation Loss: 275.3355, Best ROC AUC: 0.6519796057097252\n",
      "Epoch 6/100 - Mean ROC AUC: 0.6487, Total Train Loss: 130.1209, Total Validation Loss: 292.5127, Best ROC AUC: 0.6519796057097252\n",
      "Epoch 7/100 - Mean ROC AUC: 0.6464, Total Train Loss: 121.2626, Total Validation Loss: 307.3847, Best ROC AUC: 0.6519796057097252\n",
      "Epoch 8/100 - Mean ROC AUC: 0.6441, Total Train Loss: 113.3858, Total Validation Loss: 319.6664, Best ROC AUC: 0.6519796057097252\n",
      "Early stopping after 9 epochs. Best ROC AUC: 0.6520 at epoch 4\n",
      "Epoch 1/100 - Mean ROC AUC: 0.5862, Total Train Loss: 285.3435, Total Validation Loss: 226.9429, Best ROC AUC: 0.5862183400494878\n",
      "Epoch 2/100 - Mean ROC AUC: 0.6263, Total Train Loss: 201.4846, Total Validation Loss: 226.3651, Best ROC AUC: 0.6263147940406915\n",
      "Epoch 3/100 - Mean ROC AUC: 0.6409, Total Train Loss: 170.0579, Total Validation Loss: 242.0210, Best ROC AUC: 0.6409124715974241\n",
      "Epoch 4/100 - Mean ROC AUC: 0.6452, Total Train Loss: 153.3428, Total Validation Loss: 261.5791, Best ROC AUC: 0.6452165281170507\n",
      "Epoch 5/100 - Mean ROC AUC: 0.6458, Total Train Loss: 141.5285, Total Validation Loss: 279.5943, Best ROC AUC: 0.6457788403697908\n",
      "Epoch 6/100 - Mean ROC AUC: 0.6448, Total Train Loss: 130.1206, Total Validation Loss: 296.1826, Best ROC AUC: 0.6457788403697908\n",
      "Epoch 7/100 - Mean ROC AUC: 0.6427, Total Train Loss: 120.1476, Total Validation Loss: 310.7653, Best ROC AUC: 0.6457788403697908\n",
      "Epoch 8/100 - Mean ROC AUC: 0.6405, Total Train Loss: 112.4783, Total Validation Loss: 322.3585, Best ROC AUC: 0.6457788403697908\n",
      "Epoch 9/100 - Mean ROC AUC: 0.6387, Total Train Loss: 106.2960, Total Validation Loss: 330.8690, Best ROC AUC: 0.6457788403697908\n",
      "Early stopping after 10 epochs. Best ROC AUC: 0.6458 at epoch 5\n",
      "CPU times: total: 21min 25s\n",
      "Wall time: 7min 27s\n"
     ]
    }
   ],
   "source": [
    "%%time\n",
    "val_aucs_fp = []\n",
    "for _ in range(10):\n",
    "    train_losses_per_epoch, val_losses_per_epoch, mean_roc_aucs_per_epoch, best_epoch = train_all_tasks(\n",
    "        model,\n",
    "        toxcast_features,\n",
    "        toxcast_labels_val,\n",
    "        val_tasks_indices,\n",
    "        num_epochs=100,\n",
    "        learning_rate=1e-2,\n",
    "        patience=5,\n",
    "        k=256,\n",
    "        alpha=0,\n",
    "        diffusion_k=1,\n",
    "        propagate_features=True\n",
    "    )\n",
    "    \n",
    "    val_aucs_fp.append(mean_roc_aucs_per_epoch[best_epoch])"
   ]
  },
  {
   "cell_type": "code",
   "execution_count": 29,
   "id": "d9e51355-4fb5-46a1-8768-6e5509aed94a",
   "metadata": {},
   "outputs": [
    {
     "name": "stdout",
     "output_type": "stream",
     "text": [
      "Validation ROC AUC = 0.6470±0.0031\n"
     ]
    }
   ],
   "source": [
    "val_aucs_fp = np.array(val_aucs_fp)\n",
    "print(f'Validation ROC AUC = {np.mean(val_aucs_fp):.4f}±{np.std(val_aucs_fp):.4f}')"
   ]
  },
  {
   "cell_type": "markdown",
   "id": "ceb9d910-0624-4587-971b-0a0f18cbd3c2",
   "metadata": {},
   "source": [
    "**Plot training results**"
   ]
  },
  {
   "cell_type": "code",
   "execution_count": 23,
   "id": "a6c762b4-5d1a-4105-9a37-39edadb6912f",
   "metadata": {},
   "outputs": [],
   "source": [
    "def plot_training_results(train_losses, val_losses, mean_roc_aucs, best_epoch):\n",
    "    epochs = range(1, len(train_losses) + 1)\n",
    "\n",
    "    fig, ax = plt.subplots(1, 2, figsize=(14, 5))\n",
    "\n",
    "    ax[0].plot(epochs, train_losses, label='train Loss', color='blue')\n",
    "    ax[0].plot(epochs, val_losses, label='validation Loss', color='orange')\n",
    "    ax[0].scatter([best_epoch + 1], [train_losses[best_epoch]], color='red', label='best model', zorder=5)\n",
    "    ax[0].scatter([best_epoch + 1], [val_losses[best_epoch]], color='red', zorder=5)\n",
    "    ax[0].set_xlabel('epoch')\n",
    "    ax[0].set_ylabel('loss')\n",
    "    ax[0].set_title('train and validation loss per epoch')\n",
    "    ax[0].legend()\n",
    "\n",
    "    ax[1].plot(epochs, mean_roc_aucs, label='mean ROC AUC', color='green')\n",
    "    ax[1].scatter([best_epoch + 1], [mean_roc_aucs[best_epoch]], color='red', label='best model', zorder=5)\n",
    "    ax[1].set_xlabel('epoch')\n",
    "    ax[1].set_ylabel('mean ROC AUC')\n",
    "    ax[1].set_title('mean ROC AUC per epoch')\n",
    "    ax[1].legend()\n",
    "    \n",
    "    plt.tight_layout()\n",
    "    plt.show()"
   ]
  },
  {
   "cell_type": "code",
   "execution_count": 24,
   "id": "c47a0139-2394-44a4-bf20-0ae1b70e8ca6",
   "metadata": {},
   "outputs": [
    {
     "data": {
      "image/png": "[encoded data removed]",
      "text/plain": [
       "<Figure size 1400x500 with 2 Axes>"
      ]
     },
     "metadata": {},
     "output_type": "display_data"
    }
   ],
   "source": [
    "plot_training_results(train_losses_per_epoch, \n",
    "                      val_losses_per_epoch, \n",
    "                      mean_roc_aucs_per_epoch, \n",
    "                      best_epoch)"
   ]
  },
  {
   "cell_type": "markdown",
   "id": "1de62561-772c-47c1-8513-cbb11cccabb7",
   "metadata": {},
   "source": [
    "**Train and validation without feature propagation**"
   ]
  },
  {
   "cell_type": "code",
   "execution_count": 25,
   "id": "d34c39eb-3633-4919-98a3-2fd50f4b5006",
   "metadata": {},
   "outputs": [
    {
     "name": "stdout",
     "output_type": "stream",
     "text": [
      "Epoch 1/100 - Mean ROC AUC: 0.5848, Total Train Loss: 298.1962, Total Validation Loss: 231.9681, Best ROC AUC: 0.5848178485837823\n",
      "Epoch 2/100 - Mean ROC AUC: 0.6228, Total Train Loss: 186.6090, Total Validation Loss: 227.5525, Best ROC AUC: 0.6228228223266233\n",
      "Epoch 3/100 - Mean ROC AUC: 0.6343, Total Train Loss: 143.9855, Total Validation Loss: 241.6204, Best ROC AUC: 0.6343169506251689\n",
      "Epoch 4/100 - Mean ROC AUC: 0.6376, Total Train Loss: 118.9756, Total Validation Loss: 262.0792, Best ROC AUC: 0.6376116201772587\n",
      "Epoch 5/100 - Mean ROC AUC: 0.6380, Total Train Loss: 100.2195, Total Validation Loss: 284.1451, Best ROC AUC: 0.6379590722128134\n",
      "Epoch 6/100 - Mean ROC AUC: 0.6371, Total Train Loss: 85.5666, Total Validation Loss: 305.1927, Best ROC AUC: 0.6379590722128134\n",
      "Epoch 7/100 - Mean ROC AUC: 0.6357, Total Train Loss: 73.5728, Total Validation Loss: 324.6047, Best ROC AUC: 0.6379590722128134\n",
      "Epoch 8/100 - Mean ROC AUC: 0.6343, Total Train Loss: 63.7641, Total Validation Loss: 342.5051, Best ROC AUC: 0.6379590722128134\n",
      "Epoch 9/100 - Mean ROC AUC: 0.6330, Total Train Loss: 55.7800, Total Validation Loss: 358.7926, Best ROC AUC: 0.6379590722128134\n",
      "Early stopping after 10 epochs. Best ROC AUC: 0.6380 at epoch 5\n",
      "Epoch 1/100 - Mean ROC AUC: 0.5781, Total Train Loss: 300.9827, Total Validation Loss: 233.3531, Best ROC AUC: 0.5780589672617239\n",
      "Epoch 2/100 - Mean ROC AUC: 0.6223, Total Train Loss: 188.5572, Total Validation Loss: 224.5044, Best ROC AUC: 0.6223369496822719\n",
      "Epoch 3/100 - Mean ROC AUC: 0.6376, Total Train Loss: 144.3913, Total Validation Loss: 240.3106, Best ROC AUC: 0.6376310205963973\n",
      "Epoch 4/100 - Mean ROC AUC: 0.6416, Total Train Loss: 118.5260, Total Validation Loss: 263.9706, Best ROC AUC: 0.641578088079333\n",
      "Epoch 5/100 - Mean ROC AUC: 0.6412, Total Train Loss: 99.6827, Total Validation Loss: 288.3020, Best ROC AUC: 0.641578088079333\n",
      "Epoch 6/100 - Mean ROC AUC: 0.6392, Total Train Loss: 85.0809, Total Validation Loss: 310.1446, Best ROC AUC: 0.641578088079333\n",
      "Epoch 7/100 - Mean ROC AUC: 0.6370, Total Train Loss: 73.1978, Total Validation Loss: 329.1304, Best ROC AUC: 0.641578088079333\n",
      "Epoch 8/100 - Mean ROC AUC: 0.6349, Total Train Loss: 63.6724, Total Validation Loss: 345.3730, Best ROC AUC: 0.641578088079333\n",
      "Early stopping after 9 epochs. Best ROC AUC: 0.6416 at epoch 4\n",
      "Epoch 1/100 - Mean ROC AUC: 0.5686, Total Train Loss: 308.9543, Total Validation Loss: 237.1740, Best ROC AUC: 0.5686223009041624\n",
      "Epoch 2/100 - Mean ROC AUC: 0.6173, Total Train Loss: 192.2644, Total Validation Loss: 234.4117, Best ROC AUC: 0.6173096798451083\n",
      "Epoch 3/100 - Mean ROC AUC: 0.6349, Total Train Loss: 147.8328, Total Validation Loss: 247.7868, Best ROC AUC: 0.6349431531308655\n",
      "Epoch 4/100 - Mean ROC AUC: 0.6399, Total Train Loss: 121.8190, Total Validation Loss: 265.8722, Best ROC AUC: 0.6399387772815244\n",
      "Epoch 5/100 - Mean ROC AUC: 0.6400, Total Train Loss: 101.6698, Total Validation Loss: 285.7173, Best ROC AUC: 0.639960580757579\n",
      "Epoch 6/100 - Mean ROC AUC: 0.6381, Total Train Loss: 85.7485, Total Validation Loss: 305.3700, Best ROC AUC: 0.639960580757579\n",
      "Epoch 7/100 - Mean ROC AUC: 0.6355, Total Train Loss: 73.2551, Total Validation Loss: 324.2174, Best ROC AUC: 0.639960580757579\n",
      "Epoch 8/100 - Mean ROC AUC: 0.6329, Total Train Loss: 63.6514, Total Validation Loss: 341.9477, Best ROC AUC: 0.639960580757579\n",
      "Epoch 9/100 - Mean ROC AUC: 0.6308, Total Train Loss: 55.9728, Total Validation Loss: 358.1127, Best ROC AUC: 0.639960580757579\n",
      "Early stopping after 10 epochs. Best ROC AUC: 0.6400 at epoch 5\n",
      "Epoch 1/100 - Mean ROC AUC: 0.5784, Total Train Loss: 301.7214, Total Validation Loss: 223.8699, Best ROC AUC: 0.5783931746885753\n",
      "Epoch 2/100 - Mean ROC AUC: 0.6190, Total Train Loss: 189.0459, Total Validation Loss: 227.0337, Best ROC AUC: 0.618994090474264\n",
      "Epoch 3/100 - Mean ROC AUC: 0.6324, Total Train Loss: 145.0210, Total Validation Loss: 247.8187, Best ROC AUC: 0.6324257066939085\n",
      "Epoch 4/100 - Mean ROC AUC: 0.6369, Total Train Loss: 118.6160, Total Validation Loss: 270.1660, Best ROC AUC: 0.6368859825037315\n",
      "Epoch 5/100 - Mean ROC AUC: 0.6383, Total Train Loss: 99.2060, Total Validation Loss: 291.2764, Best ROC AUC: 0.6383232998062736\n",
      "Epoch 6/100 - Mean ROC AUC: 0.6380, Total Train Loss: 84.6700, Total Validation Loss: 310.4545, Best ROC AUC: 0.6383232998062736\n",
      "Epoch 7/100 - Mean ROC AUC: 0.6368, Total Train Loss: 73.1402, Total Validation Loss: 327.8107, Best ROC AUC: 0.6383232998062736\n",
      "Epoch 8/100 - Mean ROC AUC: 0.6351, Total Train Loss: 63.2298, Total Validation Loss: 344.3242, Best ROC AUC: 0.6383232998062736\n",
      "Epoch 9/100 - Mean ROC AUC: 0.6333, Total Train Loss: 54.7517, Total Validation Loss: 360.3199, Best ROC AUC: 0.6383232998062736\n",
      "Early stopping after 10 epochs. Best ROC AUC: 0.6383 at epoch 5\n",
      "Epoch 1/100 - Mean ROC AUC: 0.5775, Total Train Loss: 299.3175, Total Validation Loss: 224.4220, Best ROC AUC: 0.5774973992048855\n",
      "Epoch 2/100 - Mean ROC AUC: 0.6206, Total Train Loss: 186.3322, Total Validation Loss: 224.0672, Best ROC AUC: 0.6206074232058462\n",
      "Epoch 3/100 - Mean ROC AUC: 0.6345, Total Train Loss: 144.2036, Total Validation Loss: 243.5848, Best ROC AUC: 0.634507704340481\n",
      "Epoch 4/100 - Mean ROC AUC: 0.6378, Total Train Loss: 119.4436, Total Validation Loss: 266.4560, Best ROC AUC: 0.6378283706695639\n",
      "Epoch 5/100 - Mean ROC AUC: 0.6381, Total Train Loss: 100.3366, Total Validation Loss: 288.9893, Best ROC AUC: 0.6380509997744257\n",
      "Epoch 6/100 - Mean ROC AUC: 0.6370, Total Train Loss: 85.0999, Total Validation Loss: 309.8400, Best ROC AUC: 0.6380509997744257\n",
      "Epoch 7/100 - Mean ROC AUC: 0.6355, Total Train Loss: 72.8793, Total Validation Loss: 328.6475, Best ROC AUC: 0.6380509997744257\n",
      "Epoch 8/100 - Mean ROC AUC: 0.6339, Total Train Loss: 62.8883, Total Validation Loss: 345.5389, Best ROC AUC: 0.6380509997744257\n",
      "Epoch 9/100 - Mean ROC AUC: 0.6322, Total Train Loss: 54.5556, Total Validation Loss: 361.2749, Best ROC AUC: 0.6380509997744257\n",
      "Early stopping after 10 epochs. Best ROC AUC: 0.6381 at epoch 5\n",
      "Epoch 1/100 - Mean ROC AUC: 0.5684, Total Train Loss: 307.8300, Total Validation Loss: 233.8645, Best ROC AUC: 0.5684328371816406\n",
      "Epoch 2/100 - Mean ROC AUC: 0.6184, Total Train Loss: 190.6623, Total Validation Loss: 230.4655, Best ROC AUC: 0.6183567670270218\n",
      "Epoch 3/100 - Mean ROC AUC: 0.6343, Total Train Loss: 144.7317, Total Validation Loss: 244.8401, Best ROC AUC: 0.6343395145920825\n",
      "Epoch 4/100 - Mean ROC AUC: 0.6388, Total Train Loss: 119.6672, Total Validation Loss: 263.2106, Best ROC AUC: 0.6388392193142979\n",
      "Epoch 5/100 - Mean ROC AUC: 0.6393, Total Train Loss: 100.6277, Total Validation Loss: 283.3769, Best ROC AUC: 0.6393166207115603\n",
      "Epoch 6/100 - Mean ROC AUC: 0.6380, Total Train Loss: 85.2924, Total Validation Loss: 304.8939, Best ROC AUC: 0.6393166207115603\n",
      "Epoch 7/100 - Mean ROC AUC: 0.6361, Total Train Loss: 73.2008, Total Validation Loss: 326.9080, Best ROC AUC: 0.6393166207115603\n",
      "Epoch 8/100 - Mean ROC AUC: 0.6341, Total Train Loss: 63.9385, Total Validation Loss: 347.9974, Best ROC AUC: 0.6393166207115603\n",
      "Epoch 9/100 - Mean ROC AUC: 0.6324, Total Train Loss: 56.4746, Total Validation Loss: 366.6343, Best ROC AUC: 0.6393166207115603\n",
      "Early stopping after 10 epochs. Best ROC AUC: 0.6393 at epoch 5\n",
      "Epoch 1/100 - Mean ROC AUC: 0.5855, Total Train Loss: 302.1753, Total Validation Loss: 227.3364, Best ROC AUC: 0.5855411643250427\n",
      "Epoch 2/100 - Mean ROC AUC: 0.6236, Total Train Loss: 188.7775, Total Validation Loss: 224.5744, Best ROC AUC: 0.6235571020910815\n",
      "Epoch 3/100 - Mean ROC AUC: 0.6345, Total Train Loss: 143.4696, Total Validation Loss: 241.7710, Best ROC AUC: 0.6345291720232712\n",
      "Epoch 4/100 - Mean ROC AUC: 0.6374, Total Train Loss: 117.9871, Total Validation Loss: 264.0372, Best ROC AUC: 0.6373799050963554\n",
      "Epoch 5/100 - Mean ROC AUC: 0.6377, Total Train Loss: 99.9633, Total Validation Loss: 286.5876, Best ROC AUC: 0.6377145014393772\n",
      "Epoch 6/100 - Mean ROC AUC: 0.6368, Total Train Loss: 85.6516, Total Validation Loss: 307.7696, Best ROC AUC: 0.6377145014393772\n",
      "Epoch 7/100 - Mean ROC AUC: 0.6353, Total Train Loss: 73.7655, Total Validation Loss: 326.8753, Best ROC AUC: 0.6377145014393772\n",
      "Epoch 8/100 - Mean ROC AUC: 0.6339, Total Train Loss: 63.8461, Total Validation Loss: 343.7389, Best ROC AUC: 0.6377145014393772\n",
      "Epoch 9/100 - Mean ROC AUC: 0.6327, Total Train Loss: 55.5980, Total Validation Loss: 359.1071, Best ROC AUC: 0.6377145014393772\n",
      "Early stopping after 10 epochs. Best ROC AUC: 0.6377 at epoch 5\n",
      "Epoch 1/100 - Mean ROC AUC: 0.5756, Total Train Loss: 300.7067, Total Validation Loss: 221.9786, Best ROC AUC: 0.5756491759075589\n",
      "Epoch 2/100 - Mean ROC AUC: 0.6177, Total Train Loss: 189.3404, Total Validation Loss: 224.0329, Best ROC AUC: 0.6176931039979201\n",
      "Epoch 3/100 - Mean ROC AUC: 0.6322, Total Train Loss: 145.3263, Total Validation Loss: 243.9676, Best ROC AUC: 0.6322490812801037\n",
      "Epoch 4/100 - Mean ROC AUC: 0.6368, Total Train Loss: 120.1039, Total Validation Loss: 266.3343, Best ROC AUC: 0.6368133125625115\n",
      "Epoch 5/100 - Mean ROC AUC: 0.6388, Total Train Loss: 101.2090, Total Validation Loss: 287.3198, Best ROC AUC: 0.6388217360774617\n",
      "Epoch 6/100 - Mean ROC AUC: 0.6392, Total Train Loss: 85.9453, Total Validation Loss: 306.4783, Best ROC AUC: 0.6392488582088491\n",
      "Epoch 7/100 - Mean ROC AUC: 0.6387, Total Train Loss: 73.2164, Total Validation Loss: 324.5083, Best ROC AUC: 0.6392488582088491\n",
      "Epoch 8/100 - Mean ROC AUC: 0.6373, Total Train Loss: 62.9924, Total Validation Loss: 341.8688, Best ROC AUC: 0.6392488582088491\n",
      "Epoch 9/100 - Mean ROC AUC: 0.6357, Total Train Loss: 55.1406, Total Validation Loss: 358.0850, Best ROC AUC: 0.6392488582088491\n",
      "Epoch 10/100 - Mean ROC AUC: 0.6338, Total Train Loss: 48.7718, Total Validation Loss: 373.4674, Best ROC AUC: 0.6392488582088491\n",
      "Early stopping after 11 epochs. Best ROC AUC: 0.6392 at epoch 6\n",
      "Epoch 1/100 - Mean ROC AUC: 0.5863, Total Train Loss: 297.5522, Total Validation Loss: 231.7811, Best ROC AUC: 0.5862959676981983\n",
      "Epoch 2/100 - Mean ROC AUC: 0.6237, Total Train Loss: 189.2974, Total Validation Loss: 229.4064, Best ROC AUC: 0.6237462917602239\n",
      "Epoch 3/100 - Mean ROC AUC: 0.6339, Total Train Loss: 143.3792, Total Validation Loss: 243.9014, Best ROC AUC: 0.6339164786785524\n",
      "Epoch 4/100 - Mean ROC AUC: 0.6361, Total Train Loss: 116.2228, Total Validation Loss: 264.5167, Best ROC AUC: 0.6360962323118913\n",
      "Epoch 5/100 - Mean ROC AUC: 0.6365, Total Train Loss: 97.1125, Total Validation Loss: 286.5007, Best ROC AUC: 0.6364591764598142\n",
      "Epoch 6/100 - Mean ROC AUC: 0.6363, Total Train Loss: 82.4006, Total Validation Loss: 307.0417, Best ROC AUC: 0.6364591764598142\n",
      "Epoch 7/100 - Mean ROC AUC: 0.6357, Total Train Loss: 70.4893, Total Validation Loss: 326.0258, Best ROC AUC: 0.6364591764598142\n",
      "Epoch 8/100 - Mean ROC AUC: 0.6347, Total Train Loss: 60.9027, Total Validation Loss: 342.8160, Best ROC AUC: 0.6364591764598142\n",
      "Epoch 9/100 - Mean ROC AUC: 0.6333, Total Train Loss: 53.1345, Total Validation Loss: 357.9575, Best ROC AUC: 0.6364591764598142\n",
      "Early stopping after 10 epochs. Best ROC AUC: 0.6365 at epoch 5\n",
      "Epoch 1/100 - Mean ROC AUC: 0.5789, Total Train Loss: 297.7716, Total Validation Loss: 225.4199, Best ROC AUC: 0.5788769761712618\n",
      "Epoch 2/100 - Mean ROC AUC: 0.6221, Total Train Loss: 187.6453, Total Validation Loss: 226.9354, Best ROC AUC: 0.6220954198629838\n",
      "Epoch 3/100 - Mean ROC AUC: 0.6362, Total Train Loss: 144.7847, Total Validation Loss: 244.1927, Best ROC AUC: 0.6362481565326016\n",
      "Epoch 4/100 - Mean ROC AUC: 0.6395, Total Train Loss: 119.3644, Total Validation Loss: 264.0409, Best ROC AUC: 0.6394631479476396\n",
      "Epoch 5/100 - Mean ROC AUC: 0.6394, Total Train Loss: 99.8112, Total Validation Loss: 283.2551, Best ROC AUC: 0.6394631479476396\n",
      "Epoch 6/100 - Mean ROC AUC: 0.6380, Total Train Loss: 84.3700, Total Validation Loss: 301.4443, Best ROC AUC: 0.6394631479476396\n",
      "Epoch 7/100 - Mean ROC AUC: 0.6362, Total Train Loss: 72.3596, Total Validation Loss: 318.7782, Best ROC AUC: 0.6394631479476396\n",
      "Epoch 8/100 - Mean ROC AUC: 0.6343, Total Train Loss: 62.7107, Total Validation Loss: 335.4541, Best ROC AUC: 0.6394631479476396\n",
      "Early stopping after 9 epochs. Best ROC AUC: 0.6395 at epoch 4\n",
      "CPU times: total: 7min 5s\n",
      "Wall time: 2min 50s\n"
     ]
    }
   ],
   "source": [
    "%%time\n",
    "val_aucs = []\n",
    "for _ in range(10):\n",
    "    train_losses_per_epoch, val_losses_per_epoch, mean_roc_aucs_per_epoch, best_epoch = train_all_tasks(\n",
    "        model,\n",
    "        toxcast_features,\n",
    "        toxcast_labels_val,\n",
    "        val_tasks_indices,\n",
    "        num_epochs=100,\n",
    "        learning_rate=1e-2,\n",
    "        patience=5,\n",
    "        k=256,\n",
    "        alpha=0,\n",
    "        diffusion_k=1,\n",
    "        propagate_features=False\n",
    "    )\n",
    "    \n",
    "    val_aucs.append(mean_roc_aucs_per_epoch[best_epoch])"
   ]
  },
  {
   "cell_type": "code",
   "execution_count": 30,
   "id": "8afc553a-941b-4625-b074-1254a091d893",
   "metadata": {},
   "outputs": [
    {
     "name": "stdout",
     "output_type": "stream",
     "text": [
      "Validation ROC AUC = 0.6388±0.0013\n"
     ]
    }
   ],
   "source": [
    "val_aucs = np.array(val_aucs)\n",
    "print(f'Validation ROC AUC = {np.mean(val_aucs):.4f}±{np.std(val_aucs):.4f}')"
   ]
  },
  {
   "cell_type": "code",
   "execution_count": 28,
   "id": "2383a81e-be32-4f3d-b677-1890d71c28bd",
   "metadata": {},
   "outputs": [
    {
     "data": {
      "image/png": "[encoded data removed]",
      "text/plain": [
       "<Figure size 1400x500 with 2 Axes>"
      ]
     },
     "metadata": {},
     "output_type": "display_data"
    }
   ],
   "source": [
    "plot_training_results(train_losses_per_epoch, \n",
    "                      val_losses_per_epoch, \n",
    "                      mean_roc_aucs_per_epoch, \n",
    "                      best_epoch)"
   ]
  }
 ],
 "metadata": {
  "accelerator": "GPU",
  "colab": {
   "gpuType": "T4",
   "provenance": []
  },
  "kernelspec": {
   "display_name": "Python 3 (ipykernel)",
   "language": "python",
   "name": "python3"
  },
  "language_info": {
   "codemirror_mode": {
    "name": "ipython",
    "version": 3
   },
   "file_extension": ".py",
   "mimetype": "text/x-python",
   "name": "python",
   "nbconvert_exporter": "python",
   "pygments_lexer": "ipython3",
   "version": "3.9.13"
  }
 },
 "nbformat": 4,
 "nbformat_minor": 5
}
