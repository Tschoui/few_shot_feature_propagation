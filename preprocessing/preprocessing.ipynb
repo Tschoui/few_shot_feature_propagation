{
 "cells": [
  {
   "cell_type": "code",
   "execution_count": 1,
   "id": "24c767ee-8afc-4f20-9705-cfa8ce98a2bf",
   "metadata": {},
   "outputs": [],
   "source": [
    "import numpy as np\n",
    "import pandas as pd\n",
    "\n",
    "from sklearn.model_selection import train_test_split\n",
    "from sklearn.preprocessing import StandardScaler\n",
    "\n",
    "from rdkit import Chem\n",
    "from rdkit import DataStructs\n",
    "from rdkit.Chem import Descriptors, rdFingerprintGenerator\n",
    "\n",
    "from statsmodels.distributions.empirical_distribution import ECDF\n",
    "\n",
    "real_200_descr = [0,1,2,3,4,5,6,7,8,9,10,11,12,13,14,15,16,25,26,27,28,29,30,31,32,33,34,35,36,37,38,39,40,41,42,43,44,45,46,47,48,49,50,51,52,53,54,55,56,57,58,59,60,61,62,63,64,65,66,67,68,69,70,71,72,73,74,75,76,77,78,79,80,81,82,83,84,85,86,87,88,89,90,91,92,93,94,95,96,97,98,99,100,101,102,103,104,105,106,107,108,109,110,111,112,113,114,115,116,117,118,119,120,121,122,123,124,125,126,127,128,129,130,131,132,133,134,135,136,137,138,139,140,141,142,143,144,145,146,147,148,149,150,151,152,153,154,155,156,157,158,159,160,161,162,163,164,165,166,167,168,169,170,171,172,173,174,175,176,177,178,179,180,181,182,183,184,185,186,187,188,189,190,191,192,193,194,195,196,197,198,199,200,201,202,203,204,205,206,207]"
   ]
  },
  {
   "cell_type": "code",
   "execution_count": 2,
   "id": "8e2a4200-c014-4f6a-bc11-b9a5e1e66ed4",
   "metadata": {},
   "outputs": [
    {
     "name": "stdout",
     "output_type": "stream",
     "text": [
      "Shape:  (8615, 618)\n",
      "# meas.:  1547010\n"
     ]
    },
    {
     "data": {
      "text/html": [
       "<div>\n",
       "<style scoped>\n",
       "    .dataframe tbody tr th:only-of-type {\n",
       "        vertical-align: middle;\n",
       "    }\n",
       "\n",
       "    .dataframe tbody tr th {\n",
       "        vertical-align: top;\n",
       "    }\n",
       "\n",
       "    .dataframe thead th {\n",
       "        text-align: right;\n",
       "    }\n",
       "</style>\n",
       "<table border=\"1\" class=\"dataframe\">\n",
       "  <thead>\n",
       "    <tr style=\"text-align: right;\">\n",
       "      <th></th>\n",
       "      <th>smiles</th>\n",
       "      <th>ACEA_T47D_80hr_Negative</th>\n",
       "      <th>ACEA_T47D_80hr_Positive</th>\n",
       "      <th>APR_HepG2_CellCycleArrest_24h_dn</th>\n",
       "      <th>APR_HepG2_CellCycleArrest_24h_up</th>\n",
       "      <th>APR_HepG2_CellCycleArrest_72h_dn</th>\n",
       "      <th>APR_HepG2_CellLoss_24h_dn</th>\n",
       "      <th>APR_HepG2_CellLoss_72h_dn</th>\n",
       "      <th>APR_HepG2_MicrotubuleCSK_24h_dn</th>\n",
       "      <th>APR_HepG2_MicrotubuleCSK_24h_up</th>\n",
       "      <th>...</th>\n",
       "      <th>Tanguay_ZF_120hpf_OTIC_up</th>\n",
       "      <th>Tanguay_ZF_120hpf_PE_up</th>\n",
       "      <th>Tanguay_ZF_120hpf_PFIN_up</th>\n",
       "      <th>Tanguay_ZF_120hpf_PIG_up</th>\n",
       "      <th>Tanguay_ZF_120hpf_SNOU_up</th>\n",
       "      <th>Tanguay_ZF_120hpf_SOMI_up</th>\n",
       "      <th>Tanguay_ZF_120hpf_SWIM_up</th>\n",
       "      <th>Tanguay_ZF_120hpf_TRUN_up</th>\n",
       "      <th>Tanguay_ZF_120hpf_TR_up</th>\n",
       "      <th>Tanguay_ZF_120hpf_YSE_up</th>\n",
       "    </tr>\n",
       "  </thead>\n",
       "  <tbody>\n",
       "    <tr>\n",
       "      <th>0</th>\n",
       "      <td>[O-][N+](=O)C1=CC=C(Cl)C=C1</td>\n",
       "      <td>0.0</td>\n",
       "      <td>0.0</td>\n",
       "      <td>NaN</td>\n",
       "      <td>NaN</td>\n",
       "      <td>NaN</td>\n",
       "      <td>NaN</td>\n",
       "      <td>NaN</td>\n",
       "      <td>NaN</td>\n",
       "      <td>NaN</td>\n",
       "      <td>...</td>\n",
       "      <td>0.0</td>\n",
       "      <td>0.0</td>\n",
       "      <td>0.0</td>\n",
       "      <td>0.0</td>\n",
       "      <td>0.0</td>\n",
       "      <td>0.0</td>\n",
       "      <td>0.0</td>\n",
       "      <td>0.0</td>\n",
       "      <td>0.0</td>\n",
       "      <td>0.0</td>\n",
       "    </tr>\n",
       "    <tr>\n",
       "      <th>1</th>\n",
       "      <td>C[SiH](C)O[Si](C)(C)O[Si](C)(C)O[SiH](C)C</td>\n",
       "      <td>NaN</td>\n",
       "      <td>NaN</td>\n",
       "      <td>NaN</td>\n",
       "      <td>NaN</td>\n",
       "      <td>NaN</td>\n",
       "      <td>NaN</td>\n",
       "      <td>NaN</td>\n",
       "      <td>NaN</td>\n",
       "      <td>NaN</td>\n",
       "      <td>...</td>\n",
       "      <td>NaN</td>\n",
       "      <td>NaN</td>\n",
       "      <td>NaN</td>\n",
       "      <td>NaN</td>\n",
       "      <td>NaN</td>\n",
       "      <td>NaN</td>\n",
       "      <td>NaN</td>\n",
       "      <td>NaN</td>\n",
       "      <td>NaN</td>\n",
       "      <td>NaN</td>\n",
       "    </tr>\n",
       "    <tr>\n",
       "      <th>2</th>\n",
       "      <td>CN1CCN(CC1)C(=O)C1CCCCC1</td>\n",
       "      <td>NaN</td>\n",
       "      <td>NaN</td>\n",
       "      <td>NaN</td>\n",
       "      <td>NaN</td>\n",
       "      <td>NaN</td>\n",
       "      <td>NaN</td>\n",
       "      <td>NaN</td>\n",
       "      <td>NaN</td>\n",
       "      <td>NaN</td>\n",
       "      <td>...</td>\n",
       "      <td>NaN</td>\n",
       "      <td>NaN</td>\n",
       "      <td>NaN</td>\n",
       "      <td>NaN</td>\n",
       "      <td>NaN</td>\n",
       "      <td>NaN</td>\n",
       "      <td>NaN</td>\n",
       "      <td>NaN</td>\n",
       "      <td>NaN</td>\n",
       "      <td>NaN</td>\n",
       "    </tr>\n",
       "    <tr>\n",
       "      <th>3</th>\n",
       "      <td>NC1=CC=C(C=C1)[N+]([O-])=O</td>\n",
       "      <td>1.0</td>\n",
       "      <td>0.0</td>\n",
       "      <td>0.0</td>\n",
       "      <td>0.0</td>\n",
       "      <td>0.0</td>\n",
       "      <td>0.0</td>\n",
       "      <td>0.0</td>\n",
       "      <td>0.0</td>\n",
       "      <td>0.0</td>\n",
       "      <td>...</td>\n",
       "      <td>0.0</td>\n",
       "      <td>0.0</td>\n",
       "      <td>0.0</td>\n",
       "      <td>0.0</td>\n",
       "      <td>0.0</td>\n",
       "      <td>0.0</td>\n",
       "      <td>0.0</td>\n",
       "      <td>0.0</td>\n",
       "      <td>0.0</td>\n",
       "      <td>0.0</td>\n",
       "    </tr>\n",
       "    <tr>\n",
       "      <th>4</th>\n",
       "      <td>OC1=CC=C(C=C1)[N+]([O-])=O</td>\n",
       "      <td>0.0</td>\n",
       "      <td>0.0</td>\n",
       "      <td>0.0</td>\n",
       "      <td>0.0</td>\n",
       "      <td>0.0</td>\n",
       "      <td>0.0</td>\n",
       "      <td>0.0</td>\n",
       "      <td>0.0</td>\n",
       "      <td>0.0</td>\n",
       "      <td>...</td>\n",
       "      <td>0.0</td>\n",
       "      <td>0.0</td>\n",
       "      <td>0.0</td>\n",
       "      <td>0.0</td>\n",
       "      <td>0.0</td>\n",
       "      <td>0.0</td>\n",
       "      <td>0.0</td>\n",
       "      <td>0.0</td>\n",
       "      <td>0.0</td>\n",
       "      <td>0.0</td>\n",
       "    </tr>\n",
       "  </tbody>\n",
       "</table>\n",
       "<p>5 rows × 618 columns</p>\n",
       "</div>"
      ],
      "text/plain": [
       "                                      smiles  ACEA_T47D_80hr_Negative  \\\n",
       "0                [O-][N+](=O)C1=CC=C(Cl)C=C1                      0.0   \n",
       "1  C[SiH](C)O[Si](C)(C)O[Si](C)(C)O[SiH](C)C                      NaN   \n",
       "2                   CN1CCN(CC1)C(=O)C1CCCCC1                      NaN   \n",
       "3                 NC1=CC=C(C=C1)[N+]([O-])=O                      1.0   \n",
       "4                 OC1=CC=C(C=C1)[N+]([O-])=O                      0.0   \n",
       "\n",
       "   ACEA_T47D_80hr_Positive  APR_HepG2_CellCycleArrest_24h_dn  \\\n",
       "0                      0.0                               NaN   \n",
       "1                      NaN                               NaN   \n",
       "2                      NaN                               NaN   \n",
       "3                      0.0                               0.0   \n",
       "4                      0.0                               0.0   \n",
       "\n",
       "   APR_HepG2_CellCycleArrest_24h_up  APR_HepG2_CellCycleArrest_72h_dn  \\\n",
       "0                               NaN                               NaN   \n",
       "1                               NaN                               NaN   \n",
       "2                               NaN                               NaN   \n",
       "3                               0.0                               0.0   \n",
       "4                               0.0                               0.0   \n",
       "\n",
       "   APR_HepG2_CellLoss_24h_dn  APR_HepG2_CellLoss_72h_dn  \\\n",
       "0                        NaN                        NaN   \n",
       "1                        NaN                        NaN   \n",
       "2                        NaN                        NaN   \n",
       "3                        0.0                        0.0   \n",
       "4                        0.0                        0.0   \n",
       "\n",
       "   APR_HepG2_MicrotubuleCSK_24h_dn  APR_HepG2_MicrotubuleCSK_24h_up  ...  \\\n",
       "0                              NaN                              NaN  ...   \n",
       "1                              NaN                              NaN  ...   \n",
       "2                              NaN                              NaN  ...   \n",
       "3                              0.0                              0.0  ...   \n",
       "4                              0.0                              0.0  ...   \n",
       "\n",
       "   Tanguay_ZF_120hpf_OTIC_up  Tanguay_ZF_120hpf_PE_up  \\\n",
       "0                        0.0                      0.0   \n",
       "1                        NaN                      NaN   \n",
       "2                        NaN                      NaN   \n",
       "3                        0.0                      0.0   \n",
       "4                        0.0                      0.0   \n",
       "\n",
       "   Tanguay_ZF_120hpf_PFIN_up  Tanguay_ZF_120hpf_PIG_up  \\\n",
       "0                        0.0                       0.0   \n",
       "1                        NaN                       NaN   \n",
       "2                        NaN                       NaN   \n",
       "3                        0.0                       0.0   \n",
       "4                        0.0                       0.0   \n",
       "\n",
       "   Tanguay_ZF_120hpf_SNOU_up  Tanguay_ZF_120hpf_SOMI_up  \\\n",
       "0                        0.0                        0.0   \n",
       "1                        NaN                        NaN   \n",
       "2                        NaN                        NaN   \n",
       "3                        0.0                        0.0   \n",
       "4                        0.0                        0.0   \n",
       "\n",
       "   Tanguay_ZF_120hpf_SWIM_up  Tanguay_ZF_120hpf_TRUN_up  \\\n",
       "0                        0.0                        0.0   \n",
       "1                        NaN                        NaN   \n",
       "2                        NaN                        NaN   \n",
       "3                        0.0                        0.0   \n",
       "4                        0.0                        0.0   \n",
       "\n",
       "   Tanguay_ZF_120hpf_TR_up  Tanguay_ZF_120hpf_YSE_up  \n",
       "0                      0.0                       0.0  \n",
       "1                      NaN                       NaN  \n",
       "2                      NaN                       NaN  \n",
       "3                      0.0                       0.0  \n",
       "4                      0.0                       0.0  \n",
       "\n",
       "[5 rows x 618 columns]"
      ]
     },
     "execution_count": 2,
     "metadata": {},
     "output_type": "execute_result"
    }
   ],
   "source": [
    "toxcast = pd.read_csv(\"datasets/toxcast_data.csv\")\n",
    "\n",
    "print('Shape: ', toxcast.shape)\n",
    "\n",
    "vals = toxcast.values.flatten()\n",
    "print('# meas.: ', len([v for v in vals if str(v) != 'nan']))\n",
    "\n",
    "toxcast.head() "
   ]
  },
  {
   "cell_type": "code",
   "execution_count": 3,
   "id": "90dd677c-56ee-47f7-ba52-ac5ec433b06a",
   "metadata": {},
   "outputs": [
    {
     "name": "stdout",
     "output_type": "stream",
     "text": [
      "Shape:  (7831, 14)\n",
      "# meas.:  93608\n"
     ]
    },
    {
     "data": {
      "text/html": [
       "<div>\n",
       "<style scoped>\n",
       "    .dataframe tbody tr th:only-of-type {\n",
       "        vertical-align: middle;\n",
       "    }\n",
       "\n",
       "    .dataframe tbody tr th {\n",
       "        vertical-align: top;\n",
       "    }\n",
       "\n",
       "    .dataframe thead th {\n",
       "        text-align: right;\n",
       "    }\n",
       "</style>\n",
       "<table border=\"1\" class=\"dataframe\">\n",
       "  <thead>\n",
       "    <tr style=\"text-align: right;\">\n",
       "      <th></th>\n",
       "      <th>NR-AR</th>\n",
       "      <th>NR-AR-LBD</th>\n",
       "      <th>NR-AhR</th>\n",
       "      <th>NR-Aromatase</th>\n",
       "      <th>NR-ER</th>\n",
       "      <th>NR-ER-LBD</th>\n",
       "      <th>NR-PPAR-gamma</th>\n",
       "      <th>SR-ARE</th>\n",
       "      <th>SR-ATAD5</th>\n",
       "      <th>SR-HSE</th>\n",
       "      <th>SR-MMP</th>\n",
       "      <th>SR-p53</th>\n",
       "      <th>mol_id</th>\n",
       "      <th>smiles</th>\n",
       "    </tr>\n",
       "  </thead>\n",
       "  <tbody>\n",
       "    <tr>\n",
       "      <th>0</th>\n",
       "      <td>0.0</td>\n",
       "      <td>0.0</td>\n",
       "      <td>1.0</td>\n",
       "      <td>NaN</td>\n",
       "      <td>NaN</td>\n",
       "      <td>0.0</td>\n",
       "      <td>0.0</td>\n",
       "      <td>1.0</td>\n",
       "      <td>0.0</td>\n",
       "      <td>0.0</td>\n",
       "      <td>0.0</td>\n",
       "      <td>0.0</td>\n",
       "      <td>TOX3021</td>\n",
       "      <td>CCOc1ccc2nc(S(N)(=O)=O)sc2c1</td>\n",
       "    </tr>\n",
       "    <tr>\n",
       "      <th>1</th>\n",
       "      <td>0.0</td>\n",
       "      <td>0.0</td>\n",
       "      <td>0.0</td>\n",
       "      <td>0.0</td>\n",
       "      <td>0.0</td>\n",
       "      <td>0.0</td>\n",
       "      <td>0.0</td>\n",
       "      <td>NaN</td>\n",
       "      <td>0.0</td>\n",
       "      <td>NaN</td>\n",
       "      <td>0.0</td>\n",
       "      <td>0.0</td>\n",
       "      <td>TOX3020</td>\n",
       "      <td>CCN1C(=O)NC(c2ccccc2)C1=O</td>\n",
       "    </tr>\n",
       "    <tr>\n",
       "      <th>2</th>\n",
       "      <td>NaN</td>\n",
       "      <td>NaN</td>\n",
       "      <td>NaN</td>\n",
       "      <td>NaN</td>\n",
       "      <td>NaN</td>\n",
       "      <td>NaN</td>\n",
       "      <td>NaN</td>\n",
       "      <td>0.0</td>\n",
       "      <td>NaN</td>\n",
       "      <td>0.0</td>\n",
       "      <td>NaN</td>\n",
       "      <td>NaN</td>\n",
       "      <td>TOX3024</td>\n",
       "      <td>CC[C@]1(O)CC[C@H]2[C@@H]3CCC4=CCCC[C@@H]4[C@H]...</td>\n",
       "    </tr>\n",
       "    <tr>\n",
       "      <th>3</th>\n",
       "      <td>0.0</td>\n",
       "      <td>0.0</td>\n",
       "      <td>0.0</td>\n",
       "      <td>0.0</td>\n",
       "      <td>0.0</td>\n",
       "      <td>0.0</td>\n",
       "      <td>0.0</td>\n",
       "      <td>NaN</td>\n",
       "      <td>0.0</td>\n",
       "      <td>NaN</td>\n",
       "      <td>0.0</td>\n",
       "      <td>0.0</td>\n",
       "      <td>TOX3027</td>\n",
       "      <td>CCCN(CC)C(CC)C(=O)Nc1c(C)cccc1C</td>\n",
       "    </tr>\n",
       "    <tr>\n",
       "      <th>4</th>\n",
       "      <td>0.0</td>\n",
       "      <td>0.0</td>\n",
       "      <td>0.0</td>\n",
       "      <td>0.0</td>\n",
       "      <td>0.0</td>\n",
       "      <td>0.0</td>\n",
       "      <td>0.0</td>\n",
       "      <td>0.0</td>\n",
       "      <td>0.0</td>\n",
       "      <td>0.0</td>\n",
       "      <td>0.0</td>\n",
       "      <td>0.0</td>\n",
       "      <td>TOX20800</td>\n",
       "      <td>CC(O)(P(=O)(O)O)P(=O)(O)O</td>\n",
       "    </tr>\n",
       "  </tbody>\n",
       "</table>\n",
       "</div>"
      ],
      "text/plain": [
       "   NR-AR  NR-AR-LBD  NR-AhR  NR-Aromatase  NR-ER  NR-ER-LBD  NR-PPAR-gamma  \\\n",
       "0    0.0        0.0     1.0           NaN    NaN        0.0            0.0   \n",
       "1    0.0        0.0     0.0           0.0    0.0        0.0            0.0   \n",
       "2    NaN        NaN     NaN           NaN    NaN        NaN            NaN   \n",
       "3    0.0        0.0     0.0           0.0    0.0        0.0            0.0   \n",
       "4    0.0        0.0     0.0           0.0    0.0        0.0            0.0   \n",
       "\n",
       "   SR-ARE  SR-ATAD5  SR-HSE  SR-MMP  SR-p53    mol_id  \\\n",
       "0     1.0       0.0     0.0     0.0     0.0   TOX3021   \n",
       "1     NaN       0.0     NaN     0.0     0.0   TOX3020   \n",
       "2     0.0       NaN     0.0     NaN     NaN   TOX3024   \n",
       "3     NaN       0.0     NaN     0.0     0.0   TOX3027   \n",
       "4     0.0       0.0     0.0     0.0     0.0  TOX20800   \n",
       "\n",
       "                                              smiles  \n",
       "0                       CCOc1ccc2nc(S(N)(=O)=O)sc2c1  \n",
       "1                          CCN1C(=O)NC(c2ccccc2)C1=O  \n",
       "2  CC[C@]1(O)CC[C@H]2[C@@H]3CCC4=CCCC[C@@H]4[C@H]...  \n",
       "3                    CCCN(CC)C(CC)C(=O)Nc1c(C)cccc1C  \n",
       "4                          CC(O)(P(=O)(O)O)P(=O)(O)O  "
      ]
     },
     "execution_count": 3,
     "metadata": {},
     "output_type": "execute_result"
    }
   ],
   "source": [
    "tox21 = pd.read_csv(\"datasets/tox21.csv\")\n",
    "\n",
    "print('Shape: ', tox21.shape)\n",
    "\n",
    "vals = tox21.values.flatten()\n",
    "print('# meas.: ', len([v for v in vals if str(v) != 'nan']))\n",
    "\n",
    "tox21.head() "
   ]
  },
  {
   "cell_type": "code",
   "execution_count": 4,
   "id": "b09bfead-755a-4457-a852-b90b34413716",
   "metadata": {},
   "outputs": [
    {
     "name": "stdout",
     "output_type": "stream",
     "text": [
      "tox21_X: (7831,)  | tox21_Y: (7831, 13)\n"
     ]
    }
   ],
   "source": [
    "tox21_X = tox21.iloc[:, -1]\n",
    "tox21_Y = tox21.iloc[:, 0:-1]\n",
    "print('tox21_X:', tox21_X.shape, ' | tox21_Y:', tox21_Y.shape)"
   ]
  },
  {
   "cell_type": "markdown",
   "id": "2685f61e-f90b-4e5b-bb0e-bcd904c1e822",
   "metadata": {},
   "source": [
    "**Delete rows with missing SMILES strings, replace incorrect strings (toxcast)**"
   ]
  },
  {
   "cell_type": "code",
   "execution_count": 5,
   "id": "bb10dead-84c0-42c1-b157-ec70440772fe",
   "metadata": {},
   "outputs": [
    {
     "data": {
      "text/plain": [
       "Int64Index([4182, 4788, 5105, 6003, 6171, 6625, 6639, 6640, 6923, 7199, 7353,\n",
       "            7877, 7965, 8064, 8200],\n",
       "           dtype='int64')"
      ]
     },
     "execution_count": 5,
     "metadata": {},
     "output_type": "execute_result"
    }
   ],
   "source": [
    "row_ids_fail = toxcast[toxcast.smiles == 'FAIL'].index\n",
    "row_ids_fail"
   ]
  },
  {
   "cell_type": "code",
   "execution_count": 6,
   "id": "a62a9795-3cec-4932-9441-f4ec82e4bba7",
   "metadata": {},
   "outputs": [
    {
     "data": {
      "text/plain": [
       "Int64Index([1041, 1792, 1884, 2460, 2467], dtype='int64')"
      ]
     },
     "execution_count": 6,
     "metadata": {},
     "output_type": "execute_result"
    }
   ],
   "source": [
    "mols_to_drop = [\n",
    "    '[NH4+].[NH4+].F[Si--](F)(F)(F)(F)F', \n",
    "    '[Na+].[Na+].F[Si--](F)(F)(F)(F)F', \n",
    "    '[Cl-][Pt]1([Cl-])[NH2+]CC[NH2+]1', \n",
    "    '[NH4+].[NH4+].[Cl-][Pt++]([Cl-])([Cl-])[Cl-]', \n",
    "    '[F-][B+3]([F-])([F-])[F-].CC[N+]1(C)CCCC1'\n",
    "]\n",
    "\n",
    "row_ids_mol = toxcast[toxcast['smiles'].isin(mols_to_drop)].index\n",
    "\n",
    "row_ids_mol"
   ]
  },
  {
   "cell_type": "code",
   "execution_count": 7,
   "id": "ab1cc20c-ba2a-4973-9711-db7de37ca250",
   "metadata": {},
   "outputs": [],
   "source": [
    "toxcast = toxcast.drop(row_ids_fail)\n",
    "toxcast = toxcast.drop(row_ids_mol)"
   ]
  },
  {
   "cell_type": "code",
   "execution_count": 8,
   "id": "09e7656c-41d5-4287-85bd-5a16b7c76c57",
   "metadata": {},
   "outputs": [
    {
     "name": "stdout",
     "output_type": "stream",
     "text": [
      "toxcast_X: (8595,)  | toxcast_Y: (8595, 617)\n"
     ]
    }
   ],
   "source": [
    "toxcast_X = toxcast.iloc[:, 0]\n",
    "toxcast_Y = toxcast.iloc[:, 1:]\n",
    "print('toxcast_X:', toxcast_X.shape, ' | toxcast_Y:', toxcast_Y.shape)"
   ]
  },
  {
   "cell_type": "markdown",
   "id": "2080b9f3-ff3a-459f-a47d-6d0fb6dfdeac",
   "metadata": {},
   "source": [
    "**Train-val-test split**"
   ]
  },
  {
   "cell_type": "markdown",
   "id": "39e7d391-76a9-44ef-9e26-fdfdd5fcb73a",
   "metadata": {},
   "source": [
    "Train : Validation : Test = 60 : 20 : 20"
   ]
  },
  {
   "cell_type": "code",
   "execution_count": 9,
   "id": "226ac511-75d7-4ca3-b1d1-bc4734982525",
   "metadata": {},
   "outputs": [],
   "source": [
    "def train_val_test_split(X, y):\n",
    "    X_train, X_temp, y_train, y_temp = train_test_split(\n",
    "        X, y, test_size=0.4, random_state=42)\n",
    "    \n",
    "    X_val, X_test, y_val, y_test = train_test_split(\n",
    "        X_temp, y_temp, test_size=0.5, random_state=42)\n",
    "    \n",
    "    return X_train, X_val, X_test, y_train, y_val, y_test\n",
    "\n",
    "tox21_X_train, tox21_X_val, tox21_X_test, tox21_y_train, tox21_y_val, tox21_y_test = train_val_test_split(tox21_X, tox21_Y)\n",
    "\n",
    "toxcast_X_train, toxcast_X_val, toxcast_X_test, toxcast_y_train, toxcast_y_val, toxcast_y_test = train_val_test_split(toxcast_X, toxcast_Y)"
   ]
  },
  {
   "cell_type": "code",
   "execution_count": 10,
   "id": "92868a3c-7452-49fb-8208-4302845cb107",
   "metadata": {},
   "outputs": [
    {
     "data": {
      "text/plain": [
       "[(4698,), (1566,), (1567,), (4698, 13), (1566, 13), (1567, 13)]"
      ]
     },
     "execution_count": 10,
     "metadata": {},
     "output_type": "execute_result"
    }
   ],
   "source": [
    "[i.shape for i in [tox21_X_train, tox21_X_val, tox21_X_test, tox21_y_train, tox21_y_val, tox21_y_test]]"
   ]
  },
  {
   "cell_type": "code",
   "execution_count": 11,
   "id": "5b82b7ef-77c6-4344-a39c-f92cec3c745f",
   "metadata": {},
   "outputs": [
    {
     "data": {
      "text/plain": [
       "[(5157,), (1719,), (1719,), (5157, 617), (1719, 617), (1719, 617)]"
      ]
     },
     "execution_count": 11,
     "metadata": {},
     "output_type": "execute_result"
    }
   ],
   "source": [
    "[i.shape for i in [toxcast_X_train, toxcast_X_val, toxcast_X_test, toxcast_y_train, toxcast_y_val, toxcast_y_test]]"
   ]
  },
  {
   "cell_type": "markdown",
   "id": "ec1bc270-95c2-4ee3-b330-668ba8c82816",
   "metadata": {},
   "source": [
    "**Separate the mol_id column (tox21)**"
   ]
  },
  {
   "cell_type": "code",
   "execution_count": 12,
   "id": "f84b678f-f503-412c-a271-abddc5b11915",
   "metadata": {},
   "outputs": [],
   "source": [
    "tox21_y_train_ids = tox21_y_train.iloc[:, -1]\n",
    "tox21_y_val_ids = tox21_y_val.iloc[:, -1]\n",
    "tox21_y_test_ids = tox21_y_test.iloc[:, -1]\n",
    "\n",
    "tox21_y_train = tox21_y_train.iloc[:, 0:-1]\n",
    "tox21_y_val = tox21_y_val.iloc[:, 0:-1]\n",
    "tox21_y_test = tox21_y_test.iloc[:, 0:-1]"
   ]
  },
  {
   "cell_type": "code",
   "execution_count": 13,
   "id": "3db2805d-6ac9-478c-bc9d-1fa475d6aa6c",
   "metadata": {},
   "outputs": [
    {
     "data": {
      "text/plain": [
       "[(4698, 12), (1566, 12), (1567, 12)]"
      ]
     },
     "execution_count": 13,
     "metadata": {},
     "output_type": "execute_result"
    }
   ],
   "source": [
    "[i.shape for i in [tox21_y_train, tox21_y_val, tox21_y_test]]"
   ]
  },
  {
   "cell_type": "markdown",
   "id": "8a501214-e1ca-42db-a6ce-2c7ed36b46c5",
   "metadata": {},
   "source": [
    "**Replace NaN values with -1 (tox21)** "
   ]
  },
  {
   "cell_type": "code",
   "execution_count": 14,
   "id": "ad5a2ae2-9e33-4b5b-b5f2-0c933cab939c",
   "metadata": {},
   "outputs": [],
   "source": [
    "tox21_y_train = tox21_y_train.fillna(-1).to_numpy()\n",
    "tox21_y_val = tox21_y_val.fillna(-1).to_numpy()\n",
    "tox21_y_test = tox21_y_test.fillna(-1).to_numpy()"
   ]
  },
  {
   "cell_type": "code",
   "execution_count": 15,
   "id": "a1f1477d-a990-4d3e-a4ba-8893f8085baa",
   "metadata": {},
   "outputs": [
    {
     "data": {
      "text/plain": [
       "array([[-1.,  0.,  0., ...,  0., -1.,  0.],\n",
       "       [ 0.,  0.,  0., ...,  0.,  0.,  0.],\n",
       "       [ 0.,  0.,  0., ...,  0.,  0.,  0.],\n",
       "       ...,\n",
       "       [ 0.,  0.,  0., ...,  0.,  0.,  0.],\n",
       "       [ 0.,  0.,  0., ...,  1., -1., -1.],\n",
       "       [ 0.,  0.,  0., ...,  0.,  0.,  0.]])"
      ]
     },
     "execution_count": 15,
     "metadata": {},
     "output_type": "execute_result"
    }
   ],
   "source": [
    "tox21_y_train"
   ]
  },
  {
   "cell_type": "markdown",
   "id": "7a054b66-74b8-43fb-871e-111d2a34aec1",
   "metadata": {},
   "source": [
    "**Replace NaN values with -1 (toxcast)** "
   ]
  },
  {
   "cell_type": "code",
   "execution_count": 16,
   "id": "636034e1-09ca-46f7-be69-5d3540a36c29",
   "metadata": {},
   "outputs": [],
   "source": [
    "toxcast_y_train = toxcast_y_train.fillna(-1).to_numpy()\n",
    "toxcast_y_val = toxcast_y_val.fillna(-1).to_numpy()\n",
    "toxcast_y_test = toxcast_y_test.fillna(-1).to_numpy()"
   ]
  },
  {
   "cell_type": "code",
   "execution_count": 17,
   "id": "49bcb9d6-984a-4215-88f6-d0281c52855d",
   "metadata": {},
   "outputs": [
    {
     "data": {
      "text/plain": [
       "array([[-1., -1., -1., ..., -1., -1., -1.],\n",
       "       [-1., -1., -1., ..., -1., -1., -1.],\n",
       "       [-1., -1., -1., ..., -1., -1., -1.],\n",
       "       ...,\n",
       "       [-1., -1., -1., ..., -1., -1., -1.],\n",
       "       [-1., -1., -1., ..., -1., -1., -1.],\n",
       "       [-1., -1., -1., ..., -1., -1., -1.]])"
      ]
     },
     "execution_count": 17,
     "metadata": {},
     "output_type": "execute_result"
    }
   ],
   "source": [
    "toxcast_y_train"
   ]
  },
  {
   "cell_type": "markdown",
   "id": "a90cb60f-d267-413c-b6d4-75f8cb8c0cff",
   "metadata": {},
   "source": [
    "**Create mol objects**"
   ]
  },
  {
   "cell_type": "code",
   "execution_count": 18,
   "id": "5d7a4202-a0b0-485e-bb0d-daa5f92df883",
   "metadata": {},
   "outputs": [],
   "source": [
    "def create_mols(smiles_strings):\n",
    "    mols = list()\n",
    "\n",
    "    for smiles in smiles_strings:\n",
    "        mol = Chem.MolFromSmiles(smiles)\n",
    "        mols.append(mol)\n",
    "        if mol is None:\n",
    "            print(smiles)\n",
    "    return mols"
   ]
  },
  {
   "cell_type": "code",
   "execution_count": 19,
   "id": "b104b040-d0be-4231-a740-af30cdfb6897",
   "metadata": {},
   "outputs": [
    {
     "name": "stderr",
     "output_type": "stream",
     "text": [
      "[01:41:25] WARNING: not removing hydrogen atom without neighbors\n"
     ]
    }
   ],
   "source": [
    "tox21_X_train_mols, tox21_X_val_mols, tox21_X_test_mols = [create_mols(smiles_strings) for smiles_strings in [tox21_X_train, tox21_X_val, tox21_X_test]]"
   ]
  },
  {
   "cell_type": "code",
   "execution_count": 20,
   "id": "6819473d-e4e6-4f96-924d-c56922a87437",
   "metadata": {},
   "outputs": [
    {
     "data": {
      "text/plain": [
       "[(4698,), (1566,), (1567,), (4698, 12), (1566, 12), (1567, 12)]"
      ]
     },
     "execution_count": 20,
     "metadata": {},
     "output_type": "execute_result"
    }
   ],
   "source": [
    "[np.array(i).shape for i in [tox21_X_train_mols, \n",
    "                             tox21_X_val_mols, \n",
    "                             tox21_X_test_mols, \n",
    "                             tox21_y_train, \n",
    "                             tox21_y_val, tox21_y_test]]"
   ]
  },
  {
   "cell_type": "code",
   "execution_count": 21,
   "id": "a71f9c98-fee7-4c8e-88e9-80b30fb559ee",
   "metadata": {},
   "outputs": [
    {
     "name": "stderr",
     "output_type": "stream",
     "text": [
      "[01:41:26] WARNING: not removing hydrogen atom without neighbors\n"
     ]
    }
   ],
   "source": [
    "toxcast_X_train_mols, toxcast_X_val_mols, toxcast_X_test_mols = [create_mols(smiles_strings) for smiles_strings in [toxcast_X_train, \n",
    "                                                                                                                    toxcast_X_val, \n",
    "                                                                                                                    toxcast_X_test]]"
   ]
  },
  {
   "cell_type": "code",
   "execution_count": 22,
   "id": "1fdeba0b-e077-400c-b46f-87f56d03beaf",
   "metadata": {},
   "outputs": [
    {
     "data": {
      "text/plain": [
       "[(5157,), (1719,), (1719,), (5157, 617), (1719, 617), (1719, 617)]"
      ]
     },
     "execution_count": 22,
     "metadata": {},
     "output_type": "execute_result"
    }
   ],
   "source": [
    "[np.array(i).shape for i in [toxcast_X_train_mols, toxcast_X_val_mols, toxcast_X_test_mols, toxcast_y_train, toxcast_y_val, toxcast_y_test]]"
   ]
  },
  {
   "cell_type": "markdown",
   "id": "694671b3-0d5a-42ba-95cf-bf68c6d67180",
   "metadata": {},
   "source": [
    "**Compute ECFPs**"
   ]
  },
  {
   "cell_type": "code",
   "execution_count": 23,
   "id": "c7905157-b18f-4e86-8911-80cb51e3c7c8",
   "metadata": {},
   "outputs": [],
   "source": [
    "def compute_ecfps(mols):\n",
    "    ecfps = list()\n",
    "\n",
    "    for mol in mols:\n",
    "        fp_sparseVec = rdFingerprintGenerator.GetCountFPs(\n",
    "                        [mol], fpType=rdFingerprintGenerator.MorganFP\n",
    "                       )[0]\n",
    "        fp = np.zeros((0,), np.int8)\n",
    "        DataStructs.ConvertToNumpyArray(fp_sparseVec, fp)\n",
    "\n",
    "        ecfps.append(fp)\n",
    "\n",
    "    ecfps = np.array(ecfps)\n",
    "    return ecfps"
   ]
  },
  {
   "cell_type": "code",
   "execution_count": 24,
   "id": "58663b59-8619-4f09-9270-89161d785344",
   "metadata": {},
   "outputs": [],
   "source": [
    "tox21_X_train_ecfps, tox21_X_val_ecfps, tox21_X_test_ecfps = [compute_ecfps(mols) for mols in [tox21_X_train_mols, \n",
    "                                                                                               tox21_X_val_mols, \n",
    "                                                                                               tox21_X_test_mols]]"
   ]
  },
  {
   "cell_type": "code",
   "execution_count": 25,
   "id": "dbc4dc25-8890-4e73-a22b-53aa3216e44c",
   "metadata": {},
   "outputs": [
    {
     "data": {
      "text/plain": [
       "('tox21', [(4698, 2048), (1566, 2048), (1567, 2048)])"
      ]
     },
     "execution_count": 25,
     "metadata": {},
     "output_type": "execute_result"
    }
   ],
   "source": [
    "'tox21', [np.array(i).shape for i in [tox21_X_train_ecfps, tox21_X_val_ecfps, tox21_X_test_ecfps]]"
   ]
  },
  {
   "cell_type": "code",
   "execution_count": 26,
   "id": "b62f5e0f-65c5-4392-bd9a-57a48991f1a8",
   "metadata": {},
   "outputs": [],
   "source": [
    "toxcast_X_train_ecfps, toxcast_X_val_ecfps, toxcast_X_test_ecfps = [compute_ecfps(mols) for mols in [toxcast_X_train_mols, \n",
    "                                                                                                     toxcast_X_val_mols, \n",
    "                                                                                                     toxcast_X_test_mols]]"
   ]
  },
  {
   "cell_type": "code",
   "execution_count": 27,
   "id": "df68447d-b5fa-445f-ac6d-77b613453939",
   "metadata": {},
   "outputs": [
    {
     "data": {
      "text/plain": [
       "('toxcast', [(5157, 2048), (1719, 2048), (1719, 2048)])"
      ]
     },
     "execution_count": 27,
     "metadata": {},
     "output_type": "execute_result"
    }
   ],
   "source": [
    "'toxcast', [np.array(i).shape for i in [toxcast_X_train_ecfps, toxcast_X_val_ecfps, toxcast_X_test_ecfps]]"
   ]
  },
  {
   "cell_type": "markdown",
   "id": "7b34a58f-920b-4098-9e08-14c3c0857559",
   "metadata": {},
   "source": [
    "**Compute descriptors**"
   ]
  },
  {
   "cell_type": "code",
   "execution_count": 28,
   "id": "15de5b01-1a6d-4674-ae9f-ff2263f57881",
   "metadata": {},
   "outputs": [],
   "source": [
    "def compute_descriptors(mols):\n",
    "    rdkit_descriptors = list()\n",
    "\n",
    "    for mol in mols:\n",
    "        descrs = list()\n",
    "        for descr in Descriptors._descList:\n",
    "            _, descr_calc_fn = descr\n",
    "            descrs.append(descr_calc_fn(mol))\n",
    "\n",
    "        descrs = np.array(descrs)\n",
    "        descrs = descrs[real_200_descr]\n",
    "        rdkit_descriptors.append(descrs)\n",
    "\n",
    "    rdkit_descriptors = np.array(rdkit_descriptors)\n",
    "    return rdkit_descriptors"
   ]
  },
  {
   "cell_type": "code",
   "execution_count": 29,
   "id": "344f3c35-a2ff-4650-8628-27f4ecf7c4f1",
   "metadata": {},
   "outputs": [
    {
     "name": "stderr",
     "output_type": "stream",
     "text": [
      "[01:41:46] WARNING: not removing hydrogen atom without neighbors\n",
      "[01:41:46] WARNING: not removing hydrogen atom without neighbors\n"
     ]
    },
    {
     "name": "stdout",
     "output_type": "stream",
     "text": [
      "CPU times: total: 1min 2s\n",
      "Wall time: 1min 6s\n"
     ]
    }
   ],
   "source": [
    "%%time\n",
    "tox21_X_train_descr, tox21_X_val_descr, tox21_X_test_descr = [compute_descriptors(mols) for mols in [tox21_X_train_mols, \n",
    "                                                                                                     tox21_X_val_mols, \n",
    "                                                                                                     tox21_X_test_mols]]"
   ]
  },
  {
   "cell_type": "code",
   "execution_count": 30,
   "id": "d57a4234-6ba6-43e1-af73-b320d15c9b52",
   "metadata": {},
   "outputs": [
    {
     "data": {
      "text/plain": [
       "('tox21', [(4698, 200), (1566, 200), (1567, 200)])"
      ]
     },
     "execution_count": 30,
     "metadata": {},
     "output_type": "execute_result"
    }
   ],
   "source": [
    "'tox21', [np.array(i).shape for i in [tox21_X_train_descr, tox21_X_val_descr, tox21_X_test_descr]]"
   ]
  },
  {
   "cell_type": "code",
   "execution_count": 31,
   "id": "bd4592d3-4fd2-4712-8492-e14f550bfe88",
   "metadata": {},
   "outputs": [
    {
     "name": "stderr",
     "output_type": "stream",
     "text": [
      "[01:43:32] WARNING: not removing hydrogen atom without neighbors\n",
      "[01:43:32] WARNING: not removing hydrogen atom without neighbors\n"
     ]
    },
    {
     "name": "stdout",
     "output_type": "stream",
     "text": [
      "CPU times: total: 1min 9s\n",
      "Wall time: 1min 13s\n"
     ]
    }
   ],
   "source": [
    "%%time\n",
    "toxcast_X_train_descr, toxcast_X_val_descr, toxcast_X_test_descr = [compute_descriptors(mols) for mols in [toxcast_X_train_mols, \n",
    "                                                                                                           toxcast_X_val_mols, \n",
    "                                                                                                           toxcast_X_test_mols]]"
   ]
  },
  {
   "cell_type": "code",
   "execution_count": 32,
   "id": "54a42583-4faa-4545-bcd5-8dfe21134b24",
   "metadata": {},
   "outputs": [
    {
     "data": {
      "text/plain": [
       "('toxcast', [(5157, 200), (1719, 200), (1719, 200)])"
      ]
     },
     "execution_count": 32,
     "metadata": {},
     "output_type": "execute_result"
    }
   ],
   "source": [
    "'toxcast', [np.array(i).shape for i in [toxcast_X_train_descr, \n",
    "                                        toxcast_X_val_descr, \n",
    "                                        toxcast_X_test_descr]]"
   ]
  },
  {
   "cell_type": "markdown",
   "id": "d43c621d-6456-49de-9531-444de289fa6b",
   "metadata": {},
   "source": [
    "**Compute quantiles for descriptors**"
   ]
  },
  {
   "cell_type": "code",
   "execution_count": 33,
   "id": "d79e57f0-91de-4c08-9ae1-b4bc4b9124b3",
   "metadata": {},
   "outputs": [],
   "source": [
    "def compute_quantiles(rdkit_descriptors_train, rdkit_descriptors_val, rdkit_descriptors_test):\n",
    "\n",
    "    rdkit_descriptors_quantiles_train = np.zeros_like(rdkit_descriptors_train)\n",
    "    rdkit_descriptors_quantiles_val = np.zeros_like(rdkit_descriptors_val)\n",
    "    rdkit_descriptors_quantiles_test = np.zeros_like(rdkit_descriptors_test)\n",
    "    \n",
    "    descriptors_list =  [rdkit_descriptors_train, rdkit_descriptors_val, rdkit_descriptors_test]\n",
    "    quantiles_list = [rdkit_descriptors_quantiles_train, rdkit_descriptors_quantiles_val, rdkit_descriptors_quantiles_test]\n",
    "    \n",
    "    for descriptors, quantiles in zip(descriptors_list, quantiles_list):\n",
    "        for column in range(descriptors.shape[1]):\n",
    "            raw_values_ecdf = rdkit_descriptors_train[:,column].reshape(-1)\n",
    "            raw_values = descriptors[:,column].reshape(-1)\n",
    "\n",
    "            ecdf = ECDF(raw_values_ecdf)\n",
    "            feature_quantiles = ecdf(raw_values)\n",
    "            quantiles[:,column] = feature_quantiles\n",
    "    return rdkit_descriptors_quantiles_train, rdkit_descriptors_quantiles_val, rdkit_descriptors_quantiles_test"
   ]
  },
  {
   "cell_type": "code",
   "execution_count": 34,
   "id": "39f48e3e-1563-40c7-b15b-c167bd90e73a",
   "metadata": {},
   "outputs": [],
   "source": [
    "tox21_descr_quantiles_X_train, tox21_descr_quantiles_X_val, tox21_descr_quantiles_X_test = compute_quantiles(tox21_X_train_descr, \n",
    "                                                                                                             tox21_X_val_descr, \n",
    "                                                                                                             tox21_X_test_descr)"
   ]
  },
  {
   "cell_type": "code",
   "execution_count": 35,
   "id": "7b92252d-9420-41b2-a8b8-5d620c33a3ee",
   "metadata": {},
   "outputs": [
    {
     "data": {
      "text/plain": [
       "('tox21', [(4698, 200), (1566, 200), (1567, 200)])"
      ]
     },
     "execution_count": 35,
     "metadata": {},
     "output_type": "execute_result"
    }
   ],
   "source": [
    "'tox21', [np.array(i).shape for i in [tox21_descr_quantiles_X_train, tox21_descr_quantiles_X_val, tox21_descr_quantiles_X_test]]"
   ]
  },
  {
   "cell_type": "code",
   "execution_count": 36,
   "id": "7198f429-9d9a-4103-b6c1-b6fa8d594f92",
   "metadata": {},
   "outputs": [],
   "source": [
    "toxcast_descr_quantiles_X_train, toxcast_descr_quantiles_X_val, toxcast_descr_quantiles_X_test = compute_quantiles(toxcast_X_train_descr, \n",
    "                                                                                                                   toxcast_X_val_descr, \n",
    "                                                                                                                   toxcast_X_test_descr)"
   ]
  },
  {
   "cell_type": "code",
   "execution_count": 37,
   "id": "42cfb6fc-d920-4f89-b10e-da4598a529f7",
   "metadata": {},
   "outputs": [
    {
     "data": {
      "text/plain": [
       "('toxcast', [(5157, 200), (1719, 200), (1719, 200)])"
      ]
     },
     "execution_count": 37,
     "metadata": {},
     "output_type": "execute_result"
    }
   ],
   "source": [
    "'toxcast', [np.array(i).shape for i in [toxcast_descr_quantiles_X_train, \n",
    "                             toxcast_descr_quantiles_X_val, \n",
    "                             toxcast_descr_quantiles_X_test]]"
   ]
  },
  {
   "cell_type": "markdown",
   "id": "bc606c76-31b2-4407-b392-e06274dc1a26",
   "metadata": {},
   "source": [
    "**Concatenate ecfps and rdkit descriptor quantiles**"
   ]
  },
  {
   "cell_type": "code",
   "execution_count": 38,
   "id": "5037c9cc-92e0-4fec-bb4a-7afd63ab4692",
   "metadata": {},
   "outputs": [],
   "source": [
    "def concatenate_arrays(ecfp_train, ecfp_val, ecfp_test, descr_q_train, descr_q_val, descr_q_test):\n",
    "    concatenated_arrays = []\n",
    "    \n",
    "    for ecfp, desc in zip([ecfp_train, ecfp_val, ecfp_test], [descr_q_train, descr_q_val, descr_q_test]):\n",
    "    \n",
    "        concat_array = np.concatenate((ecfp, desc), axis=1)\n",
    "        concatenated_arrays.append(concat_array)\n",
    "    \n",
    "    return concatenated_arrays"
   ]
  },
  {
   "cell_type": "code",
   "execution_count": 39,
   "id": "89167706-1f91-47a9-80c4-3e4e740ae821",
   "metadata": {},
   "outputs": [],
   "source": [
    "tox21_ecfp_descr_quantiles_X_train, tox21_ecfp_descr_quantiles_X_val, tox21_ecfp_descr_quantiles_X_test = concatenate_arrays(tox21_X_train_ecfps, \n",
    "                                                                                                                             tox21_X_val_ecfps, \n",
    "                                                                                                                             tox21_X_test_ecfps, \n",
    "                                                                                                                             tox21_descr_quantiles_X_train, \n",
    "                                                                                                                             tox21_descr_quantiles_X_val, \n",
    "                                                                                                                             tox21_descr_quantiles_X_test)"
   ]
  },
  {
   "cell_type": "code",
   "execution_count": 40,
   "id": "c57d515d-222f-4465-9f25-cfb0132482fd",
   "metadata": {},
   "outputs": [
    {
     "data": {
      "text/plain": [
       "('tox21', [(4698, 2248), (1566, 2248), (1567, 2248)])"
      ]
     },
     "execution_count": 40,
     "metadata": {},
     "output_type": "execute_result"
    }
   ],
   "source": [
    "'tox21', [np.array(i).shape for i in [tox21_ecfp_descr_quantiles_X_train, tox21_ecfp_descr_quantiles_X_val, tox21_ecfp_descr_quantiles_X_test]]"
   ]
  },
  {
   "cell_type": "code",
   "execution_count": 41,
   "id": "3f415205-3ecc-4b9a-a33b-a2ccbea9e2c3",
   "metadata": {},
   "outputs": [],
   "source": [
    "toxcast_ecfp_descr_quantiles_X_train, toxcast_ecfp_descr_quantiles_X_val, toxcast_ecfp_descr_quantiles_X_test = concatenate_arrays(toxcast_X_train_ecfps, \n",
    "                                                                                                                             toxcast_X_val_ecfps, \n",
    "                                                                                                                             toxcast_X_test_ecfps, \n",
    "                                                                                                                             toxcast_descr_quantiles_X_train, \n",
    "                                                                                                                             toxcast_descr_quantiles_X_val, \n",
    "                                                                                                                             toxcast_descr_quantiles_X_test)"
   ]
  },
  {
   "cell_type": "code",
   "execution_count": 42,
   "id": "aa7ab382-e5a7-4c92-a902-a9921d374ced",
   "metadata": {},
   "outputs": [
    {
     "data": {
      "text/plain": [
       "('toxcast', [(5157, 2248), (1719, 2248), (1719, 2248)])"
      ]
     },
     "execution_count": 42,
     "metadata": {},
     "output_type": "execute_result"
    }
   ],
   "source": [
    "'toxcast', [np.array(i).shape for i in [toxcast_ecfp_descr_quantiles_X_train, toxcast_ecfp_descr_quantiles_X_val, toxcast_ecfp_descr_quantiles_X_test]]"
   ]
  },
  {
   "cell_type": "markdown",
   "id": "8811f4fb-99d6-4679-ae21-ad14547d35a6",
   "metadata": {},
   "source": [
    "**Feature standartization**"
   ]
  },
  {
   "cell_type": "code",
   "execution_count": 43,
   "id": "511ec86f-ecc4-49de-8332-bdbe0a17f97f",
   "metadata": {},
   "outputs": [],
   "source": [
    "scaler = StandardScaler()\n",
    "\n",
    "scaler.fit(tox21_ecfp_descr_quantiles_X_train)\n",
    "\n",
    "tox21_ecfp_descr_quantiles_scaled_X_train, tox21_ecfp_descr_quantiles_scaled_X_val, tox21_ecfp_descr_quantiles_scaled_X_test = [scaler.transform(dataset) for dataset in [tox21_ecfp_descr_quantiles_X_train, \n",
    "                                                                                      tox21_ecfp_descr_quantiles_X_val, \n",
    "                                                                                      tox21_ecfp_descr_quantiles_X_test]]"
   ]
  },
  {
   "cell_type": "code",
   "execution_count": 44,
   "id": "4f6b47eb-1022-41ab-9d47-bac7256d0b58",
   "metadata": {},
   "outputs": [
    {
     "data": {
      "text/plain": [
       "('tox21', [(4698, 2248), (1566, 2248), (1567, 2248)])"
      ]
     },
     "execution_count": 44,
     "metadata": {},
     "output_type": "execute_result"
    }
   ],
   "source": [
    "'tox21', [np.array(i).shape for i in [tox21_ecfp_descr_quantiles_scaled_X_train, \n",
    "                             tox21_ecfp_descr_quantiles_scaled_X_val, \n",
    "                             tox21_ecfp_descr_quantiles_scaled_X_test]]"
   ]
  },
  {
   "cell_type": "code",
   "execution_count": 45,
   "id": "01660ec3-4e3a-4ea5-a6b0-53047fd6b2ef",
   "metadata": {},
   "outputs": [],
   "source": [
    "scaler = StandardScaler()\n",
    "\n",
    "scaler.fit(toxcast_ecfp_descr_quantiles_X_train)\n",
    "\n",
    "toxcast_ecfp_descr_quantiles_scaled_X_train, toxcast_ecfp_descr_quantiles_scaled_X_val, toxcast_ecfp_descr_quantiles_scaled_X_test = [scaler.transform(dataset) for dataset in [toxcast_ecfp_descr_quantiles_X_train, \n",
    "                                                                                      toxcast_ecfp_descr_quantiles_X_val, \n",
    "                                                                                      toxcast_ecfp_descr_quantiles_X_test]]"
   ]
  },
  {
   "cell_type": "code",
   "execution_count": 46,
   "id": "c84ff436-f5c4-4015-8f81-32db2d7f0fdd",
   "metadata": {},
   "outputs": [
    {
     "data": {
      "text/plain": [
       "('toxcast', [(5157, 2248), (1719, 2248), (1719, 2248)])"
      ]
     },
     "execution_count": 46,
     "metadata": {},
     "output_type": "execute_result"
    }
   ],
   "source": [
    "'toxcast', [np.array(i).shape for i in [toxcast_ecfp_descr_quantiles_scaled_X_train, \n",
    "                             toxcast_ecfp_descr_quantiles_scaled_X_val, \n",
    "                             toxcast_ecfp_descr_quantiles_scaled_X_test]]"
   ]
  },
  {
   "cell_type": "markdown",
   "id": "f70b9f7d-92cf-478b-8a3b-303f9a65cb28",
   "metadata": {},
   "source": [
    "**Save data (tox21)**"
   ]
  },
  {
   "cell_type": "code",
   "execution_count": 47,
   "id": "8b0c242c-8a58-48c9-8ddf-5d1f3aa820b0",
   "metadata": {},
   "outputs": [],
   "source": [
    "tox21_features_train_val_test = {\n",
    "    \"train\": tox21_ecfp_descr_quantiles_scaled_X_train,\n",
    "    \"validation\": tox21_ecfp_descr_quantiles_scaled_X_val,\n",
    "    \"test\": tox21_ecfp_descr_quantiles_scaled_X_test\n",
    "}\n",
    "\n",
    "np.save('preprocessed_data/tox21_features_train_val_test.npy', tox21_features_train_val_test, allow_pickle=True)"
   ]
  },
  {
   "cell_type": "code",
   "execution_count": 48,
   "id": "f228b7a9-fa04-4e4d-a9d8-b6927c06bb8b",
   "metadata": {},
   "outputs": [],
   "source": [
    "tox21_labels_train_val_test = {\n",
    "    \"train\": tox21_y_train,\n",
    "    \"validation\": tox21_y_val,\n",
    "    \"test\": tox21_y_test\n",
    "}\n",
    "\n",
    "np.save('preprocessed_data/tox21_labels_train_val_test.npy', tox21_labels_train_val_test, allow_pickle=True)"
   ]
  },
  {
   "cell_type": "code",
   "execution_count": 49,
   "id": "f0225fc5-abd3-4c46-8357-a8316e1747a5",
   "metadata": {},
   "outputs": [],
   "source": [
    "tox21_ids = {\n",
    "    \"train\": tox21_y_train_ids,\n",
    "    \"validation\": tox21_y_val_ids,\n",
    "    \"test\": tox21_y_test_ids\n",
    "}\n",
    "\n",
    "np.save('preprocessed_data/tox21_ids.npy', tox21_ids, allow_pickle=True)"
   ]
  },
  {
   "cell_type": "markdown",
   "id": "28bae658-23ca-484f-be12-3a0c01b52428",
   "metadata": {},
   "source": [
    "**Save data (toxcast)**"
   ]
  },
  {
   "cell_type": "code",
   "execution_count": 50,
   "id": "d6705c94-3f8d-4d4c-b398-da23ba32f20b",
   "metadata": {},
   "outputs": [],
   "source": [
    "toxcast_features_train_val_test = {\n",
    "    \"train\": toxcast_ecfp_descr_quantiles_scaled_X_train,\n",
    "    \"validation\": toxcast_ecfp_descr_quantiles_scaled_X_val,\n",
    "    \"test\": toxcast_ecfp_descr_quantiles_scaled_X_test\n",
    "}\n",
    "\n",
    "np.save('preprocessed_data/toxcast_features_train_val_test.npy', toxcast_features_train_val_test, allow_pickle=True)"
   ]
  },
  {
   "cell_type": "code",
   "execution_count": 51,
   "id": "1584de52-b4ac-4571-858f-a2cc9502cb8f",
   "metadata": {},
   "outputs": [],
   "source": [
    "toxcast_labels_train_val_test = {\n",
    "    \"train\": toxcast_y_train,\n",
    "    \"validation\": toxcast_y_val,\n",
    "    \"test\": toxcast_y_test\n",
    "}\n",
    "\n",
    "np.save('preprocessed_data/toxcast_labels_train_val_test.npy', toxcast_labels_train_val_test, allow_pickle=True)"
   ]
  },
  {
   "cell_type": "markdown",
   "id": "de8c1717-fed6-4ec5-b03f-f09b3c32bfbe",
   "metadata": {},
   "source": [
    "**Load data (tox21)**"
   ]
  },
  {
   "cell_type": "code",
   "execution_count": 52,
   "id": "8a8b53e8-6e77-472d-b668-bfb108b1ce2b",
   "metadata": {},
   "outputs": [],
   "source": [
    "loaded_tox21_features_train_val_test = np.load('preprocessed_data/tox21_features_train_val_test.npy', allow_pickle=True).item()\n",
    "\n",
    "loaded_tox21_ecfp_descr_quantiles_scaled_X_train = loaded_tox21_features_train_val_test['train']\n",
    "loaded_tox21_ecfp_descr_quantiles_scaled_X_val = loaded_tox21_features_train_val_test['validation']\n",
    "loaded_tox21_ecfp_descr_quantiles_scaled_X_test = loaded_tox21_features_train_val_test['test']"
   ]
  },
  {
   "cell_type": "code",
   "execution_count": 53,
   "id": "ecd024d1-fea5-4852-a053-3896184c1138",
   "metadata": {},
   "outputs": [
    {
     "data": {
      "text/plain": [
       "((4698, 2248), (1566, 2248), (1567, 2248))"
      ]
     },
     "execution_count": 53,
     "metadata": {},
     "output_type": "execute_result"
    }
   ],
   "source": [
    "loaded_tox21_ecfp_descr_quantiles_scaled_X_train.shape, loaded_tox21_ecfp_descr_quantiles_scaled_X_val.shape, loaded_tox21_ecfp_descr_quantiles_scaled_X_test.shape"
   ]
  },
  {
   "cell_type": "code",
   "execution_count": 54,
   "id": "594bc49f-a0fa-4736-98da-9f8f8001cf0d",
   "metadata": {},
   "outputs": [],
   "source": [
    "loaded_tox21_labels_train_val_test = np.load('preprocessed_data/tox21_labels_train_val_test.npy', allow_pickle=True).item()\n",
    "\n",
    "loaded_tox21_y_train = loaded_tox21_labels_train_val_test['train']\n",
    "loaded_tox21_y_val = loaded_tox21_labels_train_val_test['validation']\n",
    "loaded_tox21_y_test = loaded_tox21_labels_train_val_test['test']"
   ]
  },
  {
   "cell_type": "code",
   "execution_count": 55,
   "id": "bd30e78b-919b-4d76-ba5f-cee1366bd596",
   "metadata": {},
   "outputs": [
    {
     "data": {
      "text/plain": [
       "((4698, 12), (1566, 12), (1567, 12))"
      ]
     },
     "execution_count": 55,
     "metadata": {},
     "output_type": "execute_result"
    }
   ],
   "source": [
    "loaded_tox21_y_train.shape, loaded_tox21_y_val.shape, loaded_tox21_y_test.shape"
   ]
  },
  {
   "cell_type": "code",
   "execution_count": 56,
   "id": "0033284f-6ed1-4518-9ae9-f3007500479b",
   "metadata": {},
   "outputs": [],
   "source": [
    "loaded_tox21_ids = np.load('preprocessed_data/tox21_ids.npy', allow_pickle=True).item()\n",
    "\n",
    "loaded_tox21_ids_train = loaded_tox21_ids['train']\n",
    "loaded_tox21_ids_val = loaded_tox21_ids['validation']\n",
    "loaded_tox21_ids_test = loaded_tox21_ids['test']"
   ]
  },
  {
   "cell_type": "code",
   "execution_count": 57,
   "id": "d2e0e3da-93d4-4237-8e73-21ae7fb4de53",
   "metadata": {},
   "outputs": [
    {
     "data": {
      "text/plain": [
       "((4698,), (1566,), (1567,))"
      ]
     },
     "execution_count": 57,
     "metadata": {},
     "output_type": "execute_result"
    }
   ],
   "source": [
    "loaded_tox21_ids_train.shape, loaded_tox21_ids_val.shape, loaded_tox21_ids_test.shape"
   ]
  },
  {
   "cell_type": "markdown",
   "id": "c878b1c1-f4d9-4d90-bb5b-7bf7a19aeae7",
   "metadata": {},
   "source": [
    "**Load data (toxcast)**"
   ]
  },
  {
   "cell_type": "code",
   "execution_count": 58,
   "id": "0894283b-d9c8-48e1-8ea2-67659b434edc",
   "metadata": {},
   "outputs": [],
   "source": [
    "loaded_toxcast_features_train_val_test = np.load('preprocessed_data/toxcast_features_train_val_test.npy', allow_pickle=True).item()\n",
    "\n",
    "loaded_toxcast_ecfp_descr_quantiles_scaled_X_train = loaded_toxcast_features_train_val_test['train']\n",
    "loaded_toxcast_ecfp_descr_quantiles_scaled_X_val = loaded_toxcast_features_train_val_test['validation']\n",
    "loaded_toxcast_ecfp_descr_quantiles_scaled_X_test = loaded_toxcast_features_train_val_test['test']"
   ]
  },
  {
   "cell_type": "code",
   "execution_count": 59,
   "id": "57df9d1d-460a-4ece-8444-9492aaa91614",
   "metadata": {},
   "outputs": [
    {
     "data": {
      "text/plain": [
       "((5157, 2248), (1719, 2248), (1719, 2248))"
      ]
     },
     "execution_count": 59,
     "metadata": {},
     "output_type": "execute_result"
    }
   ],
   "source": [
    "loaded_toxcast_ecfp_descr_quantiles_scaled_X_train.shape, loaded_toxcast_ecfp_descr_quantiles_scaled_X_val.shape, loaded_toxcast_ecfp_descr_quantiles_scaled_X_test.shape"
   ]
  },
  {
   "cell_type": "code",
   "execution_count": 60,
   "id": "623dd218-3176-4830-9232-6283b070857f",
   "metadata": {},
   "outputs": [],
   "source": [
    "loaded_toxcast_labels_train_val_test = np.load('preprocessed_data/toxcast_labels_train_val_test.npy', allow_pickle=True).item()\n",
    "\n",
    "loaded_toxcast_y_train = loaded_toxcast_labels_train_val_test['train']\n",
    "loaded_toxcast_y_val = loaded_toxcast_labels_train_val_test['validation']\n",
    "loaded_toxcast_y_test = loaded_toxcast_labels_train_val_test['test']"
   ]
  },
  {
   "cell_type": "code",
   "execution_count": 61,
   "id": "80486811-036c-42da-9e72-71f97e7a4374",
   "metadata": {},
   "outputs": [
    {
     "data": {
      "text/plain": [
       "((5157, 617), (1719, 617), (1719, 617))"
      ]
     },
     "execution_count": 61,
     "metadata": {},
     "output_type": "execute_result"
    }
   ],
   "source": [
    "loaded_toxcast_y_train.shape, loaded_toxcast_y_val.shape, loaded_toxcast_y_test.shape"
   ]
  },
  {
   "cell_type": "code",
   "execution_count": null,
   "id": "58e316ed-6d95-41a8-8324-e9c85f456d01",
   "metadata": {},
   "outputs": [],
   "source": []
  }
 ],
 "metadata": {
  "kernelspec": {
   "display_name": "Python 3 (ipykernel)",
   "language": "python",
   "name": "python3"
  },
  "language_info": {
   "codemirror_mode": {
    "name": "ipython",
    "version": 3
   },
   "file_extension": ".py",
   "mimetype": "text/x-python",
   "name": "python",
   "nbconvert_exporter": "python",
   "pygments_lexer": "ipython3",
   "version": "3.9.13"
  }
 },
 "nbformat": 4,
 "nbformat_minor": 5
}
