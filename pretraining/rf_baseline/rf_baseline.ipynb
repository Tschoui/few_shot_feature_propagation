{
 "cells": [
  {
   "cell_type": "code",
   "execution_count": 1,
   "id": "bd9b1213-b6bb-4130-a6ea-467959928c6c",
   "metadata": {},
   "outputs": [],
   "source": [
    "import pandas as pd\n",
    "import numpy as np\n",
    "from sklearn.ensemble import RandomForestClassifier\n",
    "from sklearn.metrics import roc_auc_score"
   ]
  },
  {
   "cell_type": "markdown",
   "id": "e7d3f660-4ec3-4aa2-873b-5b080d1b36eb",
   "metadata": {},
   "source": [
    "**Load data (tox21)**"
   ]
  },
  {
   "cell_type": "code",
   "execution_count": 2,
   "id": "de9a337f-58f9-4bd2-93c8-961a6a60d6e5",
   "metadata": {},
   "outputs": [],
   "source": [
    "loaded_tox21_features_train_val_test = np.load('../../preprocessing/preprocessed_data/tox21_features_train_val_test.npy', allow_pickle=True).item()\n",
    "\n",
    "tox21_X_train = loaded_tox21_features_train_val_test['train']\n",
    "tox21_X_val = loaded_tox21_features_train_val_test['validation']\n",
    "tox21_X_test = loaded_tox21_features_train_val_test['test']\n",
    "\n",
    "loaded_tox21_labels_train_val_test = np.load('../../preprocessing/preprocessed_data/tox21_labels_train_val_test.npy', allow_pickle=True).item()\n",
    "\n",
    "tox21_y_train = loaded_tox21_labels_train_val_test['train']\n",
    "tox21_y_val = loaded_tox21_labels_train_val_test['validation']\n",
    "tox21_y_test = loaded_tox21_labels_train_val_test['test']"
   ]
  },
  {
   "cell_type": "code",
   "execution_count": 3,
   "id": "67ff9a3f-3c59-4d88-b80c-fc21346dc3ce",
   "metadata": {},
   "outputs": [
    {
     "name": "stdout",
     "output_type": "stream",
     "text": [
      "Features Train/Val/Test Shapes:\n"
     ]
    },
    {
     "data": {
      "text/plain": [
       "[(4698, 2248), (1566, 2248), (1567, 2248)]"
      ]
     },
     "execution_count": 3,
     "metadata": {},
     "output_type": "execute_result"
    }
   ],
   "source": [
    "print('Features Train/Val/Test Shapes:')\n",
    "[i.shape for i in [tox21_X_train, tox21_X_val, tox21_X_test]]"
   ]
  },
  {
   "cell_type": "code",
   "execution_count": 4,
   "id": "e7e168e0-2d64-4e9b-8836-6461ef988484",
   "metadata": {},
   "outputs": [
    {
     "name": "stdout",
     "output_type": "stream",
     "text": [
      "Labels Train/Val/Test Shapes:\n"
     ]
    },
    {
     "data": {
      "text/plain": [
       "[(4698, 12), (1566, 12), (1567, 12)]"
      ]
     },
     "execution_count": 4,
     "metadata": {},
     "output_type": "execute_result"
    }
   ],
   "source": [
    "print('Labels Train/Val/Test Shapes:')\n",
    "[i.shape for i in [tox21_y_train, tox21_y_val, tox21_y_test]]"
   ]
  },
  {
   "cell_type": "markdown",
   "id": "99200259-4470-42f2-978b-c63e4bc38e11",
   "metadata": {},
   "source": [
    "**Create 12 datasets, each for separate task, delete the rows, where the label is -1**"
   ]
  },
  {
   "cell_type": "code",
   "execution_count": 5,
   "id": "0b8f735c-fae7-4f73-bc2e-ca4ae7c9bb13",
   "metadata": {},
   "outputs": [],
   "source": [
    "def create_one_label_datasets(X_train, X_val, X_test, y_train, y_val, y_test):\n",
    "    datasets = []\n",
    "    \n",
    "    X_datasets = [X_train, X_val, X_test]\n",
    "    y_datasets = [y_train, y_val, y_test]\n",
    "    \n",
    "    for x_dataset, y_dataset in zip(X_datasets, y_datasets):\n",
    "        partitioned_datasets = []\n",
    "        for i in range(y_dataset.shape[-1]):\n",
    "            labels = y_dataset[:, i].reshape(-1, 1)\n",
    "            features_labels = np.concatenate((x_dataset, labels), axis=1)\n",
    "            cleared_dataset = features_labels[features_labels[:, -1] != -1]\n",
    "            partitioned_datasets.append(cleared_dataset)\n",
    "        datasets.append(partitioned_datasets)\n",
    "    return datasets"
   ]
  },
  {
   "cell_type": "code",
   "execution_count": 6,
   "id": "46a8db76-e8aa-487a-818a-05662a2e888a",
   "metadata": {
    "tags": []
   },
   "outputs": [],
   "source": [
    "train_datasets, val_datasets, test_datasets = create_one_label_datasets(tox21_X_train, \n",
    "                                                                        tox21_X_val, \n",
    "                                                                        tox21_X_test, \n",
    "                                                                        tox21_y_train, \n",
    "                                                                        tox21_y_val, \n",
    "                                                                        tox21_y_test)"
   ]
  },
  {
   "cell_type": "markdown",
   "id": "bfc13fd8-d1e8-415a-b54a-59f100f027a0",
   "metadata": {},
   "source": [
    "**Check shapes**"
   ]
  },
  {
   "cell_type": "code",
   "execution_count": 7,
   "id": "03e3f3ac-5fd7-4ebb-ae92-ff1b525e38ed",
   "metadata": {},
   "outputs": [
    {
     "data": {
      "text/plain": [
       "([(4380, 2249),\n",
       "  (4047, 2249),\n",
       "  (3933, 2249),\n",
       "  (3500, 2249),\n",
       "  (3738, 2249),\n",
       "  (4189, 2249),\n",
       "  (3886, 2249),\n",
       "  (3484, 2249),\n",
       "  (4243, 2249),\n",
       "  (3875, 2249),\n",
       "  (3488, 2249),\n",
       "  (4053, 2249)],\n",
       " 12)"
      ]
     },
     "execution_count": 7,
     "metadata": {},
     "output_type": "execute_result"
    }
   ],
   "source": [
    "[i.shape for i in train_datasets], len(train_datasets)"
   ]
  },
  {
   "cell_type": "code",
   "execution_count": 8,
   "id": "84255989-7982-4efe-b831-c443e27d79e5",
   "metadata": {},
   "outputs": [
    {
     "data": {
      "text/plain": [
       "([(1446, 2249),\n",
       "  (1347, 2249),\n",
       "  (1309, 2249),\n",
       "  (1146, 2249),\n",
       "  (1210, 2249),\n",
       "  (1380, 2249),\n",
       "  (1270, 2249),\n",
       "  (1187, 2249),\n",
       "  (1416, 2249),\n",
       "  (1311, 2249),\n",
       "  (1146, 2249),\n",
       "  (1350, 2249)],\n",
       " 12)"
      ]
     },
     "execution_count": 8,
     "metadata": {},
     "output_type": "execute_result"
    }
   ],
   "source": [
    "[i.shape for i in val_datasets], len(val_datasets)"
   ]
  },
  {
   "cell_type": "code",
   "execution_count": 9,
   "id": "4cb5992c-1b02-4d3d-b853-03ba34e66c3b",
   "metadata": {},
   "outputs": [
    {
     "data": {
      "text/plain": [
       "([(1439, 2249),\n",
       "  (1364, 2249),\n",
       "  (1307, 2249),\n",
       "  (1175, 2249),\n",
       "  (1245, 2249),\n",
       "  (1386, 2249),\n",
       "  (1294, 2249),\n",
       "  (1161, 2249),\n",
       "  (1413, 2249),\n",
       "  (1281, 2249),\n",
       "  (1176, 2249),\n",
       "  (1371, 2249)],\n",
       " 12)"
      ]
     },
     "execution_count": 9,
     "metadata": {},
     "output_type": "execute_result"
    }
   ],
   "source": [
    "[i.shape for i in test_datasets], len(test_datasets)"
   ]
  },
  {
   "cell_type": "markdown",
   "id": "60838d29-35e2-4417-b9e1-c6671052dcca",
   "metadata": {},
   "source": [
    "**Train RF models on the train datasets and make predictions on val and test datasets**"
   ]
  },
  {
   "cell_type": "code",
   "execution_count": 10,
   "id": "45a8d652-5d93-4d55-81ed-4bbcacf9b746",
   "metadata": {},
   "outputs": [],
   "source": [
    "def make_preds(train_datasets, val_datasets, test_datasets):\n",
    "    roc_auc_scores = []\n",
    "    \n",
    "    for i in range(len(train_datasets)):\n",
    "        rf_classifier = RandomForestClassifier(n_estimators=1001, random_state=42, n_jobs=-1)\n",
    "        rf_classifier.fit(train_datasets[i][:, :-1], train_datasets[i][:, -1])\n",
    "        \n",
    "        preds_val = rf_classifier.predict_proba(val_datasets[i][:, :-1])\n",
    "        preds_test = rf_classifier.predict_proba(test_datasets[i][:, :-1])\n",
    "        \n",
    "        roc_auc_score_val = roc_auc_score(val_datasets[i][:, -1], preds_val[:, 1])\n",
    "        roc_auc_score_test = roc_auc_score(test_datasets[i][:, -1], preds_test[:, 1])\n",
    "        \n",
    "        roc_auc_scores.append([roc_auc_score_val, roc_auc_score_test])\n",
    "    \n",
    "    return np.array(roc_auc_scores)"
   ]
  },
  {
   "cell_type": "code",
   "execution_count": 11,
   "id": "436e4a42-7c84-4256-a17b-a3b2feeb7fce",
   "metadata": {},
   "outputs": [
    {
     "name": "stdout",
     "output_type": "stream",
     "text": [
      "CPU times: total: 19min 3s\n",
      "Wall time: 2min 26s\n"
     ]
    }
   ],
   "source": [
    "%%time\n",
    "roc_auc_scores = make_preds(train_datasets, val_datasets, test_datasets)"
   ]
  },
  {
   "cell_type": "markdown",
   "id": "56c4c2c0-3915-4959-9562-35f2dcd5fe4c",
   "metadata": {},
   "source": [
    "**Create summaries for roc_auc_scores and their means and stds**"
   ]
  },
  {
   "cell_type": "code",
   "execution_count": 13,
   "id": "4a52b028-f937-4e5f-8c1a-03d2f9d2f260",
   "metadata": {},
   "outputs": [],
   "source": [
    "tox21 = pd.read_csv('../../preprocessing/datasets/tox21.csv')"
   ]
  },
  {
   "cell_type": "code",
   "execution_count": 14,
   "id": "81591609-5b25-427d-aa14-ac6aeff8ed16",
   "metadata": {},
   "outputs": [],
   "source": [
    "summary = pd.DataFrame(data=roc_auc_scores.T, columns=tox21.columns[:-2], index=['val_scores', 'test_scores'])"
   ]
  },
  {
   "cell_type": "code",
   "execution_count": 15,
   "id": "9e52d9cd-4ec0-4414-9dca-dbff578f6699",
   "metadata": {},
   "outputs": [
    {
     "data": {
      "text/html": [
       "<div>\n",
       "<style scoped>\n",
       "    .dataframe tbody tr th:only-of-type {\n",
       "        vertical-align: middle;\n",
       "    }\n",
       "\n",
       "    .dataframe tbody tr th {\n",
       "        vertical-align: top;\n",
       "    }\n",
       "\n",
       "    .dataframe thead th {\n",
       "        text-align: right;\n",
       "    }\n",
       "</style>\n",
       "<table border=\"1\" class=\"dataframe\">\n",
       "  <thead>\n",
       "    <tr style=\"text-align: right;\">\n",
       "      <th></th>\n",
       "      <th>NR-AR</th>\n",
       "      <th>NR-AR-LBD</th>\n",
       "      <th>NR-AhR</th>\n",
       "      <th>NR-Aromatase</th>\n",
       "      <th>NR-ER</th>\n",
       "      <th>NR-ER-LBD</th>\n",
       "      <th>NR-PPAR-gamma</th>\n",
       "      <th>SR-ARE</th>\n",
       "      <th>SR-ATAD5</th>\n",
       "      <th>SR-HSE</th>\n",
       "      <th>SR-MMP</th>\n",
       "      <th>SR-p53</th>\n",
       "    </tr>\n",
       "  </thead>\n",
       "  <tbody>\n",
       "    <tr>\n",
       "      <th>val_scores</th>\n",
       "      <td>0.831641</td>\n",
       "      <td>0.845743</td>\n",
       "      <td>0.906419</td>\n",
       "      <td>0.873007</td>\n",
       "      <td>0.746943</td>\n",
       "      <td>0.866117</td>\n",
       "      <td>0.893504</td>\n",
       "      <td>0.849144</td>\n",
       "      <td>0.893689</td>\n",
       "      <td>0.790534</td>\n",
       "      <td>0.910768</td>\n",
       "      <td>0.867046</td>\n",
       "    </tr>\n",
       "    <tr>\n",
       "      <th>test_scores</th>\n",
       "      <td>0.808014</td>\n",
       "      <td>0.875882</td>\n",
       "      <td>0.932555</td>\n",
       "      <td>0.845152</td>\n",
       "      <td>0.777029</td>\n",
       "      <td>0.887799</td>\n",
       "      <td>0.829793</td>\n",
       "      <td>0.813034</td>\n",
       "      <td>0.885738</td>\n",
       "      <td>0.778590</td>\n",
       "      <td>0.923580</td>\n",
       "      <td>0.861492</td>\n",
       "    </tr>\n",
       "  </tbody>\n",
       "</table>\n",
       "</div>"
      ],
      "text/plain": [
       "                NR-AR  NR-AR-LBD    NR-AhR  NR-Aromatase     NR-ER  NR-ER-LBD  \\\n",
       "val_scores   0.831641   0.845743  0.906419      0.873007  0.746943   0.866117   \n",
       "test_scores  0.808014   0.875882  0.932555      0.845152  0.777029   0.887799   \n",
       "\n",
       "             NR-PPAR-gamma    SR-ARE  SR-ATAD5    SR-HSE    SR-MMP    SR-p53  \n",
       "val_scores        0.893504  0.849144  0.893689  0.790534  0.910768  0.867046  \n",
       "test_scores       0.829793  0.813034  0.885738  0.778590  0.923580  0.861492  "
      ]
     },
     "execution_count": 15,
     "metadata": {},
     "output_type": "execute_result"
    }
   ],
   "source": [
    "summary"
   ]
  },
  {
   "cell_type": "code",
   "execution_count": 16,
   "id": "d4f2b100-85e0-4dcb-a2bc-1f6735de1b28",
   "metadata": {},
   "outputs": [],
   "source": [
    "mean_std_val_test = np.array([[np.mean(roc_auc_scores[i]), np.std(roc_auc_scores[i])] for i in range(2)])"
   ]
  },
  {
   "cell_type": "code",
   "execution_count": 17,
   "id": "f49d8412-19df-4899-8785-854ba24006df",
   "metadata": {},
   "outputs": [],
   "source": [
    "summary2 = pd.DataFrame(data=mean_std_val_test, columns=['mean', 'std'], index=['val', 'test'])"
   ]
  },
  {
   "cell_type": "code",
   "execution_count": 18,
   "id": "e22f6151-c96f-445e-93d6-24e7b3450c29",
   "metadata": {},
   "outputs": [
    {
     "data": {
      "text/html": [
       "<div>\n",
       "<style scoped>\n",
       "    .dataframe tbody tr th:only-of-type {\n",
       "        vertical-align: middle;\n",
       "    }\n",
       "\n",
       "    .dataframe tbody tr th {\n",
       "        vertical-align: top;\n",
       "    }\n",
       "\n",
       "    .dataframe thead th {\n",
       "        text-align: right;\n",
       "    }\n",
       "</style>\n",
       "<table border=\"1\" class=\"dataframe\">\n",
       "  <thead>\n",
       "    <tr style=\"text-align: right;\">\n",
       "      <th></th>\n",
       "      <th>mean</th>\n",
       "      <th>std</th>\n",
       "    </tr>\n",
       "  </thead>\n",
       "  <tbody>\n",
       "    <tr>\n",
       "      <th>val</th>\n",
       "      <td>0.819827</td>\n",
       "      <td>0.011814</td>\n",
       "    </tr>\n",
       "    <tr>\n",
       "      <th>test</th>\n",
       "      <td>0.860812</td>\n",
       "      <td>0.015070</td>\n",
       "    </tr>\n",
       "  </tbody>\n",
       "</table>\n",
       "</div>"
      ],
      "text/plain": [
       "          mean       std\n",
       "val   0.819827  0.011814\n",
       "test  0.860812  0.015070"
      ]
     },
     "execution_count": 18,
     "metadata": {},
     "output_type": "execute_result"
    }
   ],
   "source": [
    "summary2"
   ]
  },
  {
   "cell_type": "code",
   "execution_count": null,
   "id": "9600824a-dc1a-42c4-b3b8-610c08402fd5",
   "metadata": {},
   "outputs": [],
   "source": []
  }
 ],
 "metadata": {
  "kernelspec": {
   "display_name": "Python 3 (ipykernel)",
   "language": "python",
   "name": "python3"
  },
  "language_info": {
   "codemirror_mode": {
    "name": "ipython",
    "version": 3
   },
   "file_extension": ".py",
   "mimetype": "text/x-python",
   "name": "python",
   "nbconvert_exporter": "python",
   "pygments_lexer": "ipython3",
   "version": "3.9.13"
  }
 },
 "nbformat": 4,
 "nbformat_minor": 5
}
