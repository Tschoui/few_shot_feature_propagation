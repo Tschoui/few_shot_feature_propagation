{
 "cells": [
  {
   "cell_type": "code",
   "execution_count": 1,
   "id": "acbc6414-cef8-4842-b8a7-0122ec62b115",
   "metadata": {},
   "outputs": [],
   "source": [
    "import torch\n",
    "import torch.nn as nn"
   ]
  },
  {
   "cell_type": "markdown",
   "id": "5ecfe770-a210-469a-9e37-5b569af84f8c",
   "metadata": {},
   "source": [
    "**Create the DNN class**"
   ]
  },
  {
   "cell_type": "code",
   "execution_count": 2,
   "id": "8228f371-3eca-4f22-99b7-245bfb1e18c2",
   "metadata": {},
   "outputs": [],
   "source": [
    "def create_layer(in_size, out_size, activation_function=nn.ReLU, p=0.25):\n",
    "    return nn.Sequential(\n",
    "        nn.Linear(in_size, out_size),\n",
    "        activation_function(),\n",
    "        nn.Dropout(p=p)\n",
    "    )\n",
    "\n",
    "\n",
    "class DNN(nn.Module):\n",
    "    def __init__(self, input_layer, hidden_layers, output_layer, activation_function=nn.ReLU, p=0.25):\n",
    "        super().__init__()\n",
    "        \n",
    "        self.input_layer = nn.Linear(input_layer, hidden_layers[0])\n",
    "        self.act1 = activation_function()\n",
    "        self.dropout1 = nn.Dropout(p=p)\n",
    "        \n",
    "        layers = [create_layer(hl_in, hl_out) for hl_in, hl_out in zip(hidden_layers, hidden_layers[1:])]\n",
    "        \n",
    "        self.hidden_layers = nn.Sequential(*layers)\n",
    "        \n",
    "        self.output_layer = nn.Linear(hidden_layers[-1], output_layer)\n",
    "        \n",
    "    def forward(self, x):\n",
    "        x = self.act1(self.input_layer(x))\n",
    "        x = self.dropout1(x)\n",
    "        x = self.hidden_layers(x)\n",
    "        x = self.output_layer(x)\n",
    "        return x"
   ]
  },
  {
   "cell_type": "code",
   "execution_count": null,
   "id": "43ce5c55-b965-45d5-9403-3ec0e603f51d",
   "metadata": {},
   "outputs": [],
   "source": []
  }
 ],
 "metadata": {
  "kernelspec": {
   "display_name": "Python 3 (ipykernel)",
   "language": "python",
   "name": "python3"
  },
  "language_info": {
   "codemirror_mode": {
    "name": "ipython",
    "version": 3
   },
   "file_extension": ".py",
   "mimetype": "text/x-python",
   "name": "python",
   "nbconvert_exporter": "python",
   "pygments_lexer": "ipython3",
   "version": "3.9.13"
  }
 },
 "nbformat": 4,
 "nbformat_minor": 5
}
