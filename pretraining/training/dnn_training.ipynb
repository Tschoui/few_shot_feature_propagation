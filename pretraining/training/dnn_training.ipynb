{
 "cells": [
  {
   "cell_type": "code",
   "execution_count": 1,
   "id": "1312bcf3-f32d-4679-8366-34d8d86a2494",
   "metadata": {
    "id": "1312bcf3-f32d-4679-8366-34d8d86a2494"
   },
   "outputs": [],
   "source": [
    "import numpy as np\n",
    "import matplotlib.pyplot as plt\n",
    "import torch\n",
    "import torch.nn as nn\n",
    "import torch.optim as optim\n",
    "from torch.utils.data import DataLoader, TensorDataset\n",
    "from sklearn.metrics import roc_auc_score\n",
    "\n",
    "from dnn import DNN"
   ]
  },
  {
   "cell_type": "markdown",
   "id": "7483b687-ae95-4dfe-bfe1-1421f9b7e88e",
   "metadata": {
    "id": "7483b687-ae95-4dfe-bfe1-1421f9b7e88e"
   },
   "source": [
    "**Load data**"
   ]
  },
  {
   "cell_type": "code",
   "execution_count": 2,
   "id": "73e24999-1397-4266-8c27-156a09386268",
   "metadata": {
    "id": "73e24999-1397-4266-8c27-156a09386268"
   },
   "outputs": [],
   "source": [
    "loaded_tox21_features_train_val_test = np.load('../../preprocessing/preprocessed_data/tox21_features_train_val_test.npy', allow_pickle=True).item()\n",
    "\n",
    "tox21_X_train = loaded_tox21_features_train_val_test['train']\n",
    "tox21_X_val = loaded_tox21_features_train_val_test['validation']\n",
    "tox21_X_test = loaded_tox21_features_train_val_test['test']\n",
    "\n",
    "loaded_tox21_labels_train_val_test = np.load('../../preprocessing/preprocessed_data/tox21_labels_train_val_test.npy', allow_pickle=True).item()\n",
    "\n",
    "tox21_y_train = loaded_tox21_labels_train_val_test['train']\n",
    "tox21_y_val = loaded_tox21_labels_train_val_test['validation']\n",
    "tox21_y_test = loaded_tox21_labels_train_val_test['test']"
   ]
  },
  {
   "cell_type": "markdown",
   "id": "7f4fd1bb-4015-4434-91bc-093e38240104",
   "metadata": {
    "id": "7f4fd1bb-4015-4434-91bc-093e38240104"
   },
   "source": [
    "**Check shapes**"
   ]
  },
  {
   "cell_type": "code",
   "execution_count": 3,
   "id": "ef072e51-3cfb-4b25-80fb-0cdf59c057d0",
   "metadata": {
    "colab": {
     "base_uri": "https://localhost:8080/"
    },
    "id": "ef072e51-3cfb-4b25-80fb-0cdf59c057d0",
    "outputId": "9472dfe1-55c0-4a59-aefc-1f0025fe7eb5"
   },
   "outputs": [
    {
     "name": "stdout",
     "output_type": "stream",
     "text": [
      "Features Train/Val/Test Shapes:\n"
     ]
    },
    {
     "data": {
      "text/plain": [
       "[(4698, 2248), (1566, 2248), (1567, 2248)]"
      ]
     },
     "execution_count": 3,
     "metadata": {},
     "output_type": "execute_result"
    }
   ],
   "source": [
    "print('Features Train/Val/Test Shapes:')\n",
    "[i.shape for i in [tox21_X_train, tox21_X_val, tox21_X_test]]"
   ]
  },
  {
   "cell_type": "code",
   "execution_count": 4,
   "id": "8cc9fb43-aab4-4113-ade2-f8c6dba520e7",
   "metadata": {
    "colab": {
     "base_uri": "https://localhost:8080/"
    },
    "id": "8cc9fb43-aab4-4113-ade2-f8c6dba520e7",
    "outputId": "7dc06b94-56ee-4701-c960-d6b679c30cc3"
   },
   "outputs": [
    {
     "name": "stdout",
     "output_type": "stream",
     "text": [
      "Labels Train/Val/Test Shapes:\n"
     ]
    },
    {
     "data": {
      "text/plain": [
       "[(4698, 12), (1566, 12), (1567, 12)]"
      ]
     },
     "execution_count": 4,
     "metadata": {},
     "output_type": "execute_result"
    }
   ],
   "source": [
    "print('Labels Train/Val/Test Shapes:')\n",
    "[i.shape for i in [tox21_y_train, tox21_y_val, tox21_y_test]]"
   ]
  },
  {
   "cell_type": "markdown",
   "id": "e1715b60-4ba8-453e-8e59-0e2a11ed22a8",
   "metadata": {
    "id": "e1715b60-4ba8-453e-8e59-0e2a11ed22a8"
   },
   "source": [
    "**Create dataloaders**"
   ]
  },
  {
   "cell_type": "code",
   "execution_count": 5,
   "id": "ea13e4f2-82f2-40f6-9e54-f47853cb0d2f",
   "metadata": {
    "id": "ea13e4f2-82f2-40f6-9e54-f47853cb0d2f"
   },
   "outputs": [],
   "source": [
    "def create_dataloaders(X_train, y_train, X_val, y_val, X_test, y_test, batch_size=512):\n",
    "    X_train_tensor = torch.tensor(X_train, dtype=torch.float32)\n",
    "    y_train_tensor = torch.tensor(y_train, dtype=torch.float32)\n",
    "    X_val_tensor = torch.tensor(X_val, dtype=torch.float32)\n",
    "    y_val_tensor = torch.tensor(y_val, dtype=torch.float32)\n",
    "    X_test_tensor = torch.tensor(X_test, dtype=torch.float32)\n",
    "    y_test_tensor = torch.tensor(y_test, dtype=torch.float32)\n",
    "\n",
    "    train_dataset = TensorDataset(X_train_tensor, y_train_tensor)\n",
    "    val_dataset = TensorDataset(X_val_tensor, y_val_tensor)\n",
    "    test_dataset = TensorDataset(X_test_tensor, y_test_tensor)\n",
    "\n",
    "    train_loader = DataLoader(train_dataset, batch_size=batch_size, shuffle=True)\n",
    "    val_loader = DataLoader(val_dataset, batch_size=batch_size, shuffle=False)\n",
    "    test_loader = DataLoader(test_dataset, batch_size=batch_size, shuffle=False)\n",
    "\n",
    "    return train_loader, val_loader, test_loader"
   ]
  },
  {
   "cell_type": "markdown",
   "id": "412b5c74-6130-463e-9b17-f85f90d51e07",
   "metadata": {
    "id": "412b5c74-6130-463e-9b17-f85f90d51e07"
   },
   "source": [
    "**Create training loop**"
   ]
  },
  {
   "cell_type": "code",
   "execution_count": 6,
   "id": "695a83f9-925e-4fd4-82e5-f2d8b8a4e034",
   "metadata": {
    "id": "695a83f9-925e-4fd4-82e5-f2d8b8a4e034"
   },
   "outputs": [],
   "source": [
    "def train_validation_loop(\n",
    "    model,\n",
    "    dataloader_train,\n",
    "    dataloader_val,\n",
    "    loss_func,\n",
    "    optimizer,\n",
    "    num_epochs=10,\n",
    "    device='cpu',\n",
    "    print_per_epochs=1,\n",
    "    max_epochs_without_impr=5\n",
    "):\n",
    "    train_losses = []\n",
    "    val_losses = []\n",
    "    mean_auc_per_epoch = []\n",
    "\n",
    "    # variables for early stopping\n",
    "    best_auc_score = float('-inf')\n",
    "    best_model_params = None\n",
    "    epochs_without_improvement = 0\n",
    "    num_epochs_early_stopping = num_epochs\n",
    "\n",
    "    for epoch in range(num_epochs):\n",
    "        model.train()\n",
    "        total_train_loss = 0\n",
    "\n",
    "        for batch_X, batch_y in dataloader_train:\n",
    "            batch_X, batch_y = batch_X.to(device), batch_y.to(device)\n",
    "\n",
    "            optimizer.zero_grad()\n",
    "            outputs = model(batch_X)\n",
    "\n",
    "            mask = (batch_y != -1.)\n",
    "            loss = loss_func(outputs[mask], batch_y[mask])\n",
    "            loss.backward()\n",
    "            optimizer.step()\n",
    "\n",
    "            total_train_loss += loss.item() * batch_X.shape[0]\n",
    "\n",
    "        train_loss_per_epoch = total_train_loss / len(dataloader_train.dataset)\n",
    "\n",
    "        train_losses.append(train_loss_per_epoch)\n",
    "\n",
    "        # Validation step\n",
    "        model.eval()\n",
    "        total_val_loss = 0\n",
    "\n",
    "        val_outputs = []\n",
    "        val_labels = []\n",
    "\n",
    "        with torch.no_grad():\n",
    "            for batch_X, batch_y in dataloader_val:\n",
    "                batch_X, batch_y = batch_X.to(device), batch_y.to(device)\n",
    "\n",
    "                outputs = model(batch_X)\n",
    "\n",
    "                mask = (batch_y != -1.)\n",
    "                loss = loss_func(outputs[mask], batch_y[mask])\n",
    "\n",
    "                total_val_loss += loss.item() * batch_X.shape[0]\n",
    "\n",
    "                val_outputs.append(outputs.cpu())\n",
    "                val_labels.append(batch_y.cpu())\n",
    "\n",
    "        val_loss_per_epoch = total_val_loss / len(dataloader_val.dataset)\n",
    "\n",
    "        val_losses.append(val_loss_per_epoch)\n",
    "\n",
    "        val_outputs = torch.cat(val_outputs)\n",
    "        val_labels = torch.cat(val_labels)\n",
    "\n",
    "        # Compute AUC scores\n",
    "        auc_scores = []\n",
    "\n",
    "        for task in range(val_labels.shape[-1]):\n",
    "            p = val_outputs[:, task]\n",
    "            y = val_labels[:, task]\n",
    "\n",
    "            mask = (y != -1)\n",
    "            p = p[mask]\n",
    "            y = y[mask]\n",
    "\n",
    "            if 0 in y and 1 in y:\n",
    "                auc = roc_auc_score(y, p)\n",
    "            else:\n",
    "                auc = np.nan\n",
    "\n",
    "            auc_scores.append(auc)\n",
    "\n",
    "        auc_scores_mean = np.nanmean(auc_scores)\n",
    "        auc_scores_std = np.nanstd(auc_scores)\n",
    "        mean_auc_per_epoch.append(auc_scores_mean)\n",
    "\n",
    "        # early stopping\n",
    "        if auc_scores_mean > best_auc_score:\n",
    "            best_auc_score = auc_scores_mean\n",
    "            best_model_params = model.state_dict()\n",
    "            epochs_without_improvement = 0\n",
    "        else:\n",
    "            epochs_without_improvement += 1\n",
    "\n",
    "        if epochs_without_improvement >= max_epochs_without_impr:\n",
    "            print(f'Early stopping at epoch {epoch + 1}, with the best AUC score = {best_auc_score:.4f}')\n",
    "            num_epochs_early_stopping = epoch + 1\n",
    "            break\n",
    "\n",
    "        if epoch % print_per_epochs == 0:\n",
    "            print(f'Epoch {epoch+1}/{num_epochs}, '\n",
    "                  f'Train Loss: {train_loss_per_epoch:.4f}, '\n",
    "                  f'Validation Loss: {val_loss_per_epoch:.4f}, '\n",
    "                  f'Validation AUC mean: {auc_scores_mean:.4f}, '\n",
    "                  f'Best AUC score: {best_auc_score:.4f}')\n",
    "\n",
    "    if best_model_params is not None:\n",
    "        model.load_state_dict(best_model_params)\n",
    "\n",
    "    return num_epochs_early_stopping, train_losses, val_losses, mean_auc_per_epoch"
   ]
  },
  {
   "cell_type": "markdown",
   "id": "3fc1c990-ef94-46be-b149-73edce3ce16f",
   "metadata": {
    "id": "3fc1c990-ef94-46be-b149-73edce3ce16f"
   },
   "source": [
    "**Create a function to plot losses vs epochs**"
   ]
  },
  {
   "cell_type": "code",
   "execution_count": 7,
   "id": "8f43a720-d4fc-4813-a35e-3bf8d443187f",
   "metadata": {
    "id": "8f43a720-d4fc-4813-a35e-3bf8d443187f"
   },
   "outputs": [],
   "source": [
    "def plot_losses(train_losses, val_losses, mean_auc_per_epoch, num_epochs):\n",
    "    epochs = np.arange(1, num_epochs + 1)\n",
    "\n",
    "    fig, (ax1, ax2) = plt.subplots(nrows=1, ncols=2, figsize=(12, 5))\n",
    "\n",
    "    ax1.plot(epochs, train_losses, label='Train Loss', color='blue')\n",
    "    ax1.plot(epochs, val_losses, label='Validation Loss', color='orange')\n",
    "    ax1.set_title('Train/Validation Loss per Epoch')\n",
    "    ax1.set_xlabel('Epochs')\n",
    "    ax1.set_ylabel('Loss')\n",
    "    ax1.legend()\n",
    "\n",
    "    ax2.plot(epochs, mean_auc_per_epoch, color='green')\n",
    "    ax2.set_title('Mean Validation AUC per Epoch')\n",
    "    ax2.set_xlabel('Epochs')\n",
    "    ax2.set_ylabel('AUC')\n",
    "\n",
    "    plt.tight_layout()\n",
    "    plt.show()"
   ]
  },
  {
   "cell_type": "markdown",
   "id": "b80c6f13-db46-48dd-89e4-11af31990c90",
   "metadata": {
    "id": "b80c6f13-db46-48dd-89e4-11af31990c90"
   },
   "source": [
    "**Set hyperparameters**"
   ]
  },
  {
   "cell_type": "code",
   "execution_count": 8,
   "id": "9574ff84-c182-478e-b533-d0b61731ec88",
   "metadata": {
    "id": "9574ff84-c182-478e-b533-d0b61731ec88"
   },
   "outputs": [],
   "source": [
    "params = {'input_size': 2248,\n",
    "          'hidden_layers': [1024, 128],\n",
    "          'output_size': 12,\n",
    "          'learning_rate': 3e-4,\n",
    "          'activation_function': nn.SELU,\n",
    "          'dropout_p': 0.45,\n",
    "          'batch_size': 512}\n",
    "\n",
    "input_size, hidden_layers, output_size, learning_rate, activation_function, dropout_p, batch_size = params.values()\n",
    "weight_decay = 1e-5\n",
    "num_epochs = 300\n",
    "max_epochs_without_impr = 50\n",
    "device = torch.device('cuda' if torch.cuda.is_available() else 'cpu')"
   ]
  },
  {
   "cell_type": "markdown",
   "id": "6ea7eaec-3edc-479a-9fd4-968e79cd9c2f",
   "metadata": {
    "id": "6ea7eaec-3edc-479a-9fd4-968e79cd9c2f"
   },
   "source": [
    "**Model training**"
   ]
  },
  {
   "cell_type": "code",
   "execution_count": 9,
   "id": "e73aff63-2890-482e-a6e4-a628c4497fa3",
   "metadata": {
    "id": "e73aff63-2890-482e-a6e4-a628c4497fa3"
   },
   "outputs": [],
   "source": [
    "model = DNN(input_size, hidden_layers, output_size, activation_function, p=dropout_p)"
   ]
  },
  {
   "cell_type": "code",
   "execution_count": 10,
   "id": "33e99f45-b3f3-4399-8185-f09773dfc808",
   "metadata": {
    "colab": {
     "base_uri": "https://localhost:8080/"
    },
    "id": "33e99f45-b3f3-4399-8185-f09773dfc808",
    "outputId": "fd39b341-d9cd-4afe-aaf3-ea117204ed37"
   },
   "outputs": [
    {
     "data": {
      "text/plain": [
       "DNN(\n",
       "  (input_layer): Linear(in_features=2248, out_features=1024, bias=True)\n",
       "  (act1): SELU()\n",
       "  (dropout1): AlphaDropout(p=0.45, inplace=False)\n",
       "  (hidden_layers): Sequential(\n",
       "    (0): Sequential(\n",
       "      (0): AlphaDropout(p=0.45, inplace=False)\n",
       "      (1): Linear(in_features=1024, out_features=128, bias=True)\n",
       "      (2): SELU()\n",
       "    )\n",
       "  )\n",
       "  (output_layer): Linear(in_features=128, out_features=12, bias=True)\n",
       ")"
      ]
     },
     "execution_count": 10,
     "metadata": {},
     "output_type": "execute_result"
    }
   ],
   "source": [
    "model.to(device)"
   ]
  },
  {
   "cell_type": "code",
   "execution_count": 11,
   "id": "00ac1a0c-8cf3-46a3-87e4-4362267df9f8",
   "metadata": {
    "id": "00ac1a0c-8cf3-46a3-87e4-4362267df9f8"
   },
   "outputs": [],
   "source": [
    "loss_func = nn.BCEWithLogitsLoss()\n",
    "optimizer = optim.Adam(model.parameters(), lr=learning_rate, weight_decay=weight_decay)"
   ]
  },
  {
   "cell_type": "code",
   "execution_count": 12,
   "id": "4c2c74b2-6ff8-46e5-8043-115ad47d5c71",
   "metadata": {
    "id": "4c2c74b2-6ff8-46e5-8043-115ad47d5c71"
   },
   "outputs": [],
   "source": [
    "train_loader, val_loader, test_loader = create_dataloaders(tox21_X_train,\n",
    "                                                           tox21_y_train,\n",
    "                                                           tox21_X_val,\n",
    "                                                           tox21_y_val,\n",
    "                                                           tox21_X_test,\n",
    "                                                           tox21_y_test)"
   ]
  },
  {
   "cell_type": "code",
   "execution_count": 13,
   "id": "50d734dc-f25f-46d2-b825-737df2218fbe",
   "metadata": {
    "colab": {
     "base_uri": "https://localhost:8080/"
    },
    "id": "50d734dc-f25f-46d2-b825-737df2218fbe",
    "outputId": "1f968dd7-3785-43a4-c98d-d9a252764512"
   },
   "outputs": [
    {
     "name": "stdout",
     "output_type": "stream",
     "text": [
      "Epoch 1/300, Train Loss: 0.7146, Validation Loss: 0.6282, Validation AUC mean: 0.7281, Best AUC score: 0.7281\n",
      "Epoch 2/300, Train Loss: 0.6670, Validation Loss: 0.6000, Validation AUC mean: 0.7461, Best AUC score: 0.7461\n",
      "Epoch 3/300, Train Loss: 0.6191, Validation Loss: 0.6114, Validation AUC mean: 0.7546, Best AUC score: 0.7546\n",
      "Epoch 4/300, Train Loss: 0.5805, Validation Loss: 0.5996, Validation AUC mean: 0.7697, Best AUC score: 0.7697\n",
      "Epoch 5/300, Train Loss: 0.5389, Validation Loss: 0.5279, Validation AUC mean: 0.7808, Best AUC score: 0.7808\n",
      "Epoch 6/300, Train Loss: 0.4942, Validation Loss: 0.4968, Validation AUC mean: 0.7774, Best AUC score: 0.7808\n",
      "Epoch 7/300, Train Loss: 0.4610, Validation Loss: 0.4586, Validation AUC mean: 0.7797, Best AUC score: 0.7808\n",
      "Epoch 8/300, Train Loss: 0.4345, Validation Loss: 0.4279, Validation AUC mean: 0.7762, Best AUC score: 0.7808\n",
      "Epoch 9/300, Train Loss: 0.4069, Validation Loss: 0.3791, Validation AUC mean: 0.7749, Best AUC score: 0.7808\n",
      "Epoch 10/300, Train Loss: 0.3789, Validation Loss: 0.3576, Validation AUC mean: 0.7766, Best AUC score: 0.7808\n",
      "Epoch 11/300, Train Loss: 0.3557, Validation Loss: 0.3526, Validation AUC mean: 0.7878, Best AUC score: 0.7878\n",
      "Epoch 12/300, Train Loss: 0.3452, Validation Loss: 0.3029, Validation AUC mean: 0.7886, Best AUC score: 0.7886\n",
      "Epoch 13/300, Train Loss: 0.3232, Validation Loss: 0.3409, Validation AUC mean: 0.7992, Best AUC score: 0.7992\n",
      "Epoch 14/300, Train Loss: 0.3137, Validation Loss: 0.3232, Validation AUC mean: 0.7984, Best AUC score: 0.7992\n",
      "Epoch 15/300, Train Loss: 0.2996, Validation Loss: 0.3211, Validation AUC mean: 0.7882, Best AUC score: 0.7992\n",
      "Epoch 16/300, Train Loss: 0.2928, Validation Loss: 0.3222, Validation AUC mean: 0.7880, Best AUC score: 0.7992\n",
      "Epoch 17/300, Train Loss: 0.2795, Validation Loss: 0.3118, Validation AUC mean: 0.7886, Best AUC score: 0.7992\n",
      "Epoch 18/300, Train Loss: 0.2792, Validation Loss: 0.2961, Validation AUC mean: 0.7857, Best AUC score: 0.7992\n",
      "Epoch 19/300, Train Loss: 0.2728, Validation Loss: 0.2977, Validation AUC mean: 0.7959, Best AUC score: 0.7992\n",
      "Epoch 20/300, Train Loss: 0.2713, Validation Loss: 0.2828, Validation AUC mean: 0.7840, Best AUC score: 0.7992\n",
      "Epoch 21/300, Train Loss: 0.2652, Validation Loss: 0.2906, Validation AUC mean: 0.7938, Best AUC score: 0.7992\n",
      "Epoch 22/300, Train Loss: 0.2604, Validation Loss: 0.2924, Validation AUC mean: 0.7941, Best AUC score: 0.7992\n",
      "Epoch 23/300, Train Loss: 0.2542, Validation Loss: 0.2852, Validation AUC mean: 0.7968, Best AUC score: 0.7992\n",
      "Epoch 24/300, Train Loss: 0.2477, Validation Loss: 0.2807, Validation AUC mean: 0.8043, Best AUC score: 0.8043\n",
      "Epoch 25/300, Train Loss: 0.2403, Validation Loss: 0.2826, Validation AUC mean: 0.8119, Best AUC score: 0.8119\n",
      "Epoch 26/300, Train Loss: 0.2439, Validation Loss: 0.2756, Validation AUC mean: 0.8149, Best AUC score: 0.8149\n",
      "Epoch 27/300, Train Loss: 0.2474, Validation Loss: 0.2760, Validation AUC mean: 0.8135, Best AUC score: 0.8149\n",
      "Epoch 28/300, Train Loss: 0.2381, Validation Loss: 0.2792, Validation AUC mean: 0.8115, Best AUC score: 0.8149\n",
      "Epoch 29/300, Train Loss: 0.2373, Validation Loss: 0.2753, Validation AUC mean: 0.8127, Best AUC score: 0.8149\n",
      "Epoch 30/300, Train Loss: 0.2347, Validation Loss: 0.2787, Validation AUC mean: 0.8170, Best AUC score: 0.8170\n",
      "Epoch 31/300, Train Loss: 0.2350, Validation Loss: 0.2683, Validation AUC mean: 0.8173, Best AUC score: 0.8173\n",
      "Epoch 32/300, Train Loss: 0.2298, Validation Loss: 0.2634, Validation AUC mean: 0.8171, Best AUC score: 0.8173\n",
      "Epoch 33/300, Train Loss: 0.2284, Validation Loss: 0.2690, Validation AUC mean: 0.8168, Best AUC score: 0.8173\n",
      "Epoch 34/300, Train Loss: 0.2281, Validation Loss: 0.2738, Validation AUC mean: 0.8170, Best AUC score: 0.8173\n",
      "Epoch 35/300, Train Loss: 0.2259, Validation Loss: 0.2734, Validation AUC mean: 0.8168, Best AUC score: 0.8173\n",
      "Epoch 36/300, Train Loss: 0.2269, Validation Loss: 0.2670, Validation AUC mean: 0.8215, Best AUC score: 0.8215\n",
      "Epoch 37/300, Train Loss: 0.2217, Validation Loss: 0.2686, Validation AUC mean: 0.8221, Best AUC score: 0.8221\n",
      "Epoch 38/300, Train Loss: 0.2263, Validation Loss: 0.2659, Validation AUC mean: 0.8212, Best AUC score: 0.8221\n",
      "Epoch 39/300, Train Loss: 0.2234, Validation Loss: 0.2685, Validation AUC mean: 0.8242, Best AUC score: 0.8242\n",
      "Epoch 40/300, Train Loss: 0.2204, Validation Loss: 0.2705, Validation AUC mean: 0.8263, Best AUC score: 0.8263\n",
      "Epoch 41/300, Train Loss: 0.2201, Validation Loss: 0.2656, Validation AUC mean: 0.8240, Best AUC score: 0.8263\n",
      "Epoch 42/300, Train Loss: 0.2196, Validation Loss: 0.2691, Validation AUC mean: 0.8287, Best AUC score: 0.8287\n",
      "Epoch 43/300, Train Loss: 0.2159, Validation Loss: 0.2662, Validation AUC mean: 0.8319, Best AUC score: 0.8319\n",
      "Epoch 44/300, Train Loss: 0.2185, Validation Loss: 0.2655, Validation AUC mean: 0.8330, Best AUC score: 0.8330\n",
      "Epoch 45/300, Train Loss: 0.2146, Validation Loss: 0.2716, Validation AUC mean: 0.8309, Best AUC score: 0.8330\n",
      "Epoch 46/300, Train Loss: 0.2104, Validation Loss: 0.2686, Validation AUC mean: 0.8320, Best AUC score: 0.8330\n",
      "Epoch 47/300, Train Loss: 0.2140, Validation Loss: 0.2679, Validation AUC mean: 0.8331, Best AUC score: 0.8331\n",
      "Epoch 48/300, Train Loss: 0.2086, Validation Loss: 0.2674, Validation AUC mean: 0.8340, Best AUC score: 0.8340\n",
      "Epoch 49/300, Train Loss: 0.2130, Validation Loss: 0.2582, Validation AUC mean: 0.8331, Best AUC score: 0.8340\n",
      "Epoch 50/300, Train Loss: 0.2084, Validation Loss: 0.2603, Validation AUC mean: 0.8313, Best AUC score: 0.8340\n",
      "Epoch 51/300, Train Loss: 0.2088, Validation Loss: 0.2618, Validation AUC mean: 0.8323, Best AUC score: 0.8340\n",
      "Epoch 52/300, Train Loss: 0.2063, Validation Loss: 0.2652, Validation AUC mean: 0.8353, Best AUC score: 0.8353\n",
      "Epoch 53/300, Train Loss: 0.2048, Validation Loss: 0.2660, Validation AUC mean: 0.8376, Best AUC score: 0.8376\n",
      "Epoch 54/300, Train Loss: 0.2042, Validation Loss: 0.2700, Validation AUC mean: 0.8387, Best AUC score: 0.8387\n",
      "Epoch 55/300, Train Loss: 0.2033, Validation Loss: 0.2741, Validation AUC mean: 0.8365, Best AUC score: 0.8387\n",
      "Epoch 56/300, Train Loss: 0.2100, Validation Loss: 0.2727, Validation AUC mean: 0.8338, Best AUC score: 0.8387\n",
      "Epoch 57/300, Train Loss: 0.2035, Validation Loss: 0.2691, Validation AUC mean: 0.8319, Best AUC score: 0.8387\n",
      "Epoch 58/300, Train Loss: 0.2024, Validation Loss: 0.2720, Validation AUC mean: 0.8327, Best AUC score: 0.8387\n",
      "Epoch 59/300, Train Loss: 0.2008, Validation Loss: 0.2681, Validation AUC mean: 0.8334, Best AUC score: 0.8387\n",
      "Epoch 60/300, Train Loss: 0.1995, Validation Loss: 0.2735, Validation AUC mean: 0.8355, Best AUC score: 0.8387\n",
      "Epoch 61/300, Train Loss: 0.1996, Validation Loss: 0.2717, Validation AUC mean: 0.8367, Best AUC score: 0.8387\n",
      "Epoch 62/300, Train Loss: 0.2006, Validation Loss: 0.2700, Validation AUC mean: 0.8362, Best AUC score: 0.8387\n",
      "Epoch 63/300, Train Loss: 0.2013, Validation Loss: 0.2722, Validation AUC mean: 0.8364, Best AUC score: 0.8387\n",
      "Epoch 64/300, Train Loss: 0.1975, Validation Loss: 0.2750, Validation AUC mean: 0.8377, Best AUC score: 0.8387\n",
      "Epoch 65/300, Train Loss: 0.1944, Validation Loss: 0.2770, Validation AUC mean: 0.8389, Best AUC score: 0.8389\n",
      "Epoch 66/300, Train Loss: 0.1956, Validation Loss: 0.2734, Validation AUC mean: 0.8392, Best AUC score: 0.8392\n",
      "Epoch 67/300, Train Loss: 0.1931, Validation Loss: 0.2766, Validation AUC mean: 0.8402, Best AUC score: 0.8402\n",
      "Epoch 68/300, Train Loss: 0.1962, Validation Loss: 0.2805, Validation AUC mean: 0.8406, Best AUC score: 0.8406\n",
      "Epoch 69/300, Train Loss: 0.1910, Validation Loss: 0.2747, Validation AUC mean: 0.8404, Best AUC score: 0.8406\n",
      "Epoch 70/300, Train Loss: 0.1976, Validation Loss: 0.2732, Validation AUC mean: 0.8398, Best AUC score: 0.8406\n",
      "Epoch 71/300, Train Loss: 0.1965, Validation Loss: 0.2698, Validation AUC mean: 0.8393, Best AUC score: 0.8406\n",
      "Epoch 72/300, Train Loss: 0.1942, Validation Loss: 0.2669, Validation AUC mean: 0.8398, Best AUC score: 0.8406\n",
      "Epoch 73/300, Train Loss: 0.1899, Validation Loss: 0.2691, Validation AUC mean: 0.8405, Best AUC score: 0.8406\n",
      "Epoch 74/300, Train Loss: 0.1963, Validation Loss: 0.2712, Validation AUC mean: 0.8404, Best AUC score: 0.8406\n",
      "Epoch 75/300, Train Loss: 0.1897, Validation Loss: 0.2738, Validation AUC mean: 0.8407, Best AUC score: 0.8407\n",
      "Epoch 76/300, Train Loss: 0.1889, Validation Loss: 0.2722, Validation AUC mean: 0.8402, Best AUC score: 0.8407\n",
      "Epoch 77/300, Train Loss: 0.1874, Validation Loss: 0.2758, Validation AUC mean: 0.8399, Best AUC score: 0.8407\n",
      "Epoch 78/300, Train Loss: 0.1892, Validation Loss: 0.2748, Validation AUC mean: 0.8383, Best AUC score: 0.8407\n",
      "Epoch 79/300, Train Loss: 0.1909, Validation Loss: 0.2698, Validation AUC mean: 0.8386, Best AUC score: 0.8407\n",
      "Epoch 80/300, Train Loss: 0.1901, Validation Loss: 0.2706, Validation AUC mean: 0.8410, Best AUC score: 0.8410\n",
      "Epoch 81/300, Train Loss: 0.1881, Validation Loss: 0.2723, Validation AUC mean: 0.8406, Best AUC score: 0.8410\n",
      "Epoch 82/300, Train Loss: 0.1861, Validation Loss: 0.2799, Validation AUC mean: 0.8402, Best AUC score: 0.8410\n",
      "Epoch 83/300, Train Loss: 0.1878, Validation Loss: 0.2803, Validation AUC mean: 0.8397, Best AUC score: 0.8410\n",
      "Epoch 84/300, Train Loss: 0.1856, Validation Loss: 0.2753, Validation AUC mean: 0.8407, Best AUC score: 0.8410\n",
      "Epoch 85/300, Train Loss: 0.1895, Validation Loss: 0.2804, Validation AUC mean: 0.8399, Best AUC score: 0.8410\n",
      "Epoch 86/300, Train Loss: 0.1861, Validation Loss: 0.2809, Validation AUC mean: 0.8371, Best AUC score: 0.8410\n",
      "Epoch 87/300, Train Loss: 0.1854, Validation Loss: 0.2792, Validation AUC mean: 0.8369, Best AUC score: 0.8410\n",
      "Epoch 88/300, Train Loss: 0.1855, Validation Loss: 0.2790, Validation AUC mean: 0.8387, Best AUC score: 0.8410\n",
      "Epoch 89/300, Train Loss: 0.1852, Validation Loss: 0.2852, Validation AUC mean: 0.8398, Best AUC score: 0.8410\n",
      "Epoch 90/300, Train Loss: 0.1861, Validation Loss: 0.2857, Validation AUC mean: 0.8405, Best AUC score: 0.8410\n",
      "Epoch 91/300, Train Loss: 0.1845, Validation Loss: 0.2873, Validation AUC mean: 0.8391, Best AUC score: 0.8410\n",
      "Epoch 92/300, Train Loss: 0.1815, Validation Loss: 0.2839, Validation AUC mean: 0.8387, Best AUC score: 0.8410\n",
      "Epoch 93/300, Train Loss: 0.1839, Validation Loss: 0.2874, Validation AUC mean: 0.8389, Best AUC score: 0.8410\n",
      "Epoch 94/300, Train Loss: 0.1794, Validation Loss: 0.2962, Validation AUC mean: 0.8384, Best AUC score: 0.8410\n",
      "Epoch 95/300, Train Loss: 0.1823, Validation Loss: 0.3017, Validation AUC mean: 0.8392, Best AUC score: 0.8410\n",
      "Epoch 96/300, Train Loss: 0.1833, Validation Loss: 0.2891, Validation AUC mean: 0.8389, Best AUC score: 0.8410\n",
      "Epoch 97/300, Train Loss: 0.1783, Validation Loss: 0.2894, Validation AUC mean: 0.8384, Best AUC score: 0.8410\n",
      "Epoch 98/300, Train Loss: 0.1800, Validation Loss: 0.2973, Validation AUC mean: 0.8395, Best AUC score: 0.8410\n",
      "Epoch 99/300, Train Loss: 0.1820, Validation Loss: 0.2971, Validation AUC mean: 0.8405, Best AUC score: 0.8410\n",
      "Epoch 100/300, Train Loss: 0.1788, Validation Loss: 0.2902, Validation AUC mean: 0.8405, Best AUC score: 0.8410\n",
      "Epoch 101/300, Train Loss: 0.1792, Validation Loss: 0.2855, Validation AUC mean: 0.8402, Best AUC score: 0.8410\n",
      "Epoch 102/300, Train Loss: 0.1807, Validation Loss: 0.2843, Validation AUC mean: 0.8406, Best AUC score: 0.8410\n",
      "Epoch 103/300, Train Loss: 0.1778, Validation Loss: 0.2920, Validation AUC mean: 0.8419, Best AUC score: 0.8419\n",
      "Epoch 104/300, Train Loss: 0.1829, Validation Loss: 0.2886, Validation AUC mean: 0.8403, Best AUC score: 0.8419\n",
      "Epoch 105/300, Train Loss: 0.1794, Validation Loss: 0.2908, Validation AUC mean: 0.8381, Best AUC score: 0.8419\n",
      "Epoch 106/300, Train Loss: 0.1794, Validation Loss: 0.2883, Validation AUC mean: 0.8373, Best AUC score: 0.8419\n",
      "Epoch 107/300, Train Loss: 0.1781, Validation Loss: 0.2882, Validation AUC mean: 0.8377, Best AUC score: 0.8419\n",
      "Epoch 108/300, Train Loss: 0.1781, Validation Loss: 0.2929, Validation AUC mean: 0.8394, Best AUC score: 0.8419\n",
      "Epoch 109/300, Train Loss: 0.1793, Validation Loss: 0.2946, Validation AUC mean: 0.8392, Best AUC score: 0.8419\n",
      "Epoch 110/300, Train Loss: 0.1806, Validation Loss: 0.2978, Validation AUC mean: 0.8400, Best AUC score: 0.8419\n",
      "Epoch 111/300, Train Loss: 0.1771, Validation Loss: 0.2985, Validation AUC mean: 0.8396, Best AUC score: 0.8419\n",
      "Epoch 112/300, Train Loss: 0.1751, Validation Loss: 0.2996, Validation AUC mean: 0.8392, Best AUC score: 0.8419\n",
      "Epoch 113/300, Train Loss: 0.1764, Validation Loss: 0.3005, Validation AUC mean: 0.8383, Best AUC score: 0.8419\n",
      "Epoch 114/300, Train Loss: 0.1781, Validation Loss: 0.3039, Validation AUC mean: 0.8379, Best AUC score: 0.8419\n",
      "Epoch 115/300, Train Loss: 0.1780, Validation Loss: 0.3009, Validation AUC mean: 0.8374, Best AUC score: 0.8419\n",
      "Epoch 116/300, Train Loss: 0.1741, Validation Loss: 0.3037, Validation AUC mean: 0.8379, Best AUC score: 0.8419\n",
      "Epoch 117/300, Train Loss: 0.1741, Validation Loss: 0.3051, Validation AUC mean: 0.8391, Best AUC score: 0.8419\n",
      "Epoch 118/300, Train Loss: 0.1769, Validation Loss: 0.3051, Validation AUC mean: 0.8391, Best AUC score: 0.8419\n",
      "Epoch 119/300, Train Loss: 0.1738, Validation Loss: 0.3122, Validation AUC mean: 0.8389, Best AUC score: 0.8419\n",
      "Epoch 120/300, Train Loss: 0.1741, Validation Loss: 0.3175, Validation AUC mean: 0.8394, Best AUC score: 0.8419\n",
      "Epoch 121/300, Train Loss: 0.1745, Validation Loss: 0.3176, Validation AUC mean: 0.8393, Best AUC score: 0.8419\n",
      "Epoch 122/300, Train Loss: 0.1736, Validation Loss: 0.3108, Validation AUC mean: 0.8394, Best AUC score: 0.8419\n",
      "Epoch 123/300, Train Loss: 0.1709, Validation Loss: 0.3194, Validation AUC mean: 0.8411, Best AUC score: 0.8419\n",
      "Epoch 124/300, Train Loss: 0.1730, Validation Loss: 0.3254, Validation AUC mean: 0.8403, Best AUC score: 0.8419\n",
      "Epoch 125/300, Train Loss: 0.1743, Validation Loss: 0.3255, Validation AUC mean: 0.8402, Best AUC score: 0.8419\n",
      "Epoch 126/300, Train Loss: 0.1717, Validation Loss: 0.3303, Validation AUC mean: 0.8409, Best AUC score: 0.8419\n",
      "Epoch 127/300, Train Loss: 0.1701, Validation Loss: 0.3295, Validation AUC mean: 0.8408, Best AUC score: 0.8419\n",
      "Epoch 128/300, Train Loss: 0.1755, Validation Loss: 0.3316, Validation AUC mean: 0.8415, Best AUC score: 0.8419\n",
      "Epoch 129/300, Train Loss: 0.1702, Validation Loss: 0.3325, Validation AUC mean: 0.8429, Best AUC score: 0.8429\n",
      "Epoch 130/300, Train Loss: 0.1721, Validation Loss: 0.3265, Validation AUC mean: 0.8437, Best AUC score: 0.8437\n",
      "Epoch 131/300, Train Loss: 0.1716, Validation Loss: 0.3226, Validation AUC mean: 0.8431, Best AUC score: 0.8437\n",
      "Epoch 132/300, Train Loss: 0.1704, Validation Loss: 0.3315, Validation AUC mean: 0.8428, Best AUC score: 0.8437\n",
      "Epoch 133/300, Train Loss: 0.1724, Validation Loss: 0.3301, Validation AUC mean: 0.8415, Best AUC score: 0.8437\n",
      "Epoch 134/300, Train Loss: 0.1728, Validation Loss: 0.3306, Validation AUC mean: 0.8415, Best AUC score: 0.8437\n",
      "Epoch 135/300, Train Loss: 0.1718, Validation Loss: 0.3350, Validation AUC mean: 0.8432, Best AUC score: 0.8437\n",
      "Epoch 136/300, Train Loss: 0.1708, Validation Loss: 0.3301, Validation AUC mean: 0.8420, Best AUC score: 0.8437\n",
      "Epoch 137/300, Train Loss: 0.1703, Validation Loss: 0.3272, Validation AUC mean: 0.8407, Best AUC score: 0.8437\n",
      "Epoch 138/300, Train Loss: 0.1707, Validation Loss: 0.3331, Validation AUC mean: 0.8411, Best AUC score: 0.8437\n",
      "Epoch 139/300, Train Loss: 0.1712, Validation Loss: 0.3311, Validation AUC mean: 0.8409, Best AUC score: 0.8437\n",
      "Epoch 140/300, Train Loss: 0.1709, Validation Loss: 0.3320, Validation AUC mean: 0.8408, Best AUC score: 0.8437\n",
      "Epoch 141/300, Train Loss: 0.1692, Validation Loss: 0.3321, Validation AUC mean: 0.8402, Best AUC score: 0.8437\n",
      "Epoch 142/300, Train Loss: 0.1663, Validation Loss: 0.3415, Validation AUC mean: 0.8396, Best AUC score: 0.8437\n",
      "Epoch 143/300, Train Loss: 0.1692, Validation Loss: 0.3507, Validation AUC mean: 0.8391, Best AUC score: 0.8437\n",
      "Epoch 144/300, Train Loss: 0.1702, Validation Loss: 0.3481, Validation AUC mean: 0.8382, Best AUC score: 0.8437\n",
      "Epoch 145/300, Train Loss: 0.1695, Validation Loss: 0.3543, Validation AUC mean: 0.8393, Best AUC score: 0.8437\n",
      "Epoch 146/300, Train Loss: 0.1690, Validation Loss: 0.3529, Validation AUC mean: 0.8395, Best AUC score: 0.8437\n",
      "Epoch 147/300, Train Loss: 0.1690, Validation Loss: 0.3497, Validation AUC mean: 0.8401, Best AUC score: 0.8437\n",
      "Epoch 148/300, Train Loss: 0.1691, Validation Loss: 0.3493, Validation AUC mean: 0.8396, Best AUC score: 0.8437\n",
      "Epoch 149/300, Train Loss: 0.1696, Validation Loss: 0.3612, Validation AUC mean: 0.8395, Best AUC score: 0.8437\n",
      "Epoch 150/300, Train Loss: 0.1718, Validation Loss: 0.3612, Validation AUC mean: 0.8392, Best AUC score: 0.8437\n",
      "Epoch 151/300, Train Loss: 0.1697, Validation Loss: 0.3583, Validation AUC mean: 0.8386, Best AUC score: 0.8437\n",
      "Epoch 152/300, Train Loss: 0.1692, Validation Loss: 0.3641, Validation AUC mean: 0.8378, Best AUC score: 0.8437\n",
      "Epoch 153/300, Train Loss: 0.1670, Validation Loss: 0.3737, Validation AUC mean: 0.8391, Best AUC score: 0.8437\n",
      "Epoch 154/300, Train Loss: 0.1682, Validation Loss: 0.3689, Validation AUC mean: 0.8383, Best AUC score: 0.8437\n",
      "Epoch 155/300, Train Loss: 0.1678, Validation Loss: 0.3646, Validation AUC mean: 0.8370, Best AUC score: 0.8437\n",
      "Epoch 156/300, Train Loss: 0.1665, Validation Loss: 0.3783, Validation AUC mean: 0.8378, Best AUC score: 0.8437\n",
      "Epoch 157/300, Train Loss: 0.1700, Validation Loss: 0.3756, Validation AUC mean: 0.8372, Best AUC score: 0.8437\n",
      "Epoch 158/300, Train Loss: 0.1662, Validation Loss: 0.3726, Validation AUC mean: 0.8376, Best AUC score: 0.8437\n",
      "Epoch 159/300, Train Loss: 0.1648, Validation Loss: 0.3812, Validation AUC mean: 0.8388, Best AUC score: 0.8437\n",
      "Epoch 160/300, Train Loss: 0.1671, Validation Loss: 0.3801, Validation AUC mean: 0.8387, Best AUC score: 0.8437\n",
      "Epoch 161/300, Train Loss: 0.1693, Validation Loss: 0.3775, Validation AUC mean: 0.8384, Best AUC score: 0.8437\n",
      "Epoch 162/300, Train Loss: 0.1677, Validation Loss: 0.3870, Validation AUC mean: 0.8391, Best AUC score: 0.8437\n",
      "Epoch 163/300, Train Loss: 0.1669, Validation Loss: 0.3901, Validation AUC mean: 0.8397, Best AUC score: 0.8437\n",
      "Epoch 164/300, Train Loss: 0.1611, Validation Loss: 0.3956, Validation AUC mean: 0.8402, Best AUC score: 0.8437\n",
      "Epoch 165/300, Train Loss: 0.1644, Validation Loss: 0.3870, Validation AUC mean: 0.8392, Best AUC score: 0.8437\n",
      "Epoch 166/300, Train Loss: 0.1640, Validation Loss: 0.3844, Validation AUC mean: 0.8387, Best AUC score: 0.8437\n",
      "Epoch 167/300, Train Loss: 0.1636, Validation Loss: 0.4032, Validation AUC mean: 0.8393, Best AUC score: 0.8437\n",
      "Epoch 168/300, Train Loss: 0.1622, Validation Loss: 0.4042, Validation AUC mean: 0.8389, Best AUC score: 0.8437\n",
      "Epoch 169/300, Train Loss: 0.1652, Validation Loss: 0.4050, Validation AUC mean: 0.8392, Best AUC score: 0.8437\n",
      "Epoch 170/300, Train Loss: 0.1632, Validation Loss: 0.3977, Validation AUC mean: 0.8386, Best AUC score: 0.8437\n",
      "Epoch 171/300, Train Loss: 0.1652, Validation Loss: 0.3942, Validation AUC mean: 0.8355, Best AUC score: 0.8437\n",
      "Epoch 172/300, Train Loss: 0.1653, Validation Loss: 0.4057, Validation AUC mean: 0.8354, Best AUC score: 0.8437\n",
      "Epoch 173/300, Train Loss: 0.1623, Validation Loss: 0.4078, Validation AUC mean: 0.8363, Best AUC score: 0.8437\n",
      "Epoch 174/300, Train Loss: 0.1649, Validation Loss: 0.4094, Validation AUC mean: 0.8363, Best AUC score: 0.8437\n",
      "Epoch 175/300, Train Loss: 0.1653, Validation Loss: 0.4047, Validation AUC mean: 0.8348, Best AUC score: 0.8437\n",
      "Epoch 176/300, Train Loss: 0.1617, Validation Loss: 0.4122, Validation AUC mean: 0.8362, Best AUC score: 0.8437\n",
      "Epoch 177/300, Train Loss: 0.1616, Validation Loss: 0.4132, Validation AUC mean: 0.8372, Best AUC score: 0.8437\n",
      "Epoch 178/300, Train Loss: 0.1643, Validation Loss: 0.4016, Validation AUC mean: 0.8367, Best AUC score: 0.8437\n",
      "Epoch 179/300, Train Loss: 0.1610, Validation Loss: 0.3968, Validation AUC mean: 0.8374, Best AUC score: 0.8437\n",
      "Early stopping at epoch 180, with the best AUC score = 0.8437\n"
     ]
    }
   ],
   "source": [
    "num_epochs_early_stopping, train_losses, val_losses, mean_auc_per_epoch = train_validation_loop(model, train_loader,\n",
    "                                                                     val_loader, loss_func,\n",
    "                                                                     optimizer, num_epochs=num_epochs,\n",
    "                                                                     device=device, print_per_epochs=1, max_epochs_without_impr=max_epochs_without_impr)"
   ]
  },
  {
   "cell_type": "markdown",
   "id": "90056bac-4f66-43e8-84ac-e635eed20fd0",
   "metadata": {
    "id": "90056bac-4f66-43e8-84ac-e635eed20fd0"
   },
   "source": [
    "**Plot loss & AUC curves**"
   ]
  },
  {
   "cell_type": "code",
   "execution_count": 14,
   "id": "7c02c9fe-377e-4246-97be-4fac42445d3c",
   "metadata": {
    "colab": {
     "base_uri": "https://localhost:8080/",
     "height": 507
    },
    "id": "7c02c9fe-377e-4246-97be-4fac42445d3c",
    "outputId": "408e5c48-f18d-44dc-b7d2-77c0b99bb899"
   },
   "outputs": [
    {
     "data": {
      "image/png": "[encoded data removed]",
      "text/plain": [
       "<Figure size 1200x500 with 2 Axes>"
      ]
     },
     "metadata": {},
     "output_type": "display_data"
    }
   ],
   "source": [
    "plot_losses(train_losses, val_losses, mean_auc_per_epoch, num_epochs_early_stopping)"
   ]
  },
  {
   "cell_type": "markdown",
   "id": "c3ffad44-1ab5-4c49-8f75-169733e1f05e",
   "metadata": {
    "id": "c3ffad44-1ab5-4c49-8f75-169733e1f05e"
   },
   "source": [
    "**Test the model**"
   ]
  },
  {
   "cell_type": "code",
   "execution_count": 15,
   "id": "8944faaf-c800-4095-a528-e1ed0e2c922a",
   "metadata": {
    "id": "8944faaf-c800-4095-a528-e1ed0e2c922a"
   },
   "outputs": [],
   "source": [
    "def test_model(model, test_loader, loss_func, device='cpu'):\n",
    "    model.eval()\n",
    "    total_test_loss = 0\n",
    "\n",
    "    test_outputs = []\n",
    "    test_labels = []\n",
    "\n",
    "    with torch.no_grad():\n",
    "        for batch_X, batch_y in test_loader:\n",
    "            batch_X, batch_y = batch_X.to(device), batch_y.to(device)\n",
    "\n",
    "            outputs = model(batch_X)\n",
    "            mask = (batch_y != -1.)\n",
    "            loss = loss_func(outputs[mask], batch_y[mask])\n",
    "\n",
    "            total_test_loss += loss.item() * batch_X.shape[0]\n",
    "\n",
    "            test_outputs.append(outputs.cpu())\n",
    "            test_labels.append(batch_y.cpu())\n",
    "\n",
    "    test_loss = total_test_loss / len(test_loader.dataset)\n",
    "\n",
    "    test_outputs = torch.cat(test_outputs)\n",
    "    test_labels = torch.cat(test_labels)\n",
    "\n",
    "    auc_scores = []\n",
    "\n",
    "    for task in range(test_labels.shape[-1]):\n",
    "        p = test_outputs[:, task]\n",
    "        y = test_labels[:, task]\n",
    "\n",
    "        mask = (y != -1)\n",
    "        p = p[mask]\n",
    "        y = y[mask]\n",
    "\n",
    "        if 0 in y and 1 in y:\n",
    "            auc = roc_auc_score(y, p)\n",
    "        else:\n",
    "            auc = np.nan\n",
    "\n",
    "        auc_scores.append(auc)\n",
    "\n",
    "    auc_scores_mean = np.nanmean(auc_scores)\n",
    "    auc_scores_std = np.nanstd(auc_scores)\n",
    "    return auc_scores_mean, auc_scores_std"
   ]
  },
  {
   "cell_type": "code",
   "execution_count": 16,
   "id": "9ee02a07-fc6a-4ca2-bda2-9892343c31cd",
   "metadata": {
    "id": "9ee02a07-fc6a-4ca2-bda2-9892343c31cd"
   },
   "outputs": [],
   "source": [
    "auc_scores_mean, auc_scores_std = test_model(model, test_loader, loss_func, device=device)"
   ]
  },
  {
   "cell_type": "code",
   "execution_count": 17,
   "id": "7f1a8a8c-a5a5-4c7a-90db-f28aadbc6a81",
   "metadata": {
    "colab": {
     "base_uri": "https://localhost:8080/"
    },
    "id": "7f1a8a8c-a5a5-4c7a-90db-f28aadbc6a81",
    "outputId": "879671e4-130d-41df-b72d-5996bd6bc117"
   },
   "outputs": [
    {
     "name": "stdout",
     "output_type": "stream",
     "text": [
      "Test AUC mean: 0.8428, Test AUC std: 0.0452\n"
     ]
    }
   ],
   "source": [
    "print(f'Test AUC mean: {auc_scores_mean:.4f}, Test AUC std: {auc_scores_std:.4f}')"
   ]
  },
  {
   "cell_type": "markdown",
   "id": "ddfcc831-fe66-4cac-a890-d76b8153abae",
   "metadata": {
    "id": "ddfcc831-fe66-4cac-a890-d76b8153abae"
   },
   "source": [
    "**Save the model**"
   ]
  },
  {
   "cell_type": "code",
   "execution_count": 18,
   "id": "d2da7fc6-d6de-491e-a3f2-dec5b9f9fd9a",
   "metadata": {
    "id": "d2da7fc6-d6de-491e-a3f2-dec5b9f9fd9a"
   },
   "outputs": [],
   "source": [
    "torch.save(model.state_dict(), ('dnn_best_model.pth'))"
   ]
  },
  {
   "cell_type": "code",
   "execution_count": 18,
   "id": "LD5EhfgJZSY4",
   "metadata": {
    "id": "LD5EhfgJZSY4"
   },
   "outputs": [],
   "source": []
  }
 ],
 "metadata": {
  "accelerator": "GPU",
  "colab": {
   "gpuType": "T4",
   "provenance": []
  },
  "kernelspec": {
   "display_name": "Python 3 (ipykernel)",
   "language": "python",
   "name": "python3"
  },
  "language_info": {
   "codemirror_mode": {
    "name": "ipython",
    "version": 3
   },
   "file_extension": ".py",
   "mimetype": "text/x-python",
   "name": "python",
   "nbconvert_exporter": "python",
   "pygments_lexer": "ipython3",
   "version": "3.9.13"
  }
 },
 "nbformat": 4,
 "nbformat_minor": 5
}
