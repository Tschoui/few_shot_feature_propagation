{
 "cells": [
  {
   "cell_type": "code",
   "execution_count": 1,
   "id": "1312bcf3-f32d-4679-8366-34d8d86a2494",
   "metadata": {},
   "outputs": [],
   "source": [
    "import numpy as np\n",
    "import matplotlib.pyplot as plt\n",
    "import torch\n",
    "import torch.nn as nn\n",
    "import torch.optim as optim\n",
    "from torch.utils.data import DataLoader, TensorDataset\n",
    "from sklearn.metrics import roc_auc_score\n",
    "\n",
    "from dnn import DNN"
   ]
  },
  {
   "cell_type": "markdown",
   "id": "7483b687-ae95-4dfe-bfe1-1421f9b7e88e",
   "metadata": {},
   "source": [
    "**Load data**"
   ]
  },
  {
   "cell_type": "code",
   "execution_count": 2,
   "id": "73e24999-1397-4266-8c27-156a09386268",
   "metadata": {},
   "outputs": [],
   "source": [
    "loaded_tox21_features_train_val_test = np.load('../../preprocessing/preprocessed_data/tox21_features_train_val_test.npy', allow_pickle=True).item()\n",
    "\n",
    "tox21_X_train = loaded_tox21_features_train_val_test['train']\n",
    "tox21_X_val = loaded_tox21_features_train_val_test['validation']\n",
    "tox21_X_test = loaded_tox21_features_train_val_test['test']\n",
    "\n",
    "loaded_tox21_labels_train_val_test = np.load('../../preprocessing/preprocessed_data/tox21_labels_train_val_test.npy', allow_pickle=True).item()\n",
    "\n",
    "tox21_y_train = loaded_tox21_labels_train_val_test['train']\n",
    "tox21_y_val = loaded_tox21_labels_train_val_test['validation']\n",
    "tox21_y_test = loaded_tox21_labels_train_val_test['test']"
   ]
  },
  {
   "cell_type": "markdown",
   "id": "7f4fd1bb-4015-4434-91bc-093e38240104",
   "metadata": {},
   "source": [
    "**Check shapes**"
   ]
  },
  {
   "cell_type": "code",
   "execution_count": 3,
   "id": "ef072e51-3cfb-4b25-80fb-0cdf59c057d0",
   "metadata": {},
   "outputs": [
    {
     "name": "stdout",
     "output_type": "stream",
     "text": [
      "Features Train/Val/Test Shapes:\n"
     ]
    },
    {
     "data": {
      "text/plain": [
       "[(4698, 2248), (1566, 2248), (1567, 2248)]"
      ]
     },
     "execution_count": 3,
     "metadata": {},
     "output_type": "execute_result"
    }
   ],
   "source": [
    "print('Features Train/Val/Test Shapes:')\n",
    "[i.shape for i in [tox21_X_train, tox21_X_val, tox21_X_test]]"
   ]
  },
  {
   "cell_type": "code",
   "execution_count": 4,
   "id": "8cc9fb43-aab4-4113-ade2-f8c6dba520e7",
   "metadata": {},
   "outputs": [
    {
     "name": "stdout",
     "output_type": "stream",
     "text": [
      "Labels Train/Val/Test Shapes:\n"
     ]
    },
    {
     "data": {
      "text/plain": [
       "[(4698, 12), (1566, 12), (1567, 12)]"
      ]
     },
     "execution_count": 4,
     "metadata": {},
     "output_type": "execute_result"
    }
   ],
   "source": [
    "print('Labels Train/Val/Test Shapes:')\n",
    "[i.shape for i in [tox21_y_train, tox21_y_val, tox21_y_test]]"
   ]
  },
  {
   "cell_type": "markdown",
   "id": "e1715b60-4ba8-453e-8e59-0e2a11ed22a8",
   "metadata": {},
   "source": [
    "**Create dataloaders**"
   ]
  },
  {
   "cell_type": "code",
   "execution_count": 5,
   "id": "ea13e4f2-82f2-40f6-9e54-f47853cb0d2f",
   "metadata": {},
   "outputs": [],
   "source": [
    "def create_dataloaders(X_train, y_train, X_val, y_val, X_test, y_test, batch_size=512):\n",
    "    X_train_tensor = torch.tensor(X_train, dtype=torch.float32)\n",
    "    y_train_tensor = torch.tensor(y_train, dtype=torch.float32)\n",
    "    X_val_tensor = torch.tensor(X_val, dtype=torch.float32)\n",
    "    y_val_tensor = torch.tensor(y_val, dtype=torch.float32)\n",
    "    X_test_tensor = torch.tensor(X_test, dtype=torch.float32)\n",
    "    y_test_tensor = torch.tensor(y_test, dtype=torch.float32)\n",
    "\n",
    "    train_dataset = TensorDataset(X_train_tensor, y_train_tensor)\n",
    "    val_dataset = TensorDataset(X_val_tensor, y_val_tensor)\n",
    "    test_dataset = TensorDataset(X_test_tensor, y_test_tensor)\n",
    "\n",
    "    train_loader = DataLoader(train_dataset, batch_size=batch_size, shuffle=True)\n",
    "    val_loader = DataLoader(val_dataset, batch_size=batch_size, shuffle=False)\n",
    "    test_loader = DataLoader(test_dataset, batch_size=batch_size, shuffle=False)\n",
    "\n",
    "    return train_loader, val_loader, test_loader"
   ]
  },
  {
   "cell_type": "markdown",
   "id": "412b5c74-6130-463e-9b17-f85f90d51e07",
   "metadata": {},
   "source": [
    "**Create training loop**"
   ]
  },
  {
   "cell_type": "code",
   "execution_count": 6,
   "id": "695a83f9-925e-4fd4-82e5-f2d8b8a4e034",
   "metadata": {
    "tags": []
   },
   "outputs": [],
   "source": [
    "def train_validation_loop(model, dataloader_train, \n",
    "                          dataloader_val, loss_func, \n",
    "                          optimizer, num_epochs=10, \n",
    "                          device='cpu', print_per_epochs=1):\n",
    "    train_losses = []\n",
    "    val_losses = []\n",
    "    mean_auc_per_epoch = []\n",
    "    \n",
    "    for epoch in range(num_epochs):\n",
    "        model.train()\n",
    "        total_train_loss = 0\n",
    "        \n",
    "        for batch_X, batch_y in dataloader_train:\n",
    "            batch_X, batch_y = batch_X.to(device), batch_y.to(device)\n",
    "            \n",
    "            optimizer.zero_grad()\n",
    "            outputs = model(batch_X)\n",
    "\n",
    "            mask = (batch_y != -1.)\n",
    "            loss = loss_func(outputs[mask], batch_y[mask])\n",
    "            loss.backward()\n",
    "            optimizer.step()\n",
    "            \n",
    "            total_train_loss += loss.item() * batch_X.shape[0]\n",
    "        \n",
    "        train_loss_per_epoch = total_train_loss / len(dataloader_train.dataset)\n",
    "        \n",
    "        train_losses.append(train_loss_per_epoch)\n",
    "        if epoch % print_per_epochs == 0:\n",
    "            model.eval()\n",
    "            total_val_loss = 0\n",
    "\n",
    "            val_outputs = []\n",
    "            val_labels = []\n",
    "            \n",
    "            with torch.no_grad():\n",
    "                for batch_X, batch_y in dataloader_val:\n",
    "                    batch_X, batch_y = batch_X.to(device), batch_y.to(device)\n",
    "\n",
    "                    outputs = model(batch_X)\n",
    "                    \n",
    "                    mask = (batch_y != -1.)\n",
    "                    loss = loss_func(outputs[mask], batch_y[mask])\n",
    "\n",
    "                    total_val_loss += loss.item() * batch_X.shape[0]\n",
    "\n",
    "                    val_outputs.append(outputs.cpu())\n",
    "                    val_labels.append(batch_y.cpu())\n",
    "                \n",
    "            val_loss_per_epoch = total_val_loss / len(dataloader_val.dataset)\n",
    "            \n",
    "            val_losses.append(val_loss_per_epoch)\n",
    "            \n",
    "            val_outputs = torch.cat(val_outputs)\n",
    "            val_labels = torch.cat(val_labels)\n",
    "            \n",
    "            auc_scores = []\n",
    "\n",
    "            for task in range(val_labels.shape[-1]):\n",
    "                p = val_outputs[:, task]\n",
    "                y = val_labels[:, task]\n",
    "\n",
    "                mask = (y != -1)\n",
    "                p = p[mask]\n",
    "                y = y[mask]\n",
    "                \n",
    "                if 0 in y and 1 in y:\n",
    "                    auc = roc_auc_score(y, p)\n",
    "                else:\n",
    "                    auc = np.nan\n",
    "                \n",
    "                auc_scores.append(auc)\n",
    "            \n",
    "            auc_scores_mean = np.nanmean(auc_scores)\n",
    "            auc_scores_std = np.nanstd(auc_scores)\n",
    "            mean_auc_per_epoch.append(auc_scores_mean)\n",
    "            \n",
    "            print(f'Epoch {epoch+1}/{num_epochs}, '\n",
    "                  f'Train Loss: {train_loss_per_epoch:.4f}, '\n",
    "                  f'Validation Loss: {val_loss_per_epoch:.4f}, '\n",
    "                  f'Validation AUC mean: {auc_scores_mean:.4f}, '\n",
    "                  f'Validation AUC std: {auc_scores_std:.4f}')\n",
    "    \n",
    "    return train_losses, val_losses, mean_auc_per_epoch"
   ]
  },
  {
   "cell_type": "markdown",
   "id": "3fc1c990-ef94-46be-b149-73edce3ce16f",
   "metadata": {},
   "source": [
    "**Create a function to plot losses vs epochs**"
   ]
  },
  {
   "cell_type": "code",
   "execution_count": 7,
   "id": "8f43a720-d4fc-4813-a35e-3bf8d443187f",
   "metadata": {},
   "outputs": [],
   "source": [
    "def plot_losses(train_losses, val_losses, mean_auc_per_epoch, num_epochs):\n",
    "    epochs = np.arange(1, num_epochs + 1)\n",
    "\n",
    "    fig, (ax1, ax2) = plt.subplots(nrows=1, ncols=2, figsize=(12, 5))\n",
    "\n",
    "    ax1.plot(epochs, train_losses, label='Train Loss', color='blue')\n",
    "    ax1.plot(epochs, val_losses, label='Validation Loss', color='orange')\n",
    "    ax1.set_title('Train/Validation Loss per Epoch')\n",
    "    ax1.set_xlabel('Epochs')\n",
    "    ax1.set_ylabel('Loss')\n",
    "    ax1.legend()\n",
    "\n",
    "    ax2.plot(epochs, mean_auc_per_epoch, color='green')\n",
    "    ax2.set_title('Mean Validation AUC per Epoch')\n",
    "    ax2.set_xlabel('Epochs')\n",
    "    ax2.set_ylabel('AUC')\n",
    "\n",
    "    plt.tight_layout()\n",
    "    plt.show()"
   ]
  },
  {
   "cell_type": "markdown",
   "id": "b80c6f13-db46-48dd-89e4-11af31990c90",
   "metadata": {},
   "source": [
    "**Set hyperparameters**"
   ]
  },
  {
   "cell_type": "code",
   "execution_count": 8,
   "id": "9574ff84-c182-478e-b533-d0b61731ec88",
   "metadata": {},
   "outputs": [],
   "source": [
    "params = {'input_size': 2248,\n",
    "          'hidden_layers': [1024, 512],\n",
    "          'output_size': 12,\n",
    "          'learning_rate': 3e-4,\n",
    "          'activation_function': nn.ReLU,\n",
    "          'dropout_p': 0.5,\n",
    "          'batch_size': 512}\n",
    "\n",
    "input_size, hidden_layers, output_size, learning_rate, activation_function, dropout_p, batch_size = params.values()\n",
    "weight_decay = 1e-5\n",
    "num_epochs = 11\n",
    "device = torch.device('cuda' if torch.cuda.is_available() else 'cpu')"
   ]
  },
  {
   "cell_type": "markdown",
   "id": "6ea7eaec-3edc-479a-9fd4-968e79cd9c2f",
   "metadata": {},
   "source": [
    "**Model training**"
   ]
  },
  {
   "cell_type": "code",
   "execution_count": 9,
   "id": "e73aff63-2890-482e-a6e4-a628c4497fa3",
   "metadata": {},
   "outputs": [],
   "source": [
    "model = DNN(input_size, hidden_layers, output_size, activation_function, p=dropout_p)"
   ]
  },
  {
   "cell_type": "code",
   "execution_count": 10,
   "id": "33e99f45-b3f3-4399-8185-f09773dfc808",
   "metadata": {},
   "outputs": [
    {
     "data": {
      "text/plain": [
       "DNN(\n",
       "  (input_layer): Linear(in_features=2248, out_features=1024, bias=True)\n",
       "  (act1): ReLU()\n",
       "  (dropout1): Dropout(p=0.5, inplace=False)\n",
       "  (hidden_layers): Sequential(\n",
       "    (0): Sequential(\n",
       "      (0): Dropout(p=0.25, inplace=False)\n",
       "      (1): Linear(in_features=1024, out_features=512, bias=True)\n",
       "      (2): ReLU()\n",
       "    )\n",
       "  )\n",
       "  (output_layer): Linear(in_features=512, out_features=12, bias=True)\n",
       ")"
      ]
     },
     "execution_count": 10,
     "metadata": {},
     "output_type": "execute_result"
    }
   ],
   "source": [
    "model.to(device)"
   ]
  },
  {
   "cell_type": "code",
   "execution_count": 11,
   "id": "00ac1a0c-8cf3-46a3-87e4-4362267df9f8",
   "metadata": {},
   "outputs": [],
   "source": [
    "loss_func = nn.BCEWithLogitsLoss()\n",
    "optimizer = optim.Adam(model.parameters(), lr=learning_rate, weight_decay=weight_decay)"
   ]
  },
  {
   "cell_type": "code",
   "execution_count": 12,
   "id": "4c2c74b2-6ff8-46e5-8043-115ad47d5c71",
   "metadata": {},
   "outputs": [],
   "source": [
    "train_loader, val_loader, test_loader = create_dataloaders(tox21_X_train, \n",
    "                                                           tox21_y_train, \n",
    "                                                           tox21_X_val, \n",
    "                                                           tox21_y_val, \n",
    "                                                           tox21_X_test, \n",
    "                                                           tox21_y_test)"
   ]
  },
  {
   "cell_type": "code",
   "execution_count": 13,
   "id": "50d734dc-f25f-46d2-b825-737df2218fbe",
   "metadata": {},
   "outputs": [
    {
     "name": "stdout",
     "output_type": "stream",
     "text": [
      "Epoch 1/11, Train Loss: 0.4744, Validation Loss: 0.2892, Validation AUC mean: 0.6350, Validation AUC std: 0.0726\n",
      "Epoch 2/11, Train Loss: 0.2587, Validation Loss: 0.2223, Validation AUC mean: 0.7426, Validation AUC std: 0.0535\n",
      "Epoch 3/11, Train Loss: 0.2341, Validation Loss: 0.2239, Validation AUC mean: 0.7782, Validation AUC std: 0.0489\n",
      "Epoch 4/11, Train Loss: 0.2146, Validation Loss: 0.2190, Validation AUC mean: 0.7977, Validation AUC std: 0.0480\n",
      "Epoch 5/11, Train Loss: 0.1999, Validation Loss: 0.2132, Validation AUC mean: 0.8092, Validation AUC std: 0.0492\n",
      "Epoch 6/11, Train Loss: 0.1890, Validation Loss: 0.2061, Validation AUC mean: 0.8167, Validation AUC std: 0.0505\n",
      "Epoch 7/11, Train Loss: 0.1786, Validation Loss: 0.1993, Validation AUC mean: 0.8231, Validation AUC std: 0.0500\n",
      "Epoch 8/11, Train Loss: 0.1691, Validation Loss: 0.1962, Validation AUC mean: 0.8291, Validation AUC std: 0.0484\n",
      "Epoch 9/11, Train Loss: 0.1597, Validation Loss: 0.1937, Validation AUC mean: 0.8321, Validation AUC std: 0.0486\n",
      "Epoch 10/11, Train Loss: 0.1525, Validation Loss: 0.1911, Validation AUC mean: 0.8349, Validation AUC std: 0.0488\n",
      "Epoch 11/11, Train Loss: 0.1447, Validation Loss: 0.1908, Validation AUC mean: 0.8355, Validation AUC std: 0.0496\n"
     ]
    }
   ],
   "source": [
    "train_losses, val_losses, mean_auc_per_epoch = train_validation_loop(model, train_loader, \n",
    "                                                                     val_loader, loss_func, \n",
    "                                                                     optimizer, num_epochs=num_epochs, \n",
    "                                                                     device=device, print_per_epochs=1)"
   ]
  },
  {
   "cell_type": "markdown",
   "id": "90056bac-4f66-43e8-84ac-e635eed20fd0",
   "metadata": {},
   "source": [
    "**Plot loss & AUC curves**"
   ]
  },
  {
   "cell_type": "code",
   "execution_count": 14,
   "id": "7c02c9fe-377e-4246-97be-4fac42445d3c",
   "metadata": {},
   "outputs": [
    {
     "data": {
      "image/png": "[encoded data removed]",
      "text/plain": [
       "<Figure size 1200x500 with 2 Axes>"
      ]
     },
     "metadata": {},
     "output_type": "display_data"
    }
   ],
   "source": [
    "plot_losses(train_losses, val_losses, mean_auc_per_epoch, num_epochs)"
   ]
  },
  {
   "cell_type": "markdown",
   "id": "c3ffad44-1ab5-4c49-8f75-169733e1f05e",
   "metadata": {},
   "source": [
    "**Test the model**"
   ]
  },
  {
   "cell_type": "code",
   "execution_count": 15,
   "id": "8944faaf-c800-4095-a528-e1ed0e2c922a",
   "metadata": {},
   "outputs": [],
   "source": [
    "def test_model(model, test_loader, loss_func, device='cpu'):\n",
    "    model.eval()\n",
    "    total_test_loss = 0\n",
    "\n",
    "    test_outputs = []\n",
    "    test_labels = []\n",
    "\n",
    "    with torch.no_grad():\n",
    "        for batch_X, batch_y in test_loader:\n",
    "            batch_X, batch_y = batch_X.to(device), batch_y.to(device)\n",
    "\n",
    "            outputs = model(batch_X)\n",
    "            mask = (batch_y != -1.)\n",
    "            loss = loss_func(outputs[mask], batch_y[mask])\n",
    "\n",
    "            total_test_loss += loss.item() * batch_X.shape[0]\n",
    "\n",
    "            test_outputs.append(outputs.cpu())\n",
    "            test_labels.append(batch_y.cpu())\n",
    "\n",
    "    test_loss = total_test_loss / len(test_loader.dataset)\n",
    "\n",
    "    test_outputs = torch.cat(test_outputs)\n",
    "    test_labels = torch.cat(test_labels)\n",
    "\n",
    "    auc_scores = []\n",
    "\n",
    "    for task in range(test_labels.shape[-1]):\n",
    "        p = test_outputs[:, task]\n",
    "        y = test_labels[:, task]\n",
    "\n",
    "        mask = (y != -1)\n",
    "        p = p[mask]\n",
    "        y = y[mask]\n",
    "\n",
    "        if 0 in y and 1 in y:\n",
    "            auc = roc_auc_score(y, p)\n",
    "        else:\n",
    "            auc = np.nan\n",
    "\n",
    "        auc_scores.append(auc)\n",
    "\n",
    "    auc_scores_mean = np.nanmean(auc_scores)\n",
    "    auc_scores_std = np.nanstd(auc_scores)\n",
    "    return auc_scores_mean, auc_scores_std"
   ]
  },
  {
   "cell_type": "code",
   "execution_count": 16,
   "id": "9ee02a07-fc6a-4ca2-bda2-9892343c31cd",
   "metadata": {},
   "outputs": [],
   "source": [
    "auc_scores_mean, auc_scores_std = test_model(model, test_loader, loss_func)"
   ]
  },
  {
   "cell_type": "code",
   "execution_count": 17,
   "id": "7f1a8a8c-a5a5-4c7a-90db-f28aadbc6a81",
   "metadata": {},
   "outputs": [
    {
     "name": "stdout",
     "output_type": "stream",
     "text": [
      "Test AUC mean: 0.8306, Test AUC std: 0.0474\n"
     ]
    }
   ],
   "source": [
    "print(f'Test AUC mean: {auc_scores_mean:.4f}, Test AUC std: {auc_scores_std:.4f}')"
   ]
  },
  {
   "cell_type": "code",
   "execution_count": null,
   "id": "eff5bd02-3777-4ced-b973-94fd1cc9eb37",
   "metadata": {},
   "outputs": [],
   "source": []
  }
 ],
 "metadata": {
  "kernelspec": {
   "display_name": "Python 3 (ipykernel)",
   "language": "python",
   "name": "python3"
  },
  "language_info": {
   "codemirror_mode": {
    "name": "ipython",
    "version": 3
   },
   "file_extension": ".py",
   "mimetype": "text/x-python",
   "name": "python",
   "nbconvert_exporter": "python",
   "pygments_lexer": "ipython3",
   "version": "3.9.13"
  }
 },
 "nbformat": 4,
 "nbformat_minor": 5
}
